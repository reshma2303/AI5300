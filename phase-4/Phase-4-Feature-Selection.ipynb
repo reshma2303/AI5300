{
 "cells": [
  {
   "cell_type": "markdown",
   "id": "2c70fae2",
   "metadata": {},
   "source": [
    "## Phase - 4: Iterative Feature Reduction and Selection"
   ]
  },
  {
   "cell_type": "markdown",
   "id": "2a150f6b",
   "metadata": {},
   "source": [
    "**Motive:**\n",
    "    \n",
    "Before working on this phase, please practice \"Activity 10\" in the 'Neural networks using Tensorflow' crash course (see nn-tf tab). The key activity in this phase is to study the importance of the input features by iteratively removing them. In other words, you can first train various models with only one feature at a time to learn how predictive each feature is. Once the significance of each feature is known, you can remove the most unimportant feature (i.e., remove the column), retrain the model, and observe the accuracy. You can iteratively repeat the process removing more and more unimportant features. The overall objective is to identify non-informative input features and remove them from the dataset. Finally, you can compare your feature-reduced model with the original model with all input features and discuss the difference in accuracy. Here is an example report."
   ]
  },
  {
   "cell_type": "markdown",
   "id": "a5a55b77",
   "metadata": {},
   "source": [
    "### Approach"
   ]
  },
  {
   "cell_type": "markdown",
   "id": "ffe26c13",
   "metadata": {},
   "source": [
    "This notebook contains two important steps performed as part of this phase-4\n",
    "\n",
    "    Step - 1: Get model stats with single feature \n",
    "    Step - 2: Get model stats with Important features\n",
    "    Step - 3: Compare model with all features vs model with important features"
   ]
  },
  {
   "cell_type": "markdown",
   "id": "adce1f2c",
   "metadata": {},
   "source": [
    "#### Categorical Columns"
   ]
  },
  {
   "cell_type": "markdown",
   "id": "2eec0a85",
   "metadata": {},
   "source": [
    "'protocol_type', 'service', 'flag', 'land', 'logged_in', 'is_host_login', 'is_guest_login'"
   ]
  },
  {
   "cell_type": "code",
   "execution_count": 1,
   "id": "f323bffe",
   "metadata": {},
   "outputs": [],
   "source": [
    "catg_cols = ['protocol_type', 'service', 'flag', 'land', 'logged_in', 'is_host_login', 'is_guest_login']"
   ]
  },
  {
   "cell_type": "markdown",
   "id": "d856cbab",
   "metadata": {},
   "source": [
    "#### Continuous Columns"
   ]
  },
  {
   "cell_type": "code",
   "execution_count": 2,
   "id": "eb50db86",
   "metadata": {},
   "outputs": [],
   "source": [
    "cont_cols = [ 'duration', 'src_bytes', 'dst_bytes', 'wrong_fragment', 'urgent', 'hot', 'num_failed_logins', 'num_compromised', 'root_shell', 'su_attempted', 'num_root', 'num_file_creations', 'num_shells', 'num_access_files', 'num_outbound_cmds', 'count', 'srv_count', 'serror_rate', 'srv_serror_rate', 'rerror_rate', 'srv_rerror_rate', 'same_srv_rate', 'diff_srv_rate', 'srv_diff_host_rate', 'dst_host_count', 'dst_host_srv_count', 'dst_host_same_srv_rate', 'dst_host_diff_srv_rate', 'dst_host_same_src_port_rate', 'dst_host_srv_diff_host_rate', 'dst_host_serror_rate', 'dst_host_srv_serror_rate', 'dst_host_rerror_rate', 'dst_host_srv_rerror_rate']"
   ]
  },
  {
   "cell_type": "code",
   "execution_count": 3,
   "id": "a3986fb7",
   "metadata": {},
   "outputs": [],
   "source": [
    "target_variable = 'label'"
   ]
  },
  {
   "cell_type": "markdown",
   "id": "4ccae6cd",
   "metadata": {},
   "source": [
    "#### Data Load"
   ]
  },
  {
   "cell_type": "code",
   "execution_count": 4,
   "id": "36e844e6",
   "metadata": {},
   "outputs": [],
   "source": [
    "import pandas as pd\n",
    "df = pd.read_csv(\"../datasets/kddcup99_csv.csv\")"
   ]
  },
  {
   "cell_type": "markdown",
   "id": "7e2c8f74",
   "metadata": {},
   "source": [
    "#### Dataset size"
   ]
  },
  {
   "cell_type": "code",
   "execution_count": 5,
   "id": "3059174e",
   "metadata": {},
   "outputs": [
    {
     "data": {
      "text/plain": [
       "(494020, 42)"
      ]
     },
     "execution_count": 5,
     "metadata": {},
     "output_type": "execute_result"
    }
   ],
   "source": [
    "df.shape"
   ]
  },
  {
   "cell_type": "markdown",
   "id": "ac162b93",
   "metadata": {},
   "source": [
    "494020 records with 41 features and 1 target variable (\"label\") for prediction"
   ]
  },
  {
   "cell_type": "code",
   "execution_count": 6,
   "id": "95f9b3b8",
   "metadata": {},
   "outputs": [
    {
     "data": {
      "text/html": [
       "<div>\n",
       "<style scoped>\n",
       "    .dataframe tbody tr th:only-of-type {\n",
       "        vertical-align: middle;\n",
       "    }\n",
       "\n",
       "    .dataframe tbody tr th {\n",
       "        vertical-align: top;\n",
       "    }\n",
       "\n",
       "    .dataframe thead th {\n",
       "        text-align: right;\n",
       "    }\n",
       "</style>\n",
       "<table border=\"1\" class=\"dataframe\">\n",
       "  <thead>\n",
       "    <tr style=\"text-align: right;\">\n",
       "      <th></th>\n",
       "      <th>duration</th>\n",
       "      <th>protocol_type</th>\n",
       "      <th>service</th>\n",
       "      <th>flag</th>\n",
       "      <th>src_bytes</th>\n",
       "      <th>dst_bytes</th>\n",
       "      <th>land</th>\n",
       "      <th>wrong_fragment</th>\n",
       "      <th>urgent</th>\n",
       "      <th>hot</th>\n",
       "      <th>...</th>\n",
       "      <th>dst_host_srv_count</th>\n",
       "      <th>dst_host_same_srv_rate</th>\n",
       "      <th>dst_host_diff_srv_rate</th>\n",
       "      <th>dst_host_same_src_port_rate</th>\n",
       "      <th>dst_host_srv_diff_host_rate</th>\n",
       "      <th>dst_host_serror_rate</th>\n",
       "      <th>dst_host_srv_serror_rate</th>\n",
       "      <th>dst_host_rerror_rate</th>\n",
       "      <th>dst_host_srv_rerror_rate</th>\n",
       "      <th>label</th>\n",
       "    </tr>\n",
       "  </thead>\n",
       "  <tbody>\n",
       "    <tr>\n",
       "      <th>0</th>\n",
       "      <td>0</td>\n",
       "      <td>tcp</td>\n",
       "      <td>http</td>\n",
       "      <td>SF</td>\n",
       "      <td>181</td>\n",
       "      <td>5450</td>\n",
       "      <td>0</td>\n",
       "      <td>0</td>\n",
       "      <td>0</td>\n",
       "      <td>0</td>\n",
       "      <td>...</td>\n",
       "      <td>9</td>\n",
       "      <td>1.0</td>\n",
       "      <td>0.0</td>\n",
       "      <td>0.11</td>\n",
       "      <td>0.0</td>\n",
       "      <td>0.0</td>\n",
       "      <td>0.0</td>\n",
       "      <td>0.0</td>\n",
       "      <td>0.0</td>\n",
       "      <td>normal</td>\n",
       "    </tr>\n",
       "    <tr>\n",
       "      <th>1</th>\n",
       "      <td>0</td>\n",
       "      <td>tcp</td>\n",
       "      <td>http</td>\n",
       "      <td>SF</td>\n",
       "      <td>239</td>\n",
       "      <td>486</td>\n",
       "      <td>0</td>\n",
       "      <td>0</td>\n",
       "      <td>0</td>\n",
       "      <td>0</td>\n",
       "      <td>...</td>\n",
       "      <td>19</td>\n",
       "      <td>1.0</td>\n",
       "      <td>0.0</td>\n",
       "      <td>0.05</td>\n",
       "      <td>0.0</td>\n",
       "      <td>0.0</td>\n",
       "      <td>0.0</td>\n",
       "      <td>0.0</td>\n",
       "      <td>0.0</td>\n",
       "      <td>normal</td>\n",
       "    </tr>\n",
       "  </tbody>\n",
       "</table>\n",
       "<p>2 rows × 42 columns</p>\n",
       "</div>"
      ],
      "text/plain": [
       "   duration protocol_type service flag  src_bytes  dst_bytes  land  \\\n",
       "0         0           tcp    http   SF        181       5450     0   \n",
       "1         0           tcp    http   SF        239        486     0   \n",
       "\n",
       "   wrong_fragment  urgent  hot  ...  dst_host_srv_count  \\\n",
       "0               0       0    0  ...                   9   \n",
       "1               0       0    0  ...                  19   \n",
       "\n",
       "   dst_host_same_srv_rate  dst_host_diff_srv_rate  \\\n",
       "0                     1.0                     0.0   \n",
       "1                     1.0                     0.0   \n",
       "\n",
       "   dst_host_same_src_port_rate  dst_host_srv_diff_host_rate  \\\n",
       "0                         0.11                          0.0   \n",
       "1                         0.05                          0.0   \n",
       "\n",
       "   dst_host_serror_rate  dst_host_srv_serror_rate  dst_host_rerror_rate  \\\n",
       "0                   0.0                       0.0                   0.0   \n",
       "1                   0.0                       0.0                   0.0   \n",
       "\n",
       "   dst_host_srv_rerror_rate   label  \n",
       "0                       0.0  normal  \n",
       "1                       0.0  normal  \n",
       "\n",
       "[2 rows x 42 columns]"
      ]
     },
     "execution_count": 6,
     "metadata": {},
     "output_type": "execute_result"
    }
   ],
   "source": [
    "df.head(2)"
   ]
  },
  {
   "cell_type": "markdown",
   "id": "d7a6d066",
   "metadata": {},
   "source": [
    "As seen above, there are various type of malware attacks which can be grouped as \"abnormal\" to make this problem as binary classification problem"
   ]
  },
  {
   "cell_type": "markdown",
   "id": "32104edd",
   "metadata": {},
   "source": [
    "##### Group all malware attacks as \"abnormal\""
   ]
  },
  {
   "cell_type": "code",
   "execution_count": 7,
   "id": "c866ed99",
   "metadata": {},
   "outputs": [],
   "source": [
    "attack_types = list(df['label'].unique())\n",
    "attack_types.remove('normal') # remove normal from attack types as we only want malware attacks to convert as abnormal"
   ]
  },
  {
   "cell_type": "code",
   "execution_count": 8,
   "id": "90dc8e9f",
   "metadata": {},
   "outputs": [
    {
     "data": {
      "text/plain": [
       "(494020, 42)"
      ]
     },
     "execution_count": 8,
     "metadata": {},
     "output_type": "execute_result"
    }
   ],
   "source": [
    "df['label'] = df['label'].replace(attack_types, 'abnormal')\n",
    "df.shape"
   ]
  },
  {
   "cell_type": "code",
   "execution_count": 9,
   "id": "652fbb8f",
   "metadata": {},
   "outputs": [],
   "source": [
    "# both these columns have all values as 0, hence not useful for our experiments\n",
    "df.drop(columns=['is_host_login'], inplace=True)\n",
    "df.drop(columns=['num_outbound_cmds'], inplace=True)\n",
    "catg_cols.remove('is_host_login')\n",
    "cont_cols.remove('num_outbound_cmds')"
   ]
  },
  {
   "cell_type": "code",
   "execution_count": 10,
   "id": "e77267f3",
   "metadata": {},
   "outputs": [
    {
     "data": {
      "text/plain": [
       "abnormal    396743\n",
       "normal       97277\n",
       "Name: label, dtype: int64"
      ]
     },
     "execution_count": 10,
     "metadata": {},
     "output_type": "execute_result"
    }
   ],
   "source": [
    "df['label'].value_counts()"
   ]
  },
  {
   "cell_type": "code",
   "execution_count": 11,
   "id": "b48245a8",
   "metadata": {},
   "outputs": [
    {
     "data": {
      "text/plain": [
       "0    396743\n",
       "1     97277\n",
       "Name: label, dtype: int64"
      ]
     },
     "execution_count": 11,
     "metadata": {},
     "output_type": "execute_result"
    }
   ],
   "source": [
    "# Transform Target Binary label to 0 and 1\n",
    "df['label'] = df['label'].map({'normal': 1, 'abnormal': 0})\n",
    "df['label'].value_counts()"
   ]
  },
  {
   "cell_type": "code",
   "execution_count": 12,
   "id": "5127423e",
   "metadata": {},
   "outputs": [],
   "source": [
    "for cat_col in catg_cols:\n",
    "    df[cat_col] = df[cat_col].astype(str)"
   ]
  },
  {
   "cell_type": "markdown",
   "id": "458e571a",
   "metadata": {},
   "source": [
    "### Step - 1 Iterative Feature Reduction"
   ]
  },
  {
   "cell_type": "markdown",
   "id": "064cce06",
   "metadata": {},
   "source": [
    "**Note: Automated model building with different feature inputs by wrapping the steps in to a function (can be extended as a framework)**"
   ]
  },
  {
   "cell_type": "code",
   "execution_count": 97,
   "id": "84266d7e",
   "metadata": {},
   "outputs": [],
   "source": [
    "from keras.utils.vis_utils import plot_model\n",
    "from tensorflow.keras.models import Sequential\n",
    "from tensorflow.keras.layers import Dense\n",
    "\n",
    "def _convert_categorical_to_one_hot_encoding(dataset, column_name):\n",
    "    dummy_values = pd.get_dummies(dataset[column_name])\n",
    "    #print(\"dummy_values\", dummy_values.shape[1])\n",
    "    for category in dummy_values.columns:\n",
    "        dummy_value_name = f\"{column_name}-{category}\"\n",
    "        dataset[dummy_value_name] = dummy_values[category]\n",
    "    dataset.drop(column_name, axis=1, inplace=True)\n",
    "    return dataset\n",
    "\n",
    "def build_best_model_from_previous_phase(XTRAIN, YTRAIN,XVALID,YVALID):\n",
    "    best_model_selected = Sequential()\n",
    "    best_model_selected.add(Dense(4, input_dim = len(XTRAIN[0, :]), activation='relu'))\n",
    "    best_model_selected.add(Dense(1, activation='sigmoid'))\n",
    "    best_model_selected.compile(loss='binary_crossentropy', optimizer = 'rmsprop', metrics=[ 'accuracy'])\n",
    "    best_model_selected_history = best_model_selected.fit(XTRAIN, YTRAIN, validation_data = (XVALID, YVALID), \n",
    "                                            batch_size=256, epochs =8, verbose = 0)\n",
    "    return best_model_selected, best_model_selected_history\n",
    "    \n",
    "def get_model_accuracy_with_single_input(input_df, input_feature: str):\n",
    "    \n",
    "    if input_df.shape[1] != 2:\n",
    "        raise Exception(\"Expected single feature input dataset\")\n",
    "    \n",
    "    if input_feature in catg_cols:\n",
    "        print(f\"Single input feature is categorical and is : {input_feature}\")\n",
    "        input_df = _convert_categorical_to_one_hot_encoding(input_df, input_feature)\n",
    "    else:\n",
    "        print(f\"Single input feature is continous and is {input_feature}\")\n",
    "        df_CONTCOLS_MIN = input_df[[input_feature]].min(axis=0)\n",
    "        df_CONTCOLS_MAX = input_df[[input_feature]].max(axis=0)\n",
    "        input_df[[input_feature]] = (input_df[[input_feature]] - df_CONTCOLS_MIN) / (df_CONTCOLS_MAX - df_CONTCOLS_MIN)\n",
    "    \n",
    "    if input_df.isna().values.any() is False:\n",
    "        raise Exception(\"Cannot proceed with modeling with null values\")\n",
    "    \n",
    "    print(input_df.shape)\n",
    "    input_df = input_df.sample(frac=1).reset_index(drop=True)\n",
    "    X_numpy = input_df.drop(columns=['label']).to_numpy()\n",
    "    Y_numpy = input_df['label'].to_numpy()\n",
    "    print(X_numpy.shape, Y_numpy.shape)\n",
    "    \n",
    "    # Split into training and validation, 20% validation set and 80% training \n",
    "    index_20percent = int(0.2 * len(input_df.to_numpy()[:, 0]))\n",
    "    print(index_20percent)\n",
    "    XVALID = X_numpy[:index_20percent]\n",
    "    YVALID = Y_numpy[:index_20percent]\n",
    "    XTRAIN = X_numpy[index_20percent:]\n",
    "    YTRAIN = Y_numpy[index_20percent:]\n",
    "    best_model_selected, best_model_selected_history = build_best_model_from_previous_phase(XTRAIN, YTRAIN,XVALID,YVALID)\n",
    "    return best_model_selected, best_model_selected_history\n",
    "    \n"
   ]
  },
  {
   "cell_type": "code",
   "execution_count": 15,
   "id": "dee84210",
   "metadata": {},
   "outputs": [
    {
     "name": "stdout",
     "output_type": "stream",
     "text": [
      "Single input feature is categorical and is : protocol_type\n",
      "(494020, 4)\n"
     ]
    },
    {
     "name": "stderr",
     "output_type": "stream",
     "text": [
      "<ipython-input-14-71a653019e96>:10: SettingWithCopyWarning: \n",
      "A value is trying to be set on a copy of a slice from a DataFrame.\n",
      "Try using .loc[row_indexer,col_indexer] = value instead\n",
      "\n",
      "See the caveats in the documentation: https://pandas.pydata.org/pandas-docs/stable/user_guide/indexing.html#returning-a-view-versus-a-copy\n",
      "  dataset[dummy_value_name] = dummy_values[category]\n",
      "C:\\Users\\PepsiHomeUser\\anaconda3\\lib\\site-packages\\pandas\\core\\frame.py:4308: SettingWithCopyWarning: \n",
      "A value is trying to be set on a copy of a slice from a DataFrame\n",
      "\n",
      "See the caveats in the documentation: https://pandas.pydata.org/pandas-docs/stable/user_guide/indexing.html#returning-a-view-versus-a-copy\n",
      "  return super().drop(\n"
     ]
    },
    {
     "name": "stdout",
     "output_type": "stream",
     "text": [
      "(494020, 3) (494020,)\n",
      "98804\n",
      "Single input feature is categorical and is : service\n",
      "(494020, 67)\n",
      "(494020, 66) (494020,)\n",
      "98804\n",
      "Single input feature is categorical and is : flag\n",
      "(494020, 12)\n",
      "(494020, 11) (494020,)\n",
      "98804\n",
      "Single input feature is categorical and is : land\n",
      "(494020, 3)\n",
      "(494020, 2) (494020,)\n",
      "98804\n",
      "Single input feature is categorical and is : logged_in\n",
      "(494020, 3)\n",
      "(494020, 2) (494020,)\n",
      "98804\n",
      "Single input feature is categorical and is : is_guest_login\n",
      "(494020, 3)\n",
      "(494020, 2) (494020,)\n",
      "98804\n",
      "Single input feature is continous and is duration\n",
      "(494020, 2)\n"
     ]
    },
    {
     "name": "stderr",
     "output_type": "stream",
     "text": [
      "C:\\Users\\PepsiHomeUser\\anaconda3\\lib\\site-packages\\pandas\\core\\frame.py:3191: SettingWithCopyWarning: \n",
      "A value is trying to be set on a copy of a slice from a DataFrame.\n",
      "Try using .loc[row_indexer,col_indexer] = value instead\n",
      "\n",
      "See the caveats in the documentation: https://pandas.pydata.org/pandas-docs/stable/user_guide/indexing.html#returning-a-view-versus-a-copy\n",
      "  self[k1] = value[k2]\n"
     ]
    },
    {
     "name": "stdout",
     "output_type": "stream",
     "text": [
      "(494020, 1) (494020,)\n",
      "98804\n",
      "Single input feature is continous and is src_bytes\n",
      "(494020, 2)\n",
      "(494020, 1) (494020,)\n",
      "98804\n",
      "Single input feature is continous and is dst_bytes\n",
      "(494020, 2)\n",
      "(494020, 1) (494020,)\n",
      "98804\n",
      "Single input feature is continous and is wrong_fragment\n",
      "(494020, 2)\n",
      "(494020, 1) (494020,)\n",
      "98804\n",
      "Single input feature is continous and is urgent\n",
      "(494020, 2)\n",
      "(494020, 1) (494020,)\n",
      "98804\n",
      "Single input feature is continous and is hot\n",
      "(494020, 2)\n",
      "(494020, 1) (494020,)\n",
      "98804\n",
      "Single input feature is continous and is num_failed_logins\n",
      "(494020, 2)\n",
      "(494020, 1) (494020,)\n",
      "98804\n",
      "Single input feature is continous and is num_compromised\n",
      "(494020, 2)\n",
      "(494020, 1) (494020,)\n",
      "98804\n",
      "Single input feature is continous and is root_shell\n",
      "(494020, 2)\n",
      "(494020, 1) (494020,)\n",
      "98804\n",
      "Single input feature is continous and is su_attempted\n",
      "(494020, 2)\n",
      "(494020, 1) (494020,)\n",
      "98804\n",
      "Single input feature is continous and is num_root\n",
      "(494020, 2)\n",
      "(494020, 1) (494020,)\n",
      "98804\n",
      "Single input feature is continous and is num_file_creations\n",
      "(494020, 2)\n",
      "(494020, 1) (494020,)\n",
      "98804\n",
      "Single input feature is continous and is num_shells\n",
      "(494020, 2)\n",
      "(494020, 1) (494020,)\n",
      "98804\n",
      "Single input feature is continous and is num_access_files\n",
      "(494020, 2)\n",
      "(494020, 1) (494020,)\n",
      "98804\n",
      "Single input feature is continous and is count\n",
      "(494020, 2)\n",
      "(494020, 1) (494020,)\n",
      "98804\n",
      "Single input feature is continous and is srv_count\n",
      "(494020, 2)\n",
      "(494020, 1) (494020,)\n",
      "98804\n",
      "Single input feature is continous and is serror_rate\n",
      "(494020, 2)\n",
      "(494020, 1) (494020,)\n",
      "98804\n",
      "Single input feature is continous and is srv_serror_rate\n",
      "(494020, 2)\n",
      "(494020, 1) (494020,)\n",
      "98804\n",
      "Single input feature is continous and is rerror_rate\n",
      "(494020, 2)\n",
      "(494020, 1) (494020,)\n",
      "98804\n",
      "Single input feature is continous and is srv_rerror_rate\n",
      "(494020, 2)\n",
      "(494020, 1) (494020,)\n",
      "98804\n",
      "Single input feature is continous and is same_srv_rate\n",
      "(494020, 2)\n",
      "(494020, 1) (494020,)\n",
      "98804\n",
      "Single input feature is continous and is diff_srv_rate\n",
      "(494020, 2)\n",
      "(494020, 1) (494020,)\n",
      "98804\n",
      "Single input feature is continous and is srv_diff_host_rate\n",
      "(494020, 2)\n",
      "(494020, 1) (494020,)\n",
      "98804\n",
      "Single input feature is continous and is dst_host_count\n",
      "(494020, 2)\n",
      "(494020, 1) (494020,)\n",
      "98804\n",
      "Single input feature is continous and is dst_host_srv_count\n",
      "(494020, 2)\n",
      "(494020, 1) (494020,)\n",
      "98804\n",
      "Single input feature is continous and is dst_host_same_srv_rate\n",
      "(494020, 2)\n",
      "(494020, 1) (494020,)\n",
      "98804\n",
      "Single input feature is continous and is dst_host_diff_srv_rate\n",
      "(494020, 2)\n",
      "(494020, 1) (494020,)\n",
      "98804\n",
      "Single input feature is continous and is dst_host_same_src_port_rate\n",
      "(494020, 2)\n",
      "(494020, 1) (494020,)\n",
      "98804\n",
      "Single input feature is continous and is dst_host_srv_diff_host_rate\n",
      "(494020, 2)\n",
      "(494020, 1) (494020,)\n",
      "98804\n",
      "Single input feature is continous and is dst_host_serror_rate\n",
      "(494020, 2)\n",
      "(494020, 1) (494020,)\n",
      "98804\n",
      "Single input feature is continous and is dst_host_srv_serror_rate\n",
      "(494020, 2)\n",
      "(494020, 1) (494020,)\n",
      "98804\n",
      "Single input feature is continous and is dst_host_rerror_rate\n",
      "(494020, 2)\n",
      "(494020, 1) (494020,)\n",
      "98804\n",
      "Single input feature is continous and is dst_host_srv_rerror_rate\n",
      "(494020, 2)\n",
      "(494020, 1) (494020,)\n",
      "98804\n"
     ]
    }
   ],
   "source": [
    "single_column_accuracy_stats = {}\n",
    "all_cols = catg_cols + cont_cols\n",
    "for single_feature in all_cols:\n",
    "    \n",
    "    model_object, model_selected_history = get_model_accuracy_with_single_input(df[[single_feature, 'label']], single_feature)\n",
    "    single_column_accuracy_stats[single_feature] = model_selected_history.history['val_accuracy'][-1]"
   ]
  },
  {
   "cell_type": "markdown",
   "id": "4c4ed841",
   "metadata": {},
   "source": [
    "**Note: Removed verbose to avoid spamming with logs in this notebook which makes this notebook super lengthy**"
   ]
  },
  {
   "cell_type": "code",
   "execution_count": 49,
   "id": "fc41dd17",
   "metadata": {},
   "outputs": [
    {
     "data": {
      "text/plain": [
       "Text(0.5, 1.0, 'Validation Accuracy of Single Input Features')"
      ]
     },
     "execution_count": 49,
     "metadata": {},
     "output_type": "execute_result"
    },
    {
     "data": {
      "image/png": "[encoded data removed]",
      "text/plain": [
       "<Figure size 1800x720 with 1 Axes>"
      ]
     },
     "metadata": {
      "needs_background": "light"
     },
     "output_type": "display_data"
    }
   ],
   "source": [
    "import pandas as pd\n",
    "\n",
    "\n",
    "single_column_accuracy_stats_df = pd.DataFrame.from_dict(single_column_accuracy_stats, orient='index', columns=['Accuracy'])\n",
    "single_column_accuracy_stats_df['Accuracy'] = single_column_accuracy_stats_df.apply(lambda row: row['Accuracy'] * 100, axis=1)\n",
    "ax1 = single_column_accuracy_stats_df.plot.bar(figsize=(25,10), ylabel='Accuracy', rot=90, fontsize=17)\n",
    "ax1.set_xlabel('Individual Features',fontdict={'fontsize':24})\n",
    "ax1.set_ylabel('Validation Accuracy in %',fontdict={'fontsize':24})\n",
    "ax1.legend(fontsize=20)\n",
    "ax1.set_title(\"Validation Accuracy of Single Input Features\", fontsize=24)"
   ]
  },
  {
   "cell_type": "code",
   "execution_count": 18,
   "id": "6fbc0245",
   "metadata": {},
   "outputs": [],
   "source": [
    "single_column_accuracy_stats_df.to_csv(\"single_column_accuracy_stats_df.csv\", index=False)"
   ]
  },
  {
   "cell_type": "code",
   "execution_count": 52,
   "id": "7ae5f12d",
   "metadata": {},
   "outputs": [
    {
     "data": {
      "text/html": [
       "<div>\n",
       "<style scoped>\n",
       "    .dataframe tbody tr th:only-of-type {\n",
       "        vertical-align: middle;\n",
       "    }\n",
       "\n",
       "    .dataframe tbody tr th {\n",
       "        vertical-align: top;\n",
       "    }\n",
       "\n",
       "    .dataframe thead th {\n",
       "        text-align: right;\n",
       "    }\n",
       "</style>\n",
       "<table border=\"1\" class=\"dataframe\">\n",
       "  <thead>\n",
       "    <tr style=\"text-align: right;\">\n",
       "      <th></th>\n",
       "      <th>Accuracy</th>\n",
       "      <th>feature_name</th>\n",
       "    </tr>\n",
       "  </thead>\n",
       "  <tbody>\n",
       "    <tr>\n",
       "      <th>0</th>\n",
       "      <td>79.959315</td>\n",
       "      <td>diff_srv_rate</td>\n",
       "    </tr>\n",
       "    <tr>\n",
       "      <th>1</th>\n",
       "      <td>80.054450</td>\n",
       "      <td>urgent</td>\n",
       "    </tr>\n",
       "    <tr>\n",
       "      <th>2</th>\n",
       "      <td>80.109107</td>\n",
       "      <td>dst_host_srv_diff_host_rate</td>\n",
       "    </tr>\n",
       "    <tr>\n",
       "      <th>3</th>\n",
       "      <td>80.175906</td>\n",
       "      <td>dst_host_same_srv_rate</td>\n",
       "    </tr>\n",
       "    <tr>\n",
       "      <th>4</th>\n",
       "      <td>80.178940</td>\n",
       "      <td>su_attempted</td>\n",
       "    </tr>\n",
       "    <tr>\n",
       "      <th>5</th>\n",
       "      <td>80.182987</td>\n",
       "      <td>duration</td>\n",
       "    </tr>\n",
       "    <tr>\n",
       "      <th>6</th>\n",
       "      <td>80.184001</td>\n",
       "      <td>is_guest_login</td>\n",
       "    </tr>\n",
       "    <tr>\n",
       "      <th>7</th>\n",
       "      <td>80.204242</td>\n",
       "      <td>flag</td>\n",
       "    </tr>\n",
       "    <tr>\n",
       "      <th>8</th>\n",
       "      <td>80.215377</td>\n",
       "      <td>dst_host_srv_serror_rate</td>\n",
       "    </tr>\n",
       "    <tr>\n",
       "      <th>9</th>\n",
       "      <td>80.223471</td>\n",
       "      <td>num_failed_logins</td>\n",
       "    </tr>\n",
       "    <tr>\n",
       "      <th>10</th>\n",
       "      <td>80.252826</td>\n",
       "      <td>wrong_fragment</td>\n",
       "    </tr>\n",
       "    <tr>\n",
       "      <th>11</th>\n",
       "      <td>80.259907</td>\n",
       "      <td>dst_bytes</td>\n",
       "    </tr>\n",
       "    <tr>\n",
       "      <th>12</th>\n",
       "      <td>80.271041</td>\n",
       "      <td>rerror_rate</td>\n",
       "    </tr>\n",
       "    <tr>\n",
       "      <th>13</th>\n",
       "      <td>80.271041</td>\n",
       "      <td>dst_host_srv_rerror_rate</td>\n",
       "    </tr>\n",
       "    <tr>\n",
       "      <th>14</th>\n",
       "      <td>80.283189</td>\n",
       "      <td>dst_host_serror_rate</td>\n",
       "    </tr>\n",
       "    <tr>\n",
       "      <th>15</th>\n",
       "      <td>80.285209</td>\n",
       "      <td>same_srv_rate</td>\n",
       "    </tr>\n",
       "    <tr>\n",
       "      <th>16</th>\n",
       "      <td>80.288249</td>\n",
       "      <td>land</td>\n",
       "    </tr>\n",
       "    <tr>\n",
       "      <th>17</th>\n",
       "      <td>80.299383</td>\n",
       "      <td>srv_count</td>\n",
       "    </tr>\n",
       "    <tr>\n",
       "      <th>18</th>\n",
       "      <td>80.302417</td>\n",
       "      <td>srv_serror_rate</td>\n",
       "    </tr>\n",
       "    <tr>\n",
       "      <th>19</th>\n",
       "      <td>80.305451</td>\n",
       "      <td>num_root</td>\n",
       "    </tr>\n",
       "    <tr>\n",
       "      <th>20</th>\n",
       "      <td>80.330753</td>\n",
       "      <td>root_shell</td>\n",
       "    </tr>\n",
       "    <tr>\n",
       "      <th>21</th>\n",
       "      <td>80.340874</td>\n",
       "      <td>num_shells</td>\n",
       "    </tr>\n",
       "    <tr>\n",
       "      <th>22</th>\n",
       "      <td>80.341887</td>\n",
       "      <td>num_file_creations</td>\n",
       "    </tr>\n",
       "    <tr>\n",
       "      <th>23</th>\n",
       "      <td>80.378324</td>\n",
       "      <td>num_access_files</td>\n",
       "    </tr>\n",
       "    <tr>\n",
       "      <th>24</th>\n",
       "      <td>80.385411</td>\n",
       "      <td>src_bytes</td>\n",
       "    </tr>\n",
       "    <tr>\n",
       "      <th>25</th>\n",
       "      <td>80.407673</td>\n",
       "      <td>num_compromised</td>\n",
       "    </tr>\n",
       "    <tr>\n",
       "      <th>26</th>\n",
       "      <td>80.437028</td>\n",
       "      <td>dst_host_same_src_port_rate</td>\n",
       "    </tr>\n",
       "    <tr>\n",
       "      <th>27</th>\n",
       "      <td>80.444109</td>\n",
       "      <td>hot</td>\n",
       "    </tr>\n",
       "    <tr>\n",
       "      <th>28</th>\n",
       "      <td>80.465364</td>\n",
       "      <td>srv_rerror_rate</td>\n",
       "    </tr>\n",
       "    <tr>\n",
       "      <th>29</th>\n",
       "      <td>80.479532</td>\n",
       "      <td>dst_host_srv_count</td>\n",
       "    </tr>\n",
       "    <tr>\n",
       "      <th>30</th>\n",
       "      <td>80.494720</td>\n",
       "      <td>serror_rate</td>\n",
       "    </tr>\n",
       "    <tr>\n",
       "      <th>31</th>\n",
       "      <td>80.529130</td>\n",
       "      <td>dst_host_rerror_rate</td>\n",
       "    </tr>\n",
       "    <tr>\n",
       "      <th>32</th>\n",
       "      <td>80.915755</td>\n",
       "      <td>dst_host_diff_srv_rate</td>\n",
       "    </tr>\n",
       "    <tr>\n",
       "      <th>33</th>\n",
       "      <td>83.928788</td>\n",
       "      <td>protocol_type</td>\n",
       "    </tr>\n",
       "    <tr>\n",
       "      <th>34</th>\n",
       "      <td>85.939842</td>\n",
       "      <td>srv_diff_host_rate</td>\n",
       "    </tr>\n",
       "    <tr>\n",
       "      <th>35</th>\n",
       "      <td>90.297961</td>\n",
       "      <td>dst_host_count</td>\n",
       "    </tr>\n",
       "    <tr>\n",
       "      <th>36</th>\n",
       "      <td>93.734062</td>\n",
       "      <td>logged_in</td>\n",
       "    </tr>\n",
       "    <tr>\n",
       "      <th>37</th>\n",
       "      <td>97.144854</td>\n",
       "      <td>service</td>\n",
       "    </tr>\n",
       "    <tr>\n",
       "      <th>38</th>\n",
       "      <td>97.977817</td>\n",
       "      <td>count</td>\n",
       "    </tr>\n",
       "  </tbody>\n",
       "</table>\n",
       "</div>"
      ],
      "text/plain": [
       "     Accuracy                 feature_name\n",
       "0   79.959315                diff_srv_rate\n",
       "1   80.054450                       urgent\n",
       "2   80.109107  dst_host_srv_diff_host_rate\n",
       "3   80.175906       dst_host_same_srv_rate\n",
       "4   80.178940                 su_attempted\n",
       "5   80.182987                     duration\n",
       "6   80.184001               is_guest_login\n",
       "7   80.204242                         flag\n",
       "8   80.215377     dst_host_srv_serror_rate\n",
       "9   80.223471            num_failed_logins\n",
       "10  80.252826               wrong_fragment\n",
       "11  80.259907                    dst_bytes\n",
       "12  80.271041                  rerror_rate\n",
       "13  80.271041     dst_host_srv_rerror_rate\n",
       "14  80.283189         dst_host_serror_rate\n",
       "15  80.285209                same_srv_rate\n",
       "16  80.288249                         land\n",
       "17  80.299383                    srv_count\n",
       "18  80.302417              srv_serror_rate\n",
       "19  80.305451                     num_root\n",
       "20  80.330753                   root_shell\n",
       "21  80.340874                   num_shells\n",
       "22  80.341887           num_file_creations\n",
       "23  80.378324             num_access_files\n",
       "24  80.385411                    src_bytes\n",
       "25  80.407673              num_compromised\n",
       "26  80.437028  dst_host_same_src_port_rate\n",
       "27  80.444109                          hot\n",
       "28  80.465364              srv_rerror_rate\n",
       "29  80.479532           dst_host_srv_count\n",
       "30  80.494720                  serror_rate\n",
       "31  80.529130         dst_host_rerror_rate\n",
       "32  80.915755       dst_host_diff_srv_rate\n",
       "33  83.928788                protocol_type\n",
       "34  85.939842           srv_diff_host_rate\n",
       "35  90.297961               dst_host_count\n",
       "36  93.734062                    logged_in\n",
       "37  97.144854                      service\n",
       "38  97.977817                        count"
      ]
     },
     "execution_count": 52,
     "metadata": {},
     "output_type": "execute_result"
    }
   ],
   "source": [
    "sorted_single_column_accuracy_stats_df = single_column_accuracy_stats_df.sort_values(by='Accuracy')\n",
    "sorted_single_column_accuracy_stats_df['feature_name'] = sorted_single_column_accuracy_stats_df.index\n",
    "sorted_single_column_accuracy_stats_df.reset_index(inplace=True)\n",
    "sorted_single_column_accuracy_stats_df.drop(columns=['index'], inplace=True)\n",
    "sorted_single_column_accuracy_stats_df"
   ]
  },
  {
   "cell_type": "markdown",
   "id": "54614c4e",
   "metadata": {},
   "source": [
    "**Inference of Step -1:**\n",
    "\n",
    "- In this step, we obtained performance of the models built with each individual feature.\n",
    "- We ranked the models as per the validation accuracy. The better the accuracy the higher the rank.\n",
    "- As seen in the above sorted dataframe that the feature \"count\" has the highest importance and the feature \"diff_srv_rate\" has the least importance"
   ]
  },
  {
   "cell_type": "markdown",
   "id": "41003e8e",
   "metadata": {},
   "source": [
    "### Step - 2 Remove unimportant features and get the accuracy"
   ]
  },
  {
   "cell_type": "markdown",
   "id": "f21ccc61",
   "metadata": {},
   "source": [
    "Note: Wrote another function automate the model building with various sets of input features"
   ]
  },
  {
   "cell_type": "code",
   "execution_count": 60,
   "id": "5d653c2a",
   "metadata": {},
   "outputs": [],
   "source": [
    "def get_model_accuracy_with_one_or_more_multiple_inputs(input_df, input_features: str, continous_columns):\n",
    "    \n",
    "    # handle categorical if any\n",
    "    for ip_feat in input_features:\n",
    "        if ip_feat in catg_cols:\n",
    "            input_df = _convert_categorical_to_one_hot_encoding(input_df, ip_feat)\n",
    "    \n",
    "    if len(continous_columns) > 0:\n",
    "    \n",
    "        df_CONTCOLS_MIN = input_df[continous_columns].min(axis=0)\n",
    "        df_CONTCOLS_MAX = input_df[continous_columns].max(axis=0)\n",
    "        input_df[continous_columns] = (input_df[continous_columns] - df_CONTCOLS_MIN) / (df_CONTCOLS_MAX - df_CONTCOLS_MIN)\n",
    "    \n",
    "    if input_df.isna().values.any() is False:\n",
    "        raise Exception(\"Cannot proceed with modeling with null values\")\n",
    "    \n",
    "    print(input_df.shape)\n",
    "    input_df = input_df.sample(frac=1).reset_index(drop=True)\n",
    "    X_numpy = input_df.drop(columns=['label']).to_numpy()\n",
    "    Y_numpy = input_df['label'].to_numpy()\n",
    "    print(X_numpy.shape, Y_numpy.shape)\n",
    "    \n",
    "    # Split into training and validation, 20% validation set and 80% training \n",
    "    index_20percent = int(0.2 * len(input_df.to_numpy()[:, 0]))\n",
    "    print(index_20percent)\n",
    "    XVALID = X_numpy[:index_20percent]\n",
    "    YVALID = Y_numpy[:index_20percent]\n",
    "    XTRAIN = X_numpy[index_20percent:]\n",
    "    YTRAIN = Y_numpy[index_20percent:]\n",
    "    best_model_selected, best_model_selected_history = build_best_model_from_previous_phase(XTRAIN, YTRAIN,XVALID,YVALID)\n",
    "    return best_model_selected, best_model_selected_history"
   ]
  },
  {
   "cell_type": "code",
   "execution_count": 61,
   "id": "5e008b7f",
   "metadata": {},
   "outputs": [
    {
     "data": {
      "text/plain": [
       "(39, 2)"
      ]
     },
     "execution_count": 61,
     "metadata": {},
     "output_type": "execute_result"
    }
   ],
   "source": [
    "sorted_single_column_accuracy_stats_df.shape"
   ]
  },
  {
   "cell_type": "code",
   "execution_count": 62,
   "id": "0dd0c424",
   "metadata": {},
   "outputs": [
    {
     "name": "stdout",
     "output_type": "stream",
     "text": [
      "N features removed:  0\n"
     ]
    },
    {
     "name": "stderr",
     "output_type": "stream",
     "text": [
      "<ipython-input-14-71a653019e96>:10: SettingWithCopyWarning: \n",
      "A value is trying to be set on a copy of a slice from a DataFrame.\n",
      "Try using .loc[row_indexer,col_indexer] = value instead\n",
      "\n",
      "See the caveats in the documentation: https://pandas.pydata.org/pandas-docs/stable/user_guide/indexing.html#returning-a-view-versus-a-copy\n",
      "  dataset[dummy_value_name] = dummy_values[category]\n",
      "C:\\Users\\PepsiHomeUser\\anaconda3\\lib\\site-packages\\pandas\\core\\frame.py:4308: SettingWithCopyWarning: \n",
      "A value is trying to be set on a copy of a slice from a DataFrame\n",
      "\n",
      "See the caveats in the documentation: https://pandas.pydata.org/pandas-docs/stable/user_guide/indexing.html#returning-a-view-versus-a-copy\n",
      "  return super().drop(\n",
      "C:\\Users\\PepsiHomeUser\\anaconda3\\lib\\site-packages\\pandas\\core\\frame.py:3191: SettingWithCopyWarning: \n",
      "A value is trying to be set on a copy of a slice from a DataFrame.\n",
      "Try using .loc[row_indexer,col_indexer] = value instead\n",
      "\n",
      "See the caveats in the documentation: https://pandas.pydata.org/pandas-docs/stable/user_guide/indexing.html#returning-a-view-versus-a-copy\n",
      "  self[k1] = value[k2]\n"
     ]
    },
    {
     "name": "stdout",
     "output_type": "stream",
     "text": [
      "(494020, 120)\n",
      "(494020, 119) (494020,)\n",
      "98804\n",
      "N features removed:  1\n",
      "(494020, 119)\n",
      "(494020, 118) (494020,)\n",
      "98804\n",
      "N features removed:  2\n",
      "(494020, 118)\n",
      "(494020, 117) (494020,)\n",
      "98804\n",
      "N features removed:  3\n",
      "(494020, 117)\n",
      "(494020, 116) (494020,)\n",
      "98804\n",
      "N features removed:  4\n",
      "(494020, 116)\n",
      "(494020, 115) (494020,)\n",
      "98804\n",
      "N features removed:  5\n",
      "(494020, 115)\n",
      "(494020, 114) (494020,)\n",
      "98804\n",
      "N features removed:  6\n",
      "(494020, 114)\n",
      "(494020, 113) (494020,)\n",
      "98804\n",
      "N features removed:  7\n",
      "(494020, 112)\n",
      "(494020, 111) (494020,)\n",
      "98804\n",
      "N features removed:  8\n",
      "(494020, 101)\n",
      "(494020, 100) (494020,)\n",
      "98804\n",
      "N features removed:  9\n",
      "(494020, 100)\n",
      "(494020, 99) (494020,)\n",
      "98804\n",
      "N features removed:  10\n",
      "(494020, 99)\n",
      "(494020, 98) (494020,)\n",
      "98804\n",
      "N features removed:  11\n",
      "(494020, 98)\n",
      "(494020, 97) (494020,)\n",
      "98804\n",
      "N features removed:  12\n",
      "(494020, 97)\n",
      "(494020, 96) (494020,)\n",
      "98804\n",
      "N features removed:  13\n",
      "(494020, 96)\n",
      "(494020, 95) (494020,)\n",
      "98804\n",
      "N features removed:  14\n",
      "(494020, 95)\n",
      "(494020, 94) (494020,)\n",
      "98804\n",
      "N features removed:  15\n",
      "(494020, 94)\n",
      "(494020, 93) (494020,)\n",
      "98804\n",
      "N features removed:  16\n",
      "(494020, 93)\n",
      "(494020, 92) (494020,)\n",
      "98804\n",
      "N features removed:  17\n",
      "(494020, 91)\n",
      "(494020, 90) (494020,)\n",
      "98804\n",
      "N features removed:  18\n",
      "(494020, 90)\n",
      "(494020, 89) (494020,)\n",
      "98804\n",
      "N features removed:  19\n",
      "(494020, 89)\n",
      "(494020, 88) (494020,)\n",
      "98804\n",
      "N features removed:  20\n",
      "(494020, 88)\n",
      "(494020, 87) (494020,)\n",
      "98804\n",
      "N features removed:  21\n",
      "(494020, 87)\n",
      "(494020, 86) (494020,)\n",
      "98804\n",
      "N features removed:  22\n",
      "(494020, 86)\n",
      "(494020, 85) (494020,)\n",
      "98804\n",
      "N features removed:  23\n",
      "(494020, 85)\n",
      "(494020, 84) (494020,)\n",
      "98804\n",
      "N features removed:  24\n",
      "(494020, 84)\n",
      "(494020, 83) (494020,)\n",
      "98804\n",
      "N features removed:  25\n",
      "(494020, 83)\n",
      "(494020, 82) (494020,)\n",
      "98804\n",
      "N features removed:  26\n",
      "(494020, 82)\n",
      "(494020, 81) (494020,)\n",
      "98804\n",
      "N features removed:  27\n",
      "(494020, 81)\n",
      "(494020, 80) (494020,)\n",
      "98804\n",
      "N features removed:  28\n",
      "(494020, 80)\n",
      "(494020, 79) (494020,)\n",
      "98804\n",
      "N features removed:  29\n",
      "(494020, 79)\n",
      "(494020, 78) (494020,)\n",
      "98804\n",
      "N features removed:  30\n",
      "(494020, 78)\n",
      "(494020, 77) (494020,)\n",
      "98804\n",
      "N features removed:  31\n",
      "(494020, 77)\n",
      "(494020, 76) (494020,)\n",
      "98804\n",
      "N features removed:  32\n",
      "(494020, 76)\n",
      "(494020, 75) (494020,)\n",
      "98804\n",
      "N features removed:  33\n",
      "(494020, 75)\n",
      "(494020, 74) (494020,)\n",
      "98804\n",
      "N features removed:  34\n",
      "(494020, 72)\n",
      "(494020, 71) (494020,)\n",
      "98804\n",
      "N features removed:  35\n",
      "(494020, 71)\n",
      "(494020, 70) (494020,)\n",
      "98804\n",
      "N features removed:  36\n",
      "(494020, 70)\n",
      "(494020, 69) (494020,)\n",
      "98804\n",
      "N features removed:  37\n",
      "(494020, 68)\n",
      "(494020, 67) (494020,)\n",
      "98804\n",
      "N features removed:  38\n",
      "(494020, 2)\n",
      "(494020, 1) (494020,)\n",
      "98804\n"
     ]
    }
   ],
   "source": [
    "iterative_feature_removal_stats = {}\n",
    "\n",
    "for idx, row in sorted_single_column_accuracy_stats_df.iterrows():\n",
    "    features_to_remove = sorted_single_column_accuracy_stats_df[:idx]['feature_name'].tolist()\n",
    "    n_features_to_remove = len(features_to_remove)\n",
    "    print(\"N features removed: \", n_features_to_remove)\n",
    "    # remove features from categorical column and continous columns\n",
    "    new_cat_cols = []\n",
    "    for cat_col in catg_cols:\n",
    "        if cat_col not in features_to_remove:\n",
    "            new_cat_cols.append(cat_col)\n",
    "    \n",
    "    new_cont_cols = []\n",
    "    for cont_col in cont_cols:\n",
    "        if cont_col not in features_to_remove:\n",
    "            new_cont_cols.append(cont_col)\n",
    "    \n",
    "    new_columns = new_cat_cols + new_cont_cols + ['label']\n",
    "    model_object, model_selected_history = get_model_accuracy_with_one_or_more_multiple_inputs(df[new_columns],\n",
    "                                                                                new_columns, new_cont_cols)\n",
    "    \n",
    "    \n",
    "    iterative_feature_removal_stats[f\"{n_features_to_remove} removed features\"] = model_selected_history.history['val_accuracy'][-1]\n"
   ]
  },
  {
   "cell_type": "code",
   "execution_count": 77,
   "id": "76e456ed",
   "metadata": {},
   "outputs": [
    {
     "data": {
      "text/html": [
       "<div>\n",
       "<style scoped>\n",
       "    .dataframe tbody tr th:only-of-type {\n",
       "        vertical-align: middle;\n",
       "    }\n",
       "\n",
       "    .dataframe tbody tr th {\n",
       "        vertical-align: top;\n",
       "    }\n",
       "\n",
       "    .dataframe thead th {\n",
       "        text-align: right;\n",
       "    }\n",
       "</style>\n",
       "<table border=\"1\" class=\"dataframe\">\n",
       "  <thead>\n",
       "    <tr style=\"text-align: right;\">\n",
       "      <th></th>\n",
       "      <th>Accuracy</th>\n",
       "    </tr>\n",
       "  </thead>\n",
       "  <tbody>\n",
       "    <tr>\n",
       "      <th>0 removed features</th>\n",
       "      <td>99.798590</td>\n",
       "    </tr>\n",
       "    <tr>\n",
       "      <th>1 removed features</th>\n",
       "      <td>99.813771</td>\n",
       "    </tr>\n",
       "    <tr>\n",
       "      <th>2 removed features</th>\n",
       "      <td>99.752033</td>\n",
       "    </tr>\n",
       "    <tr>\n",
       "      <th>3 removed features</th>\n",
       "      <td>99.806690</td>\n",
       "    </tr>\n",
       "    <tr>\n",
       "      <th>4 removed features</th>\n",
       "      <td>99.423099</td>\n",
       "    </tr>\n",
       "    <tr>\n",
       "      <th>5 removed features</th>\n",
       "      <td>99.456501</td>\n",
       "    </tr>\n",
       "    <tr>\n",
       "      <th>6 removed features</th>\n",
       "      <td>99.564797</td>\n",
       "    </tr>\n",
       "    <tr>\n",
       "      <th>7 removed features</th>\n",
       "      <td>99.487877</td>\n",
       "    </tr>\n",
       "    <tr>\n",
       "      <th>8 removed features</th>\n",
       "      <td>99.795556</td>\n",
       "    </tr>\n",
       "    <tr>\n",
       "      <th>9 removed features</th>\n",
       "      <td>99.737865</td>\n",
       "    </tr>\n",
       "    <tr>\n",
       "      <th>10 removed features</th>\n",
       "      <td>99.808711</td>\n",
       "    </tr>\n",
       "    <tr>\n",
       "      <th>11 removed features</th>\n",
       "      <td>99.620461</td>\n",
       "    </tr>\n",
       "    <tr>\n",
       "      <th>12 removed features</th>\n",
       "      <td>99.344158</td>\n",
       "    </tr>\n",
       "    <tr>\n",
       "      <th>13 removed features</th>\n",
       "      <td>99.352252</td>\n",
       "    </tr>\n",
       "    <tr>\n",
       "      <th>14 removed features</th>\n",
       "      <td>99.690294</td>\n",
       "    </tr>\n",
       "    <tr>\n",
       "      <th>15 removed features</th>\n",
       "      <td>99.468642</td>\n",
       "    </tr>\n",
       "    <tr>\n",
       "      <th>16 removed features</th>\n",
       "      <td>99.388689</td>\n",
       "    </tr>\n",
       "    <tr>\n",
       "      <th>17 removed features</th>\n",
       "      <td>99.739891</td>\n",
       "    </tr>\n",
       "    <tr>\n",
       "      <th>18 removed features</th>\n",
       "      <td>99.401844</td>\n",
       "    </tr>\n",
       "    <tr>\n",
       "      <th>19 removed features</th>\n",
       "      <td>99.306709</td>\n",
       "    </tr>\n",
       "    <tr>\n",
       "      <th>20 removed features</th>\n",
       "      <td>99.741912</td>\n",
       "    </tr>\n",
       "    <tr>\n",
       "      <th>21 removed features</th>\n",
       "      <td>99.264199</td>\n",
       "    </tr>\n",
       "    <tr>\n",
       "      <th>22 removed features</th>\n",
       "      <td>99.819845</td>\n",
       "    </tr>\n",
       "    <tr>\n",
       "      <th>23 removed features</th>\n",
       "      <td>99.447393</td>\n",
       "    </tr>\n",
       "    <tr>\n",
       "      <th>24 removed features</th>\n",
       "      <td>99.691308</td>\n",
       "    </tr>\n",
       "    <tr>\n",
       "      <th>25 removed features</th>\n",
       "      <td>99.727744</td>\n",
       "    </tr>\n",
       "    <tr>\n",
       "      <th>26 removed features</th>\n",
       "      <td>99.223715</td>\n",
       "    </tr>\n",
       "    <tr>\n",
       "      <th>27 removed features</th>\n",
       "      <td>99.369460</td>\n",
       "    </tr>\n",
       "    <tr>\n",
       "      <th>28 removed features</th>\n",
       "      <td>99.311769</td>\n",
       "    </tr>\n",
       "    <tr>\n",
       "      <th>29 removed features</th>\n",
       "      <td>99.216628</td>\n",
       "    </tr>\n",
       "    <tr>\n",
       "      <th>30 removed features</th>\n",
       "      <td>99.173111</td>\n",
       "    </tr>\n",
       "    <tr>\n",
       "      <th>31 removed features</th>\n",
       "      <td>99.190319</td>\n",
       "    </tr>\n",
       "    <tr>\n",
       "      <th>32 removed features</th>\n",
       "      <td>99.040526</td>\n",
       "    </tr>\n",
       "    <tr>\n",
       "      <th>33 removed features</th>\n",
       "      <td>99.064815</td>\n",
       "    </tr>\n",
       "    <tr>\n",
       "      <th>34 removed features</th>\n",
       "      <td>98.702484</td>\n",
       "    </tr>\n",
       "    <tr>\n",
       "      <th>35 removed features</th>\n",
       "      <td>98.845190</td>\n",
       "    </tr>\n",
       "    <tr>\n",
       "      <th>36 removed features</th>\n",
       "      <td>98.737907</td>\n",
       "    </tr>\n",
       "    <tr>\n",
       "      <th>37 removed features</th>\n",
       "      <td>98.736894</td>\n",
       "    </tr>\n",
       "    <tr>\n",
       "      <th>38 removed features</th>\n",
       "      <td>97.876602</td>\n",
       "    </tr>\n",
       "  </tbody>\n",
       "</table>\n",
       "</div>"
      ],
      "text/plain": [
       "                      Accuracy\n",
       "0 removed features   99.798590\n",
       "1 removed features   99.813771\n",
       "2 removed features   99.752033\n",
       "3 removed features   99.806690\n",
       "4 removed features   99.423099\n",
       "5 removed features   99.456501\n",
       "6 removed features   99.564797\n",
       "7 removed features   99.487877\n",
       "8 removed features   99.795556\n",
       "9 removed features   99.737865\n",
       "10 removed features  99.808711\n",
       "11 removed features  99.620461\n",
       "12 removed features  99.344158\n",
       "13 removed features  99.352252\n",
       "14 removed features  99.690294\n",
       "15 removed features  99.468642\n",
       "16 removed features  99.388689\n",
       "17 removed features  99.739891\n",
       "18 removed features  99.401844\n",
       "19 removed features  99.306709\n",
       "20 removed features  99.741912\n",
       "21 removed features  99.264199\n",
       "22 removed features  99.819845\n",
       "23 removed features  99.447393\n",
       "24 removed features  99.691308\n",
       "25 removed features  99.727744\n",
       "26 removed features  99.223715\n",
       "27 removed features  99.369460\n",
       "28 removed features  99.311769\n",
       "29 removed features  99.216628\n",
       "30 removed features  99.173111\n",
       "31 removed features  99.190319\n",
       "32 removed features  99.040526\n",
       "33 removed features  99.064815\n",
       "34 removed features  98.702484\n",
       "35 removed features  98.845190\n",
       "36 removed features  98.737907\n",
       "37 removed features  98.736894\n",
       "38 removed features  97.876602"
      ]
     },
     "execution_count": 77,
     "metadata": {},
     "output_type": "execute_result"
    }
   ],
   "source": [
    "iterative_feature_removal_stats_df"
   ]
  },
  {
   "cell_type": "code",
   "execution_count": 80,
   "id": "4bcfb058",
   "metadata": {},
   "outputs": [
    {
     "data": {
      "text/plain": [
       "Text(0.5, 1.0, 'Validation Accuracy after removing N less important features')"
      ]
     },
     "execution_count": 80,
     "metadata": {},
     "output_type": "execute_result"
    },
    {
     "data": {
      "image/png": "[encoded data removed]",
      "text/plain": [
       "<Figure size 1800x720 with 1 Axes>"
      ]
     },
     "metadata": {
      "needs_background": "light"
     },
     "output_type": "display_data"
    }
   ],
   "source": [
    "iterative_feature_removal_stats_df = pd.DataFrame.from_dict(iterative_feature_removal_stats, orient='index', columns=['Accuracy'])\n",
    "iterative_feature_removal_stats_df['Accuracy'] = iterative_feature_removal_stats_df.apply(lambda row: row['Accuracy'] * 100, axis=1)\n",
    "ax1 = iterative_feature_removal_stats_df.plot.bar(figsize=(25,10), ylabel='Accuracy', rot=90, fontsize=17, colormap='Dark2')\n",
    "ax1.set_xlabel('Remaining Features after removing N less important features',fontdict={'fontsize':24})\n",
    "ax1.set_ylabel('Validation Accuracy in % (adjusted to scale [97-100])',fontdict={'fontsize':24})\n",
    "ax1.legend(fontsize=20)\n",
    "ax1.set_ylim([97,100])\n",
    "ax1.set_title(\"Validation Accuracy after removing N less important features\", fontsize=24)"
   ]
  },
  {
   "cell_type": "markdown",
   "id": "1c206e06",
   "metadata": {},
   "source": [
    "**Step-2 Inference:**\n",
    "\n",
    "- As seen in the above graph, the first dip in the model perfomance happened when 4 features are removed. However, we need to find the best possible set of features\n",
    "- The best possible set of features can be obtained from the above graph where we have to find the minimal set of features that resulted in the best valdiation accuracy.\n",
    "- From the above graph, the when 22 features low importance features are removed, we have seen the highest validation accuracy.\n",
    "- Therefore, we will build the model after removing 22 low importance features and compare it with the model with all features"
   ]
  },
  {
   "cell_type": "markdown",
   "id": "21e7c88f",
   "metadata": {},
   "source": [
    "### Step -3: Performance Comparision: All Features Model vs Important Features Model"
   ]
  },
  {
   "cell_type": "code",
   "execution_count": 115,
   "id": "6508d664",
   "metadata": {},
   "outputs": [
    {
     "name": "stderr",
     "output_type": "stream",
     "text": [
      "<ipython-input-97-1fab71a15beb>:10: SettingWithCopyWarning: \n",
      "A value is trying to be set on a copy of a slice from a DataFrame.\n",
      "Try using .loc[row_indexer,col_indexer] = value instead\n",
      "\n",
      "See the caveats in the documentation: https://pandas.pydata.org/pandas-docs/stable/user_guide/indexing.html#returning-a-view-versus-a-copy\n",
      "  dataset[dummy_value_name] = dummy_values[category]\n"
     ]
    },
    {
     "name": "stdout",
     "output_type": "stream",
     "text": [
      "(494020, 85)\n",
      "(494020, 84) (494020,)\n",
      "98804\n"
     ]
    },
    {
     "data": {
      "text/plain": [
       "0.9984413385391235"
      ]
     },
     "execution_count": 115,
     "metadata": {},
     "output_type": "execute_result"
    }
   ],
   "source": [
    "final_features_selected = sorted_single_column_accuracy_stats_df[23:]['feature_name'].tolist()\n",
    "imp_features_cat = []\n",
    "for cat_col in catg_cols:\n",
    "    if cat_col in final_features_selected:\n",
    "        imp_features_cat.append(cat_col)\n",
    "    \n",
    "imp_features_cont = []\n",
    "for cont_col in cont_cols:\n",
    "    if cont_col in final_features_selected:\n",
    "        imp_features_cont.append(cont_col)\n",
    "    \n",
    "imp_features = imp_features_cat + imp_features_cont + ['label']\n",
    "imp_feat_model_object, imp_feat_model_selected_history = get_model_accuracy_with_one_or_more_multiple_inputs(df[imp_features],\n",
    "                                                                                imp_features, imp_features_cont)\n",
    "imp_feat_model_selected_history.history['val_accuracy'][-1]"
   ]
  },
  {
   "cell_type": "code",
   "execution_count": 99,
   "id": "b09ce0fe",
   "metadata": {},
   "outputs": [
    {
     "name": "stderr",
     "output_type": "stream",
     "text": [
      "<ipython-input-97-1fab71a15beb>:10: SettingWithCopyWarning: \n",
      "A value is trying to be set on a copy of a slice from a DataFrame.\n",
      "Try using .loc[row_indexer,col_indexer] = value instead\n",
      "\n",
      "See the caveats in the documentation: https://pandas.pydata.org/pandas-docs/stable/user_guide/indexing.html#returning-a-view-versus-a-copy\n",
      "  dataset[dummy_value_name] = dummy_values[category]\n"
     ]
    },
    {
     "name": "stdout",
     "output_type": "stream",
     "text": [
      "(494020, 120)\n",
      "(494020, 119) (494020,)\n",
      "98804\n"
     ]
    },
    {
     "data": {
      "text/plain": [
       "0.9926318526268005"
      ]
     },
     "execution_count": 99,
     "metadata": {},
     "output_type": "execute_result"
    }
   ],
   "source": [
    "all_features = catg_cols + cont_cols + [\"label\"]\n",
    "all_feat_model_object, all_feat_model_selected_history = get_model_accuracy_with_one_or_more_multiple_inputs(df[all_features],\n",
    "                                                                                all_features, cont_cols)\n",
    "all_feat_model_selected_history.history['val_accuracy'][-1]"
   ]
  },
  {
   "cell_type": "code",
   "execution_count": 116,
   "id": "cc8a199c",
   "metadata": {},
   "outputs": [
    {
     "data": {
      "image/png": "[encoded data removed]",
      "text/plain": [
       "<Figure size 432x288 with 1 Axes>"
      ]
     },
     "metadata": {
      "needs_background": "light"
     },
     "output_type": "display_data"
    },
    {
     "data": {
      "image/png": "[encoded data removed]",
      "text/plain": [
       "<Figure size 432x288 with 1 Axes>"
      ]
     },
     "metadata": {
      "needs_background": "light"
     },
     "output_type": "display_data"
    }
   ],
   "source": [
    "import matplotlib.pyplot as plt\n",
    "\n",
    "plt.plot(all_feat_model_selected_history.history['accuracy'])\n",
    "plt.plot(all_feat_model_selected_history.history['val_accuracy'])\n",
    "plt.title('All features Model: Accuracy vs Epochs')\n",
    "plt.ylabel('Accuracy')\n",
    "plt.xlabel('Epoch')\n",
    "plt.legend(['train', 'validation'], loc='upper left')\n",
    "plt.show()\n",
    "\n",
    "\n",
    "plt.plot(imp_feat_model_selected_history.history['accuracy'])\n",
    "plt.plot(imp_feat_model_selected_history.history['val_accuracy'])\n",
    "plt.title('Important Features Model: Accuracy vs Epochs')\n",
    "plt.ylabel('Accuracy')\n",
    "plt.xlabel('Epoch')\n",
    "plt.legend(['train', 'validation'], loc='upper left')\n",
    "plt.show()"
   ]
  },
  {
   "cell_type": "markdown",
   "id": "9a58be12",
   "metadata": {},
   "source": [
    "**Step - 3 Inference**\n",
    "- The learning rate of the all features model did not change after second epoch.\n",
    "- However, the importance feature model had a constan learning rate over the epochs which is promising.\n",
    "- Moreover, we have obtained better metric results (accuracy) with the importance features model.\n",
    "- Also, modeling time of the importance features model is faster than the all features model as the compuations are lesser with lesser number of features. Morever, it is a save in terms of computing cost and modeling time."
   ]
  },
  {
   "cell_type": "markdown",
   "id": "32f6b234",
   "metadata": {},
   "source": [
    "**Conclusion:**"
   ]
  },
  {
   "cell_type": "code",
   "execution_count": 117,
   "id": "a8afe7a9",
   "metadata": {},
   "outputs": [
    {
     "data": {
      "text/plain": [
       "['num_access_files',\n",
       " 'src_bytes',\n",
       " 'num_compromised',\n",
       " 'dst_host_same_src_port_rate',\n",
       " 'hot',\n",
       " 'srv_rerror_rate',\n",
       " 'dst_host_srv_count',\n",
       " 'serror_rate',\n",
       " 'dst_host_rerror_rate',\n",
       " 'dst_host_diff_srv_rate',\n",
       " 'protocol_type',\n",
       " 'srv_diff_host_rate',\n",
       " 'dst_host_count',\n",
       " 'logged_in',\n",
       " 'service',\n",
       " 'count']"
      ]
     },
     "execution_count": 117,
     "metadata": {},
     "output_type": "execute_result"
    }
   ],
   "source": [
    "final_features_selected"
   ]
  },
  {
   "cell_type": "markdown",
   "id": "3685b9f2",
   "metadata": {},
   "source": [
    "The above list of features are derived as importance ones for this dataset using iterative feature reduction technique."
   ]
  },
  {
   "cell_type": "code",
   "execution_count": null,
   "id": "ab745c30",
   "metadata": {},
   "outputs": [],
   "source": []
  }
 ],
 "metadata": {
  "kernelspec": {
   "display_name": "Python 3",
   "language": "python",
   "name": "python3"
  },
  "language_info": {
   "codemirror_mode": {
    "name": "ipython",
    "version": 3
   },
   "file_extension": ".py",
   "mimetype": "text/x-python",
   "name": "python",
   "nbconvert_exporter": "python",
   "pygments_lexer": "ipython3",
   "version": "3.8.8"
  }
 },
 "nbformat": 4,
 "nbformat_minor": 5
}
