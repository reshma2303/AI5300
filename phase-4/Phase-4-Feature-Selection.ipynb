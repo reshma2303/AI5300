{
 "cells": [
  {
   "cell_type": "markdown",
   "id": "2c70fae2",
   "metadata": {},
   "source": [
    "## Phase - 4: Iterative Feature Reduction and Selection"
   ]
  },
  {
   "cell_type": "markdown",
   "id": "a5a55b77",
   "metadata": {},
   "source": [
    "### Approach"
   ]
  },
  {
   "cell_type": "markdown",
   "id": "ffe26c13",
   "metadata": {},
   "source": [
    "Two Steps:\n",
    "\n",
    "    Step - 1: Get model stats with single feature \n",
    "    Step -2: Get model stats with Important features"
   ]
  },
  {
   "cell_type": "markdown",
   "id": "4a8c632f",
   "metadata": {},
   "source": [
    "### 1. Data Load and Pre-Processing required for modeling"
   ]
  },
  {
   "cell_type": "markdown",
   "id": "adce1f2c",
   "metadata": {},
   "source": [
    "#### Categorical Columns"
   ]
  },
  {
   "cell_type": "markdown",
   "id": "2eec0a85",
   "metadata": {},
   "source": [
    "'protocol_type', 'service', 'flag', 'land', 'logged_in', 'is_host_login', 'is_guest_login'"
   ]
  },
  {
   "cell_type": "code",
   "execution_count": 2,
   "id": "f323bffe",
   "metadata": {},
   "outputs": [],
   "source": [
    "catg_cols = ['protocol_type', 'service', 'flag', 'land', 'logged_in', 'is_host_login', 'is_guest_login']"
   ]
  },
  {
   "cell_type": "markdown",
   "id": "d856cbab",
   "metadata": {},
   "source": [
    "#### Continuous Columns"
   ]
  },
  {
   "cell_type": "code",
   "execution_count": 3,
   "id": "eb50db86",
   "metadata": {},
   "outputs": [],
   "source": [
    "cont_cols = [ 'duration', 'src_bytes', 'dst_bytes', 'wrong_fragment', 'urgent', 'hot', 'num_failed_logins', 'num_compromised', 'root_shell', 'su_attempted', 'num_root', 'num_file_creations', 'num_shells', 'num_access_files', 'num_outbound_cmds', 'count', 'srv_count', 'serror_rate', 'srv_serror_rate', 'rerror_rate', 'srv_rerror_rate', 'same_srv_rate', 'diff_srv_rate', 'srv_diff_host_rate', 'dst_host_count', 'dst_host_srv_count', 'dst_host_same_srv_rate', 'dst_host_diff_srv_rate', 'dst_host_same_src_port_rate', 'dst_host_srv_diff_host_rate', 'dst_host_serror_rate', 'dst_host_srv_serror_rate', 'dst_host_rerror_rate', 'dst_host_srv_rerror_rate']"
   ]
  },
  {
   "cell_type": "code",
   "execution_count": 4,
   "id": "a3986fb7",
   "metadata": {},
   "outputs": [],
   "source": [
    "target_variable = 'label'"
   ]
  },
  {
   "cell_type": "markdown",
   "id": "4ccae6cd",
   "metadata": {},
   "source": [
    "#### Data Load"
   ]
  },
  {
   "cell_type": "code",
   "execution_count": 6,
   "id": "36e844e6",
   "metadata": {},
   "outputs": [],
   "source": [
    "import pandas as pd\n",
    "df = pd.read_csv(\"../datasets/kddcup99_csv.csv\")"
   ]
  },
  {
   "cell_type": "markdown",
   "id": "7e2c8f74",
   "metadata": {},
   "source": [
    "#### Dataset size"
   ]
  },
  {
   "cell_type": "code",
   "execution_count": 7,
   "id": "3059174e",
   "metadata": {},
   "outputs": [
    {
     "data": {
      "text/plain": [
       "(494020, 42)"
      ]
     },
     "execution_count": 7,
     "metadata": {},
     "output_type": "execute_result"
    }
   ],
   "source": [
    "df.shape"
   ]
  },
  {
   "cell_type": "markdown",
   "id": "ac162b93",
   "metadata": {},
   "source": [
    "494020 records with 41 features and 1 target variable (\"label\") for prediction"
   ]
  },
  {
   "cell_type": "code",
   "execution_count": 8,
   "id": "95f9b3b8",
   "metadata": {},
   "outputs": [
    {
     "data": {
      "text/html": [
       "<div>\n",
       "<style scoped>\n",
       "    .dataframe tbody tr th:only-of-type {\n",
       "        vertical-align: middle;\n",
       "    }\n",
       "\n",
       "    .dataframe tbody tr th {\n",
       "        vertical-align: top;\n",
       "    }\n",
       "\n",
       "    .dataframe thead th {\n",
       "        text-align: right;\n",
       "    }\n",
       "</style>\n",
       "<table border=\"1\" class=\"dataframe\">\n",
       "  <thead>\n",
       "    <tr style=\"text-align: right;\">\n",
       "      <th></th>\n",
       "      <th>duration</th>\n",
       "      <th>protocol_type</th>\n",
       "      <th>service</th>\n",
       "      <th>flag</th>\n",
       "      <th>src_bytes</th>\n",
       "      <th>dst_bytes</th>\n",
       "      <th>land</th>\n",
       "      <th>wrong_fragment</th>\n",
       "      <th>urgent</th>\n",
       "      <th>hot</th>\n",
       "      <th>...</th>\n",
       "      <th>dst_host_srv_count</th>\n",
       "      <th>dst_host_same_srv_rate</th>\n",
       "      <th>dst_host_diff_srv_rate</th>\n",
       "      <th>dst_host_same_src_port_rate</th>\n",
       "      <th>dst_host_srv_diff_host_rate</th>\n",
       "      <th>dst_host_serror_rate</th>\n",
       "      <th>dst_host_srv_serror_rate</th>\n",
       "      <th>dst_host_rerror_rate</th>\n",
       "      <th>dst_host_srv_rerror_rate</th>\n",
       "      <th>label</th>\n",
       "    </tr>\n",
       "  </thead>\n",
       "  <tbody>\n",
       "    <tr>\n",
       "      <th>0</th>\n",
       "      <td>0</td>\n",
       "      <td>tcp</td>\n",
       "      <td>http</td>\n",
       "      <td>SF</td>\n",
       "      <td>181</td>\n",
       "      <td>5450</td>\n",
       "      <td>0</td>\n",
       "      <td>0</td>\n",
       "      <td>0</td>\n",
       "      <td>0</td>\n",
       "      <td>...</td>\n",
       "      <td>9</td>\n",
       "      <td>1.0</td>\n",
       "      <td>0.0</td>\n",
       "      <td>0.11</td>\n",
       "      <td>0.0</td>\n",
       "      <td>0.0</td>\n",
       "      <td>0.0</td>\n",
       "      <td>0.0</td>\n",
       "      <td>0.0</td>\n",
       "      <td>normal</td>\n",
       "    </tr>\n",
       "    <tr>\n",
       "      <th>1</th>\n",
       "      <td>0</td>\n",
       "      <td>tcp</td>\n",
       "      <td>http</td>\n",
       "      <td>SF</td>\n",
       "      <td>239</td>\n",
       "      <td>486</td>\n",
       "      <td>0</td>\n",
       "      <td>0</td>\n",
       "      <td>0</td>\n",
       "      <td>0</td>\n",
       "      <td>...</td>\n",
       "      <td>19</td>\n",
       "      <td>1.0</td>\n",
       "      <td>0.0</td>\n",
       "      <td>0.05</td>\n",
       "      <td>0.0</td>\n",
       "      <td>0.0</td>\n",
       "      <td>0.0</td>\n",
       "      <td>0.0</td>\n",
       "      <td>0.0</td>\n",
       "      <td>normal</td>\n",
       "    </tr>\n",
       "  </tbody>\n",
       "</table>\n",
       "<p>2 rows × 42 columns</p>\n",
       "</div>"
      ],
      "text/plain": [
       "   duration protocol_type service flag  src_bytes  dst_bytes  land  \\\n",
       "0         0           tcp    http   SF        181       5450     0   \n",
       "1         0           tcp    http   SF        239        486     0   \n",
       "\n",
       "   wrong_fragment  urgent  hot  ...  dst_host_srv_count  \\\n",
       "0               0       0    0  ...                   9   \n",
       "1               0       0    0  ...                  19   \n",
       "\n",
       "   dst_host_same_srv_rate  dst_host_diff_srv_rate  \\\n",
       "0                     1.0                     0.0   \n",
       "1                     1.0                     0.0   \n",
       "\n",
       "   dst_host_same_src_port_rate  dst_host_srv_diff_host_rate  \\\n",
       "0                         0.11                          0.0   \n",
       "1                         0.05                          0.0   \n",
       "\n",
       "   dst_host_serror_rate  dst_host_srv_serror_rate  dst_host_rerror_rate  \\\n",
       "0                   0.0                       0.0                   0.0   \n",
       "1                   0.0                       0.0                   0.0   \n",
       "\n",
       "   dst_host_srv_rerror_rate   label  \n",
       "0                       0.0  normal  \n",
       "1                       0.0  normal  \n",
       "\n",
       "[2 rows x 42 columns]"
      ]
     },
     "execution_count": 8,
     "metadata": {},
     "output_type": "execute_result"
    }
   ],
   "source": [
    "df.head(2)"
   ]
  },
  {
   "cell_type": "markdown",
   "id": "d7a6d066",
   "metadata": {},
   "source": [
    "As seen above, there are various type of malware attacks which can be grouped as \"abnormal\" to make this problem as binary classification problem"
   ]
  },
  {
   "cell_type": "markdown",
   "id": "32104edd",
   "metadata": {},
   "source": [
    "##### Group all malware attacks as \"abnormal\""
   ]
  },
  {
   "cell_type": "code",
   "execution_count": 9,
   "id": "c866ed99",
   "metadata": {},
   "outputs": [],
   "source": [
    "attack_types = list(df['label'].unique())\n",
    "attack_types.remove('normal') # remove normal from attack types as we only want malware attacks to convert as abnormal"
   ]
  },
  {
   "cell_type": "code",
   "execution_count": 10,
   "id": "90dc8e9f",
   "metadata": {},
   "outputs": [
    {
     "data": {
      "text/plain": [
       "(494020, 42)"
      ]
     },
     "execution_count": 10,
     "metadata": {},
     "output_type": "execute_result"
    }
   ],
   "source": [
    "df['label'] = df['label'].replace(attack_types, 'abnormal')\n",
    "df.shape"
   ]
  },
  {
   "cell_type": "code",
   "execution_count": 11,
   "id": "652fbb8f",
   "metadata": {},
   "outputs": [],
   "source": [
    "# both these columns have all values as 0, hence not useful for our experiments\n",
    "df.drop(columns=['is_host_login'], inplace=True)\n",
    "df.drop(columns=['num_outbound_cmds'], inplace=True)\n",
    "catg_cols.remove('is_host_login')\n",
    "cont_cols.remove('num_outbound_cmds')"
   ]
  },
  {
   "cell_type": "code",
   "execution_count": 12,
   "id": "e77267f3",
   "metadata": {},
   "outputs": [
    {
     "data": {
      "text/plain": [
       "abnormal    396743\n",
       "normal       97277\n",
       "Name: label, dtype: int64"
      ]
     },
     "execution_count": 12,
     "metadata": {},
     "output_type": "execute_result"
    }
   ],
   "source": [
    "df['label'].value_counts()"
   ]
  },
  {
   "cell_type": "code",
   "execution_count": 13,
   "id": "b48245a8",
   "metadata": {},
   "outputs": [
    {
     "data": {
      "text/plain": [
       "0    396743\n",
       "1     97277\n",
       "Name: label, dtype: int64"
      ]
     },
     "execution_count": 13,
     "metadata": {},
     "output_type": "execute_result"
    }
   ],
   "source": [
    "# Transform Target Binary label to 0 and 1\n",
    "df['label'] = df['label'].map({'normal': 1, 'abnormal': 0})\n",
    "df['label'].value_counts()"
   ]
  },
  {
   "cell_type": "code",
   "execution_count": 14,
   "id": "5127423e",
   "metadata": {},
   "outputs": [],
   "source": [
    "for cat_col in catg_cols:\n",
    "    df[cat_col] = df[cat_col].astype(str)"
   ]
  },
  {
   "cell_type": "markdown",
   "id": "458e571a",
   "metadata": {},
   "source": [
    "### Iterative Feature Reduction"
   ]
  },
  {
   "cell_type": "code",
   "execution_count": 45,
   "id": "84266d7e",
   "metadata": {},
   "outputs": [],
   "source": [
    "from keras.utils.vis_utils import plot_model\n",
    "from tensorflow.keras.models import Sequential\n",
    "from tensorflow.keras.layers import Dense\n",
    "\n",
    "def _convert_categorical_to_one_hot_encoding(dataset, column_name):\n",
    "    dummy_values = pd.get_dummies(dataset[column_name])\n",
    "    #print(\"dummy_values\", dummy_values.shape[1])\n",
    "    for category in dummy_values.columns:\n",
    "        dummy_value_name = f\"{column_name}-{category}\"\n",
    "        dataset[dummy_value_name] = dummy_values[category]\n",
    "    dataset.drop(column_name, axis=1, inplace=True)\n",
    "    return dataset\n",
    "\n",
    "def build_best_model_from_previous_phase(XTRAIN, YTRAIN,XVALID,YVALID):\n",
    "    best_model_selected = Sequential()\n",
    "    best_model_selected.add(Dense(4, input_dim = len(XTRAIN[0, :]), activation='relu'))\n",
    "    best_model_selected.add(Dense(1, activation='sigmoid'))\n",
    "    best_model_selected.compile(loss='binary_crossentropy', optimizer = 'rmsprop', metrics=[ 'accuracy'])\n",
    "    best_model_selected_history = best_model_selected.fit(XTRAIN, YTRAIN, validation_data = (XVALID, YVALID), \n",
    "                                            batch_size=256, epochs =2, verbose = 1)\n",
    "    return best_model_selected, best_model_selected_history\n",
    "    \n",
    "def get_model_accuracy_with_single_input(input_df, input_feature: str):\n",
    "    \n",
    "    if input_df.shape[1] != 2:\n",
    "        raise Exception(\"Expected single feature input dataset\")\n",
    "    \n",
    "    if input_feature in catg_cols:\n",
    "        print(f\"Single input feature is categorical and is : {input_feature}\")\n",
    "        input_df = _convert_categorical_to_one_hot_encoding(input_df, input_feature)\n",
    "    else:\n",
    "        print(f\"Single input feature is continous and is {input_feature}\")\n",
    "        df_CONTCOLS_MIN = df[[input_feature]].min(axis=0)\n",
    "        df_CONTCOLS_MAX = df[[input_feature]].max(axis=0)\n",
    "        input_df[[input_feature]] = (input_df[[input_feature]] - df_CONTCOLS_MIN) / (df_CONTCOLS_MAX - df_CONTCOLS_MIN)\n",
    "    \n",
    "    if input_df.isna().values.any() is False:\n",
    "        raise Exception(\"Cannot proceed with modeling with null values\")\n",
    "    \n",
    "    print(input_df.shape)\n",
    "    input_df = input_df.sample(frac=1).reset_index(drop=True)\n",
    "    X_numpy = input_df.drop(columns=['label']).to_numpy()\n",
    "    Y_numpy = input_df['label'].to_numpy()\n",
    "    print(X_numpy.shape, Y_numpy.shape)\n",
    "    \n",
    "    # Split into training and validation, 20% validation set and 80% training \n",
    "    index_20percent = int(0.2 * len(input_df.to_numpy()[:, 0]))\n",
    "    print(index_20percent)\n",
    "    XVALID = X_numpy[:index_20percent]\n",
    "    YVALID = Y_numpy[:index_20percent]\n",
    "    XTRAIN = X_numpy[index_20percent:]\n",
    "    YTRAIN = Y_numpy[index_20percent:]\n",
    "    best_model_selected, best_model_selected_history = build_best_model_from_previous_phase(XTRAIN, YTRAIN,XVALID,YVALID)\n",
    "    return best_model_selected, best_model_selected_history\n",
    "    \n"
   ]
  },
  {
   "cell_type": "code",
   "execution_count": 46,
   "id": "dee84210",
   "metadata": {},
   "outputs": [
    {
     "name": "stdout",
     "output_type": "stream",
     "text": [
      "Single input feature is categorical and is : protocol_type\n",
      "(494020, 4)\n",
      "(494020, 3) (494020,)\n",
      "98804\n"
     ]
    },
    {
     "name": "stderr",
     "output_type": "stream",
     "text": [
      "<ipython-input-45-e6d62e69dca9>:10: SettingWithCopyWarning: \n",
      "A value is trying to be set on a copy of a slice from a DataFrame.\n",
      "Try using .loc[row_indexer,col_indexer] = value instead\n",
      "\n",
      "See the caveats in the documentation: https://pandas.pydata.org/pandas-docs/stable/user_guide/indexing.html#returning-a-view-versus-a-copy\n",
      "  dataset[dummy_value_name] = dummy_values[category]\n"
     ]
    },
    {
     "name": "stdout",
     "output_type": "stream",
     "text": [
      "Epoch 1/2\n",
      "1544/1544 [==============================] - 5s 3ms/step - loss: 0.3614 - accuracy: 0.8116 - val_loss: 0.2852 - val_accuracy: 0.8400\n",
      "Epoch 2/2\n",
      "1544/1544 [==============================] - 4s 2ms/step - loss: 0.2854 - accuracy: 0.8394 - val_loss: 0.2852 - val_accuracy: 0.8400\n",
      "Single input feature is categorical and is : service\n",
      "(494020, 67)\n",
      "(494020, 66) (494020,)\n",
      "98804\n",
      "Epoch 1/2\n",
      "1544/1544 [==============================] - 5s 3ms/step - loss: 0.2635 - accuracy: 0.9639 - val_loss: 0.1044 - val_accuracy: 0.9709\n",
      "Epoch 2/2\n",
      "1544/1544 [==============================] - 4s 3ms/step - loss: 0.1017 - accuracy: 0.9709 - val_loss: 0.1013 - val_accuracy: 0.9711\n",
      "Single input feature is categorical and is : flag\n",
      "(494020, 12)\n",
      "(494020, 11) (494020,)\n",
      "98804\n",
      "Epoch 1/2\n",
      "1544/1544 [==============================] - 5s 3ms/step - loss: 0.4913 - accuracy: 0.7929 - val_loss: 0.4548 - val_accuracy: 0.8037\n",
      "Epoch 2/2\n",
      "1544/1544 [==============================] - 4s 2ms/step - loss: 0.4541 - accuracy: 0.8029 - val_loss: 0.4525 - val_accuracy: 0.8037\n",
      "Single input feature is categorical and is : land\n",
      "(494020, 3)\n",
      "(494020, 2) (494020,)\n",
      "98804\n",
      "Epoch 1/2\n",
      "1544/1544 [==============================] - 5s 2ms/step - loss: 0.5012 - accuracy: 0.8031 - val_loss: 0.4963 - val_accuracy: 0.8030\n",
      "Epoch 2/2\n",
      "1544/1544 [==============================] - 4s 3ms/step - loss: 0.4961 - accuracy: 0.8031 - val_loss: 0.4963 - val_accuracy: 0.8030\n",
      "Single input feature is categorical and is : logged_in\n",
      "(494020, 3)\n",
      "(494020, 2) (494020,)\n",
      "98804\n",
      "Epoch 1/2\n",
      "1544/1544 [==============================] - 6s 3ms/step - loss: 0.3459 - accuracy: 0.8667 - val_loss: 0.2647 - val_accuracy: 0.9401\n",
      "Epoch 2/2\n",
      "1544/1544 [==============================] - 4s 3ms/step - loss: 0.2516 - accuracy: 0.9374 - val_loss: 0.2328 - val_accuracy: 0.9401\n",
      "Single input feature is categorical and is : is_guest_login\n",
      "(494020, 3)\n",
      "(494020, 2) (494020,)\n",
      "98804\n",
      "Epoch 1/2\n",
      "1544/1544 [==============================] - 5s 3ms/step - loss: 0.4965 - accuracy: 0.8030 - val_loss: 0.4952 - val_accuracy: 0.8035\n",
      "Epoch 2/2\n",
      "1544/1544 [==============================] - 4s 2ms/step - loss: 0.4959 - accuracy: 0.8030 - val_loss: 0.4952 - val_accuracy: 0.8035\n",
      "Single input feature is continous and is duration\n"
     ]
    },
    {
     "name": "stderr",
     "output_type": "stream",
     "text": [
      "C:\\Users\\PepsiHomeUser\\anaconda3\\lib\\site-packages\\pandas\\core\\frame.py:3191: SettingWithCopyWarning: \n",
      "A value is trying to be set on a copy of a slice from a DataFrame.\n",
      "Try using .loc[row_indexer,col_indexer] = value instead\n",
      "\n",
      "See the caveats in the documentation: https://pandas.pydata.org/pandas-docs/stable/user_guide/indexing.html#returning-a-view-versus-a-copy\n",
      "  self[k1] = value[k2]\n"
     ]
    },
    {
     "name": "stdout",
     "output_type": "stream",
     "text": [
      "(494020, 2)\n",
      "(494020, 1) (494020,)\n",
      "98804\n",
      "Epoch 1/2\n",
      "1544/1544 [==============================] - 5s 2ms/step - loss: 0.5536 - accuracy: 0.8031 - val_loss: 0.4964 - val_accuracy: 0.8030\n",
      "Epoch 2/2\n",
      "1544/1544 [==============================] - 4s 2ms/step - loss: 0.4961 - accuracy: 0.8031 - val_loss: 0.4962 - val_accuracy: 0.8030\n",
      "Single input feature is continous and is src_bytes\n",
      "(494020, 2)\n",
      "(494020, 1) (494020,)\n",
      "98804\n",
      "Epoch 1/2\n",
      "1544/1544 [==============================] - 5s 3ms/step - loss: 0.5527 - accuracy: 0.8031 - val_loss: 0.4979 - val_accuracy: 0.8019\n",
      "Epoch 2/2\n",
      "1544/1544 [==============================] - 4s 3ms/step - loss: 0.4957 - accuracy: 0.8034 - val_loss: 0.4978 - val_accuracy: 0.8019\n",
      "Single input feature is continous and is dst_bytes\n",
      "(494020, 2)\n",
      "(494020, 1) (494020,)\n",
      "98804\n",
      "Epoch 1/2\n",
      "1544/1544 [==============================] - 5s 2ms/step - loss: 0.5536 - accuracy: 0.8030 - val_loss: 0.4950 - val_accuracy: 0.8040\n",
      "Epoch 2/2\n",
      "1544/1544 [==============================] - 4s 3ms/step - loss: 0.4962 - accuracy: 0.8028 - val_loss: 0.4945 - val_accuracy: 0.8040\n",
      "Single input feature is continous and is wrong_fragment\n",
      "(494020, 2)\n",
      "(494020, 1) (494020,)\n",
      "98804\n",
      "Epoch 1/2\n",
      "1544/1544 [==============================] - 5s 3ms/step - loss: 0.5527 - accuracy: 0.8032 - val_loss: 0.4970 - val_accuracy: 0.8026\n",
      "Epoch 2/2\n",
      "1544/1544 [==============================] - 4s 2ms/step - loss: 0.4959 - accuracy: 0.8032 - val_loss: 0.4968 - val_accuracy: 0.8026\n",
      "Single input feature is continous and is urgent\n",
      "(494020, 2)\n",
      "(494020, 1) (494020,)\n",
      "98804\n",
      "Epoch 1/2\n",
      "1544/1544 [==============================] - 5s 3ms/step - loss: 0.5527 - accuracy: 0.8031 - val_loss: 0.4960 - val_accuracy: 0.8031\n",
      "Epoch 2/2\n",
      "1544/1544 [==============================] - 4s 2ms/step - loss: 0.4961 - accuracy: 0.8031 - val_loss: 0.4960 - val_accuracy: 0.8031\n",
      "Single input feature is continous and is hot\n",
      "(494020, 2)\n",
      "(494020, 1) (494020,)\n",
      "98804\n",
      "Epoch 1/2\n",
      "1544/1544 [==============================] - 4s 2ms/step - loss: 0.5113 - accuracy: 0.8031 - val_loss: 0.4964 - val_accuracy: 0.8030\n",
      "Epoch 2/2\n",
      "1544/1544 [==============================] - 4s 3ms/step - loss: 0.4962 - accuracy: 0.8031 - val_loss: 0.4963 - val_accuracy: 0.8030\n",
      "Single input feature is continous and is num_failed_logins\n",
      "(494020, 2)\n",
      "(494020, 1) (494020,)\n",
      "98804\n",
      "Epoch 1/2\n",
      "1544/1544 [==============================] - 5s 3ms/step - loss: 0.5536 - accuracy: 0.8032 - val_loss: 0.4971 - val_accuracy: 0.8025\n",
      "Epoch 2/2\n",
      "1544/1544 [==============================] - 4s 2ms/step - loss: 0.4959 - accuracy: 0.8032 - val_loss: 0.4970 - val_accuracy: 0.8025\n",
      "Single input feature is continous and is num_compromised\n",
      "(494020, 2)\n",
      "(494020, 1) (494020,)\n",
      "98804\n",
      "Epoch 1/2\n",
      "1544/1544 [==============================] - 5s 2ms/step - loss: 0.5144 - accuracy: 0.8033 - val_loss: 0.4975 - val_accuracy: 0.8021\n",
      "Epoch 2/2\n",
      "1544/1544 [==============================] - 4s 3ms/step - loss: 0.4958 - accuracy: 0.8033 - val_loss: 0.4974 - val_accuracy: 0.8021\n",
      "Single input feature is continous and is root_shell\n",
      "(494020, 2)\n",
      "(494020, 1) (494020,)\n",
      "98804\n",
      "Epoch 1/2\n",
      "1544/1544 [==============================] - 5s 3ms/step - loss: 0.5528 - accuracy: 0.8033 - val_loss: 0.4974 - val_accuracy: 0.8022\n",
      "Epoch 2/2\n",
      "1544/1544 [==============================] - 4s 2ms/step - loss: 0.4958 - accuracy: 0.8033 - val_loss: 0.4973 - val_accuracy: 0.8022\n",
      "Single input feature is continous and is su_attempted\n",
      "(494020, 2)\n",
      "(494020, 1) (494020,)\n",
      "98804\n",
      "Epoch 1/2\n",
      "1544/1544 [==============================] - 5s 2ms/step - loss: 0.5531 - accuracy: 0.8034 - val_loss: 0.4977 - val_accuracy: 0.8020\n",
      "Epoch 2/2\n",
      "1544/1544 [==============================] - 4s 2ms/step - loss: 0.4957 - accuracy: 0.8034 - val_loss: 0.4976 - val_accuracy: 0.8020\n",
      "Single input feature is continous and is num_root\n",
      "(494020, 2)\n",
      "(494020, 1) (494020,)\n",
      "98804\n",
      "Epoch 1/2\n",
      "1544/1544 [==============================] - 6s 3ms/step - loss: 0.5130 - accuracy: 0.8031 - val_loss: 0.4964 - val_accuracy: 0.8029\n",
      "Epoch 2/2\n",
      "1544/1544 [==============================] - 3s 2ms/step - loss: 0.4960 - accuracy: 0.8031 - val_loss: 0.4964 - val_accuracy: 0.8029\n",
      "Single input feature is continous and is num_file_creations\n",
      "(494020, 2)\n",
      "(494020, 1) (494020,)\n",
      "98804\n",
      "Epoch 1/2\n",
      "1544/1544 [==============================] - 5s 3ms/step - loss: 0.5531 - accuracy: 0.8034 - val_loss: 0.4976 - val_accuracy: 0.8021\n",
      "Epoch 2/2\n",
      "1544/1544 [==============================] - 4s 2ms/step - loss: 0.4957 - accuracy: 0.8034 - val_loss: 0.4975 - val_accuracy: 0.8021\n",
      "Single input feature is continous and is num_shells\n",
      "(494020, 2)\n",
      "(494020, 1) (494020,)\n",
      "98804\n",
      "Epoch 1/2\n",
      "1544/1544 [==============================] - 5s 3ms/step - loss: 0.5255 - accuracy: 0.8029 - val_loss: 0.4948 - val_accuracy: 0.8040\n",
      "Epoch 2/2\n",
      "1544/1544 [==============================] - 4s 3ms/step - loss: 0.4964 - accuracy: 0.8029 - val_loss: 0.4948 - val_accuracy: 0.8040\n",
      "Single input feature is continous and is num_access_files\n",
      "(494020, 2)\n",
      "(494020, 1) (494020,)\n",
      "98804\n",
      "Epoch 1/2\n",
      "1544/1544 [==============================] - 6s 3ms/step - loss: 0.5533 - accuracy: 0.8031 - val_loss: 0.4964 - val_accuracy: 0.8030\n",
      "Epoch 2/2\n",
      "1544/1544 [==============================] - 4s 3ms/step - loss: 0.4960 - accuracy: 0.8031 - val_loss: 0.4961 - val_accuracy: 0.8030\n",
      "Single input feature is continous and is count\n",
      "(494020, 2)\n",
      "(494020, 1) (494020,)\n",
      "98804\n",
      "Epoch 1/2\n",
      "1544/1544 [==============================] - 5s 3ms/step - loss: 0.2637 - accuracy: 0.8883 - val_loss: 0.1384 - val_accuracy: 0.9804\n",
      "Epoch 2/2\n",
      "1544/1544 [==============================] - 4s 3ms/step - loss: 0.0994 - accuracy: 0.9795 - val_loss: 0.0765 - val_accuracy: 0.9803\n",
      "Single input feature is continous and is srv_count\n",
      "(494020, 2)\n",
      "(494020, 1) (494020,)\n",
      "98804\n",
      "Epoch 1/2\n",
      "1544/1544 [==============================] - 5s 3ms/step - loss: 0.5535 - accuracy: 0.8028 - val_loss: 0.4944 - val_accuracy: 0.8044\n",
      "Epoch 2/2\n",
      "1544/1544 [==============================] - 4s 2ms/step - loss: 0.4966 - accuracy: 0.8028 - val_loss: 0.4943 - val_accuracy: 0.8044\n",
      "Single input feature is continous and is serror_rate\n",
      "(494020, 2)\n",
      "(494020, 1) (494020,)\n",
      "98804\n",
      "Epoch 1/2\n",
      "1544/1544 [==============================] - 5s 3ms/step - loss: 0.5288 - accuracy: 0.7752 - val_loss: 0.4531 - val_accuracy: 0.8051\n",
      "Epoch 2/2\n",
      "1544/1544 [==============================] - 4s 2ms/step - loss: 0.4553 - accuracy: 0.8026 - val_loss: 0.4521 - val_accuracy: 0.8051\n",
      "Single input feature is continous and is srv_serror_rate\n",
      "(494020, 2)\n",
      "(494020, 1) (494020,)\n",
      "98804\n",
      "Epoch 1/2\n",
      "1544/1544 [==============================] - 5s 3ms/step - loss: 0.4903 - accuracy: 0.7951 - val_loss: 0.4554 - val_accuracy: 0.8034\n",
      "Epoch 2/2\n",
      "1544/1544 [==============================] - 4s 3ms/step - loss: 0.4551 - accuracy: 0.8030 - val_loss: 0.4547 - val_accuracy: 0.8034\n",
      "Single input feature is continous and is rerror_rate\n",
      "(494020, 2)\n",
      "(494020, 1) (494020,)\n",
      "98804\n",
      "Epoch 1/2\n",
      "1544/1544 [==============================] - 6s 3ms/step - loss: 0.5199 - accuracy: 0.8027 - val_loss: 0.4939 - val_accuracy: 0.8046\n",
      "Epoch 2/2\n",
      "1544/1544 [==============================] - 4s 2ms/step - loss: 0.4967 - accuracy: 0.8027 - val_loss: 0.4939 - val_accuracy: 0.8046\n",
      "Single input feature is continous and is srv_rerror_rate\n",
      "(494020, 2)\n",
      "(494020, 1) (494020,)\n",
      "98804\n",
      "Epoch 1/2\n",
      "1544/1544 [==============================] - 5s 3ms/step - loss: 0.5532 - accuracy: 0.8032 - val_loss: 0.4969 - val_accuracy: 0.8025\n",
      "Epoch 2/2\n",
      "1544/1544 [==============================] - 4s 3ms/step - loss: 0.4959 - accuracy: 0.8032 - val_loss: 0.4969 - val_accuracy: 0.8025\n",
      "Single input feature is continous and is same_srv_rate\n",
      "(494020, 2)\n",
      "(494020, 1) (494020,)\n",
      "98804\n",
      "Epoch 1/2\n",
      "1544/1544 [==============================] - 5s 3ms/step - loss: 0.5486 - accuracy: 0.7839 - val_loss: 0.4944 - val_accuracy: 0.8063\n",
      "Epoch 2/2\n",
      "1544/1544 [==============================] - 4s 3ms/step - loss: 0.4895 - accuracy: 0.8023 - val_loss: 0.4652 - val_accuracy: 0.8063\n",
      "Single input feature is continous and is diff_srv_rate\n",
      "(494020, 2)\n",
      "(494020, 1) (494020,)\n",
      "98804\n",
      "Epoch 1/2\n",
      "1544/1544 [==============================] - 5s 3ms/step - loss: 0.5169 - accuracy: 0.8025 - val_loss: 0.4912 - val_accuracy: 0.8036\n",
      "Epoch 2/2\n"
     ]
    },
    {
     "name": "stdout",
     "output_type": "stream",
     "text": [
      "1544/1544 [==============================] - 4s 2ms/step - loss: 0.4902 - accuracy: 0.8030 - val_loss: 0.4878 - val_accuracy: 0.8036\n",
      "Single input feature is continous and is srv_diff_host_rate\n",
      "(494020, 2)\n",
      "(494020, 1) (494020,)\n",
      "98804\n",
      "Epoch 1/2\n",
      "1544/1544 [==============================] - 5s 3ms/step - loss: 0.5264 - accuracy: 0.8259 - val_loss: 0.4448 - val_accuracy: 0.8283\n",
      "Epoch 2/2\n",
      "1544/1544 [==============================] - 4s 2ms/step - loss: 0.4361 - accuracy: 0.8363 - val_loss: 0.4375 - val_accuracy: 0.8386\n",
      "Single input feature is continous and is dst_host_count\n",
      "(494020, 2)\n",
      "(494020, 1) (494020,)\n",
      "98804\n",
      "Epoch 1/2\n",
      "1544/1544 [==============================] - 5s 3ms/step - loss: 0.5536 - accuracy: 0.8025 - val_loss: 0.4931 - val_accuracy: 0.8054\n",
      "Epoch 2/2\n",
      "1544/1544 [==============================] - 4s 2ms/step - loss: 0.4969 - accuracy: 0.8025 - val_loss: 0.4929 - val_accuracy: 0.8054\n",
      "Single input feature is continous and is dst_host_srv_count\n",
      "(494020, 2)\n",
      "(494020, 1) (494020,)\n",
      "98804\n",
      "Epoch 1/2\n",
      "1544/1544 [==============================] - 5s 3ms/step - loss: 0.5116 - accuracy: 0.8031 - val_loss: 0.4973 - val_accuracy: 0.8031\n",
      "Epoch 2/2\n",
      "1544/1544 [==============================] - 4s 2ms/step - loss: 0.4952 - accuracy: 0.8031 - val_loss: 0.4943 - val_accuracy: 0.8031\n",
      "Single input feature is continous and is dst_host_same_srv_rate\n",
      "(494020, 2)\n",
      "(494020, 1) (494020,)\n",
      "98804\n",
      "Epoch 1/2\n",
      "1544/1544 [==============================] - 5s 3ms/step - loss: 0.5070 - accuracy: 0.8006 - val_loss: 0.4845 - val_accuracy: 0.8066\n",
      "Epoch 2/2\n",
      "1544/1544 [==============================] - 4s 2ms/step - loss: 0.4907 - accuracy: 0.8022 - val_loss: 0.4841 - val_accuracy: 0.8066\n",
      "Single input feature is continous and is dst_host_diff_srv_rate\n",
      "(494020, 2)\n",
      "(494020, 1) (494020,)\n",
      "98804\n",
      "Epoch 1/2\n",
      "1544/1544 [==============================] - 5s 3ms/step - loss: 0.5201 - accuracy: 0.8021 - val_loss: 0.4847 - val_accuracy: 0.8071\n",
      "Epoch 2/2\n",
      "1544/1544 [==============================] - 4s 2ms/step - loss: 0.4881 - accuracy: 0.8058 - val_loss: 0.4839 - val_accuracy: 0.8091\n",
      "Single input feature is continous and is dst_host_same_src_port_rate\n",
      "(494020, 2)\n",
      "(494020, 1) (494020,)\n",
      "98804\n",
      "Epoch 1/2\n",
      "1544/1544 [==============================] - 5s 3ms/step - loss: 0.4183 - accuracy: 0.7885 - val_loss: 0.3748 - val_accuracy: 0.8021\n",
      "Epoch 2/2\n",
      "1544/1544 [==============================] - 4s 3ms/step - loss: 0.3752 - accuracy: 0.8033 - val_loss: 0.3748 - val_accuracy: 0.8021\n",
      "Single input feature is continous and is dst_host_srv_diff_host_rate\n",
      "(494020, 2)\n",
      "(494020, 1) (494020,)\n",
      "98804\n",
      "Epoch 1/2\n",
      "1544/1544 [==============================] - 6s 3ms/step - loss: 0.5531 - accuracy: 0.8034 - val_loss: 0.4981 - val_accuracy: 0.8017\n",
      "Epoch 2/2\n",
      "1544/1544 [==============================] - 4s 3ms/step - loss: 0.4956 - accuracy: 0.8034 - val_loss: 0.4980 - val_accuracy: 0.8017\n",
      "Single input feature is continous and is dst_host_serror_rate\n",
      "(494020, 2)\n",
      "(494020, 1) (494020,)\n",
      "98804\n",
      "Epoch 1/2\n",
      "1544/1544 [==============================] - 5s 3ms/step - loss: 0.5551 - accuracy: 0.7932 - val_loss: 0.4965 - val_accuracy: 0.8029\n",
      "Epoch 2/2\n",
      "1544/1544 [==============================] - 4s 3ms/step - loss: 0.4960 - accuracy: 0.8031 - val_loss: 0.4963 - val_accuracy: 0.8029\n",
      "Single input feature is continous and is dst_host_srv_serror_rate\n",
      "(494020, 2)\n",
      "(494020, 1) (494020,)\n",
      "98804\n",
      "Epoch 1/2\n",
      "1544/1544 [==============================] - 5s 3ms/step - loss: 0.4866 - accuracy: 0.8035 - val_loss: 0.4564 - val_accuracy: 0.8016\n",
      "Epoch 2/2\n",
      "1544/1544 [==============================] - 4s 2ms/step - loss: 0.4539 - accuracy: 0.8035 - val_loss: 0.4558 - val_accuracy: 0.8016\n",
      "Single input feature is continous and is dst_host_rerror_rate\n",
      "(494020, 2)\n",
      "(494020, 1) (494020,)\n",
      "98804\n",
      "Epoch 1/2\n",
      "1544/1544 [==============================] - 5s 3ms/step - loss: 0.5211 - accuracy: 0.8018 - val_loss: 0.4985 - val_accuracy: 0.8014\n",
      "Epoch 2/2\n",
      "1544/1544 [==============================] - 4s 3ms/step - loss: 0.4955 - accuracy: 0.8035 - val_loss: 0.4985 - val_accuracy: 0.8014\n",
      "Single input feature is continous and is dst_host_srv_rerror_rate\n",
      "(494020, 2)\n",
      "(494020, 1) (494020,)\n",
      "98804\n",
      "Epoch 1/2\n",
      "1544/1544 [==============================] - 5s 2ms/step - loss: 0.5191 - accuracy: 0.8028 - val_loss: 0.4946 - val_accuracy: 0.8043\n",
      "Epoch 2/2\n",
      "1544/1544 [==============================] - 4s 2ms/step - loss: 0.4966 - accuracy: 0.8028 - val_loss: 0.4944 - val_accuracy: 0.8043\n"
     ]
    }
   ],
   "source": [
    "single_column_accuracy_stats = {}\n",
    "all_cols = catg_cols + cont_cols\n",
    "for single_feature in all_cols:\n",
    "    \n",
    "    model_object, model_selected_history = get_model_accuracy_with_single_input(df[[single_feature, 'label']], \n",
    "    # change epoch from 2 to 8                                                                                    single_feature)\n",
    "    single_column_accuracy_stats[single_feature] = model_selected_history.history['val_accuracy'][-1]\n",
    "    \n",
    "    \n",
    "    "
   ]
  },
  {
   "cell_type": "code",
   "execution_count": 49,
   "id": "6cb07cd4",
   "metadata": {},
   "outputs": [],
   "source": [
    "import pandas as pd\n",
    "#pd.Dataframe(single_column_accuracy_stats)"
   ]
  },
  {
   "cell_type": "code",
   "execution_count": 63,
   "id": "0b8b6d38",
   "metadata": {},
   "outputs": [],
   "source": [
    "single_column_accuracy_stats_df = pd.DataFrame.from_dict(single_column_accuracy_stats, orient='index', columns=['Accuracy'])"
   ]
  },
  {
   "cell_type": "code",
   "execution_count": 64,
   "id": "7a1d01ac",
   "metadata": {},
   "outputs": [],
   "source": [
    "single_column_accuracy_stats_df['Accuracy'] = single_column_accuracy_stats_df.apply(lambda row: row['Accuracy'] * 100, axis=1)"
   ]
  },
  {
   "cell_type": "code",
   "execution_count": 65,
   "id": "481a5381",
   "metadata": {},
   "outputs": [
    {
     "data": {
      "text/plain": [
       "<AxesSubplot:ylabel='Accuracy'>"
      ]
     },
     "execution_count": 65,
     "metadata": {},
     "output_type": "execute_result"
    },
    {
     "data": {
      "image/png": "[encoded data removed]",
      "text/plain": [
       "<Figure size 1440x504 with 1 Axes>"
      ]
     },
     "metadata": {
      "needs_background": "light"
     },
     "output_type": "display_data"
    }
   ],
   "source": [
    "single_column_accuracy_stats_df.plot.bar(figsize=(20,7), ylabel='Accuracy')"
   ]
  }
 ],
 "metadata": {
  "kernelspec": {
   "display_name": "Python 3",
   "language": "python",
   "name": "python3"
  },
  "language_info": {
   "codemirror_mode": {
    "name": "ipython",
    "version": 3
   },
   "file_extension": ".py",
   "mimetype": "text/x-python",
   "name": "python",
   "nbconvert_exporter": "python",
   "pygments_lexer": "ipython3",
   "version": "3.8.8"
  }
 },
 "nbformat": 4,
 "nbformat_minor": 5
}
