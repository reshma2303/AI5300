{
 "cells": [
  {
   "cell_type": "markdown",
   "id": "2c70fae2",
   "metadata": {},
   "source": [
    "## Phase - 3: Predicting Anomalies in Network Traffic (A Binary Classification problem)"
   ]
  },
  {
   "cell_type": "markdown",
   "id": "c746112a",
   "metadata": {},
   "source": [
    "**NOTE: Jump to the cell \"Phase-3 Baseline Model to Best Model\" to get to the steps performed in Phase-3.**"
   ]
  },
  {
   "cell_type": "markdown",
   "id": "7850a823",
   "metadata": {},
   "source": [
    "### Problem Statement"
   ]
  },
  {
   "cell_type": "markdown",
   "id": "1ef65168",
   "metadata": {},
   "source": [
    "Before working on this phase, please practice \"Activities 6, 7, 8 and 9\" in the 'Neural networks using Tensorflow' crash course (see nn-tf tab). \n",
    "\n",
    "The main goal in this phase is to obtain highest possible accuracy on the validation set after splitting your data into training set and validation set. Please shuffle your rows before splitting. \n",
    "\n",
    "As your baseline model, i.e., the model with minimum accuracy, you can test the accuracy on the validation set using a 'logistic regression' model. \n",
    "\n",
    "Then you can gradually grow your model into a multi-layered model and investigate if larger models deliver higher accuracy on the validation set. Please note that your model should be smaller than the model in the previous phase. \n",
    "\n",
    "As you explore various network architectures, please note the accuracies of these models to include in your report. You can summarize your findings in the form of a table and the table should contain the accuracy and loss on the training set and the validation set. You can also include other parameters such as number of epochs, number of neurons, total number of parameters, etc. \n",
    "\n",
    "Also remember to select one model as your best performing model, i.e., the model that delivers highest accuracy on the validation set. \n",
    "\n",
    "Your report should also include learning curves of your experiments. Additionally, you should also evaluate your models using other metrics besides precision; for example recall, precision, and F1 score.\n",
    "\n",
    "Here is an example report. Please note that your submission for this phase is ineligible for points if you do not use Early Stopping in your code.\n",
    "\n",
    "Clarification (09/19/2021): You are discouraged to use external library methods such as \"from sklearn.model_selection import train_test_split\".\n",
    "\n",
    "[FOR GRADUATE STUDENTS ONLY] In addition to the requirements above, graduate students are required to do the following two tasks to receive full points: \n",
    "\n",
    "1) discuss what architecture (how big) you do need to overfit when you have output as additional input feature,\n",
    "\n",
    "2) code a function that represents your model. Once you have finished coding your model, please build your own function/method that serves as a prediction model. Afterwards, please verify that predictions you obtain are same as the one you obtained using your trained model. The lecture on Linear regression with two input variables will be helpful to complete this task."
   ]
  },
  {
   "cell_type": "markdown",
   "id": "a5a55b77",
   "metadata": {},
   "source": [
    "### Approach"
   ]
  },
  {
   "cell_type": "markdown",
   "id": "ffe26c13",
   "metadata": {},
   "source": [
    "- This phase-3 of the \"Predicting Anamolies in Network Traffic\" is a continuation to the phase-2 of the project which can be found here - https://github.com/reshma2303/AI5300/tree/main/phase-2\n",
    "- In this phase - 3, below things will be accomplished as requested in the above problem statement:\n",
    "    - Step-1: Build a baseline model\n",
    "    - Step-2: Obtain the best model that obtains highest possible accuracy on the validation dataset.\n",
    "    - Step-3: A tabular representation of model configurations (epochs, activation functions) along with metrics (precision, recall, F1 score and confusion matrix) and learning curves are obtained.\n",
    "    - Step-4: Highlight the importance of EarlyStopping in machine learning model development process.\n",
    "    - Step-5: How big an architecture is required to overfit if the output is used as additional input feature.\n",
    "    - Step-7: Code a function that represents the model. Build custom function for serving as prediction. Compare the predictions obtained from custom function is same as model predictions.\n",
    "        \n",
    "**NOTE** \n",
    "  \n",
    "- The detailed analysis of the dataset is covered in the phase-1 of the project - https://github.com/reshma2303/AI5300/tree/main/phase-1-data-analysis\n",
    " "
   ]
  },
  {
   "cell_type": "markdown",
   "id": "4a8c632f",
   "metadata": {},
   "source": [
    "### 1. Data Load and Pre-Processing required for modeling"
   ]
  },
  {
   "cell_type": "markdown",
   "id": "adce1f2c",
   "metadata": {},
   "source": [
    "#### Categorical Columns"
   ]
  },
  {
   "cell_type": "markdown",
   "id": "2eec0a85",
   "metadata": {},
   "source": [
    "'protocol_type', 'service', 'flag', 'land', 'logged_in', 'is_host_login', 'is_guest_login'"
   ]
  },
  {
   "cell_type": "code",
   "execution_count": 243,
   "id": "f323bffe",
   "metadata": {},
   "outputs": [],
   "source": [
    "catg_cols = ['protocol_type', 'service', 'flag', 'land', 'logged_in', 'is_host_login', 'is_guest_login']"
   ]
  },
  {
   "cell_type": "markdown",
   "id": "d856cbab",
   "metadata": {},
   "source": [
    "#### Continuous Columns"
   ]
  },
  {
   "cell_type": "code",
   "execution_count": 244,
   "id": "eb50db86",
   "metadata": {},
   "outputs": [],
   "source": [
    "cont_cols = [ 'duration', 'src_bytes', 'dst_bytes', 'wrong_fragment', 'urgent', 'hot', 'num_failed_logins', 'num_compromised', 'root_shell', 'su_attempted', 'num_root', 'num_file_creations', 'num_shells', 'num_access_files', 'num_outbound_cmds', 'count', 'srv_count', 'serror_rate', 'srv_serror_rate', 'rerror_rate', 'srv_rerror_rate', 'same_srv_rate', 'diff_srv_rate', 'srv_diff_host_rate', 'dst_host_count', 'dst_host_srv_count', 'dst_host_same_srv_rate', 'dst_host_diff_srv_rate', 'dst_host_same_src_port_rate', 'dst_host_srv_diff_host_rate', 'dst_host_serror_rate', 'dst_host_srv_serror_rate', 'dst_host_rerror_rate', 'dst_host_srv_rerror_rate']"
   ]
  },
  {
   "cell_type": "markdown",
   "id": "7abccd61",
   "metadata": {},
   "source": [
    "#### Target Variable"
   ]
  },
  {
   "cell_type": "markdown",
   "id": "86b434d3",
   "metadata": {},
   "source": [
    "The target variable \"label\" contains all different types of malware attacks and also the value \"normal\" (i.e., not an attack) as shown below.\n",
    "\n",
    "'normal', 'buffer_overflow', 'loadmodule', 'perl', 'neptune', 'smurf', 'guess_passwd', 'pod', 'teardrop', 'portsweep', 'ipsweep', 'land', 'ftp_write', 'back', 'imap', 'satan', 'phf', 'nmap', 'multihop', 'warezmaster', 'warezclient', 'spy', 'rootkit'\n",
    "\n",
    "All malware attacks are grouped (transformed) to the value \"abnormal\" to make this problem a binary classification problem instead of a multi-class classification.\n"
   ]
  },
  {
   "cell_type": "code",
   "execution_count": 245,
   "id": "a3986fb7",
   "metadata": {},
   "outputs": [],
   "source": [
    "target_variable = 'label'"
   ]
  },
  {
   "cell_type": "markdown",
   "id": "4ccae6cd",
   "metadata": {},
   "source": [
    "#### Data Load"
   ]
  },
  {
   "cell_type": "code",
   "execution_count": 246,
   "id": "36e844e6",
   "metadata": {},
   "outputs": [],
   "source": [
    "import pandas as pd\n",
    "df = pd.read_csv(\"../datasets/kddcup99_csv.csv\")"
   ]
  },
  {
   "cell_type": "markdown",
   "id": "7e2c8f74",
   "metadata": {},
   "source": [
    "#### Dataset size"
   ]
  },
  {
   "cell_type": "code",
   "execution_count": 247,
   "id": "3059174e",
   "metadata": {},
   "outputs": [
    {
     "data": {
      "text/plain": [
       "(494020, 42)"
      ]
     },
     "execution_count": 247,
     "metadata": {},
     "output_type": "execute_result"
    }
   ],
   "source": [
    "df.shape"
   ]
  },
  {
   "cell_type": "markdown",
   "id": "ac162b93",
   "metadata": {},
   "source": [
    "494020 records with 41 features and 1 target variable (\"label\") for prediction"
   ]
  },
  {
   "cell_type": "code",
   "execution_count": 248,
   "id": "95f9b3b8",
   "metadata": {},
   "outputs": [
    {
     "data": {
      "text/html": [
       "<div>\n",
       "<style scoped>\n",
       "    .dataframe tbody tr th:only-of-type {\n",
       "        vertical-align: middle;\n",
       "    }\n",
       "\n",
       "    .dataframe tbody tr th {\n",
       "        vertical-align: top;\n",
       "    }\n",
       "\n",
       "    .dataframe thead th {\n",
       "        text-align: right;\n",
       "    }\n",
       "</style>\n",
       "<table border=\"1\" class=\"dataframe\">\n",
       "  <thead>\n",
       "    <tr style=\"text-align: right;\">\n",
       "      <th></th>\n",
       "      <th>duration</th>\n",
       "      <th>protocol_type</th>\n",
       "      <th>service</th>\n",
       "      <th>flag</th>\n",
       "      <th>src_bytes</th>\n",
       "      <th>dst_bytes</th>\n",
       "      <th>land</th>\n",
       "      <th>wrong_fragment</th>\n",
       "      <th>urgent</th>\n",
       "      <th>hot</th>\n",
       "      <th>...</th>\n",
       "      <th>dst_host_srv_count</th>\n",
       "      <th>dst_host_same_srv_rate</th>\n",
       "      <th>dst_host_diff_srv_rate</th>\n",
       "      <th>dst_host_same_src_port_rate</th>\n",
       "      <th>dst_host_srv_diff_host_rate</th>\n",
       "      <th>dst_host_serror_rate</th>\n",
       "      <th>dst_host_srv_serror_rate</th>\n",
       "      <th>dst_host_rerror_rate</th>\n",
       "      <th>dst_host_srv_rerror_rate</th>\n",
       "      <th>label</th>\n",
       "    </tr>\n",
       "  </thead>\n",
       "  <tbody>\n",
       "    <tr>\n",
       "      <th>0</th>\n",
       "      <td>0</td>\n",
       "      <td>tcp</td>\n",
       "      <td>http</td>\n",
       "      <td>SF</td>\n",
       "      <td>181</td>\n",
       "      <td>5450</td>\n",
       "      <td>0</td>\n",
       "      <td>0</td>\n",
       "      <td>0</td>\n",
       "      <td>0</td>\n",
       "      <td>...</td>\n",
       "      <td>9</td>\n",
       "      <td>1.0</td>\n",
       "      <td>0.0</td>\n",
       "      <td>0.11</td>\n",
       "      <td>0.0</td>\n",
       "      <td>0.0</td>\n",
       "      <td>0.0</td>\n",
       "      <td>0.0</td>\n",
       "      <td>0.0</td>\n",
       "      <td>normal</td>\n",
       "    </tr>\n",
       "    <tr>\n",
       "      <th>1</th>\n",
       "      <td>0</td>\n",
       "      <td>tcp</td>\n",
       "      <td>http</td>\n",
       "      <td>SF</td>\n",
       "      <td>239</td>\n",
       "      <td>486</td>\n",
       "      <td>0</td>\n",
       "      <td>0</td>\n",
       "      <td>0</td>\n",
       "      <td>0</td>\n",
       "      <td>...</td>\n",
       "      <td>19</td>\n",
       "      <td>1.0</td>\n",
       "      <td>0.0</td>\n",
       "      <td>0.05</td>\n",
       "      <td>0.0</td>\n",
       "      <td>0.0</td>\n",
       "      <td>0.0</td>\n",
       "      <td>0.0</td>\n",
       "      <td>0.0</td>\n",
       "      <td>normal</td>\n",
       "    </tr>\n",
       "    <tr>\n",
       "      <th>2</th>\n",
       "      <td>0</td>\n",
       "      <td>tcp</td>\n",
       "      <td>http</td>\n",
       "      <td>SF</td>\n",
       "      <td>235</td>\n",
       "      <td>1337</td>\n",
       "      <td>0</td>\n",
       "      <td>0</td>\n",
       "      <td>0</td>\n",
       "      <td>0</td>\n",
       "      <td>...</td>\n",
       "      <td>29</td>\n",
       "      <td>1.0</td>\n",
       "      <td>0.0</td>\n",
       "      <td>0.03</td>\n",
       "      <td>0.0</td>\n",
       "      <td>0.0</td>\n",
       "      <td>0.0</td>\n",
       "      <td>0.0</td>\n",
       "      <td>0.0</td>\n",
       "      <td>normal</td>\n",
       "    </tr>\n",
       "    <tr>\n",
       "      <th>3</th>\n",
       "      <td>0</td>\n",
       "      <td>tcp</td>\n",
       "      <td>http</td>\n",
       "      <td>SF</td>\n",
       "      <td>219</td>\n",
       "      <td>1337</td>\n",
       "      <td>0</td>\n",
       "      <td>0</td>\n",
       "      <td>0</td>\n",
       "      <td>0</td>\n",
       "      <td>...</td>\n",
       "      <td>39</td>\n",
       "      <td>1.0</td>\n",
       "      <td>0.0</td>\n",
       "      <td>0.03</td>\n",
       "      <td>0.0</td>\n",
       "      <td>0.0</td>\n",
       "      <td>0.0</td>\n",
       "      <td>0.0</td>\n",
       "      <td>0.0</td>\n",
       "      <td>normal</td>\n",
       "    </tr>\n",
       "    <tr>\n",
       "      <th>4</th>\n",
       "      <td>0</td>\n",
       "      <td>tcp</td>\n",
       "      <td>http</td>\n",
       "      <td>SF</td>\n",
       "      <td>217</td>\n",
       "      <td>2032</td>\n",
       "      <td>0</td>\n",
       "      <td>0</td>\n",
       "      <td>0</td>\n",
       "      <td>0</td>\n",
       "      <td>...</td>\n",
       "      <td>49</td>\n",
       "      <td>1.0</td>\n",
       "      <td>0.0</td>\n",
       "      <td>0.02</td>\n",
       "      <td>0.0</td>\n",
       "      <td>0.0</td>\n",
       "      <td>0.0</td>\n",
       "      <td>0.0</td>\n",
       "      <td>0.0</td>\n",
       "      <td>normal</td>\n",
       "    </tr>\n",
       "  </tbody>\n",
       "</table>\n",
       "<p>5 rows × 42 columns</p>\n",
       "</div>"
      ],
      "text/plain": [
       "   duration protocol_type service flag  src_bytes  dst_bytes  land  \\\n",
       "0         0           tcp    http   SF        181       5450     0   \n",
       "1         0           tcp    http   SF        239        486     0   \n",
       "2         0           tcp    http   SF        235       1337     0   \n",
       "3         0           tcp    http   SF        219       1337     0   \n",
       "4         0           tcp    http   SF        217       2032     0   \n",
       "\n",
       "   wrong_fragment  urgent  hot  ...  dst_host_srv_count  \\\n",
       "0               0       0    0  ...                   9   \n",
       "1               0       0    0  ...                  19   \n",
       "2               0       0    0  ...                  29   \n",
       "3               0       0    0  ...                  39   \n",
       "4               0       0    0  ...                  49   \n",
       "\n",
       "   dst_host_same_srv_rate  dst_host_diff_srv_rate  \\\n",
       "0                     1.0                     0.0   \n",
       "1                     1.0                     0.0   \n",
       "2                     1.0                     0.0   \n",
       "3                     1.0                     0.0   \n",
       "4                     1.0                     0.0   \n",
       "\n",
       "   dst_host_same_src_port_rate  dst_host_srv_diff_host_rate  \\\n",
       "0                         0.11                          0.0   \n",
       "1                         0.05                          0.0   \n",
       "2                         0.03                          0.0   \n",
       "3                         0.03                          0.0   \n",
       "4                         0.02                          0.0   \n",
       "\n",
       "   dst_host_serror_rate  dst_host_srv_serror_rate  dst_host_rerror_rate  \\\n",
       "0                   0.0                       0.0                   0.0   \n",
       "1                   0.0                       0.0                   0.0   \n",
       "2                   0.0                       0.0                   0.0   \n",
       "3                   0.0                       0.0                   0.0   \n",
       "4                   0.0                       0.0                   0.0   \n",
       "\n",
       "   dst_host_srv_rerror_rate   label  \n",
       "0                       0.0  normal  \n",
       "1                       0.0  normal  \n",
       "2                       0.0  normal  \n",
       "3                       0.0  normal  \n",
       "4                       0.0  normal  \n",
       "\n",
       "[5 rows x 42 columns]"
      ]
     },
     "execution_count": 248,
     "metadata": {},
     "output_type": "execute_result"
    }
   ],
   "source": [
    "df.head()"
   ]
  },
  {
   "cell_type": "markdown",
   "id": "d7a6d066",
   "metadata": {},
   "source": [
    "As seen above, there are various type of malware attacks which can be grouped as \"abnormal\" to make this problem as binary classification problem"
   ]
  },
  {
   "cell_type": "markdown",
   "id": "32104edd",
   "metadata": {},
   "source": [
    "##### Group all malware attacks as \"abnormal\""
   ]
  },
  {
   "cell_type": "code",
   "execution_count": 249,
   "id": "c866ed99",
   "metadata": {},
   "outputs": [],
   "source": [
    "attack_types = list(df['label'].unique())\n",
    "attack_types.remove('normal') # remove normal from attack types as we only want malware attacks to convert as abnormal"
   ]
  },
  {
   "cell_type": "code",
   "execution_count": 250,
   "id": "90dc8e9f",
   "metadata": {},
   "outputs": [
    {
     "data": {
      "text/plain": [
       "(494020, 42)"
      ]
     },
     "execution_count": 250,
     "metadata": {},
     "output_type": "execute_result"
    }
   ],
   "source": [
    "df['label'] = df['label'].replace(attack_types, 'abnormal')\n",
    "df.shape"
   ]
  },
  {
   "cell_type": "code",
   "execution_count": 251,
   "id": "e77267f3",
   "metadata": {},
   "outputs": [
    {
     "data": {
      "text/plain": [
       "abnormal    396743\n",
       "normal       97277\n",
       "Name: label, dtype: int64"
      ]
     },
     "execution_count": 251,
     "metadata": {},
     "output_type": "execute_result"
    }
   ],
   "source": [
    "df['label'].value_counts()"
   ]
  },
  {
   "cell_type": "code",
   "execution_count": 252,
   "id": "39174e1b",
   "metadata": {},
   "outputs": [
    {
     "data": {
      "text/plain": [
       "protocol_type     object\n",
       "service           object\n",
       "flag              object\n",
       "land               int64\n",
       "logged_in          int64\n",
       "is_host_login      int64\n",
       "is_guest_login     int64\n",
       "dtype: object"
      ]
     },
     "execution_count": 252,
     "metadata": {},
     "output_type": "execute_result"
    }
   ],
   "source": [
    "df[catg_cols].dtypes"
   ]
  },
  {
   "cell_type": "markdown",
   "id": "fe945967",
   "metadata": {},
   "source": [
    "As seen from the above datatypes of the categorical columns,the column values are not strings. We need to convert them to string before performing any analysis"
   ]
  },
  {
   "cell_type": "markdown",
   "id": "32474eda",
   "metadata": {},
   "source": [
    "##### Fixing the data types of categorical columns"
   ]
  },
  {
   "cell_type": "code",
   "execution_count": 253,
   "id": "ad980c0c",
   "metadata": {},
   "outputs": [
    {
     "data": {
      "text/plain": [
       "protocol_type     object\n",
       "service           object\n",
       "flag              object\n",
       "land              object\n",
       "logged_in         object\n",
       "is_host_login     object\n",
       "is_guest_login    object\n",
       "dtype: object"
      ]
     },
     "execution_count": 253,
     "metadata": {},
     "output_type": "execute_result"
    }
   ],
   "source": [
    "df['protocol_type'] = df['protocol_type'].astype(str)\n",
    "df['service'] = df['service'].astype(str)\n",
    "df['flag'] = df['flag'].astype(str)\n",
    "df['land'] = df['land'].astype(str)\n",
    "df['logged_in'] = df['logged_in'].astype(str)\n",
    "df['is_host_login'] = df['is_host_login'].astype(str)\n",
    "df['is_guest_login'] = df['is_guest_login'].astype(str)\n",
    "df[catg_cols].dtypes"
   ]
  },
  {
   "cell_type": "code",
   "execution_count": 254,
   "id": "6fdfb144",
   "metadata": {},
   "outputs": [],
   "source": [
    "df.drop(columns=['is_host_login'], inplace=True)\n",
    "df.drop(columns=['num_outbound_cmds'], inplace=True)"
   ]
  },
  {
   "cell_type": "markdown",
   "id": "8bc893c2",
   "metadata": {},
   "source": [
    "### Transform Target Binary label to 0 and 1"
   ]
  },
  {
   "cell_type": "code",
   "execution_count": 255,
   "id": "395e1caf",
   "metadata": {},
   "outputs": [
    {
     "data": {
      "text/plain": [
       "0    396743\n",
       "1     97277\n",
       "Name: label, dtype: int64"
      ]
     },
     "execution_count": 255,
     "metadata": {},
     "output_type": "execute_result"
    }
   ],
   "source": [
    "df['label'] = df['label'].map({'normal': 1, 'abnormal': 0})\n",
    "df['label'].value_counts()"
   ]
  },
  {
   "cell_type": "markdown",
   "id": "6e246b98",
   "metadata": {},
   "source": [
    "### One hot encode categorical columns"
   ]
  },
  {
   "cell_type": "code",
   "execution_count": 256,
   "id": "be8e7360",
   "metadata": {},
   "outputs": [],
   "source": [
    "def convert_categorical_to_one_hot_encoding(dataset, column_name):\n",
    "    dummy_values = pd.get_dummies(dataset[column_name])\n",
    "    \n",
    "    for category in dummy_values.columns:\n",
    "        dummy_value_name = f\"{column_name}-{category}\"\n",
    "        dataset[dummy_value_name] = dummy_values[category]\n",
    "    dataset.drop(column_name, axis=1, inplace=True)\n",
    "\n"
   ]
  },
  {
   "cell_type": "code",
   "execution_count": 257,
   "id": "1854b7d1",
   "metadata": {},
   "outputs": [
    {
     "data": {
      "text/plain": [
       "(494020, 120)"
      ]
     },
     "execution_count": 257,
     "metadata": {},
     "output_type": "execute_result"
    }
   ],
   "source": [
    "for cat_col in catg_cols:\n",
    "    if cat_col != \"is_host_login\":\n",
    "        convert_categorical_to_one_hot_encoding(df, cat_col)\n",
    "df.shape"
   ]
  },
  {
   "cell_type": "code",
   "execution_count": 258,
   "id": "d0ebdcdb",
   "metadata": {},
   "outputs": [
    {
     "data": {
      "text/html": [
       "<div>\n",
       "<style scoped>\n",
       "    .dataframe tbody tr th:only-of-type {\n",
       "        vertical-align: middle;\n",
       "    }\n",
       "\n",
       "    .dataframe tbody tr th {\n",
       "        vertical-align: top;\n",
       "    }\n",
       "\n",
       "    .dataframe thead th {\n",
       "        text-align: right;\n",
       "    }\n",
       "</style>\n",
       "<table border=\"1\" class=\"dataframe\">\n",
       "  <thead>\n",
       "    <tr style=\"text-align: right;\">\n",
       "      <th></th>\n",
       "      <th>duration</th>\n",
       "      <th>src_bytes</th>\n",
       "      <th>dst_bytes</th>\n",
       "      <th>wrong_fragment</th>\n",
       "      <th>urgent</th>\n",
       "      <th>hot</th>\n",
       "      <th>num_failed_logins</th>\n",
       "      <th>num_compromised</th>\n",
       "      <th>root_shell</th>\n",
       "      <th>su_attempted</th>\n",
       "      <th>...</th>\n",
       "      <th>flag-S2</th>\n",
       "      <th>flag-S3</th>\n",
       "      <th>flag-SF</th>\n",
       "      <th>flag-SH</th>\n",
       "      <th>land-0</th>\n",
       "      <th>land-1</th>\n",
       "      <th>logged_in-0</th>\n",
       "      <th>logged_in-1</th>\n",
       "      <th>is_guest_login-0</th>\n",
       "      <th>is_guest_login-1</th>\n",
       "    </tr>\n",
       "  </thead>\n",
       "  <tbody>\n",
       "    <tr>\n",
       "      <th>0</th>\n",
       "      <td>0</td>\n",
       "      <td>181</td>\n",
       "      <td>5450</td>\n",
       "      <td>0</td>\n",
       "      <td>0</td>\n",
       "      <td>0</td>\n",
       "      <td>0</td>\n",
       "      <td>0</td>\n",
       "      <td>0</td>\n",
       "      <td>0</td>\n",
       "      <td>...</td>\n",
       "      <td>0</td>\n",
       "      <td>0</td>\n",
       "      <td>1</td>\n",
       "      <td>0</td>\n",
       "      <td>1</td>\n",
       "      <td>0</td>\n",
       "      <td>0</td>\n",
       "      <td>1</td>\n",
       "      <td>1</td>\n",
       "      <td>0</td>\n",
       "    </tr>\n",
       "    <tr>\n",
       "      <th>1</th>\n",
       "      <td>0</td>\n",
       "      <td>239</td>\n",
       "      <td>486</td>\n",
       "      <td>0</td>\n",
       "      <td>0</td>\n",
       "      <td>0</td>\n",
       "      <td>0</td>\n",
       "      <td>0</td>\n",
       "      <td>0</td>\n",
       "      <td>0</td>\n",
       "      <td>...</td>\n",
       "      <td>0</td>\n",
       "      <td>0</td>\n",
       "      <td>1</td>\n",
       "      <td>0</td>\n",
       "      <td>1</td>\n",
       "      <td>0</td>\n",
       "      <td>0</td>\n",
       "      <td>1</td>\n",
       "      <td>1</td>\n",
       "      <td>0</td>\n",
       "    </tr>\n",
       "    <tr>\n",
       "      <th>2</th>\n",
       "      <td>0</td>\n",
       "      <td>235</td>\n",
       "      <td>1337</td>\n",
       "      <td>0</td>\n",
       "      <td>0</td>\n",
       "      <td>0</td>\n",
       "      <td>0</td>\n",
       "      <td>0</td>\n",
       "      <td>0</td>\n",
       "      <td>0</td>\n",
       "      <td>...</td>\n",
       "      <td>0</td>\n",
       "      <td>0</td>\n",
       "      <td>1</td>\n",
       "      <td>0</td>\n",
       "      <td>1</td>\n",
       "      <td>0</td>\n",
       "      <td>0</td>\n",
       "      <td>1</td>\n",
       "      <td>1</td>\n",
       "      <td>0</td>\n",
       "    </tr>\n",
       "    <tr>\n",
       "      <th>3</th>\n",
       "      <td>0</td>\n",
       "      <td>219</td>\n",
       "      <td>1337</td>\n",
       "      <td>0</td>\n",
       "      <td>0</td>\n",
       "      <td>0</td>\n",
       "      <td>0</td>\n",
       "      <td>0</td>\n",
       "      <td>0</td>\n",
       "      <td>0</td>\n",
       "      <td>...</td>\n",
       "      <td>0</td>\n",
       "      <td>0</td>\n",
       "      <td>1</td>\n",
       "      <td>0</td>\n",
       "      <td>1</td>\n",
       "      <td>0</td>\n",
       "      <td>0</td>\n",
       "      <td>1</td>\n",
       "      <td>1</td>\n",
       "      <td>0</td>\n",
       "    </tr>\n",
       "    <tr>\n",
       "      <th>4</th>\n",
       "      <td>0</td>\n",
       "      <td>217</td>\n",
       "      <td>2032</td>\n",
       "      <td>0</td>\n",
       "      <td>0</td>\n",
       "      <td>0</td>\n",
       "      <td>0</td>\n",
       "      <td>0</td>\n",
       "      <td>0</td>\n",
       "      <td>0</td>\n",
       "      <td>...</td>\n",
       "      <td>0</td>\n",
       "      <td>0</td>\n",
       "      <td>1</td>\n",
       "      <td>0</td>\n",
       "      <td>1</td>\n",
       "      <td>0</td>\n",
       "      <td>0</td>\n",
       "      <td>1</td>\n",
       "      <td>1</td>\n",
       "      <td>0</td>\n",
       "    </tr>\n",
       "  </tbody>\n",
       "</table>\n",
       "<p>5 rows × 120 columns</p>\n",
       "</div>"
      ],
      "text/plain": [
       "   duration  src_bytes  dst_bytes  wrong_fragment  urgent  hot  \\\n",
       "0         0        181       5450               0       0    0   \n",
       "1         0        239        486               0       0    0   \n",
       "2         0        235       1337               0       0    0   \n",
       "3         0        219       1337               0       0    0   \n",
       "4         0        217       2032               0       0    0   \n",
       "\n",
       "   num_failed_logins  num_compromised  root_shell  su_attempted  ...  flag-S2  \\\n",
       "0                  0                0           0             0  ...        0   \n",
       "1                  0                0           0             0  ...        0   \n",
       "2                  0                0           0             0  ...        0   \n",
       "3                  0                0           0             0  ...        0   \n",
       "4                  0                0           0             0  ...        0   \n",
       "\n",
       "   flag-S3  flag-SF  flag-SH  land-0  land-1  logged_in-0  logged_in-1  \\\n",
       "0        0        1        0       1       0            0            1   \n",
       "1        0        1        0       1       0            0            1   \n",
       "2        0        1        0       1       0            0            1   \n",
       "3        0        1        0       1       0            0            1   \n",
       "4        0        1        0       1       0            0            1   \n",
       "\n",
       "   is_guest_login-0  is_guest_login-1  \n",
       "0                 1                 0  \n",
       "1                 1                 0  \n",
       "2                 1                 0  \n",
       "3                 1                 0  \n",
       "4                 1                 0  \n",
       "\n",
       "[5 rows x 120 columns]"
      ]
     },
     "execution_count": 258,
     "metadata": {},
     "output_type": "execute_result"
    }
   ],
   "source": [
    "df.head()"
   ]
  },
  {
   "cell_type": "markdown",
   "id": "6e6d59f3",
   "metadata": {},
   "source": [
    "### Data Normalization (scaling numerical features to unit norm)"
   ]
  },
  {
   "cell_type": "markdown",
   "id": "67c05167",
   "metadata": {},
   "source": [
    "As seen from the above continous variables distribution in the section 2.6 the scale of some of the features (columns) values are not in same range as others.\n",
    "Hence the features need to be normalized so that the optimization during model training will happen in a better way and the model will not be sensitive to the features."
   ]
  },
  {
   "cell_type": "raw",
   "id": "4f502ede",
   "metadata": {},
   "source": [
    "# Using Min-max normalization\n",
    "min = X.min(axis = 0) \n",
    "max = X.max(axis = 0) \n",
    "X = (X - min) / (max - min)"
   ]
  },
  {
   "cell_type": "code",
   "execution_count": 259,
   "id": "eb943aff",
   "metadata": {},
   "outputs": [],
   "source": [
    "cont_cols_new = [each for each in cont_cols if each!='num_outbound_cmds']"
   ]
  },
  {
   "cell_type": "code",
   "execution_count": 260,
   "id": "42e2b291",
   "metadata": {},
   "outputs": [],
   "source": [
    "df_CONTCOLS_MIN = df[cont_cols_new].min(axis=0)\n",
    "df_CONTCOLS_MAX = df[cont_cols_new].max(axis=0)"
   ]
  },
  {
   "cell_type": "code",
   "execution_count": 261,
   "id": "5317830d",
   "metadata": {},
   "outputs": [],
   "source": [
    "df[cont_cols_new] = (df[cont_cols_new] - df_CONTCOLS_MIN) / (df_CONTCOLS_MAX - df_CONTCOLS_MIN)"
   ]
  },
  {
   "cell_type": "code",
   "execution_count": 262,
   "id": "0c369d77",
   "metadata": {},
   "outputs": [
    {
     "data": {
      "text/html": [
       "<div>\n",
       "<style scoped>\n",
       "    .dataframe tbody tr th:only-of-type {\n",
       "        vertical-align: middle;\n",
       "    }\n",
       "\n",
       "    .dataframe tbody tr th {\n",
       "        vertical-align: top;\n",
       "    }\n",
       "\n",
       "    .dataframe thead th {\n",
       "        text-align: right;\n",
       "    }\n",
       "</style>\n",
       "<table border=\"1\" class=\"dataframe\">\n",
       "  <thead>\n",
       "    <tr style=\"text-align: right;\">\n",
       "      <th></th>\n",
       "      <th>duration</th>\n",
       "      <th>src_bytes</th>\n",
       "      <th>dst_bytes</th>\n",
       "      <th>wrong_fragment</th>\n",
       "      <th>urgent</th>\n",
       "      <th>hot</th>\n",
       "      <th>num_failed_logins</th>\n",
       "      <th>num_compromised</th>\n",
       "      <th>root_shell</th>\n",
       "      <th>su_attempted</th>\n",
       "      <th>...</th>\n",
       "      <th>dst_host_count</th>\n",
       "      <th>dst_host_srv_count</th>\n",
       "      <th>dst_host_same_srv_rate</th>\n",
       "      <th>dst_host_diff_srv_rate</th>\n",
       "      <th>dst_host_same_src_port_rate</th>\n",
       "      <th>dst_host_srv_diff_host_rate</th>\n",
       "      <th>dst_host_serror_rate</th>\n",
       "      <th>dst_host_srv_serror_rate</th>\n",
       "      <th>dst_host_rerror_rate</th>\n",
       "      <th>dst_host_srv_rerror_rate</th>\n",
       "    </tr>\n",
       "  </thead>\n",
       "  <tbody>\n",
       "    <tr>\n",
       "      <th>0</th>\n",
       "      <td>0.0</td>\n",
       "      <td>2.610418e-07</td>\n",
       "      <td>0.001057</td>\n",
       "      <td>0.0</td>\n",
       "      <td>0.0</td>\n",
       "      <td>0.0</td>\n",
       "      <td>0.0</td>\n",
       "      <td>0.0</td>\n",
       "      <td>0.0</td>\n",
       "      <td>0.0</td>\n",
       "      <td>...</td>\n",
       "      <td>0.035294</td>\n",
       "      <td>0.035294</td>\n",
       "      <td>1.0</td>\n",
       "      <td>0.0</td>\n",
       "      <td>0.11</td>\n",
       "      <td>0.0</td>\n",
       "      <td>0.0</td>\n",
       "      <td>0.0</td>\n",
       "      <td>0.0</td>\n",
       "      <td>0.0</td>\n",
       "    </tr>\n",
       "    <tr>\n",
       "      <th>1</th>\n",
       "      <td>0.0</td>\n",
       "      <td>3.446905e-07</td>\n",
       "      <td>0.000094</td>\n",
       "      <td>0.0</td>\n",
       "      <td>0.0</td>\n",
       "      <td>0.0</td>\n",
       "      <td>0.0</td>\n",
       "      <td>0.0</td>\n",
       "      <td>0.0</td>\n",
       "      <td>0.0</td>\n",
       "      <td>...</td>\n",
       "      <td>0.074510</td>\n",
       "      <td>0.074510</td>\n",
       "      <td>1.0</td>\n",
       "      <td>0.0</td>\n",
       "      <td>0.05</td>\n",
       "      <td>0.0</td>\n",
       "      <td>0.0</td>\n",
       "      <td>0.0</td>\n",
       "      <td>0.0</td>\n",
       "      <td>0.0</td>\n",
       "    </tr>\n",
       "    <tr>\n",
       "      <th>2</th>\n",
       "      <td>0.0</td>\n",
       "      <td>3.389216e-07</td>\n",
       "      <td>0.000259</td>\n",
       "      <td>0.0</td>\n",
       "      <td>0.0</td>\n",
       "      <td>0.0</td>\n",
       "      <td>0.0</td>\n",
       "      <td>0.0</td>\n",
       "      <td>0.0</td>\n",
       "      <td>0.0</td>\n",
       "      <td>...</td>\n",
       "      <td>0.113725</td>\n",
       "      <td>0.113725</td>\n",
       "      <td>1.0</td>\n",
       "      <td>0.0</td>\n",
       "      <td>0.03</td>\n",
       "      <td>0.0</td>\n",
       "      <td>0.0</td>\n",
       "      <td>0.0</td>\n",
       "      <td>0.0</td>\n",
       "      <td>0.0</td>\n",
       "    </tr>\n",
       "    <tr>\n",
       "      <th>3</th>\n",
       "      <td>0.0</td>\n",
       "      <td>3.158461e-07</td>\n",
       "      <td>0.000259</td>\n",
       "      <td>0.0</td>\n",
       "      <td>0.0</td>\n",
       "      <td>0.0</td>\n",
       "      <td>0.0</td>\n",
       "      <td>0.0</td>\n",
       "      <td>0.0</td>\n",
       "      <td>0.0</td>\n",
       "      <td>...</td>\n",
       "      <td>0.152941</td>\n",
       "      <td>0.152941</td>\n",
       "      <td>1.0</td>\n",
       "      <td>0.0</td>\n",
       "      <td>0.03</td>\n",
       "      <td>0.0</td>\n",
       "      <td>0.0</td>\n",
       "      <td>0.0</td>\n",
       "      <td>0.0</td>\n",
       "      <td>0.0</td>\n",
       "    </tr>\n",
       "    <tr>\n",
       "      <th>4</th>\n",
       "      <td>0.0</td>\n",
       "      <td>3.129617e-07</td>\n",
       "      <td>0.000394</td>\n",
       "      <td>0.0</td>\n",
       "      <td>0.0</td>\n",
       "      <td>0.0</td>\n",
       "      <td>0.0</td>\n",
       "      <td>0.0</td>\n",
       "      <td>0.0</td>\n",
       "      <td>0.0</td>\n",
       "      <td>...</td>\n",
       "      <td>0.192157</td>\n",
       "      <td>0.192157</td>\n",
       "      <td>1.0</td>\n",
       "      <td>0.0</td>\n",
       "      <td>0.02</td>\n",
       "      <td>0.0</td>\n",
       "      <td>0.0</td>\n",
       "      <td>0.0</td>\n",
       "      <td>0.0</td>\n",
       "      <td>0.0</td>\n",
       "    </tr>\n",
       "  </tbody>\n",
       "</table>\n",
       "<p>5 rows × 33 columns</p>\n",
       "</div>"
      ],
      "text/plain": [
       "   duration     src_bytes  dst_bytes  wrong_fragment  urgent  hot  \\\n",
       "0       0.0  2.610418e-07   0.001057             0.0     0.0  0.0   \n",
       "1       0.0  3.446905e-07   0.000094             0.0     0.0  0.0   \n",
       "2       0.0  3.389216e-07   0.000259             0.0     0.0  0.0   \n",
       "3       0.0  3.158461e-07   0.000259             0.0     0.0  0.0   \n",
       "4       0.0  3.129617e-07   0.000394             0.0     0.0  0.0   \n",
       "\n",
       "   num_failed_logins  num_compromised  root_shell  su_attempted  ...  \\\n",
       "0                0.0              0.0         0.0           0.0  ...   \n",
       "1                0.0              0.0         0.0           0.0  ...   \n",
       "2                0.0              0.0         0.0           0.0  ...   \n",
       "3                0.0              0.0         0.0           0.0  ...   \n",
       "4                0.0              0.0         0.0           0.0  ...   \n",
       "\n",
       "   dst_host_count  dst_host_srv_count  dst_host_same_srv_rate  \\\n",
       "0        0.035294            0.035294                     1.0   \n",
       "1        0.074510            0.074510                     1.0   \n",
       "2        0.113725            0.113725                     1.0   \n",
       "3        0.152941            0.152941                     1.0   \n",
       "4        0.192157            0.192157                     1.0   \n",
       "\n",
       "   dst_host_diff_srv_rate  dst_host_same_src_port_rate  \\\n",
       "0                     0.0                         0.11   \n",
       "1                     0.0                         0.05   \n",
       "2                     0.0                         0.03   \n",
       "3                     0.0                         0.03   \n",
       "4                     0.0                         0.02   \n",
       "\n",
       "   dst_host_srv_diff_host_rate  dst_host_serror_rate  \\\n",
       "0                          0.0                   0.0   \n",
       "1                          0.0                   0.0   \n",
       "2                          0.0                   0.0   \n",
       "3                          0.0                   0.0   \n",
       "4                          0.0                   0.0   \n",
       "\n",
       "   dst_host_srv_serror_rate  dst_host_rerror_rate  dst_host_srv_rerror_rate  \n",
       "0                       0.0                   0.0                       0.0  \n",
       "1                       0.0                   0.0                       0.0  \n",
       "2                       0.0                   0.0                       0.0  \n",
       "3                       0.0                   0.0                       0.0  \n",
       "4                       0.0                   0.0                       0.0  \n",
       "\n",
       "[5 rows x 33 columns]"
      ]
     },
     "execution_count": 262,
     "metadata": {},
     "output_type": "execute_result"
    }
   ],
   "source": [
    "df[cont_cols_new].head()"
   ]
  },
  {
   "cell_type": "code",
   "execution_count": 263,
   "id": "bf675cc2",
   "metadata": {},
   "outputs": [
    {
     "data": {
      "text/plain": [
       "False"
      ]
     },
     "execution_count": 263,
     "metadata": {},
     "output_type": "execute_result"
    }
   ],
   "source": [
    "df.isna().values.any() # making sure there are no NaN values in the dataset"
   ]
  },
  {
   "cell_type": "markdown",
   "id": "d6551b69",
   "metadata": {},
   "source": [
    "### Phase - 3: Baseline Model to BestModel"
   ]
  },
  {
   "cell_type": "markdown",
   "id": "f4f8e368",
   "metadata": {},
   "source": [
    "#### 1. Shuffle DataFrame"
   ]
  },
  {
   "cell_type": "code",
   "execution_count": 264,
   "id": "07556a8c",
   "metadata": {},
   "outputs": [],
   "source": [
    "df = df.sample(frac=1).reset_index(drop=True)"
   ]
  },
  {
   "cell_type": "code",
   "execution_count": 266,
   "id": "7d11017e",
   "metadata": {},
   "outputs": [],
   "source": [
    "X_numpy = df.drop(columns=['label']).to_numpy()\n",
    "Y_numpy = df['label'].to_numpy()"
   ]
  },
  {
   "cell_type": "code",
   "execution_count": 267,
   "id": "e41145e8",
   "metadata": {},
   "outputs": [
    {
     "data": {
      "text/plain": [
       "(494020, 119)"
      ]
     },
     "execution_count": 267,
     "metadata": {},
     "output_type": "execute_result"
    }
   ],
   "source": [
    "X_numpy.shape"
   ]
  },
  {
   "cell_type": "code",
   "execution_count": 270,
   "id": "a3e9e7fe",
   "metadata": {},
   "outputs": [
    {
     "data": {
      "text/plain": [
       "(494020,)"
      ]
     },
     "execution_count": 270,
     "metadata": {},
     "output_type": "execute_result"
    }
   ],
   "source": [
    "Y_numpy.shape"
   ]
  },
  {
   "cell_type": "code",
   "execution_count": 333,
   "id": "d1de81b8",
   "metadata": {},
   "outputs": [
    {
     "name": "stdout",
     "output_type": "stream",
     "text": [
      "98804\n"
     ]
    }
   ],
   "source": [
    "# Split into training and validation, 20% validation set and 80% training \n",
    "index_20percent = int(0.2 * len(df.to_numpy()[:, 0]))\n",
    "print(index_20percent)\n",
    "XVALID = X_numpy[:index_20percent]\n",
    "YVALID = Y_numpy[:index_20percent]\n",
    "XTRAIN = X_numpy[index_20percent:]\n",
    "YTRAIN = Y_numpy[index_20percent:]"
   ]
  },
  {
   "cell_type": "markdown",
   "id": "030e5720",
   "metadata": {},
   "source": [
    "### Phase-3: Baseline to Best on Validation Set"
   ]
  },
  {
   "cell_type": "markdown",
   "id": "cc2d9e5d",
   "metadata": {},
   "source": [
    "In next steps, the notebook will be starting with a baseline model configuration and will be changing the other hyperparameters (number of neurons, layers, activation functions, losses, optimizers, epochs and batch sizes).\n",
    "For every model, we will be plotting corresponding learning curves and metrics.\n",
    "\n",
    "Emphasis on Early Stopping is also performed"
   ]
  },
  {
   "cell_type": "code",
   "execution_count": 334,
   "id": "aabd74a8",
   "metadata": {},
   "outputs": [],
   "source": [
    "from keras.utils.vis_utils import plot_model\n",
    "from tensorflow.keras.models import Sequential\n",
    "from tensorflow.keras.layers import Dense"
   ]
  },
  {
   "cell_type": "code",
   "execution_count": 463,
   "id": "231688ce",
   "metadata": {},
   "outputs": [],
   "source": [
    "all_models = {}"
   ]
  },
  {
   "cell_type": "markdown",
   "id": "a6ee3a5e",
   "metadata": {},
   "source": [
    "#### Step-1: Finiding the best number of hidden layers (Baseline Performance)"
   ]
  },
  {
   "cell_type": "code",
   "execution_count": 416,
   "id": "6428c06e",
   "metadata": {},
   "outputs": [],
   "source": [
    "no_hidden_layers_model = Sequential()\n",
    "no_hidden_layers_model.add(Dense(1, input_dim = len(XTRAIN[0, :])))\n",
    "no_hidden_layers_model.compile(loss='binary_crossentropy', optimizer = 'rmsprop', metrics=[ 'accuracy'])\n",
    "\n",
    "single_hidden_layer_model = Sequential()\n",
    "single_hidden_layer_model.add(Dense(4, input_dim = len(XTRAIN[0, :])))\n",
    "single_hidden_layer_model.add(Dense(1, activation='sigmoid'))\n",
    "single_hidden_layer_model.compile(loss='binary_crossentropy', optimizer = 'rmsprop', metrics=[ 'accuracy'])\n",
    "\n",
    "two_hidden_layers_model = Sequential()\n",
    "two_hidden_layers_model.add(Dense(4, input_dim = len(XTRAIN[0, :])))\n",
    "two_hidden_layers_model.add(Dense(2, activation='sigmoid'))\n",
    "two_hidden_layers_model.add(Dense(1, activation='sigmoid'))\n",
    "two_hidden_layers_model.compile(loss='binary_crossentropy', optimizer = 'rmsprop', metrics=[ 'accuracy'])"
   ]
  },
  {
   "cell_type": "code",
   "execution_count": 464,
   "id": "39d5bc34",
   "metadata": {},
   "outputs": [
    {
     "data": {
      "text/plain": [
       "{'No Hidden Layers': <keras.engine.sequential.Sequential at 0x18295c34a30>,\n",
       " 'Single Hidden Layer': <keras.engine.sequential.Sequential at 0x182a8629f70>,\n",
       " 'Two Hidden Layers': <keras.engine.sequential.Sequential at 0x182a8629ac0>}"
      ]
     },
     "execution_count": 464,
     "metadata": {},
     "output_type": "execute_result"
    }
   ],
   "source": [
    "all_models['No Hidden Layers'] = no_hidden_layers_model\n",
    "all_models['Single Hidden Layer'] = single_hidden_layer_model\n",
    "all_models['Two Hidden Layers'] = two_hidden_layers_model\n",
    "all_models"
   ]
  },
  {
   "cell_type": "code",
   "execution_count": 419,
   "id": "78e26fc4",
   "metadata": {},
   "outputs": [
    {
     "name": "stdout",
     "output_type": "stream",
     "text": [
      "Epoch 1/8\n",
      "1544/1544 [==============================] - 4s 3ms/step - loss: 0.1285 - accuracy: 0.9775 - val_loss: 0.0944 - val_accuracy: 0.9926\n",
      "Epoch 2/8\n",
      "1544/1544 [==============================] - 5s 3ms/step - loss: 0.0946 - accuracy: 0.9927 - val_loss: 0.0942 - val_accuracy: 0.9931\n",
      "Epoch 3/8\n",
      "1544/1544 [==============================] - 4s 3ms/step - loss: 0.0944 - accuracy: 0.9930 - val_loss: 0.0943 - val_accuracy: 0.9931\n",
      "Epoch 4/8\n",
      "1544/1544 [==============================] - 5s 3ms/step - loss: 0.0945 - accuracy: 0.9931 - val_loss: 0.0942 - val_accuracy: 0.9931\n",
      "Epoch 5/8\n",
      "1544/1544 [==============================] - 5s 3ms/step - loss: 0.0947 - accuracy: 0.9931 - val_loss: 0.0946 - val_accuracy: 0.9931\n",
      "Epoch 6/8\n",
      "1544/1544 [==============================] - 4s 3ms/step - loss: 0.0948 - accuracy: 0.9931 - val_loss: 0.0947 - val_accuracy: 0.9933\n",
      "Epoch 7/8\n",
      "1544/1544 [==============================] - 4s 3ms/step - loss: 0.0950 - accuracy: 0.9932 - val_loss: 0.0947 - val_accuracy: 0.9932\n",
      "Epoch 8/8\n",
      "1544/1544 [==============================] - 4s 3ms/step - loss: 0.0951 - accuracy: 0.9932 - val_loss: 0.0950 - val_accuracy: 0.9932\n"
     ]
    }
   ],
   "source": [
    "no_hidden_layers_model_history = no_hidden_layers_model.fit(XTRAIN, YTRAIN, validation_data = (XVALID, YVALID), \n",
    "                                            batch_size=256, epochs = 8, verbose = 1)"
   ]
  },
  {
   "cell_type": "code",
   "execution_count": 418,
   "id": "1343d3e0",
   "metadata": {},
   "outputs": [
    {
     "name": "stdout",
     "output_type": "stream",
     "text": [
      "Epoch 1/8\n",
      "1544/1544 [==============================] - 5s 3ms/step - loss: 0.0668 - accuracy: 0.9764 - val_loss: 0.0247 - val_accuracy: 0.9918\n",
      "Epoch 2/8\n",
      "1544/1544 [==============================] - 5s 3ms/step - loss: 0.0224 - accuracy: 0.9927 - val_loss: 0.0200 - val_accuracy: 0.9933\n",
      "Epoch 3/8\n",
      "1544/1544 [==============================] - 5s 3ms/step - loss: 0.0192 - accuracy: 0.9934 - val_loss: 0.0177 - val_accuracy: 0.9939\n",
      "Epoch 4/8\n",
      "1544/1544 [==============================] - 4s 3ms/step - loss: 0.0173 - accuracy: 0.9939 - val_loss: 0.0165 - val_accuracy: 0.9939\n",
      "Epoch 5/8\n",
      "1544/1544 [==============================] - 5s 3ms/step - loss: 0.0159 - accuracy: 0.9943 - val_loss: 0.0153 - val_accuracy: 0.9944\n",
      "Epoch 6/8\n",
      "1544/1544 [==============================] - 4s 3ms/step - loss: 0.0149 - accuracy: 0.9947 - val_loss: 0.0146 - val_accuracy: 0.9947\n",
      "Epoch 7/8\n",
      "1544/1544 [==============================] - 5s 3ms/step - loss: 0.0141 - accuracy: 0.9949 - val_loss: 0.0141 - val_accuracy: 0.9953\n",
      "Epoch 8/8\n",
      "1544/1544 [==============================] - 4s 3ms/step - loss: 0.0136 - accuracy: 0.9961 - val_loss: 0.0139 - val_accuracy: 0.9956\n"
     ]
    }
   ],
   "source": [
    "single_hidden_layer_model_history = single_hidden_layer_model.fit(XTRAIN, YTRAIN, validation_data = (XVALID, YVALID), \n",
    "                                            batch_size=256, epochs =8, verbose = 1)"
   ]
  },
  {
   "cell_type": "code",
   "execution_count": 420,
   "id": "9ed2f9f9",
   "metadata": {},
   "outputs": [
    {
     "name": "stdout",
     "output_type": "stream",
     "text": [
      "Epoch 1/8\n",
      "1544/1544 [==============================] - 7s 4ms/step - loss: 0.2490 - accuracy: 0.9521 - val_loss: 0.1148 - val_accuracy: 0.9918\n",
      "Epoch 2/8\n",
      "1544/1544 [==============================] - 5s 3ms/step - loss: 0.0701 - accuracy: 0.9926 - val_loss: 0.0431 - val_accuracy: 0.9931\n",
      "Epoch 3/8\n",
      "1544/1544 [==============================] - 5s 3ms/step - loss: 0.0355 - accuracy: 0.9931 - val_loss: 0.0318 - val_accuracy: 0.9931\n",
      "Epoch 4/8\n",
      "1544/1544 [==============================] - 5s 4ms/step - loss: 0.0306 - accuracy: 0.9932 - val_loss: 0.0302 - val_accuracy: 0.9932\n",
      "Epoch 5/8\n",
      "1544/1544 [==============================] - 5s 3ms/step - loss: 0.0299 - accuracy: 0.9932 - val_loss: 0.0299 - val_accuracy: 0.9931\n",
      "Epoch 6/8\n",
      "1544/1544 [==============================] - 5s 3ms/step - loss: 0.0297 - accuracy: 0.9933 - val_loss: 0.0299 - val_accuracy: 0.9932\n",
      "Epoch 7/8\n",
      "1544/1544 [==============================] - 4s 3ms/step - loss: 0.0296 - accuracy: 0.9933 - val_loss: 0.0299 - val_accuracy: 0.9933\n",
      "Epoch 8/8\n",
      "1544/1544 [==============================] - 4s 3ms/step - loss: 0.0296 - accuracy: 0.9933 - val_loss: 0.0297 - val_accuracy: 0.9933\n"
     ]
    }
   ],
   "source": [
    "two_hidden_layers_model_history = two_hidden_layers_model.fit(XTRAIN, YTRAIN, validation_data = (XVALID, YVALID), \n",
    "                                            batch_size=256, epochs =8, verbose = 1)"
   ]
  },
  {
   "cell_type": "markdown",
   "id": "f07b59d9",
   "metadata": {},
   "source": [
    "No Hidden Layer = Accuracy: 99.36, Loss : 0.0956\n",
    "\n",
    "Single Hidden Layer = Accuracy: 99.52, Loss: 0.0142 (run1)\n",
    "\n",
    "Two Hidden Layers = Accuracy: 99.33, Loss: 0.0295"
   ]
  },
  {
   "cell_type": "markdown",
   "id": "6e9a705f",
   "metadata": {},
   "source": [
    "**Step-1: Inference:**\n",
    "    With the initial hyper-parameter settings, it can be observed that 1-Layer model is performing better than other architectures (no-hidden and 2-hidden layers)"
   ]
  },
  {
   "cell_type": "markdown",
   "id": "bfb2e92e",
   "metadata": {},
   "source": [
    "#### Plotting Learning Curve for the baseline model"
   ]
  },
  {
   "cell_type": "code",
   "execution_count": 340,
   "id": "e61d1049",
   "metadata": {},
   "outputs": [],
   "source": [
    "baseline_model = two_hidden_layers_model\n",
    "baseline_model_history = two_hidden_layers_model_history"
   ]
  },
  {
   "cell_type": "code",
   "execution_count": 358,
   "id": "605cc794",
   "metadata": {},
   "outputs": [
    {
     "data": {
      "image/png": "[encoded data removed]",
      "text/plain": [
       "<Figure size 432x288 with 1 Axes>"
      ]
     },
     "metadata": {
      "needs_background": "light"
     },
     "output_type": "display_data"
    },
    {
     "data": {
      "image/png": "[encoded data removed]",
      "text/plain": [
       "<Figure size 432x288 with 1 Axes>"
      ]
     },
     "metadata": {
      "needs_background": "light"
     },
     "output_type": "display_data"
    }
   ],
   "source": [
    "import matplotlib.pyplot as plt\n",
    "\n",
    "plt.plot(baseline_model_history.history['loss'])\n",
    "plt.plot(baseline_model_history.history['val_loss'])\n",
    "plt.title('Baseline Model: Loss vs Epochs')\n",
    "plt.ylabel('Loss')\n",
    "plt.xlabel('Epoch')\n",
    "plt.legend(['train', 'validation'], loc='upper left')\n",
    "plt.show()\n",
    "\n",
    "\n",
    "plt.plot(baseline_model_history.history['accuracy'])\n",
    "plt.plot(baseline_model_history.history['val_accuracy'])\n",
    "plt.title('Baseline Model: Accuracy vs Epochs')\n",
    "plt.ylabel('Accuracy')\n",
    "plt.xlabel('Epoch')\n",
    "plt.legend(['train', 'validation'], loc='upper left')\n",
    "plt.show()"
   ]
  },
  {
   "cell_type": "markdown",
   "id": "c341e224",
   "metadata": {},
   "source": [
    "### Step-2: Trying out different hyper-parameter combinations"
   ]
  },
  {
   "cell_type": "markdown",
   "id": "4c4f911b",
   "metadata": {},
   "source": [
    "#### 2.1 Changing the activation function and losses"
   ]
  },
  {
   "cell_type": "code",
   "execution_count": 501,
   "id": "937e9410",
   "metadata": {},
   "outputs": [],
   "source": [
    "relu_activation_fn_model = Sequential()\n",
    "relu_activation_fn_model.add(Dense(4, input_dim = len(XTRAIN[0, :])))\n",
    "relu_activation_fn_model.add(Dense(1, activation='relu')) \n",
    "relu_activation_fn_model.compile(loss='binary_crossentropy', optimizer = 'rmsprop', metrics=[ 'accuracy'])\n",
    "\n",
    "softmax_activation_fn_model = Sequential()\n",
    "softmax_activation_fn_model.add(Dense(4, input_dim = len(XTRAIN[0, :])))\n",
    "softmax_activation_fn_model.add(Dense(1, activation='softmax'))\n",
    "softmax_activation_fn_model.compile(loss='categorical_crossentropy', optimizer = 'rmsprop', metrics=[ 'accuracy'])"
   ]
  },
  {
   "cell_type": "code",
   "execution_count": 502,
   "id": "ac3e94ac",
   "metadata": {},
   "outputs": [
    {
     "name": "stdout",
     "output_type": "stream",
     "text": [
      "Epoch 1/8\n",
      "1544/1544 [==============================] - 3s 2ms/step - loss: 0.0954 - accuracy: 0.9790 - val_loss: 0.0200 - val_accuracy: 0.9918\n",
      "Epoch 2/8\n",
      "1544/1544 [==============================] - 3s 2ms/step - loss: 0.0191 - accuracy: 0.9924 - val_loss: 0.0179 - val_accuracy: 0.9936\n",
      "Epoch 3/8\n",
      "1544/1544 [==============================] - 3s 2ms/step - loss: 0.0175 - accuracy: 0.9950 - val_loss: 0.0170 - val_accuracy: 0.9978\n",
      "Epoch 4/8\n",
      "1544/1544 [==============================] - 3s 2ms/step - loss: 0.0169 - accuracy: 0.9979 - val_loss: 0.0163 - val_accuracy: 0.9982\n",
      "Epoch 5/8\n",
      "1544/1544 [==============================] - 3s 2ms/step - loss: 0.0160 - accuracy: 0.9982 - val_loss: 0.0161 - val_accuracy: 0.9982\n",
      "Epoch 6/8\n",
      "1544/1544 [==============================] - 3s 2ms/step - loss: 0.0160 - accuracy: 0.9983 - val_loss: 0.0170 - val_accuracy: 0.9981\n",
      "Epoch 7/8\n",
      "1544/1544 [==============================] - 3s 2ms/step - loss: 0.0155 - accuracy: 0.9984 - val_loss: 0.0167 - val_accuracy: 0.9985\n",
      "Epoch 8/8\n",
      "1544/1544 [==============================] - 3s 2ms/step - loss: 0.0156 - accuracy: 0.9985 - val_loss: 0.0168 - val_accuracy: 0.9984\n"
     ]
    }
   ],
   "source": [
    "relu_activation_fn_model_history = relu_activation_fn_model.fit(XTRAIN, YTRAIN, validation_data = (XVALID, YVALID), \n",
    "                                            batch_size=256, epochs =8, verbose = 1)"
   ]
  },
  {
   "cell_type": "code",
   "execution_count": 371,
   "id": "c25204d0",
   "metadata": {},
   "outputs": [
    {
     "name": "stdout",
     "output_type": "stream",
     "text": [
      "Epoch 1/8\n",
      "1544/1544 [==============================] - 4s 2ms/step - loss: 0.0000e+00 - accuracy: 0.1968 - val_loss: 0.0000e+00 - val_accuracy: 0.1974\n",
      "Epoch 2/8\n",
      "1544/1544 [==============================] - 3s 2ms/step - loss: 0.0000e+00 - accuracy: 0.1968 - val_loss: 0.0000e+00 - val_accuracy: 0.1974\n",
      "Epoch 3/8\n",
      "1544/1544 [==============================] - 3s 2ms/step - loss: 0.0000e+00 - accuracy: 0.1968 - val_loss: 0.0000e+00 - val_accuracy: 0.1974\n",
      "Epoch 4/8\n",
      "1544/1544 [==============================] - 3s 2ms/step - loss: 0.0000e+00 - accuracy: 0.1968 - val_loss: 0.0000e+00 - val_accuracy: 0.1974\n",
      "Epoch 5/8\n",
      "1544/1544 [==============================] - 3s 2ms/step - loss: 0.0000e+00 - accuracy: 0.1968 - val_loss: 0.0000e+00 - val_accuracy: 0.1974\n",
      "Epoch 6/8\n",
      "1544/1544 [==============================] - 3s 2ms/step - loss: 0.0000e+00 - accuracy: 0.1968 - val_loss: 0.0000e+00 - val_accuracy: 0.1974\n",
      "Epoch 7/8\n",
      "1544/1544 [==============================] - 3s 2ms/step - loss: 0.0000e+00 - accuracy: 0.1968 - val_loss: 0.0000e+00 - val_accuracy: 0.1974\n",
      "Epoch 8/8\n",
      "1544/1544 [==============================] - 3s 2ms/step - loss: 0.0000e+00 - accuracy: 0.1968 - val_loss: 0.0000e+00 - val_accuracy: 0.1974\n"
     ]
    }
   ],
   "source": [
    "softmax_activation_fn_model_history = softmax_activation_fn_model.fit(XTRAIN, YTRAIN, validation_data = (XVALID, YVALID), \n",
    "                                            batch_size=256, epochs =8, verbose = 1)"
   ]
  },
  {
   "cell_type": "code",
   "execution_count": 506,
   "id": "3c4de5a2",
   "metadata": {},
   "outputs": [],
   "source": [
    "all_models['Single Hidden Layer ReLU Activation'] = relu_activation_fn_model\n",
    "all_models['Single Hidden Layer Softmax Activation'] = softmax_activation_fn_model"
   ]
  },
  {
   "cell_type": "markdown",
   "id": "46ac3490",
   "metadata": {},
   "source": [
    "**Inference:**\n",
    "    As seen from the above two model builds, 'relu' activation function has shown better performance where we achieved an accuracy of 99.80. Therefore, Current Best = Baseline + relu activation"
   ]
  },
  {
   "cell_type": "markdown",
   "id": "e88e55db",
   "metadata": {},
   "source": [
    "#### 2.2 Changing optimizers"
   ]
  },
  {
   "cell_type": "code",
   "execution_count": 373,
   "id": "88cfacda",
   "metadata": {},
   "outputs": [],
   "source": [
    "sgd_optimizer_model = Sequential()\n",
    "sgd_optimizer_model.add(Dense(4, input_dim = len(XTRAIN[0, :])))\n",
    "sgd_optimizer_model.add(Dense(1, activation='relu'))\n",
    "sgd_optimizer_model.compile(loss='binary_crossentropy', optimizer = 'sgd', metrics=[ 'accuracy'])\n",
    "\n",
    "adam_optimizer_model = Sequential()\n",
    "adam_optimizer_model.add(Dense(4, input_dim = len(XTRAIN[0, :])))\n",
    "adam_optimizer_model.add(Dense(1, activation='relu'))\n",
    "adam_optimizer_model.compile(loss='binary_crossentropy', optimizer = 'adam', metrics=[ 'accuracy'])\n",
    "\n",
    "adagrad_optimizer_model = Sequential()\n",
    "adagrad_optimizer_model.add(Dense(4, input_dim = len(XTRAIN[0, :])))\n",
    "adagrad_optimizer_model.add(Dense(1, activation='relu'))\n",
    "adagrad_optimizer_model.compile(loss='binary_crossentropy', optimizer = 'Adagrad', metrics=[ 'accuracy'])"
   ]
  },
  {
   "cell_type": "code",
   "execution_count": 478,
   "id": "5d953b53",
   "metadata": {},
   "outputs": [],
   "source": [
    "all_models['Single Hidden Layer SGD optimizer'] = sgd_optimizer_model\n",
    "all_models['Single Hidden Layer Adam optimizer'] = adam_optimizer_model\n",
    "all_models['Single Hidden Layer Adagrad optimizer'] = adagrad_optimizer_model"
   ]
  },
  {
   "cell_type": "code",
   "execution_count": 374,
   "id": "02b9728c",
   "metadata": {},
   "outputs": [
    {
     "name": "stdout",
     "output_type": "stream",
     "text": [
      "Epoch 1/8\n",
      "1544/1544 [==============================] - 5s 3ms/step - loss: 4.0496 - accuracy: 0.7342 - val_loss: 3.0451 - val_accuracy: 0.8026\n",
      "Epoch 2/8\n",
      "1544/1544 [==============================] - 4s 3ms/step - loss: 3.0354 - accuracy: 0.8032 - val_loss: 3.0451 - val_accuracy: 0.8026\n",
      "Epoch 3/8\n",
      "1544/1544 [==============================] - 4s 3ms/step - loss: 3.0354 - accuracy: 0.8032 - val_loss: 3.0451 - val_accuracy: 0.8026\n",
      "Epoch 4/8\n",
      "1544/1544 [==============================] - 4s 3ms/step - loss: 3.0354 - accuracy: 0.8032 - val_loss: 3.0451 - val_accuracy: 0.8026\n",
      "Epoch 5/8\n",
      "1544/1544 [==============================] - 4s 3ms/step - loss: 3.0354 - accuracy: 0.8032 - val_loss: 3.0451 - val_accuracy: 0.8026\n",
      "Epoch 6/8\n",
      "1544/1544 [==============================] - 4s 3ms/step - loss: 3.0354 - accuracy: 0.8032 - val_loss: 3.0451 - val_accuracy: 0.8026\n",
      "Epoch 7/8\n",
      "1544/1544 [==============================] - 4s 3ms/step - loss: 3.0354 - accuracy: 0.8032 - val_loss: 3.0451 - val_accuracy: 0.8026\n",
      "Epoch 8/8\n",
      "1544/1544 [==============================] - 5s 3ms/step - loss: 3.0354 - accuracy: 0.8032 - val_loss: 3.0451 - val_accuracy: 0.8026\n"
     ]
    }
   ],
   "source": [
    "sgd_optimizer_model_history = sgd_optimizer_model.fit(XTRAIN, YTRAIN, validation_data = (XVALID, YVALID), \n",
    "                                            batch_size=256, epochs =8, verbose = 1)"
   ]
  },
  {
   "cell_type": "code",
   "execution_count": 375,
   "id": "cd15258c",
   "metadata": {},
   "outputs": [
    {
     "name": "stdout",
     "output_type": "stream",
     "text": [
      "Epoch 1/8\n",
      "1544/1544 [==============================] - 6s 4ms/step - loss: 0.1200 - accuracy: 0.9819 - val_loss: 0.0324 - val_accuracy: 0.9915\n",
      "Epoch 2/8\n",
      "1544/1544 [==============================] - 5s 3ms/step - loss: 0.0313 - accuracy: 0.9918 - val_loss: 0.0283 - val_accuracy: 0.9926\n",
      "Epoch 3/8\n",
      "1544/1544 [==============================] - 4s 3ms/step - loss: 0.0281 - accuracy: 0.9924 - val_loss: 0.0262 - val_accuracy: 0.9927\n",
      "Epoch 4/8\n",
      "1544/1544 [==============================] - 5s 3ms/step - loss: 0.0265 - accuracy: 0.9927 - val_loss: 0.0252 - val_accuracy: 0.9936\n",
      "Epoch 5/8\n",
      "1544/1544 [==============================] - 5s 3ms/step - loss: 0.0276 - accuracy: 0.9930 - val_loss: 0.0251 - val_accuracy: 0.9942\n",
      "Epoch 6/8\n",
      "1544/1544 [==============================] - 5s 3ms/step - loss: 0.0246 - accuracy: 0.9938 - val_loss: 0.0242 - val_accuracy: 0.9938\n",
      "Epoch 7/8\n",
      "1544/1544 [==============================] - 5s 3ms/step - loss: 0.0391 - accuracy: 0.9940 - val_loss: 0.0244 - val_accuracy: 0.9949\n",
      "Epoch 8/8\n",
      "1544/1544 [==============================] - 5s 3ms/step - loss: 0.0240 - accuracy: 0.9944 - val_loss: 0.0289 - val_accuracy: 0.9926\n"
     ]
    }
   ],
   "source": [
    "adam_optimizer_model_history = adam_optimizer_model.fit(XTRAIN, YTRAIN, validation_data = (XVALID, YVALID), \n",
    "                                            batch_size=256, epochs =8, verbose = 1)"
   ]
  },
  {
   "cell_type": "code",
   "execution_count": 376,
   "id": "e076fc9b",
   "metadata": {},
   "outputs": [
    {
     "name": "stdout",
     "output_type": "stream",
     "text": [
      "Epoch 1/8\n",
      "1544/1544 [==============================] - 5s 3ms/step - loss: 0.5975 - accuracy: 0.8599 - val_loss: 0.1738 - val_accuracy: 0.9324\n",
      "Epoch 2/8\n",
      "1544/1544 [==============================] - 4s 3ms/step - loss: 0.1412 - accuracy: 0.9370 - val_loss: 0.1167 - val_accuracy: 0.9434\n",
      "Epoch 3/8\n",
      "1544/1544 [==============================] - 4s 3ms/step - loss: 0.1027 - accuracy: 0.9480 - val_loss: 0.0936 - val_accuracy: 0.9509\n",
      "Epoch 4/8\n",
      "1544/1544 [==============================] - 4s 3ms/step - loss: 0.0882 - accuracy: 0.9529 - val_loss: 0.0854 - val_accuracy: 0.9544\n",
      "Epoch 5/8\n",
      "1544/1544 [==============================] - 5s 3ms/step - loss: 0.0828 - accuracy: 0.9577 - val_loss: 0.0806 - val_accuracy: 0.9646\n",
      "Epoch 6/8\n",
      "1544/1544 [==============================] - 5s 3ms/step - loss: 0.0789 - accuracy: 0.9686 - val_loss: 0.0777 - val_accuracy: 0.9705\n",
      "Epoch 7/8\n",
      "1544/1544 [==============================] - 4s 3ms/step - loss: 0.0764 - accuracy: 0.9712 - val_loss: 0.0756 - val_accuracy: 0.9717\n",
      "Epoch 8/8\n",
      "1544/1544 [==============================] - 4s 3ms/step - loss: 0.0745 - accuracy: 0.9724 - val_loss: 0.0738 - val_accuracy: 0.9731\n"
     ]
    }
   ],
   "source": [
    "adagrad_optimizer_model_history = adagrad_optimizer_model.fit(XTRAIN, YTRAIN, validation_data = (XVALID, YVALID), \n",
    "                                            batch_size=256, epochs =8, verbose = 1)"
   ]
  },
  {
   "cell_type": "markdown",
   "id": "56f4dbff",
   "metadata": {},
   "source": [
    "**Inference:** As seen from above three model runs, 'rmsprop' optimizer that was used in the baseline model still performed better when compared to other optimizers"
   ]
  },
  {
   "cell_type": "markdown",
   "id": "a202e6ce",
   "metadata": {},
   "source": [
    "#### 2.3 Changing the batch size"
   ]
  },
  {
   "cell_type": "code",
   "execution_count": 485,
   "id": "79e8d869",
   "metadata": {},
   "outputs": [],
   "source": [
    "single_hidden_layer_relu_model_batch_128 = Sequential()\n",
    "single_hidden_layer_relu_model_batch_128.add(Dense(4, input_dim = len(XTRAIN[0, :])))\n",
    "single_hidden_layer_relu_model_batch_128.add(Dense(1, activation='relu'))\n",
    "single_hidden_layer_relu_model_batch_128.compile(loss='binary_crossentropy', optimizer = 'rmsprop', metrics=[ 'accuracy'])\n",
    "\n",
    "\n",
    "single_hidden_layer_relu_model_batch_64 = Sequential()\n",
    "single_hidden_layer_relu_model_batch_64.add(Dense(4, input_dim = len(XTRAIN[0, :])))\n",
    "single_hidden_layer_relu_model_batch_64.add(Dense(1, activation='relu'))\n",
    "single_hidden_layer_relu_model_batch_64.compile(loss='binary_crossentropy', optimizer = 'rmsprop', metrics=[ 'accuracy'])\n",
    "\n",
    "\n",
    "single_hidden_layer_relu_model_batch_32 = Sequential()\n",
    "single_hidden_layer_relu_model_batch_32.add(Dense(4, input_dim = len(XTRAIN[0, :])))\n",
    "single_hidden_layer_relu_model_batch_32.add(Dense(1, activation='relu'))\n",
    "single_hidden_layer_relu_model_batch_32.compile(loss='binary_crossentropy', optimizer = 'rmsprop', metrics=[ 'accuracy'])"
   ]
  },
  {
   "cell_type": "code",
   "execution_count": 490,
   "id": "bb07db73",
   "metadata": {},
   "outputs": [],
   "source": [
    "all_models['Single Hidden Layer Batch Size 128'] = single_hidden_layer_relu_model_batch_128\n",
    "all_models['Single Hidden Layer Batch Size 64'] = single_hidden_layer_relu_model_batch_64\n",
    "all_models['Single Hidden Layer Batch Size 32'] = single_hidden_layer_relu_model_batch_32"
   ]
  },
  {
   "cell_type": "code",
   "execution_count": 486,
   "id": "ce404980",
   "metadata": {},
   "outputs": [
    {
     "name": "stdout",
     "output_type": "stream",
     "text": [
      "Epoch 1/8\n",
      "3088/3088 [==============================] - 3s 764us/step - loss: 0.1249 - accuracy: 0.9869 - val_loss: 0.0969 - val_accuracy: 0.9932\n",
      "Epoch 2/8\n",
      "3088/3088 [==============================] - 2s 710us/step - loss: 0.0979 - accuracy: 0.9932 - val_loss: 0.0974 - val_accuracy: 0.9931\n",
      "Epoch 3/8\n",
      "3088/3088 [==============================] - 2s 736us/step - loss: 0.0984 - accuracy: 0.9932 - val_loss: 0.0981 - val_accuracy: 0.9931\n",
      "Epoch 4/8\n",
      "3088/3088 [==============================] - 2s 733us/step - loss: 0.0986 - accuracy: 0.9932 - val_loss: 0.0991 - val_accuracy: 0.9933\n",
      "Epoch 5/8\n",
      "3088/3088 [==============================] - 2s 717us/step - loss: 0.0986 - accuracy: 0.9933 - val_loss: 0.0996 - val_accuracy: 0.9932\n",
      "Epoch 6/8\n",
      "3088/3088 [==============================] - 2s 703us/step - loss: 0.0984 - accuracy: 0.9933 - val_loss: 0.0997 - val_accuracy: 0.9933\n",
      "Epoch 7/8\n",
      "3088/3088 [==============================] - 2s 713us/step - loss: 0.0985 - accuracy: 0.9933 - val_loss: 0.0995 - val_accuracy: 0.9933\n",
      "Epoch 8/8\n",
      "3088/3088 [==============================] - 2s 732us/step - loss: 0.0987 - accuracy: 0.9933 - val_loss: 0.0995 - val_accuracy: 0.9933\n"
     ]
    }
   ],
   "source": [
    "single_hidden_layer_relu_model_batch_128_history = single_hidden_layer_relu_model_batch_128.fit(XTRAIN, YTRAIN, validation_data = (XVALID, YVALID), \n",
    "                                            batch_size=128, epochs =8, verbose = 1)"
   ]
  },
  {
   "cell_type": "code",
   "execution_count": 488,
   "id": "e18c3b0e",
   "metadata": {},
   "outputs": [
    {
     "name": "stdout",
     "output_type": "stream",
     "text": [
      "Epoch 1/8\n",
      "6176/6176 [==============================] - 4s 674us/step - loss: 0.0941 - accuracy: 0.9912 - val_loss: 0.0871 - val_accuracy: 0.9934\n",
      "Epoch 2/8\n",
      "6176/6176 [==============================] - 4s 667us/step - loss: 0.0916 - accuracy: 0.9934 - val_loss: 0.0874 - val_accuracy: 0.9938\n",
      "Epoch 3/8\n",
      "6176/6176 [==============================] - 4s 665us/step - loss: 0.0912 - accuracy: 0.9935 - val_loss: 0.0853 - val_accuracy: 0.9939\n",
      "Epoch 4/8\n",
      "6176/6176 [==============================] - 4s 673us/step - loss: 0.0901 - accuracy: 0.9936 - val_loss: 0.0856 - val_accuracy: 0.9940\n",
      "Epoch 5/8\n",
      "6176/6176 [==============================] - 4s 661us/step - loss: 0.0908 - accuracy: 0.9937 - val_loss: 0.0868 - val_accuracy: 0.9938\n",
      "Epoch 6/8\n",
      "6176/6176 [==============================] - 4s 673us/step - loss: 0.0909 - accuracy: 0.9936 - val_loss: 0.0869 - val_accuracy: 0.9939\n",
      "Epoch 7/8\n",
      "6176/6176 [==============================] - 4s 679us/step - loss: 0.0916 - accuracy: 0.9937 - val_loss: 0.0878 - val_accuracy: 0.9939\n",
      "Epoch 8/8\n",
      "6176/6176 [==============================] - 4s 663us/step - loss: 0.0922 - accuracy: 0.9936 - val_loss: 0.0879 - val_accuracy: 0.9939\n"
     ]
    }
   ],
   "source": [
    "single_hidden_layer_relu_model_batch_64_history = single_hidden_layer_relu_model_batch_64.fit(XTRAIN, YTRAIN, validation_data = (XVALID, YVALID), \n",
    "                                            batch_size=64, epochs =8, verbose = 1)"
   ]
  },
  {
   "cell_type": "code",
   "execution_count": 489,
   "id": "fc4d3119",
   "metadata": {},
   "outputs": [
    {
     "name": "stdout",
     "output_type": "stream",
     "text": [
      "Epoch 1/8\n",
      "12351/12351 [==============================] - 9s 695us/step - loss: 0.1046 - accuracy: 0.9909 - val_loss: 0.0968 - val_accuracy: 0.9931\n",
      "Epoch 2/8\n",
      "12351/12351 [==============================] - 8s 677us/step - loss: 0.0985 - accuracy: 0.9932 - val_loss: 0.0992 - val_accuracy: 0.9932\n",
      "Epoch 3/8\n",
      "12351/12351 [==============================] - 9s 692us/step - loss: 0.0986 - accuracy: 0.9932 - val_loss: 0.0991 - val_accuracy: 0.9931\n",
      "Epoch 4/8\n",
      "12351/12351 [==============================] - 8s 661us/step - loss: 0.0987 - accuracy: 0.9932 - val_loss: 0.0996 - val_accuracy: 0.9932\n",
      "Epoch 5/8\n",
      "12351/12351 [==============================] - 8s 671us/step - loss: 0.0987 - accuracy: 0.9933 - val_loss: 0.0992 - val_accuracy: 0.9930\n",
      "Epoch 6/8\n",
      "12351/12351 [==============================] - 8s 667us/step - loss: 0.0988 - accuracy: 0.9933 - val_loss: 0.0997 - val_accuracy: 0.9933\n",
      "Epoch 7/8\n",
      "12351/12351 [==============================] - 8s 667us/step - loss: 0.0991 - accuracy: 0.9933 - val_loss: 0.1000 - val_accuracy: 0.9933\n",
      "Epoch 8/8\n",
      "12351/12351 [==============================] - 9s 693us/step - loss: 0.0988 - accuracy: 0.9933 - val_loss: 0.0999 - val_accuracy: 0.9933\n"
     ]
    }
   ],
   "source": [
    "single_hidden_layer_relu_model_batch_32_history = single_hidden_layer_relu_model_batch_32.fit(XTRAIN, YTRAIN, validation_data = (XVALID, YVALID), \n",
    "                                            batch_size=32, epochs =8, verbose = 1)"
   ]
  },
  {
   "cell_type": "markdown",
   "id": "4e75e943",
   "metadata": {},
   "source": [
    "**Inference:**\n",
    "    As seen from the above model runs for different batch_sizes, the validation set accuracy is highest for batch_size=64, however we have obtained the same accuracy 99.80 with batch_size=256. As with higher batch_size, the learning is faster, we are going ahead with batch_size=256"
   ]
  },
  {
   "cell_type": "markdown",
   "id": "da59d997",
   "metadata": {},
   "source": [
    "#### 2.4 Changing the number of neurons"
   ]
  },
  {
   "cell_type": "code",
   "execution_count": 385,
   "id": "03a99b82",
   "metadata": {},
   "outputs": [],
   "source": [
    "single_hidden_layer_2_neurons_relu_model = Sequential()\n",
    "single_hidden_layer_2_neurons_relu_model.add(Dense(2, input_dim = len(XTRAIN[0, :])))\n",
    "single_hidden_layer_2_neurons_relu_model.add(Dense(1, activation='relu'))\n",
    "single_hidden_layer_2_neurons_relu_model.compile(loss='binary_crossentropy', optimizer = 'rmsprop', metrics=[ 'accuracy'])\n",
    "\n",
    "\n",
    "single_hidden_layer_6_neurons_relu_model = Sequential()\n",
    "single_hidden_layer_6_neurons_relu_model.add(Dense(6, input_dim = len(XTRAIN[0, :])))\n",
    "single_hidden_layer_6_neurons_relu_model.add(Dense(1, activation='relu'))\n",
    "single_hidden_layer_6_neurons_relu_model.compile(loss='binary_crossentropy', optimizer = 'rmsprop', metrics=[ 'accuracy'])\n"
   ]
  },
  {
   "cell_type": "code",
   "execution_count": 491,
   "id": "13e5d166",
   "metadata": {},
   "outputs": [],
   "source": [
    "all_models['Single Hidden Layer 2 Neurons'] = single_hidden_layer_2_neurons_relu_model\n",
    "all_models['Single Hidden Layer 6 Neurons'] = single_hidden_layer_6_neurons_relu_model"
   ]
  },
  {
   "cell_type": "code",
   "execution_count": 386,
   "id": "71e0a917",
   "metadata": {},
   "outputs": [
    {
     "name": "stdout",
     "output_type": "stream",
     "text": [
      "Epoch 1/8\n",
      "1544/1544 [==============================] - 7s 4ms/step - loss: 0.1266 - accuracy: 0.9872 - val_loss: 0.0966 - val_accuracy: 0.9930\n",
      "Epoch 2/8\n",
      "1544/1544 [==============================] - 5s 3ms/step - loss: 0.0978 - accuracy: 0.9931 - val_loss: 0.0965 - val_accuracy: 0.9931\n",
      "Epoch 3/8\n",
      "1544/1544 [==============================] - 5s 3ms/step - loss: 0.0978 - accuracy: 0.9931 - val_loss: 0.0975 - val_accuracy: 0.9932\n",
      "Epoch 4/8\n",
      "1544/1544 [==============================] - 5s 3ms/step - loss: 0.0980 - accuracy: 0.9932 - val_loss: 0.0980 - val_accuracy: 0.9931\n",
      "Epoch 5/8\n",
      "1544/1544 [==============================] - 5s 3ms/step - loss: 0.0982 - accuracy: 0.9932 - val_loss: 0.0983 - val_accuracy: 0.9931\n",
      "Epoch 6/8\n",
      "1544/1544 [==============================] - 5s 3ms/step - loss: 0.0981 - accuracy: 0.9933 - val_loss: 0.0981 - val_accuracy: 0.9932\n",
      "Epoch 7/8\n",
      "1544/1544 [==============================] - 5s 3ms/step - loss: 0.0982 - accuracy: 0.9933 - val_loss: 0.0989 - val_accuracy: 0.9933\n",
      "Epoch 8/8\n",
      "1544/1544 [==============================] - 5s 3ms/step - loss: 0.0983 - accuracy: 0.9933 - val_loss: 0.0988 - val_accuracy: 0.9933\n"
     ]
    }
   ],
   "source": [
    "single_hidden_layer_2_neurons_relu_model_history = single_hidden_layer_2_neurons_relu_model.fit(XTRAIN, YTRAIN, validation_data = (XVALID, YVALID), \n",
    "                                            batch_size=256, epochs =8, verbose = 1)"
   ]
  },
  {
   "cell_type": "code",
   "execution_count": 387,
   "id": "09943688",
   "metadata": {},
   "outputs": [
    {
     "name": "stdout",
     "output_type": "stream",
     "text": [
      "Epoch 1/8\n",
      "1544/1544 [==============================] - 6s 3ms/step - loss: 0.5523 - accuracy: 0.9422 - val_loss: 0.0301 - val_accuracy: 0.9917\n",
      "Epoch 2/8\n",
      "1544/1544 [==============================] - 5s 3ms/step - loss: 0.0288 - accuracy: 0.9930 - val_loss: 0.0271 - val_accuracy: 0.9944\n",
      "Epoch 3/8\n",
      "1544/1544 [==============================] - 5s 3ms/step - loss: 0.0272 - accuracy: 0.9972 - val_loss: 0.0263 - val_accuracy: 0.9978\n",
      "Epoch 4/8\n",
      "1544/1544 [==============================] - 5s 4ms/step - loss: 0.0264 - accuracy: 0.9978 - val_loss: 0.0260 - val_accuracy: 0.9980\n",
      "Epoch 5/8\n",
      "1544/1544 [==============================] - 6s 4ms/step - loss: 0.0267 - accuracy: 0.9978 - val_loss: 0.0262 - val_accuracy: 0.9980\n",
      "Epoch 6/8\n",
      "1544/1544 [==============================] - 4s 3ms/step - loss: 0.0267 - accuracy: 0.9979 - val_loss: 0.0268 - val_accuracy: 0.9979\n",
      "Epoch 7/8\n",
      "1544/1544 [==============================] - 4s 3ms/step - loss: 0.0269 - accuracy: 0.9979 - val_loss: 0.0269 - val_accuracy: 0.9980\n",
      "Epoch 8/8\n",
      "1544/1544 [==============================] - 5s 3ms/step - loss: 0.0270 - accuracy: 0.9979 - val_loss: 0.0260 - val_accuracy: 0.9980\n"
     ]
    }
   ],
   "source": [
    "single_hidden_layer_6_neurons_relu_model_history = single_hidden_layer_6_neurons_relu_model.fit(XTRAIN, YTRAIN, validation_data = (XVALID, YVALID), \n",
    "                                            batch_size=256, epochs =8, verbose = 1)"
   ]
  },
  {
   "cell_type": "markdown",
   "id": "d117d6b8",
   "metadata": {},
   "source": [
    "**Inference:**\n",
    "    As seen from the runs of above two models, the number of neurons 4 (which was originally used in baseline model) still performs better than the other 2 neurons and 6 neurons"
   ]
  },
  {
   "cell_type": "markdown",
   "id": "b671ea4f",
   "metadata": {},
   "source": [
    "#### 2.5 Changing number of epochs"
   ]
  },
  {
   "cell_type": "code",
   "execution_count": 523,
   "id": "90c61674",
   "metadata": {},
   "outputs": [],
   "source": [
    "single_hidden_layer_relu_model_epoch_16 = Sequential()\n",
    "single_hidden_layer_relu_model_epoch_16.add(Dense(4, input_dim = len(XTRAIN[0, :])))\n",
    "single_hidden_layer_relu_model_epoch_16.add(Dense(1, activation='relu'))\n",
    "single_hidden_layer_relu_model_epoch_16.compile(loss='binary_crossentropy', optimizer = 'rmsprop', metrics=[ 'accuracy'])\n",
    "\n",
    "\n",
    "single_hidden_layer_relu_model_epoch_32 = Sequential()\n",
    "single_hidden_layer_relu_model_epoch_32.add(Dense(4, input_dim = len(XTRAIN[0, :])))\n",
    "single_hidden_layer_relu_model_epoch_32.add(Dense(1, activation='relu'))\n",
    "single_hidden_layer_relu_model_epoch_32.compile(loss='binary_crossentropy', optimizer = 'rmsprop', metrics=[ 'accuracy'])\n",
    "\n",
    "single_hidden_layer_relu_model_epoch_64_early_stopping = Sequential()\n",
    "single_hidden_layer_relu_model_epoch_64_early_stopping.add(Dense(4, input_dim = len(XTRAIN[0, :])))\n",
    "single_hidden_layer_relu_model_epoch_64_early_stopping.add(Dense(1, activation='relu'))\n",
    "single_hidden_layer_relu_model_epoch_64_early_stopping.compile(loss='binary_crossentropy', optimizer = 'rmsprop', metrics=[ 'accuracy'])\n",
    "\n",
    "\n",
    "single_hidden_layer_relu_model_epoch_64_no_early_stopping = Sequential()\n",
    "single_hidden_layer_relu_model_epoch_64_no_early_stopping.add(Dense(4, input_dim = len(XTRAIN[0, :])))\n",
    "single_hidden_layer_relu_model_epoch_64_no_early_stopping.add(Dense(1, activation='relu'))\n",
    "single_hidden_layer_relu_model_epoch_64_no_early_stopping.compile(loss='binary_crossentropy', optimizer = 'rmsprop', metrics=[ 'accuracy'])"
   ]
  },
  {
   "cell_type": "code",
   "execution_count": 532,
   "id": "42ff238d",
   "metadata": {},
   "outputs": [],
   "source": [
    "all_models['Single Hidden Layer Epoch 16'] = single_hidden_layer_relu_model_epoch_16\n",
    "all_models['Single Hidden Layer Epoch 32'] = single_hidden_layer_relu_model_epoch_32\n",
    "all_models['Single Hidden Layer Epoch 64 with Early Stopping'] = single_hidden_layer_relu_model_epoch_64_early_stopping\n",
    "all_models['Single Hidden Layer Epoch 64 without Early Stopping'] = single_hidden_layer_relu_model_epoch_64_no_early_stopping"
   ]
  },
  {
   "cell_type": "code",
   "execution_count": 533,
   "id": "02639338",
   "metadata": {},
   "outputs": [
    {
     "name": "stdout",
     "output_type": "stream",
     "text": [
      "Epoch 1/16\n",
      "1544/1544 [==============================] - 6s 3ms/step - loss: 0.1113 - accuracy: 0.9811 - val_loss: 0.0739 - val_accuracy: 0.9927\n",
      "Epoch 2/16\n",
      "1544/1544 [==============================] - 5s 3ms/step - loss: 0.0755 - accuracy: 0.9938 - val_loss: 0.0745 - val_accuracy: 0.9945\n",
      "Epoch 3/16\n",
      "1544/1544 [==============================] - 4s 3ms/step - loss: 0.0759 - accuracy: 0.9941 - val_loss: 0.0756 - val_accuracy: 0.9945\n",
      "Epoch 4/16\n",
      "1544/1544 [==============================] - 4s 3ms/step - loss: 0.0762 - accuracy: 0.9943 - val_loss: 0.0756 - val_accuracy: 0.9945\n",
      "Epoch 5/16\n",
      "1544/1544 [==============================] - 5s 3ms/step - loss: 0.0767 - accuracy: 0.9944 - val_loss: 0.0756 - val_accuracy: 0.9946\n",
      "Epoch 6/16\n",
      "1544/1544 [==============================] - 5s 3ms/step - loss: 0.0766 - accuracy: 0.9945 - val_loss: 0.0759 - val_accuracy: 0.9946\n",
      "Epoch 7/16\n",
      "1544/1544 [==============================] - 5s 3ms/step - loss: 0.0769 - accuracy: 0.9945 - val_loss: 0.0763 - val_accuracy: 0.9946\n",
      "Epoch 8/16\n",
      "1544/1544 [==============================] - 5s 3ms/step - loss: 0.0768 - accuracy: 0.9946 - val_loss: 0.0760 - val_accuracy: 0.9946\n",
      "Epoch 9/16\n",
      "1544/1544 [==============================] - 5s 3ms/step - loss: 0.0766 - accuracy: 0.9946 - val_loss: 0.0767 - val_accuracy: 0.9946\n",
      "Epoch 10/16\n",
      "1544/1544 [==============================] - 5s 3ms/step - loss: 0.0768 - accuracy: 0.9946 - val_loss: 0.0755 - val_accuracy: 0.9947\n",
      "Epoch 11/16\n",
      "1544/1544 [==============================] - 5s 3ms/step - loss: 0.0767 - accuracy: 0.9946 - val_loss: 0.0749 - val_accuracy: 0.9947\n",
      "Epoch 12/16\n",
      "1544/1544 [==============================] - 5s 4ms/step - loss: 0.0767 - accuracy: 0.9946 - val_loss: 0.0750 - val_accuracy: 0.9948\n",
      "Epoch 13/16\n",
      "1544/1544 [==============================] - 5s 3ms/step - loss: 0.0770 - accuracy: 0.9946 - val_loss: 0.0750 - val_accuracy: 0.9948\n",
      "Epoch 14/16\n",
      "1544/1544 [==============================] - 5s 3ms/step - loss: 0.0768 - accuracy: 0.9947 - val_loss: 0.0760 - val_accuracy: 0.9947\n",
      "Epoch 15/16\n",
      "1544/1544 [==============================] - 5s 3ms/step - loss: 0.0769 - accuracy: 0.9947 - val_loss: 0.0765 - val_accuracy: 0.9947\n",
      "Epoch 16/16\n",
      "1544/1544 [==============================] - 4s 3ms/step - loss: 0.0769 - accuracy: 0.9947 - val_loss: 0.0765 - val_accuracy: 0.9947\n"
     ]
    }
   ],
   "source": [
    "single_hidden_layer_relu_model_epoch_16_history = single_hidden_layer_relu_model_epoch_16.fit(XTRAIN, YTRAIN, validation_data = (XVALID, YVALID), \n",
    "                                            batch_size=256, epochs =16, verbose = 1)"
   ]
  },
  {
   "cell_type": "code",
   "execution_count": 534,
   "id": "05cdfaf8",
   "metadata": {},
   "outputs": [
    {
     "name": "stdout",
     "output_type": "stream",
     "text": [
      "Epoch 1/32\n",
      "1544/1544 [==============================] - 6s 3ms/step - loss: 0.1720 - accuracy: 0.9846 - val_loss: 0.1046 - val_accuracy: 0.9927\n",
      "Epoch 2/32\n",
      "1544/1544 [==============================] - 5s 3ms/step - loss: 0.1061 - accuracy: 0.9927 - val_loss: 0.1044 - val_accuracy: 0.9927\n",
      "Epoch 3/32\n",
      "1544/1544 [==============================] - 5s 3ms/step - loss: 0.1064 - accuracy: 0.9927 - val_loss: 0.1040 - val_accuracy: 0.9930\n",
      "Epoch 4/32\n",
      "1544/1544 [==============================] - 5s 3ms/step - loss: 0.1064 - accuracy: 0.9927 - val_loss: 0.1041 - val_accuracy: 0.9929\n",
      "Epoch 5/32\n",
      "1544/1544 [==============================] - 5s 3ms/step - loss: 0.1065 - accuracy: 0.9928 - val_loss: 0.1044 - val_accuracy: 0.9929\n",
      "Epoch 6/32\n",
      "1544/1544 [==============================] - 5s 3ms/step - loss: 0.1065 - accuracy: 0.9928 - val_loss: 0.1049 - val_accuracy: 0.9930\n",
      "Epoch 7/32\n",
      "1544/1544 [==============================] - 5s 3ms/step - loss: 0.1067 - accuracy: 0.9928 - val_loss: 0.1052 - val_accuracy: 0.9929\n",
      "Epoch 8/32\n",
      "1544/1544 [==============================] - 5s 3ms/step - loss: 0.1067 - accuracy: 0.9928 - val_loss: 0.1051 - val_accuracy: 0.9929\n",
      "Epoch 9/32\n",
      "1544/1544 [==============================] - 5s 3ms/step - loss: 0.1066 - accuracy: 0.9929 - val_loss: 0.1051 - val_accuracy: 0.9930\n",
      "Epoch 10/32\n",
      "1544/1544 [==============================] - 4s 3ms/step - loss: 0.1065 - accuracy: 0.9929 - val_loss: 0.1052 - val_accuracy: 0.9930\n",
      "Epoch 11/32\n",
      "1544/1544 [==============================] - 5s 3ms/step - loss: 0.1066 - accuracy: 0.9929 - val_loss: 0.1055 - val_accuracy: 0.9930\n",
      "Epoch 12/32\n",
      "1544/1544 [==============================] - 5s 3ms/step - loss: 0.1067 - accuracy: 0.9929 - val_loss: 0.1053 - val_accuracy: 0.9930\n",
      "Epoch 13/32\n",
      "1544/1544 [==============================] - 4s 3ms/step - loss: 0.1068 - accuracy: 0.9929 - val_loss: 0.1054 - val_accuracy: 0.9930\n",
      "Epoch 14/32\n",
      "1544/1544 [==============================] - 4s 3ms/step - loss: 0.1068 - accuracy: 0.9929 - val_loss: 0.1053 - val_accuracy: 0.9930\n",
      "Epoch 15/32\n",
      "1544/1544 [==============================] - 5s 3ms/step - loss: 0.1068 - accuracy: 0.9929 - val_loss: 0.1056 - val_accuracy: 0.9930\n",
      "Epoch 16/32\n",
      "1544/1544 [==============================] - 4s 3ms/step - loss: 0.1067 - accuracy: 0.9929 - val_loss: 0.1056 - val_accuracy: 0.9930\n",
      "Epoch 17/32\n",
      "1544/1544 [==============================] - 4s 3ms/step - loss: 0.1066 - accuracy: 0.9929 - val_loss: 0.1056 - val_accuracy: 0.9930\n",
      "Epoch 18/32\n",
      "1544/1544 [==============================] - 4s 3ms/step - loss: 0.1068 - accuracy: 0.9929 - val_loss: 0.1055 - val_accuracy: 0.9930\n",
      "Epoch 19/32\n",
      "1544/1544 [==============================] - 5s 3ms/step - loss: 0.1069 - accuracy: 0.9929 - val_loss: 0.1056 - val_accuracy: 0.9930\n",
      "Epoch 20/32\n",
      "1544/1544 [==============================] - 5s 3ms/step - loss: 0.1069 - accuracy: 0.9929 - val_loss: 0.1055 - val_accuracy: 0.9930\n",
      "Epoch 21/32\n",
      "1544/1544 [==============================] - 5s 3ms/step - loss: 0.1068 - accuracy: 0.9930 - val_loss: 0.1056 - val_accuracy: 0.9930\n",
      "Epoch 22/32\n",
      "1544/1544 [==============================] - 6s 4ms/step - loss: 0.1069 - accuracy: 0.9929 - val_loss: 0.1056 - val_accuracy: 0.9930\n",
      "Epoch 23/32\n",
      "1544/1544 [==============================] - 4s 3ms/step - loss: 0.1070 - accuracy: 0.9929 - val_loss: 0.1056 - val_accuracy: 0.9930\n",
      "Epoch 24/32\n",
      "1544/1544 [==============================] - 5s 3ms/step - loss: 0.1068 - accuracy: 0.9929 - val_loss: 0.1056 - val_accuracy: 0.9930\n",
      "Epoch 25/32\n",
      "1544/1544 [==============================] - 4s 3ms/step - loss: 0.1067 - accuracy: 0.9929 - val_loss: 0.1054 - val_accuracy: 0.9930\n",
      "Epoch 26/32\n",
      "1544/1544 [==============================] - 5s 3ms/step - loss: 0.1069 - accuracy: 0.9929 - val_loss: 0.1055 - val_accuracy: 0.9930\n",
      "Epoch 27/32\n",
      "1544/1544 [==============================] - 4s 2ms/step - loss: 0.1068 - accuracy: 0.9929 - val_loss: 0.1055 - val_accuracy: 0.9930\n",
      "Epoch 28/32\n",
      "1544/1544 [==============================] - 4s 3ms/step - loss: 0.1069 - accuracy: 0.9929 - val_loss: 0.1059 - val_accuracy: 0.9930\n",
      "Epoch 29/32\n",
      "1544/1544 [==============================] - 4s 3ms/step - loss: 0.1068 - accuracy: 0.9929 - val_loss: 0.1058 - val_accuracy: 0.9930\n",
      "Epoch 30/32\n",
      "1544/1544 [==============================] - 4s 3ms/step - loss: 0.1067 - accuracy: 0.9930 - val_loss: 0.1055 - val_accuracy: 0.9930\n",
      "Epoch 31/32\n",
      "1544/1544 [==============================] - 4s 3ms/step - loss: 0.1068 - accuracy: 0.9930 - val_loss: 0.1056 - val_accuracy: 0.9930\n",
      "Epoch 32/32\n",
      "1544/1544 [==============================] - 4s 2ms/step - loss: 0.1068 - accuracy: 0.9929 - val_loss: 0.1055 - val_accuracy: 0.9930\n"
     ]
    }
   ],
   "source": [
    "single_hidden_layer_relu_model_epoch_32_history = single_hidden_layer_relu_model_epoch_32.fit(XTRAIN, YTRAIN, validation_data = (XVALID, YVALID), \n",
    "                                            batch_size=256, epochs =32, verbose = 1)"
   ]
  },
  {
   "cell_type": "markdown",
   "id": "fc8f1959",
   "metadata": {},
   "source": [
    "### 3. Early Stopping"
   ]
  },
  {
   "cell_type": "code",
   "execution_count": 535,
   "id": "4eaa20eb",
   "metadata": {},
   "outputs": [],
   "source": [
    "from tensorflow.keras.callbacks import EarlyStopping, ModelCheckpoint\n",
    "# File name must be in quotes\n",
    "callback_a = ModelCheckpoint(filepath = \"../saved_models/early_stopped_model.hdf5\", monitor='val_loss', save_best_only = True, save_weights_only = True, verbose = 1)\n",
    "# The patience value can be 10, 20, 100, etc. depending on when your model starts to overfit\n",
    "callback_b = EarlyStopping(monitor='val_loss', mode='min', patience=4, verbose=1)"
   ]
  },
  {
   "cell_type": "code",
   "execution_count": 536,
   "id": "5a8014ce",
   "metadata": {},
   "outputs": [
    {
     "name": "stdout",
     "output_type": "stream",
     "text": [
      "Epoch 1/64\n",
      "1544/1544 [==============================] - 6s 3ms/step - loss: 0.1082 - accuracy: 0.9871 - val_loss: 0.0956 - val_accuracy: 0.9931\n",
      "\n",
      "Epoch 00001: val_loss improved from inf to 0.09558, saving model to ../saved_models\\early_stopped_model.hdf5\n",
      "Epoch 2/64\n",
      "1544/1544 [==============================] - 4s 3ms/step - loss: 0.0971 - accuracy: 0.9931 - val_loss: 0.0967 - val_accuracy: 0.9930\n",
      "\n",
      "Epoch 00002: val_loss did not improve from 0.09558\n",
      "Epoch 3/64\n",
      "1544/1544 [==============================] - 5s 3ms/step - loss: 0.0977 - accuracy: 0.9931 - val_loss: 0.0969 - val_accuracy: 0.9932\n",
      "\n",
      "Epoch 00003: val_loss did not improve from 0.09558\n",
      "Epoch 4/64\n",
      "1544/1544 [==============================] - 5s 3ms/step - loss: 0.0978 - accuracy: 0.9932 - val_loss: 0.0977 - val_accuracy: 0.9931\n",
      "\n",
      "Epoch 00004: val_loss did not improve from 0.09558\n",
      "Epoch 5/64\n",
      "1544/1544 [==============================] - 5s 3ms/step - loss: 0.0980 - accuracy: 0.9932 - val_loss: 0.0985 - val_accuracy: 0.9932\n",
      "\n",
      "Epoch 00005: val_loss did not improve from 0.09558\n",
      "Epoch 00005: early stopping\n"
     ]
    }
   ],
   "source": [
    "single_hidden_layer_relu_model_epoch_64_history = single_hidden_layer_relu_model_epoch_64_early_stopping.fit(XTRAIN, YTRAIN, validation_data = (XVALID, YVALID), \n",
    "                                            batch_size=256, epochs =64, verbose = 1,\n",
    "                                            callbacks = [callback_a, callback_b])"
   ]
  },
  {
   "cell_type": "code",
   "execution_count": 537,
   "id": "04fcef5d",
   "metadata": {},
   "outputs": [
    {
     "name": "stdout",
     "output_type": "stream",
     "text": [
      "Epoch 1/64\n",
      "1544/1544 [==============================] - 5s 3ms/step - loss: 0.1064 - accuracy: 0.9926 - val_loss: 0.1041 - val_accuracy: 0.9928\n",
      "Epoch 2/64\n",
      "1544/1544 [==============================] - 4s 3ms/step - loss: 0.1067 - accuracy: 0.9927 - val_loss: 0.1040 - val_accuracy: 0.9928\n",
      "Epoch 3/64\n",
      "1544/1544 [==============================] - 5s 3ms/step - loss: 0.1065 - accuracy: 0.9927 - val_loss: 0.1042 - val_accuracy: 0.9930\n",
      "Epoch 4/64\n",
      "1544/1544 [==============================] - 5s 4ms/step - loss: 0.1066 - accuracy: 0.9928 - val_loss: 0.1044 - val_accuracy: 0.9927\n",
      "Epoch 5/64\n",
      "1544/1544 [==============================] - 5s 3ms/step - loss: 0.1067 - accuracy: 0.9928 - val_loss: 0.1047 - val_accuracy: 0.9930\n",
      "Epoch 6/64\n",
      "1544/1544 [==============================] - 4s 3ms/step - loss: 0.1068 - accuracy: 0.9928 - val_loss: 0.1049 - val_accuracy: 0.9930\n",
      "Epoch 7/64\n",
      "1544/1544 [==============================] - 6s 4ms/step - loss: 0.1068 - accuracy: 0.9928 - val_loss: 0.1051 - val_accuracy: 0.9930\n",
      "Epoch 8/64\n",
      "1544/1544 [==============================] - 5s 3ms/step - loss: 0.1069 - accuracy: 0.9929 - val_loss: 0.1054 - val_accuracy: 0.9930\n",
      "Epoch 9/64\n",
      "1544/1544 [==============================] - 4s 3ms/step - loss: 0.1069 - accuracy: 0.9929 - val_loss: 0.1051 - val_accuracy: 0.9930\n",
      "Epoch 10/64\n",
      "1544/1544 [==============================] - 4s 3ms/step - loss: 0.1070 - accuracy: 0.9929 - val_loss: 0.1051 - val_accuracy: 0.9930\n",
      "Epoch 11/64\n",
      "1544/1544 [==============================] - 6s 4ms/step - loss: 0.1069 - accuracy: 0.9929 - val_loss: 0.1055 - val_accuracy: 0.9930\n",
      "Epoch 12/64\n",
      "1544/1544 [==============================] - 6s 4ms/step - loss: 0.1070 - accuracy: 0.9929 - val_loss: 0.1057 - val_accuracy: 0.9930\n",
      "Epoch 13/64\n",
      "1544/1544 [==============================] - 5s 3ms/step - loss: 0.1072 - accuracy: 0.9929 - val_loss: 0.1055 - val_accuracy: 0.9930\n",
      "Epoch 14/64\n",
      "1544/1544 [==============================] - 4s 3ms/step - loss: 0.1070 - accuracy: 0.9929 - val_loss: 0.1063 - val_accuracy: 0.9928\n",
      "Epoch 15/64\n",
      "1544/1544 [==============================] - 4s 3ms/step - loss: 0.1071 - accuracy: 0.9929 - val_loss: 0.1054 - val_accuracy: 0.9930\n",
      "Epoch 16/64\n",
      "1544/1544 [==============================] - 4s 3ms/step - loss: 0.1072 - accuracy: 0.9929 - val_loss: 0.1055 - val_accuracy: 0.9930\n",
      "Epoch 17/64\n",
      "1544/1544 [==============================] - 4s 3ms/step - loss: 0.1070 - accuracy: 0.9929 - val_loss: 0.1055 - val_accuracy: 0.9930\n",
      "Epoch 18/64\n",
      "1544/1544 [==============================] - 5s 3ms/step - loss: 0.1072 - accuracy: 0.9929 - val_loss: 0.1055 - val_accuracy: 0.9930\n",
      "Epoch 19/64\n",
      "1544/1544 [==============================] - 4s 3ms/step - loss: 0.1070 - accuracy: 0.9929 - val_loss: 0.1056 - val_accuracy: 0.9930\n",
      "Epoch 20/64\n",
      "1544/1544 [==============================] - 4s 3ms/step - loss: 0.1071 - accuracy: 0.9929 - val_loss: 0.1058 - val_accuracy: 0.9930\n",
      "Epoch 21/64\n",
      "1544/1544 [==============================] - 5s 3ms/step - loss: 0.1071 - accuracy: 0.9929 - val_loss: 0.1059 - val_accuracy: 0.9930\n",
      "Epoch 22/64\n",
      "1544/1544 [==============================] - 5s 3ms/step - loss: 0.1070 - accuracy: 0.9929 - val_loss: 0.1058 - val_accuracy: 0.9930\n",
      "Epoch 23/64\n",
      "1544/1544 [==============================] - 5s 4ms/step - loss: 0.1069 - accuracy: 0.9929 - val_loss: 0.1059 - val_accuracy: 0.9930\n",
      "Epoch 24/64\n",
      "1544/1544 [==============================] - 5s 3ms/step - loss: 0.1070 - accuracy: 0.9929 - val_loss: 0.1058 - val_accuracy: 0.9930\n",
      "Epoch 25/64\n",
      "1544/1544 [==============================] - 5s 3ms/step - loss: 0.1071 - accuracy: 0.9929 - val_loss: 0.1059 - val_accuracy: 0.9930\n",
      "Epoch 26/64\n",
      "1544/1544 [==============================] - 4s 3ms/step - loss: 0.1070 - accuracy: 0.9929 - val_loss: 0.1058 - val_accuracy: 0.9930\n",
      "Epoch 27/64\n",
      "1544/1544 [==============================] - 4s 3ms/step - loss: 0.1069 - accuracy: 0.9929 - val_loss: 0.1059 - val_accuracy: 0.9930\n",
      "Epoch 28/64\n",
      "1544/1544 [==============================] - 4s 3ms/step - loss: 0.1069 - accuracy: 0.9929 - val_loss: 0.1059 - val_accuracy: 0.9930\n",
      "Epoch 29/64\n",
      "1544/1544 [==============================] - 4s 3ms/step - loss: 0.1069 - accuracy: 0.9929 - val_loss: 0.1061 - val_accuracy: 0.9930\n",
      "Epoch 30/64\n",
      "1544/1544 [==============================] - 5s 3ms/step - loss: 0.1070 - accuracy: 0.9929 - val_loss: 0.1063 - val_accuracy: 0.9930\n",
      "Epoch 31/64\n",
      "1544/1544 [==============================] - 5s 3ms/step - loss: 0.1071 - accuracy: 0.9929 - val_loss: 0.1059 - val_accuracy: 0.9930\n",
      "Epoch 32/64\n",
      "1544/1544 [==============================] - 4s 3ms/step - loss: 0.1069 - accuracy: 0.9929 - val_loss: 0.1062 - val_accuracy: 0.9930\n",
      "Epoch 33/64\n",
      "1544/1544 [==============================] - 4s 3ms/step - loss: 0.1070 - accuracy: 0.9929 - val_loss: 0.1059 - val_accuracy: 0.9930\n",
      "Epoch 34/64\n",
      "1544/1544 [==============================] - 4s 3ms/step - loss: 0.1069 - accuracy: 0.9929 - val_loss: 0.1062 - val_accuracy: 0.9930\n",
      "Epoch 35/64\n",
      "1544/1544 [==============================] - 4s 3ms/step - loss: 0.1070 - accuracy: 0.9930 - val_loss: 0.1059 - val_accuracy: 0.9930\n",
      "Epoch 36/64\n",
      "1544/1544 [==============================] - 4s 3ms/step - loss: 0.1069 - accuracy: 0.9929 - val_loss: 0.1060 - val_accuracy: 0.9930\n",
      "Epoch 37/64\n",
      "1544/1544 [==============================] - 5s 3ms/step - loss: 0.1070 - accuracy: 0.9930 - val_loss: 0.1062 - val_accuracy: 0.9930\n",
      "Epoch 38/64\n",
      "1544/1544 [==============================] - 5s 3ms/step - loss: 0.1069 - accuracy: 0.9929 - val_loss: 0.1061 - val_accuracy: 0.9930\n",
      "Epoch 39/64\n",
      "1544/1544 [==============================] - 5s 3ms/step - loss: 0.1069 - accuracy: 0.9930 - val_loss: 0.1060 - val_accuracy: 0.9930\n",
      "Epoch 40/64\n",
      "1544/1544 [==============================] - 5s 3ms/step - loss: 0.1069 - accuracy: 0.9929 - val_loss: 0.1060 - val_accuracy: 0.9930\n",
      "Epoch 41/64\n",
      "1544/1544 [==============================] - 4s 3ms/step - loss: 0.1068 - accuracy: 0.9929 - val_loss: 0.1062 - val_accuracy: 0.9930\n",
      "Epoch 42/64\n",
      "1544/1544 [==============================] - 6s 4ms/step - loss: 0.1069 - accuracy: 0.9929 - val_loss: 0.1064 - val_accuracy: 0.9930\n",
      "Epoch 43/64\n",
      "1544/1544 [==============================] - 6s 4ms/step - loss: 0.1070 - accuracy: 0.9930 - val_loss: 0.1059 - val_accuracy: 0.9930\n",
      "Epoch 44/64\n",
      "1544/1544 [==============================] - 6s 4ms/step - loss: 0.1070 - accuracy: 0.9930 - val_loss: 0.1060 - val_accuracy: 0.9930\n",
      "Epoch 45/64\n",
      "1544/1544 [==============================] - 5s 3ms/step - loss: 0.1070 - accuracy: 0.9929 - val_loss: 0.1059 - val_accuracy: 0.9930\n",
      "Epoch 46/64\n",
      "1544/1544 [==============================] - 6s 4ms/step - loss: 0.1069 - accuracy: 0.9930 - val_loss: 0.1061 - val_accuracy: 0.9930\n",
      "Epoch 47/64\n",
      "1544/1544 [==============================] - 5s 3ms/step - loss: 0.1069 - accuracy: 0.9929 - val_loss: 0.1062 - val_accuracy: 0.9930\n",
      "Epoch 48/64\n",
      "1544/1544 [==============================] - 5s 3ms/step - loss: 0.1068 - accuracy: 0.9929 - val_loss: 0.1059 - val_accuracy: 0.9930\n",
      "Epoch 49/64\n",
      "1544/1544 [==============================] - 4s 3ms/step - loss: 0.1069 - accuracy: 0.9930 - val_loss: 0.1059 - val_accuracy: 0.9930\n",
      "Epoch 50/64\n",
      "1544/1544 [==============================] - 5s 3ms/step - loss: 0.1068 - accuracy: 0.9929 - val_loss: 0.1062 - val_accuracy: 0.9930\n",
      "Epoch 51/64\n",
      "1544/1544 [==============================] - 4s 3ms/step - loss: 0.1068 - accuracy: 0.9930 - val_loss: 0.1060 - val_accuracy: 0.9930\n",
      "Epoch 52/64\n",
      "1544/1544 [==============================] - 5s 3ms/step - loss: 0.1068 - accuracy: 0.9929 - val_loss: 0.1061 - val_accuracy: 0.9930\n",
      "Epoch 53/64\n",
      "1544/1544 [==============================] - 4s 3ms/step - loss: 0.1068 - accuracy: 0.9930 - val_loss: 0.1060 - val_accuracy: 0.9930\n",
      "Epoch 54/64\n",
      "1544/1544 [==============================] - 4s 3ms/step - loss: 0.1069 - accuracy: 0.9930 - val_loss: 0.1060 - val_accuracy: 0.9930\n",
      "Epoch 55/64\n",
      "1544/1544 [==============================] - 4s 3ms/step - loss: 0.1068 - accuracy: 0.9929 - val_loss: 0.1065 - val_accuracy: 0.9930\n",
      "Epoch 56/64\n",
      "1544/1544 [==============================] - 4s 3ms/step - loss: 0.1067 - accuracy: 0.9930 - val_loss: 0.1059 - val_accuracy: 0.9930\n",
      "Epoch 57/64\n"
     ]
    },
    {
     "name": "stdout",
     "output_type": "stream",
     "text": [
      "1544/1544 [==============================] - 5s 3ms/step - loss: 0.1069 - accuracy: 0.9930 - val_loss: 0.1063 - val_accuracy: 0.9930\n",
      "Epoch 58/64\n",
      "1544/1544 [==============================] - 5s 3ms/step - loss: 0.1067 - accuracy: 0.9929 - val_loss: 0.1062 - val_accuracy: 0.9930\n",
      "Epoch 59/64\n",
      "1544/1544 [==============================] - 5s 3ms/step - loss: 0.1067 - accuracy: 0.9930 - val_loss: 0.1062 - val_accuracy: 0.9930\n",
      "Epoch 60/64\n",
      "1544/1544 [==============================] - 5s 3ms/step - loss: 0.1068 - accuracy: 0.9929 - val_loss: 0.1065 - val_accuracy: 0.9930\n",
      "Epoch 61/64\n",
      "1544/1544 [==============================] - 5s 3ms/step - loss: 0.1068 - accuracy: 0.9930 - val_loss: 0.1062 - val_accuracy: 0.9930\n",
      "Epoch 62/64\n",
      "1544/1544 [==============================] - 5s 3ms/step - loss: 0.1067 - accuracy: 0.9930 - val_loss: 0.1061 - val_accuracy: 0.9930\n",
      "Epoch 63/64\n",
      "1544/1544 [==============================] - 5s 3ms/step - loss: 0.1067 - accuracy: 0.9930 - val_loss: 0.1062 - val_accuracy: 0.9930\n",
      "Epoch 64/64\n",
      "1544/1544 [==============================] - 5s 3ms/step - loss: 0.1068 - accuracy: 0.9930 - val_loss: 0.1063 - val_accuracy: 0.9930\n"
     ]
    }
   ],
   "source": [
    "single_hidden_layer_relu_model_epoch_64_history_without_early_stopping = single_hidden_layer_relu_model_epoch_64_no_early_stopping.fit(XTRAIN, YTRAIN, validation_data = (XVALID, YVALID), \n",
    "                                            batch_size=256, epochs =64, verbose = 1)"
   ]
  },
  {
   "cell_type": "code",
   "execution_count": 538,
   "id": "9bc0621d",
   "metadata": {},
   "outputs": [
    {
     "data": {
      "image/png": "[encoded data removed]",
      "text/plain": [
       "<Figure size 432x288 with 1 Axes>"
      ]
     },
     "metadata": {
      "needs_background": "light"
     },
     "output_type": "display_data"
    }
   ],
   "source": [
    "import matplotlib.pyplot as plt\n",
    "\n",
    "\n",
    "plt.plot(single_hidden_layer_relu_model_epoch_64_history_without_early_stopping.history['loss'])\n",
    "\n",
    "plt.plot(single_hidden_layer_relu_model_epoch_64_history.history['loss'])\n",
    "\n",
    "plt.title('Loss: With EarlyStopping vs Without EarlyStopping ')\n",
    "\n",
    "plt.ylabel('Loss')\n",
    "plt.xlabel('Epoch')\n",
    "plt.legend(['Without Early Stopping', 'With EarlyStopping'], loc='upper left')\n",
    "plt.show()"
   ]
  },
  {
   "cell_type": "markdown",
   "id": "1d8d9069",
   "metadata": {},
   "source": [
    "**Final Inference:**\n",
    "    \n",
    "    Final Best Model Hyperparameters:\n",
    "        - batch_size = 256\n",
    "        - No of hidden layers 1 with 4 neurons\n",
    "        - Optimizer = rmsprop\n",
    "        - Loss - Binary Cross Entropy\n",
    "        - Activation: ReLU\n",
    "        - Number of epochs = 8\n",
    "    "
   ]
  },
  {
   "cell_type": "markdown",
   "id": "f1e0c632",
   "metadata": {},
   "source": [
    "### 4. Model Evaluation"
   ]
  },
  {
   "cell_type": "code",
   "execution_count": 544,
   "id": "7a1d1232",
   "metadata": {},
   "outputs": [],
   "source": [
    "from sklearn.metrics import accuracy_score, precision_score, recall_score, f1_score, roc_auc_score, roc_curve, auc"
   ]
  },
  {
   "cell_type": "code",
   "execution_count": 557,
   "id": "2a0efdba",
   "metadata": {},
   "outputs": [],
   "source": [
    "\n",
    "def plot_roc_curve(fpr_arr, tpr_arr, auc_val, modelname):\n",
    "    plt.plot([0, 1], [0, 1], 'k--')\n",
    "    plt.plot(fpr_arr, tpr_arr, label=f'{modelname} (area = {round(auc_val,4)})')\n",
    "\n",
    "    plt.xlabel('False positive rate')\n",
    "    plt.ylabel('True positive rate')\n",
    "    plt.title('ROC curve')\n",
    "    plt.legend(loc='best')\n",
    "    plt.show()"
   ]
  },
  {
   "cell_type": "code",
   "execution_count": 554,
   "id": "df5287db",
   "metadata": {},
   "outputs": [
    {
     "data": {
      "image/png": "[encoded data removed]",
      "text/plain": [
       "<Figure size 432x288 with 1 Axes>"
      ]
     },
     "metadata": {
      "needs_background": "light"
     },
     "output_type": "display_data"
    }
   ],
   "source": [
    "plot_roc_curve(fpr, tpr, auc_model, 'foo')"
   ]
  },
  {
   "cell_type": "code",
   "execution_count": 558,
   "id": "a62cfd45",
   "metadata": {},
   "outputs": [
    {
     "name": "stdout",
     "output_type": "stream",
     "text": [
      "Obtaining results and metrics for the model = No Hidden Layers\n"
     ]
    },
    {
     "data": {
      "image/png": "[encoded data removed]",
      "text/plain": [
       "<Figure size 432x288 with 1 Axes>"
      ]
     },
     "metadata": {
      "needs_background": "light"
     },
     "output_type": "display_data"
    },
    {
     "name": "stdout",
     "output_type": "stream",
     "text": [
      "\n",
      "\n",
      "Obtaining results and metrics for the model = Single Hidden Layer\n"
     ]
    },
    {
     "data": {
      "image/png": "[encoded data removed]",
      "text/plain": [
       "<Figure size 432x288 with 1 Axes>"
      ]
     },
     "metadata": {
      "needs_background": "light"
     },
     "output_type": "display_data"
    },
    {
     "name": "stdout",
     "output_type": "stream",
     "text": [
      "\n",
      "\n",
      "Obtaining results and metrics for the model = Two Hidden Layers\n"
     ]
    },
    {
     "data": {
      "image/png": "[encoded data removed]",
      "text/plain": [
       "<Figure size 432x288 with 1 Axes>"
      ]
     },
     "metadata": {
      "needs_background": "light"
     },
     "output_type": "display_data"
    },
    {
     "name": "stdout",
     "output_type": "stream",
     "text": [
      "\n",
      "\n",
      "Obtaining results and metrics for the model = Single Hidden Layer ReLU Activation\n"
     ]
    },
    {
     "data": {
      "image/png": "[encoded data removed]",
      "text/plain": [
       "<Figure size 432x288 with 1 Axes>"
      ]
     },
     "metadata": {
      "needs_background": "light"
     },
     "output_type": "display_data"
    },
    {
     "name": "stdout",
     "output_type": "stream",
     "text": [
      "\n",
      "\n",
      "Obtaining results and metrics for the model = Single Hidden Layer Softmax Activation\n"
     ]
    },
    {
     "data": {
      "image/png": "[encoded data removed]",
      "text/plain": [
       "<Figure size 432x288 with 1 Axes>"
      ]
     },
     "metadata": {
      "needs_background": "light"
     },
     "output_type": "display_data"
    },
    {
     "name": "stdout",
     "output_type": "stream",
     "text": [
      "\n",
      "\n",
      "Obtaining results and metrics for the model = Single Hidden Layer SGD optimizer\n"
     ]
    },
    {
     "name": "stderr",
     "output_type": "stream",
     "text": [
      "C:\\Users\\mputchala\\Anaconda3\\lib\\site-packages\\sklearn\\metrics\\_classification.py:1245: UndefinedMetricWarning: Recall is ill-defined and being set to 0.0 due to no true samples. Use `zero_division` parameter to control this behavior.\n",
      "  _warn_prf(average, modifier, msg_start, len(result))\n"
     ]
    },
    {
     "data": {
      "image/png": "[encoded data removed]",
      "text/plain": [
       "<Figure size 432x288 with 1 Axes>"
      ]
     },
     "metadata": {
      "needs_background": "light"
     },
     "output_type": "display_data"
    },
    {
     "name": "stdout",
     "output_type": "stream",
     "text": [
      "\n",
      "\n",
      "Obtaining results and metrics for the model = Single Hidden Layer Adam optimizer\n"
     ]
    },
    {
     "data": {
      "image/png": "[encoded data removed]",
      "text/plain": [
       "<Figure size 432x288 with 1 Axes>"
      ]
     },
     "metadata": {
      "needs_background": "light"
     },
     "output_type": "display_data"
    },
    {
     "name": "stdout",
     "output_type": "stream",
     "text": [
      "\n",
      "\n",
      "Obtaining results and metrics for the model = Single Hidden Layer Adagrad optimizer\n"
     ]
    },
    {
     "data": {
      "image/png": "[encoded data removed]",
      "text/plain": [
       "<Figure size 432x288 with 1 Axes>"
      ]
     },
     "metadata": {
      "needs_background": "light"
     },
     "output_type": "display_data"
    },
    {
     "name": "stdout",
     "output_type": "stream",
     "text": [
      "\n",
      "\n",
      "Obtaining results and metrics for the model = Single Hidden Layer Batch Size 128\n"
     ]
    },
    {
     "data": {
      "image/png": "[encoded data removed]",
      "text/plain": [
       "<Figure size 432x288 with 1 Axes>"
      ]
     },
     "metadata": {
      "needs_background": "light"
     },
     "output_type": "display_data"
    },
    {
     "name": "stdout",
     "output_type": "stream",
     "text": [
      "\n",
      "\n",
      "Obtaining results and metrics for the model = Single Hidden Layer Batch Size 64\n"
     ]
    },
    {
     "data": {
      "image/png": "[encoded data removed]",
      "text/plain": [
       "<Figure size 432x288 with 1 Axes>"
      ]
     },
     "metadata": {
      "needs_background": "light"
     },
     "output_type": "display_data"
    },
    {
     "name": "stdout",
     "output_type": "stream",
     "text": [
      "\n",
      "\n",
      "Obtaining results and metrics for the model = Single Hidden Layer Batch Size 32\n"
     ]
    },
    {
     "data": {
      "image/png": "[encoded data removed]",
      "text/plain": [
       "<Figure size 432x288 with 1 Axes>"
      ]
     },
     "metadata": {
      "needs_background": "light"
     },
     "output_type": "display_data"
    },
    {
     "name": "stdout",
     "output_type": "stream",
     "text": [
      "\n",
      "\n",
      "Obtaining results and metrics for the model = Single Hidden Layer 2 Neurons\n"
     ]
    },
    {
     "data": {
      "image/png": "[encoded data removed]",
      "text/plain": [
       "<Figure size 432x288 with 1 Axes>"
      ]
     },
     "metadata": {
      "needs_background": "light"
     },
     "output_type": "display_data"
    },
    {
     "name": "stdout",
     "output_type": "stream",
     "text": [
      "\n",
      "\n",
      "Obtaining results and metrics for the model = Single Hidden Layer 6 Neurons\n"
     ]
    },
    {
     "data": {
      "image/png": "[encoded data removed]",
      "text/plain": [
       "<Figure size 432x288 with 1 Axes>"
      ]
     },
     "metadata": {
      "needs_background": "light"
     },
     "output_type": "display_data"
    },
    {
     "name": "stdout",
     "output_type": "stream",
     "text": [
      "\n",
      "\n",
      "Obtaining results and metrics for the model = Single Hidden Layer Epoch 16\n"
     ]
    },
    {
     "data": {
      "image/png": "[encoded data removed]",
      "text/plain": [
       "<Figure size 432x288 with 1 Axes>"
      ]
     },
     "metadata": {
      "needs_background": "light"
     },
     "output_type": "display_data"
    },
    {
     "name": "stdout",
     "output_type": "stream",
     "text": [
      "\n",
      "\n",
      "Obtaining results and metrics for the model = Single Hidden Layer Epoch 32\n"
     ]
    },
    {
     "data": {
      "image/png": "[encoded data removed]",
      "text/plain": [
       "<Figure size 432x288 with 1 Axes>"
      ]
     },
     "metadata": {
      "needs_background": "light"
     },
     "output_type": "display_data"
    },
    {
     "name": "stdout",
     "output_type": "stream",
     "text": [
      "\n",
      "\n",
      "Obtaining results and metrics for the model = Single Hidden Layer Epoch 64 with Early Stopping\n"
     ]
    },
    {
     "data": {
      "image/png": "[encoded data removed]",
      "text/plain": [
       "<Figure size 432x288 with 1 Axes>"
      ]
     },
     "metadata": {
      "needs_background": "light"
     },
     "output_type": "display_data"
    },
    {
     "name": "stdout",
     "output_type": "stream",
     "text": [
      "\n",
      "\n",
      "Obtaining results and metrics for the model = Single Hidden Layer Epoch 64 without Early Stopping\n"
     ]
    },
    {
     "data": {
      "image/png": "[encoded data removed]",
      "text/plain": [
       "<Figure size 432x288 with 1 Axes>"
      ]
     },
     "metadata": {
      "needs_background": "light"
     },
     "output_type": "display_data"
    },
    {
     "name": "stdout",
     "output_type": "stream",
     "text": [
      "\n",
      "\n"
     ]
    }
   ],
   "source": [
    "\n",
    "import numpy as np\n",
    "y_true = YVALID.tolist()\n",
    "\n",
    "results_df = pd.DataFrame()\n",
    "idx = 0\n",
    "for model_name, built_model in all_models.items():\n",
    "    print(f\"Obtaining results and metrics for the model = {model_name}\")\n",
    "    results_df.loc[idx, 'Model'] = model_name\n",
    "    \n",
    "    y_pred = built_model.predict(XVALID).tolist()\n",
    "    y_pred_bool = [1 if each[0] >=0.5 else 0 for each in y_pred]\n",
    "    #print(min(y_pred), max(y_pred))\n",
    "    acc, prec, rec, f1 = accuracy_score(y_pred_bool, y_true), precision_score(y_pred_bool, y_true), recall_score(y_pred_bool, y_true), f1_score(y_pred_bool, y_true)\n",
    "    \n",
    "    results_df.loc[idx, 'Number of Parameters'] = built_model.count_params()\n",
    "    results_df.loc[idx, 'Accuracy'] = round(acc,4)\n",
    "    results_df.loc[idx, 'Precision'] = round(prec,4)\n",
    "    results_df.loc[idx, 'Recall'] = round(rec,4)\n",
    "    results_df.loc[idx, 'F1-Score'] = round(f1, 4)\n",
    "    fpr, tpr, thresholds = roc_curve(y_true, y_pred)\n",
    "    auc_model = auc(fpr, tpr)\n",
    "    results_df.loc[idx, 'auc_score'] = round(auc_model, 4)\n",
    "    \n",
    "    plot_roc_curve(fpr, tpr, auc_model, model_name)\n",
    "    \n",
    "    #break\n",
    "    print(\"\\n\")\n",
    "    idx +=1\n",
    "    #print(each_model.evaluate(XVALID, YVALID))\n",
    "    "
   ]
  },
  {
   "cell_type": "code",
   "execution_count": 559,
   "id": "555113b2",
   "metadata": {},
   "outputs": [
    {
     "data": {
      "text/html": [
       "<div>\n",
       "<style scoped>\n",
       "    .dataframe tbody tr th:only-of-type {\n",
       "        vertical-align: middle;\n",
       "    }\n",
       "\n",
       "    .dataframe tbody tr th {\n",
       "        vertical-align: top;\n",
       "    }\n",
       "\n",
       "    .dataframe thead th {\n",
       "        text-align: right;\n",
       "    }\n",
       "</style>\n",
       "<table border=\"1\" class=\"dataframe\">\n",
       "  <thead>\n",
       "    <tr style=\"text-align: right;\">\n",
       "      <th></th>\n",
       "      <th>Model</th>\n",
       "      <th>Number of Parameters</th>\n",
       "      <th>Accuracy</th>\n",
       "      <th>Precision</th>\n",
       "      <th>Recall</th>\n",
       "      <th>F1-Score</th>\n",
       "      <th>auc_score</th>\n",
       "    </tr>\n",
       "  </thead>\n",
       "  <tbody>\n",
       "    <tr>\n",
       "      <th>0</th>\n",
       "      <td>No Hidden Layers</td>\n",
       "      <td>120.0</td>\n",
       "      <td>0.9932</td>\n",
       "      <td>0.9981</td>\n",
       "      <td>0.9685</td>\n",
       "      <td>0.9831</td>\n",
       "      <td>0.9967</td>\n",
       "    </tr>\n",
       "    <tr>\n",
       "      <th>1</th>\n",
       "      <td>Single Hidden Layer</td>\n",
       "      <td>485.0</td>\n",
       "      <td>0.9956</td>\n",
       "      <td>0.9966</td>\n",
       "      <td>0.9814</td>\n",
       "      <td>0.9890</td>\n",
       "      <td>0.9992</td>\n",
       "    </tr>\n",
       "    <tr>\n",
       "      <th>2</th>\n",
       "      <td>Two Hidden Layers</td>\n",
       "      <td>493.0</td>\n",
       "      <td>0.9933</td>\n",
       "      <td>0.9988</td>\n",
       "      <td>0.9681</td>\n",
       "      <td>0.9832</td>\n",
       "      <td>0.9954</td>\n",
       "    </tr>\n",
       "    <tr>\n",
       "      <th>3</th>\n",
       "      <td>Single Hidden Layer ReLU Activation</td>\n",
       "      <td>485.0</td>\n",
       "      <td>0.9984</td>\n",
       "      <td>0.9962</td>\n",
       "      <td>0.9958</td>\n",
       "      <td>0.9960</td>\n",
       "      <td>0.9984</td>\n",
       "    </tr>\n",
       "    <tr>\n",
       "      <th>4</th>\n",
       "      <td>Single Hidden Layer Softmax Activation</td>\n",
       "      <td>485.0</td>\n",
       "      <td>0.1974</td>\n",
       "      <td>1.0000</td>\n",
       "      <td>0.1974</td>\n",
       "      <td>0.3297</td>\n",
       "      <td>0.5000</td>\n",
       "    </tr>\n",
       "    <tr>\n",
       "      <th>5</th>\n",
       "      <td>Single Hidden Layer SGD optimizer</td>\n",
       "      <td>485.0</td>\n",
       "      <td>0.8026</td>\n",
       "      <td>0.0000</td>\n",
       "      <td>0.0000</td>\n",
       "      <td>0.0000</td>\n",
       "      <td>0.5000</td>\n",
       "    </tr>\n",
       "    <tr>\n",
       "      <th>6</th>\n",
       "      <td>Single Hidden Layer Adam optimizer</td>\n",
       "      <td>485.0</td>\n",
       "      <td>0.9926</td>\n",
       "      <td>0.9953</td>\n",
       "      <td>0.9681</td>\n",
       "      <td>0.9815</td>\n",
       "      <td>0.9976</td>\n",
       "    </tr>\n",
       "    <tr>\n",
       "      <th>7</th>\n",
       "      <td>Single Hidden Layer Adagrad optimizer</td>\n",
       "      <td>485.0</td>\n",
       "      <td>0.9731</td>\n",
       "      <td>0.9038</td>\n",
       "      <td>0.9576</td>\n",
       "      <td>0.9299</td>\n",
       "      <td>0.9958</td>\n",
       "    </tr>\n",
       "    <tr>\n",
       "      <th>8</th>\n",
       "      <td>Single Hidden Layer Batch Size 128</td>\n",
       "      <td>485.0</td>\n",
       "      <td>0.9933</td>\n",
       "      <td>0.9984</td>\n",
       "      <td>0.9688</td>\n",
       "      <td>0.9834</td>\n",
       "      <td>0.9948</td>\n",
       "    </tr>\n",
       "    <tr>\n",
       "      <th>9</th>\n",
       "      <td>Single Hidden Layer Batch Size 64</td>\n",
       "      <td>485.0</td>\n",
       "      <td>0.9939</td>\n",
       "      <td>0.9974</td>\n",
       "      <td>0.9725</td>\n",
       "      <td>0.9848</td>\n",
       "      <td>0.9950</td>\n",
       "    </tr>\n",
       "    <tr>\n",
       "      <th>10</th>\n",
       "      <td>Single Hidden Layer Batch Size 32</td>\n",
       "      <td>485.0</td>\n",
       "      <td>0.9933</td>\n",
       "      <td>0.9981</td>\n",
       "      <td>0.9688</td>\n",
       "      <td>0.9832</td>\n",
       "      <td>0.9945</td>\n",
       "    </tr>\n",
       "    <tr>\n",
       "      <th>11</th>\n",
       "      <td>Single Hidden Layer 2 Neurons</td>\n",
       "      <td>243.0</td>\n",
       "      <td>0.9933</td>\n",
       "      <td>0.9985</td>\n",
       "      <td>0.9685</td>\n",
       "      <td>0.9833</td>\n",
       "      <td>0.9954</td>\n",
       "    </tr>\n",
       "    <tr>\n",
       "      <th>12</th>\n",
       "      <td>Single Hidden Layer 6 Neurons</td>\n",
       "      <td>727.0</td>\n",
       "      <td>0.9980</td>\n",
       "      <td>0.9926</td>\n",
       "      <td>0.9972</td>\n",
       "      <td>0.9949</td>\n",
       "      <td>0.9967</td>\n",
       "    </tr>\n",
       "    <tr>\n",
       "      <th>13</th>\n",
       "      <td>Single Hidden Layer Epoch 16</td>\n",
       "      <td>485.0</td>\n",
       "      <td>0.9947</td>\n",
       "      <td>0.9972</td>\n",
       "      <td>0.9765</td>\n",
       "      <td>0.9868</td>\n",
       "      <td>0.9967</td>\n",
       "    </tr>\n",
       "    <tr>\n",
       "      <th>14</th>\n",
       "      <td>Single Hidden Layer Epoch 32</td>\n",
       "      <td>485.0</td>\n",
       "      <td>0.9930</td>\n",
       "      <td>0.9991</td>\n",
       "      <td>0.9665</td>\n",
       "      <td>0.9825</td>\n",
       "      <td>0.9946</td>\n",
       "    </tr>\n",
       "    <tr>\n",
       "      <th>15</th>\n",
       "      <td>Single Hidden Layer Epoch 64 with Early Stopping</td>\n",
       "      <td>485.0</td>\n",
       "      <td>0.9932</td>\n",
       "      <td>0.9983</td>\n",
       "      <td>0.9684</td>\n",
       "      <td>0.9831</td>\n",
       "      <td>0.9956</td>\n",
       "    </tr>\n",
       "    <tr>\n",
       "      <th>16</th>\n",
       "      <td>Single Hidden Layer Epoch 64 without Early Sto...</td>\n",
       "      <td>485.0</td>\n",
       "      <td>0.9930</td>\n",
       "      <td>0.9990</td>\n",
       "      <td>0.9666</td>\n",
       "      <td>0.9825</td>\n",
       "      <td>0.9945</td>\n",
       "    </tr>\n",
       "  </tbody>\n",
       "</table>\n",
       "</div>"
      ],
      "text/plain": [
       "                                                Model  Number of Parameters  \\\n",
       "0                                    No Hidden Layers                 120.0   \n",
       "1                                 Single Hidden Layer                 485.0   \n",
       "2                                   Two Hidden Layers                 493.0   \n",
       "3                 Single Hidden Layer ReLU Activation                 485.0   \n",
       "4              Single Hidden Layer Softmax Activation                 485.0   \n",
       "5                   Single Hidden Layer SGD optimizer                 485.0   \n",
       "6                  Single Hidden Layer Adam optimizer                 485.0   \n",
       "7               Single Hidden Layer Adagrad optimizer                 485.0   \n",
       "8                  Single Hidden Layer Batch Size 128                 485.0   \n",
       "9                   Single Hidden Layer Batch Size 64                 485.0   \n",
       "10                  Single Hidden Layer Batch Size 32                 485.0   \n",
       "11                      Single Hidden Layer 2 Neurons                 243.0   \n",
       "12                      Single Hidden Layer 6 Neurons                 727.0   \n",
       "13                       Single Hidden Layer Epoch 16                 485.0   \n",
       "14                       Single Hidden Layer Epoch 32                 485.0   \n",
       "15   Single Hidden Layer Epoch 64 with Early Stopping                 485.0   \n",
       "16  Single Hidden Layer Epoch 64 without Early Sto...                 485.0   \n",
       "\n",
       "    Accuracy  Precision  Recall  F1-Score  auc_score  \n",
       "0     0.9932     0.9981  0.9685    0.9831     0.9967  \n",
       "1     0.9956     0.9966  0.9814    0.9890     0.9992  \n",
       "2     0.9933     0.9988  0.9681    0.9832     0.9954  \n",
       "3     0.9984     0.9962  0.9958    0.9960     0.9984  \n",
       "4     0.1974     1.0000  0.1974    0.3297     0.5000  \n",
       "5     0.8026     0.0000  0.0000    0.0000     0.5000  \n",
       "6     0.9926     0.9953  0.9681    0.9815     0.9976  \n",
       "7     0.9731     0.9038  0.9576    0.9299     0.9958  \n",
       "8     0.9933     0.9984  0.9688    0.9834     0.9948  \n",
       "9     0.9939     0.9974  0.9725    0.9848     0.9950  \n",
       "10    0.9933     0.9981  0.9688    0.9832     0.9945  \n",
       "11    0.9933     0.9985  0.9685    0.9833     0.9954  \n",
       "12    0.9980     0.9926  0.9972    0.9949     0.9967  \n",
       "13    0.9947     0.9972  0.9765    0.9868     0.9967  \n",
       "14    0.9930     0.9991  0.9665    0.9825     0.9946  \n",
       "15    0.9932     0.9983  0.9684    0.9831     0.9956  \n",
       "16    0.9930     0.9990  0.9666    0.9825     0.9945  "
      ]
     },
     "execution_count": 559,
     "metadata": {},
     "output_type": "execute_result"
    }
   ],
   "source": [
    "results_df"
   ]
  },
  {
   "cell_type": "code",
   "execution_count": null,
   "id": "a5ccd210",
   "metadata": {},
   "outputs": [],
   "source": []
  },
  {
   "cell_type": "markdown",
   "id": "6da59d81",
   "metadata": {},
   "source": [
    "1) discuss what architecture (how big) you do need to overfit when you have output as additional input feature, \n",
    "\n",
    "TODO"
   ]
  },
  {
   "cell_type": "markdown",
   "id": "5df3d90e",
   "metadata": {},
   "source": [
    "### Code a Function for predict"
   ]
  },
  {
   "cell_type": "code",
   "execution_count": 603,
   "id": "7de8e88e",
   "metadata": {},
   "outputs": [],
   "source": [
    "def build_best_model():\n",
    "    best_model_selected = Sequential()\n",
    "    best_model_selected.add(Dense(4, input_dim = len(XTRAIN[0, :]), activation='relu'))\n",
    "    best_model_selected.add(Dense(1, activation='sigmoid'))\n",
    "    best_model_selected.compile(loss='binary_crossentropy', optimizer = 'rmsprop', metrics=[ 'accuracy'])\n",
    "    best_model_selected_history = best_model_selected.fit(XTRAIN, YTRAIN, validation_data = (XVALID, YVALID), \n",
    "                                            batch_size=256, epochs =8, verbose = 1)\n",
    "    return best_model_selected, best_model_selected_history"
   ]
  },
  {
   "cell_type": "code",
   "execution_count": 604,
   "id": "7efbd604",
   "metadata": {},
   "outputs": [
    {
     "name": "stdout",
     "output_type": "stream",
     "text": [
      "Epoch 1/8\n",
      "1544/1544 [==============================] - 2s 817us/step - loss: 0.0893 - accuracy: 0.9821 - val_loss: 0.0282 - val_accuracy: 0.9921\n",
      "Epoch 2/8\n",
      "1544/1544 [==============================] - 1s 728us/step - loss: 0.0258 - accuracy: 0.9929 - val_loss: 0.0234 - val_accuracy: 0.9931\n",
      "Epoch 3/8\n",
      "1544/1544 [==============================] - 1s 747us/step - loss: 0.0227 - accuracy: 0.9931 - val_loss: 0.0210 - val_accuracy: 0.9932\n",
      "Epoch 4/8\n",
      "1544/1544 [==============================] - 1s 750us/step - loss: 0.0204 - accuracy: 0.9934 - val_loss: 0.0187 - val_accuracy: 0.9936\n",
      "Epoch 5/8\n",
      "1544/1544 [==============================] - 1s 751us/step - loss: 0.0180 - accuracy: 0.9940 - val_loss: 0.0162 - val_accuracy: 0.9944\n",
      "Epoch 6/8\n",
      "1544/1544 [==============================] - 1s 733us/step - loss: 0.0156 - accuracy: 0.9944 - val_loss: 0.0139 - val_accuracy: 0.9948\n",
      "Epoch 7/8\n",
      "1544/1544 [==============================] - 1s 751us/step - loss: 0.0134 - accuracy: 0.9948 - val_loss: 0.0119 - val_accuracy: 0.9953\n",
      "Epoch 8/8\n",
      "1544/1544 [==============================] - 1s 759us/step - loss: 0.0116 - accuracy: 0.9953 - val_loss: 0.0103 - val_accuracy: 0.9956\n"
     ]
    }
   ],
   "source": [
    "best_model_selected, best_model_selected_history = build_best_model()"
   ]
  },
  {
   "cell_type": "code",
   "execution_count": 605,
   "id": "48769ecd",
   "metadata": {},
   "outputs": [
    {
     "name": "stdout",
     "output_type": "stream",
     "text": [
      "Model: \"sequential_83\"\n",
      "_________________________________________________________________\n",
      "Layer (type)                 Output Shape              Param #   \n",
      "=================================================================\n",
      "dense_146 (Dense)            (None, 4)                 480       \n",
      "_________________________________________________________________\n",
      "dense_147 (Dense)            (None, 1)                 5         \n",
      "=================================================================\n",
      "Total params: 485\n",
      "Trainable params: 485\n",
      "Non-trainable params: 0\n",
      "_________________________________________________________________\n"
     ]
    }
   ],
   "source": [
    "best_model_selected.summary()"
   ]
  },
  {
   "cell_type": "code",
   "execution_count": 606,
   "id": "51d5a962",
   "metadata": {},
   "outputs": [
    {
     "data": {
      "text/plain": [
       "4"
      ]
     },
     "execution_count": 606,
     "metadata": {},
     "output_type": "execute_result"
    }
   ],
   "source": [
    "len(best_model_selected.get_weights())"
   ]
  },
  {
   "cell_type": "code",
   "execution_count": 607,
   "id": "de3e1692",
   "metadata": {},
   "outputs": [],
   "source": [
    "# Parameters layer 1\n",
    "W1 = best_model_selected.get_weights()[0]\n",
    "b1 = best_model_selected.get_weights()[1]\n",
    "\n",
    "# Parameters layer 2\n",
    "W2 = best_model_selected.get_weights()[2]\n",
    "b2 = best_model_selected.get_weights()[3]"
   ]
  },
  {
   "cell_type": "code",
   "execution_count": 608,
   "id": "26ac0dd3",
   "metadata": {},
   "outputs": [],
   "source": [
    "# Parameters layer 1\n",
    "W1 = best_model_selected.get_weights()[0]\n",
    "b1 = best_model_selected.get_weights()[1]\n",
    "\n",
    "# Parameters layer 2\n",
    "W2 = best_model_selected.get_weights()[2]\n",
    "b2 = best_model_selected.get_weights()[3]\n",
    "\n",
    "# Input\n",
    "#X1 = np.array([[0,0],[0,1],[1,0],[1,1]], \"float32\")\n",
    "# Use the following X1 for single input instead of all at once\n",
    "#X1 = np.array([[0,0]])\n",
    "\n",
    "# First layer calculation\n",
    "L1 = np.dot(XVALID,W1)+b1\n",
    "# Relu activation function\n",
    "X2 = np.maximum(L1,0)\n",
    "# Second layer calculation\n",
    "L2 = np.dot(X2,W2)+b2\n",
    "# Sigmoid\n",
    "output = 1/(1+np.exp(-L2))\n"
   ]
  },
  {
   "cell_type": "code",
   "execution_count": 612,
   "id": "fc95a67c",
   "metadata": {},
   "outputs": [
    {
     "data": {
      "text/plain": [
       "array([[9.98431154e-01],\n",
       "       [1.70020282e-06],\n",
       "       [6.58819484e-07],\n",
       "       [3.34650556e-06],\n",
       "       [9.78487912e-01],\n",
       "       [1.65476791e-06],\n",
       "       [6.41213683e-07],\n",
       "       [3.00719434e-18],\n",
       "       [2.84452530e-06],\n",
       "       [9.98707654e-01],\n",
       "       [9.62832570e-01],\n",
       "       [6.41213683e-07],\n",
       "       [6.41223435e-07],\n",
       "       [9.99999998e-01],\n",
       "       [6.41223435e-07],\n",
       "       [7.47452357e-18],\n",
       "       [6.41213683e-07],\n",
       "       [8.90682904e-18],\n",
       "       [1.66594504e-18],\n",
       "       [9.97277816e-01]])"
      ]
     },
     "execution_count": 612,
     "metadata": {},
     "output_type": "execute_result"
    }
   ],
   "source": [
    "output[:20]"
   ]
  },
  {
   "cell_type": "code",
   "execution_count": 618,
   "id": "1009b076",
   "metadata": {},
   "outputs": [],
   "source": [
    "y_pred_output = [1 if each[0] >=0.5 else 0 for each in output]"
   ]
  },
  {
   "cell_type": "code",
   "execution_count": 620,
   "id": "d75a97f1",
   "metadata": {},
   "outputs": [
    {
     "data": {
      "text/plain": [
       "(0.9956175863325372, 0.995693411945655, 0.982346990389479, 0.9889751750477402)"
      ]
     },
     "execution_count": 620,
     "metadata": {},
     "output_type": "execute_result"
    }
   ],
   "source": [
    "acc = accuracy_score(y_pred_output, y_true)\n",
    "prec = precision_score(y_pred_output, y_true)\n",
    "rec = recall_score(y_pred_output, y_true)\n",
    "f1 = f1_score(y_pred_output, y_true)\n",
    "\n",
    "acc, prec, rec, f1\n"
   ]
  },
  {
   "cell_type": "code",
   "execution_count": 621,
   "id": "1f717f77",
   "metadata": {},
   "outputs": [
    {
     "data": {
      "text/plain": [
       "array([[9.9843115e-01],\n",
       "       [1.7001989e-06],\n",
       "       [6.5882045e-07],\n",
       "       [3.3465069e-06],\n",
       "       [9.7848785e-01],\n",
       "       [1.6547715e-06],\n",
       "       [6.4121377e-07],\n",
       "       [3.0071953e-18],\n",
       "       [2.8445293e-06],\n",
       "       [9.9870765e-01],\n",
       "       [9.6283257e-01],\n",
       "       [6.4121377e-07],\n",
       "       [6.4122111e-07],\n",
       "       [1.0000000e+00],\n",
       "       [6.4122111e-07],\n",
       "       [7.4744909e-18],\n",
       "       [6.4121377e-07],\n",
       "       [8.9068393e-18],\n",
       "       [1.6659466e-18],\n",
       "       [9.9727786e-01]], dtype=float32)"
      ]
     },
     "execution_count": 621,
     "metadata": {},
     "output_type": "execute_result"
    }
   ],
   "source": [
    "model_predictions = best_model_selected.predict(XVALID)\n",
    "model_predictions[:20]"
   ]
  },
  {
   "cell_type": "code",
   "execution_count": 622,
   "id": "1f82a6a5",
   "metadata": {},
   "outputs": [
    {
     "data": {
      "text/plain": [
       "(0.9956175863325372, 0.995693411945655, 0.982346990389479, 0.9889751750477402)"
      ]
     },
     "execution_count": 622,
     "metadata": {},
     "output_type": "execute_result"
    }
   ],
   "source": [
    "y_pred_model = [1 if each[0] >=0.5 else 0 for each in model_predictions]\n",
    "\n",
    "acc = accuracy_score(y_pred_model, y_true)\n",
    "prec = precision_score(y_pred_model, y_true)\n",
    "rec = recall_score(y_pred_model, y_true)\n",
    "f1 = f1_score(y_pred_model, y_true)\n",
    "\n",
    "acc, prec, rec, f1\n"
   ]
  },
  {
   "cell_type": "markdown",
   "id": "fb511ca9",
   "metadata": {},
   "source": [
    "output and keras model predictions are same"
   ]
  },
  {
   "cell_type": "code",
   "execution_count": null,
   "id": "cc61df94",
   "metadata": {},
   "outputs": [],
   "source": [
    "Using output in input feature \n",
    "Code in a single function and implement own predict method\n",
    "Grid Search\n",
    "Overfitting\n",
    "Confusion Matrix\n",
    "Overfitting is a much bigger model"
   ]
  }
 ],
 "metadata": {
  "kernelspec": {
   "display_name": "Python 3",
   "language": "python",
   "name": "python3"
  },
  "language_info": {
   "codemirror_mode": {
    "name": "ipython",
    "version": 3
   },
   "file_extension": ".py",
   "mimetype": "text/x-python",
   "name": "python",
   "nbconvert_exporter": "python",
   "pygments_lexer": "ipython3",
   "version": "3.8.8"
  }
 },
 "nbformat": 4,
 "nbformat_minor": 5
}
