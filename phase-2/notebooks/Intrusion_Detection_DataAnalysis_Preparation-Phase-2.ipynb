{
 "cells": [
  {
   "cell_type": "markdown",
   "id": "2c70fae2",
   "metadata": {},
   "source": [
    "## Phase - 2: Predicting Anomalies in Network Traffic (A Binary Classification problem)"
   ]
  },
  {
   "cell_type": "markdown",
   "id": "7850a823",
   "metadata": {},
   "source": [
    "### Problem Statement"
   ]
  },
  {
   "cell_type": "markdown",
   "id": "1ef65168",
   "metadata": {},
   "source": [
    "- The main goal in this phase is to experiment and find what network size is needed to 'overfit' the entire dataset at your hand.\n",
    "- In other words, we want to determine how big architecture we need to overfit the data. \n",
    "- The place to start is to use 'logistic regression' model and train for as many epochs as needed to obtain as high accuracy as possible. After training hundreds of epochs if you observe that the accuracy is not increasing then it implies that the number of neurons in your model (only one) may not be sufficient for overfitting. \n",
    "- The next step is to grow your model into a multi-layer model and add a few neurons (say only 2) in the input layer. This way your model will have '2 + 1 = 3' neurons in total. \n",
    "- If your accuracy still does not each a 100% or close to 100% you can continue to increase the number of layers and number of neurons. Once you have obtained 100% accuracy (or around 100%) your experiments for this phase are complete. - The results of this experiment also inform us that our final model (in subsequent phases) should be smaller than this model. Small here refers to number of layers and number of neurons in each layer.\n",
    "\n",
    "[BONUS] You will be eligible to receive up to 2 bonus points if you complete this phase without using the Keras/Tenforflow library, i.e., if you implement your own Python code to build neural network (or logistic regression model) and code a function that serves as an optimizer (for example, gradient descent algorithm) to train your model."
   ]
  },
  {
   "cell_type": "markdown",
   "id": "a5a55b77",
   "metadata": {},
   "source": [
    "### Approach"
   ]
  },
  {
   "cell_type": "markdown",
   "id": "ffe26c13",
   "metadata": {},
   "source": [
    "- This phase-2 of the \"Predicting Anamolies in Network Traffic\" is a continuation to the phase-1 of the project which can be found here - https://github.com/reshma2303/AI5300/tree/main/phase-1-data-analysis\n",
    "- In this phase - 2, below things will be accomplished as requested in the above problem statement:\n",
    "    - Step-1: Using ENTIRE dataset to \"OVERFIT\" the model using vannila (single neuron) logistic regression model to reach accuracy 100% or close to 10%\n",
    "    - Step-2: If the accuracy did not reach 100%, then a bigger architecture model will be designed and modeled to achieve accuracy of 100% or close to 100%.\n",
    "        \n",
    "\n",
    "        \n",
    "  NOTE: \n",
    "  \n",
    "    - The detailed analysis of the dataset is covered in the phase-1 of the project.\n",
    "    - As requested in the problem statement, entire dataset will be used to overfit the model and no shuffling or train-test split will happen as these steps are covered in subsequent phases of the project\n",
    "    "
   ]
  },
  {
   "cell_type": "markdown",
   "id": "4a8c632f",
   "metadata": {},
   "source": [
    "### 1. Data Load and Pre-Processing required for modeling"
   ]
  },
  {
   "cell_type": "markdown",
   "id": "adce1f2c",
   "metadata": {},
   "source": [
    "#### Categorical Columns"
   ]
  },
  {
   "cell_type": "markdown",
   "id": "2eec0a85",
   "metadata": {},
   "source": [
    "'protocol_type', 'service', 'flag', 'land', 'logged_in', 'is_host_login', 'is_guest_login'"
   ]
  },
  {
   "cell_type": "code",
   "execution_count": 3,
   "id": "f323bffe",
   "metadata": {},
   "outputs": [],
   "source": [
    "catg_cols = ['protocol_type', 'service', 'flag', 'land', 'logged_in', 'is_host_login', 'is_guest_login']"
   ]
  },
  {
   "cell_type": "markdown",
   "id": "d856cbab",
   "metadata": {},
   "source": [
    "#### Continuous Columns"
   ]
  },
  {
   "cell_type": "code",
   "execution_count": 4,
   "id": "eb50db86",
   "metadata": {},
   "outputs": [],
   "source": [
    "cont_cols = [ 'duration', 'src_bytes', 'dst_bytes', 'wrong_fragment', 'urgent', 'hot', 'num_failed_logins', 'num_compromised', 'root_shell', 'su_attempted', 'num_root', 'num_file_creations', 'num_shells', 'num_access_files', 'num_outbound_cmds', 'count', 'srv_count', 'serror_rate', 'srv_serror_rate', 'rerror_rate', 'srv_rerror_rate', 'same_srv_rate', 'diff_srv_rate', 'srv_diff_host_rate', 'dst_host_count', 'dst_host_srv_count', 'dst_host_same_srv_rate', 'dst_host_diff_srv_rate', 'dst_host_same_src_port_rate', 'dst_host_srv_diff_host_rate', 'dst_host_serror_rate', 'dst_host_srv_serror_rate', 'dst_host_rerror_rate', 'dst_host_srv_rerror_rate']"
   ]
  },
  {
   "cell_type": "markdown",
   "id": "7abccd61",
   "metadata": {},
   "source": [
    "#### Target Variable"
   ]
  },
  {
   "cell_type": "markdown",
   "id": "86b434d3",
   "metadata": {},
   "source": [
    "The target variable \"label\" contains all different types of malware attacks and also the value \"normal\" (i.e., not an attack) as shown below.\n",
    "\n",
    "'normal', 'buffer_overflow', 'loadmodule', 'perl', 'neptune', 'smurf', 'guess_passwd', 'pod', 'teardrop', 'portsweep', 'ipsweep', 'land', 'ftp_write', 'back', 'imap', 'satan', 'phf', 'nmap', 'multihop', 'warezmaster', 'warezclient', 'spy', 'rootkit'\n",
    "\n",
    "All malware attacks are grouped (transformed) to the value \"abnormal\" to make this problem a binary classification problem instead of a multi-class classification.\n"
   ]
  },
  {
   "cell_type": "code",
   "execution_count": 5,
   "id": "a3986fb7",
   "metadata": {},
   "outputs": [],
   "source": [
    "target_variable = 'label'"
   ]
  },
  {
   "cell_type": "markdown",
   "id": "4ccae6cd",
   "metadata": {},
   "source": [
    "#### Data Load"
   ]
  },
  {
   "cell_type": "code",
   "execution_count": 6,
   "id": "36e844e6",
   "metadata": {},
   "outputs": [],
   "source": [
    "import pandas as pd\n",
    "df = pd.read_csv(\"../datasets/kddcup99_csv.csv\")"
   ]
  },
  {
   "cell_type": "markdown",
   "id": "7e2c8f74",
   "metadata": {},
   "source": [
    "#### Dataset size"
   ]
  },
  {
   "cell_type": "code",
   "execution_count": 7,
   "id": "3059174e",
   "metadata": {},
   "outputs": [
    {
     "data": {
      "text/plain": [
       "(494020, 42)"
      ]
     },
     "execution_count": 7,
     "metadata": {},
     "output_type": "execute_result"
    }
   ],
   "source": [
    "df.shape"
   ]
  },
  {
   "cell_type": "markdown",
   "id": "ac162b93",
   "metadata": {},
   "source": [
    "494020 records with 41 features and 1 target variable (\"label\") for prediction"
   ]
  },
  {
   "cell_type": "code",
   "execution_count": 8,
   "id": "95f9b3b8",
   "metadata": {},
   "outputs": [
    {
     "data": {
      "text/html": [
       "<div>\n",
       "<style scoped>\n",
       "    .dataframe tbody tr th:only-of-type {\n",
       "        vertical-align: middle;\n",
       "    }\n",
       "\n",
       "    .dataframe tbody tr th {\n",
       "        vertical-align: top;\n",
       "    }\n",
       "\n",
       "    .dataframe thead th {\n",
       "        text-align: right;\n",
       "    }\n",
       "</style>\n",
       "<table border=\"1\" class=\"dataframe\">\n",
       "  <thead>\n",
       "    <tr style=\"text-align: right;\">\n",
       "      <th></th>\n",
       "      <th>duration</th>\n",
       "      <th>protocol_type</th>\n",
       "      <th>service</th>\n",
       "      <th>flag</th>\n",
       "      <th>src_bytes</th>\n",
       "      <th>dst_bytes</th>\n",
       "      <th>land</th>\n",
       "      <th>wrong_fragment</th>\n",
       "      <th>urgent</th>\n",
       "      <th>hot</th>\n",
       "      <th>...</th>\n",
       "      <th>dst_host_srv_count</th>\n",
       "      <th>dst_host_same_srv_rate</th>\n",
       "      <th>dst_host_diff_srv_rate</th>\n",
       "      <th>dst_host_same_src_port_rate</th>\n",
       "      <th>dst_host_srv_diff_host_rate</th>\n",
       "      <th>dst_host_serror_rate</th>\n",
       "      <th>dst_host_srv_serror_rate</th>\n",
       "      <th>dst_host_rerror_rate</th>\n",
       "      <th>dst_host_srv_rerror_rate</th>\n",
       "      <th>label</th>\n",
       "    </tr>\n",
       "  </thead>\n",
       "  <tbody>\n",
       "    <tr>\n",
       "      <th>0</th>\n",
       "      <td>0</td>\n",
       "      <td>tcp</td>\n",
       "      <td>http</td>\n",
       "      <td>SF</td>\n",
       "      <td>181</td>\n",
       "      <td>5450</td>\n",
       "      <td>0</td>\n",
       "      <td>0</td>\n",
       "      <td>0</td>\n",
       "      <td>0</td>\n",
       "      <td>...</td>\n",
       "      <td>9</td>\n",
       "      <td>1.0</td>\n",
       "      <td>0.0</td>\n",
       "      <td>0.11</td>\n",
       "      <td>0.0</td>\n",
       "      <td>0.0</td>\n",
       "      <td>0.0</td>\n",
       "      <td>0.0</td>\n",
       "      <td>0.0</td>\n",
       "      <td>normal</td>\n",
       "    </tr>\n",
       "    <tr>\n",
       "      <th>1</th>\n",
       "      <td>0</td>\n",
       "      <td>tcp</td>\n",
       "      <td>http</td>\n",
       "      <td>SF</td>\n",
       "      <td>239</td>\n",
       "      <td>486</td>\n",
       "      <td>0</td>\n",
       "      <td>0</td>\n",
       "      <td>0</td>\n",
       "      <td>0</td>\n",
       "      <td>...</td>\n",
       "      <td>19</td>\n",
       "      <td>1.0</td>\n",
       "      <td>0.0</td>\n",
       "      <td>0.05</td>\n",
       "      <td>0.0</td>\n",
       "      <td>0.0</td>\n",
       "      <td>0.0</td>\n",
       "      <td>0.0</td>\n",
       "      <td>0.0</td>\n",
       "      <td>normal</td>\n",
       "    </tr>\n",
       "    <tr>\n",
       "      <th>2</th>\n",
       "      <td>0</td>\n",
       "      <td>tcp</td>\n",
       "      <td>http</td>\n",
       "      <td>SF</td>\n",
       "      <td>235</td>\n",
       "      <td>1337</td>\n",
       "      <td>0</td>\n",
       "      <td>0</td>\n",
       "      <td>0</td>\n",
       "      <td>0</td>\n",
       "      <td>...</td>\n",
       "      <td>29</td>\n",
       "      <td>1.0</td>\n",
       "      <td>0.0</td>\n",
       "      <td>0.03</td>\n",
       "      <td>0.0</td>\n",
       "      <td>0.0</td>\n",
       "      <td>0.0</td>\n",
       "      <td>0.0</td>\n",
       "      <td>0.0</td>\n",
       "      <td>normal</td>\n",
       "    </tr>\n",
       "    <tr>\n",
       "      <th>3</th>\n",
       "      <td>0</td>\n",
       "      <td>tcp</td>\n",
       "      <td>http</td>\n",
       "      <td>SF</td>\n",
       "      <td>219</td>\n",
       "      <td>1337</td>\n",
       "      <td>0</td>\n",
       "      <td>0</td>\n",
       "      <td>0</td>\n",
       "      <td>0</td>\n",
       "      <td>...</td>\n",
       "      <td>39</td>\n",
       "      <td>1.0</td>\n",
       "      <td>0.0</td>\n",
       "      <td>0.03</td>\n",
       "      <td>0.0</td>\n",
       "      <td>0.0</td>\n",
       "      <td>0.0</td>\n",
       "      <td>0.0</td>\n",
       "      <td>0.0</td>\n",
       "      <td>normal</td>\n",
       "    </tr>\n",
       "    <tr>\n",
       "      <th>4</th>\n",
       "      <td>0</td>\n",
       "      <td>tcp</td>\n",
       "      <td>http</td>\n",
       "      <td>SF</td>\n",
       "      <td>217</td>\n",
       "      <td>2032</td>\n",
       "      <td>0</td>\n",
       "      <td>0</td>\n",
       "      <td>0</td>\n",
       "      <td>0</td>\n",
       "      <td>...</td>\n",
       "      <td>49</td>\n",
       "      <td>1.0</td>\n",
       "      <td>0.0</td>\n",
       "      <td>0.02</td>\n",
       "      <td>0.0</td>\n",
       "      <td>0.0</td>\n",
       "      <td>0.0</td>\n",
       "      <td>0.0</td>\n",
       "      <td>0.0</td>\n",
       "      <td>normal</td>\n",
       "    </tr>\n",
       "  </tbody>\n",
       "</table>\n",
       "<p>5 rows × 42 columns</p>\n",
       "</div>"
      ],
      "text/plain": [
       "   duration protocol_type service flag  src_bytes  dst_bytes  land  \\\n",
       "0         0           tcp    http   SF        181       5450     0   \n",
       "1         0           tcp    http   SF        239        486     0   \n",
       "2         0           tcp    http   SF        235       1337     0   \n",
       "3         0           tcp    http   SF        219       1337     0   \n",
       "4         0           tcp    http   SF        217       2032     0   \n",
       "\n",
       "   wrong_fragment  urgent  hot  ...  dst_host_srv_count  \\\n",
       "0               0       0    0  ...                   9   \n",
       "1               0       0    0  ...                  19   \n",
       "2               0       0    0  ...                  29   \n",
       "3               0       0    0  ...                  39   \n",
       "4               0       0    0  ...                  49   \n",
       "\n",
       "   dst_host_same_srv_rate  dst_host_diff_srv_rate  \\\n",
       "0                     1.0                     0.0   \n",
       "1                     1.0                     0.0   \n",
       "2                     1.0                     0.0   \n",
       "3                     1.0                     0.0   \n",
       "4                     1.0                     0.0   \n",
       "\n",
       "   dst_host_same_src_port_rate  dst_host_srv_diff_host_rate  \\\n",
       "0                         0.11                          0.0   \n",
       "1                         0.05                          0.0   \n",
       "2                         0.03                          0.0   \n",
       "3                         0.03                          0.0   \n",
       "4                         0.02                          0.0   \n",
       "\n",
       "   dst_host_serror_rate  dst_host_srv_serror_rate  dst_host_rerror_rate  \\\n",
       "0                   0.0                       0.0                   0.0   \n",
       "1                   0.0                       0.0                   0.0   \n",
       "2                   0.0                       0.0                   0.0   \n",
       "3                   0.0                       0.0                   0.0   \n",
       "4                   0.0                       0.0                   0.0   \n",
       "\n",
       "   dst_host_srv_rerror_rate   label  \n",
       "0                       0.0  normal  \n",
       "1                       0.0  normal  \n",
       "2                       0.0  normal  \n",
       "3                       0.0  normal  \n",
       "4                       0.0  normal  \n",
       "\n",
       "[5 rows x 42 columns]"
      ]
     },
     "execution_count": 8,
     "metadata": {},
     "output_type": "execute_result"
    }
   ],
   "source": [
    "df.head()"
   ]
  },
  {
   "cell_type": "markdown",
   "id": "d7a6d066",
   "metadata": {},
   "source": [
    "As seen above, there are various type of malware attacks which can be grouped as \"abnormal\" to make this problem as binary classification problem"
   ]
  },
  {
   "cell_type": "markdown",
   "id": "32104edd",
   "metadata": {},
   "source": [
    "##### Group all malware attacks as \"abnormal\""
   ]
  },
  {
   "cell_type": "code",
   "execution_count": 9,
   "id": "c866ed99",
   "metadata": {},
   "outputs": [],
   "source": [
    "attack_types = list(df['label'].unique())\n",
    "attack_types.remove('normal') # remove normal from attack types as we only want malware attacks to convert as abnormal"
   ]
  },
  {
   "cell_type": "code",
   "execution_count": 10,
   "id": "90dc8e9f",
   "metadata": {},
   "outputs": [
    {
     "data": {
      "text/plain": [
       "(494020, 42)"
      ]
     },
     "execution_count": 10,
     "metadata": {},
     "output_type": "execute_result"
    }
   ],
   "source": [
    "df['label'] = df['label'].replace(attack_types, 'abnormal')\n",
    "df.shape"
   ]
  },
  {
   "cell_type": "code",
   "execution_count": 11,
   "id": "e77267f3",
   "metadata": {},
   "outputs": [
    {
     "data": {
      "text/plain": [
       "abnormal    396743\n",
       "normal       97277\n",
       "Name: label, dtype: int64"
      ]
     },
     "execution_count": 11,
     "metadata": {},
     "output_type": "execute_result"
    }
   ],
   "source": [
    "df['label'].value_counts()"
   ]
  },
  {
   "cell_type": "code",
   "execution_count": 12,
   "id": "39174e1b",
   "metadata": {},
   "outputs": [
    {
     "data": {
      "text/plain": [
       "protocol_type     object\n",
       "service           object\n",
       "flag              object\n",
       "land               int64\n",
       "logged_in          int64\n",
       "is_host_login      int64\n",
       "is_guest_login     int64\n",
       "dtype: object"
      ]
     },
     "execution_count": 12,
     "metadata": {},
     "output_type": "execute_result"
    }
   ],
   "source": [
    "df[catg_cols].dtypes"
   ]
  },
  {
   "cell_type": "markdown",
   "id": "fe945967",
   "metadata": {},
   "source": [
    "As seen from the above datatypes of the categorical columns,the column values are not strings. We need to convert them to string before performing any analysis"
   ]
  },
  {
   "cell_type": "markdown",
   "id": "32474eda",
   "metadata": {},
   "source": [
    "##### Fixing the data types of categorical columns"
   ]
  },
  {
   "cell_type": "code",
   "execution_count": 13,
   "id": "ad980c0c",
   "metadata": {},
   "outputs": [
    {
     "data": {
      "text/plain": [
       "protocol_type     object\n",
       "service           object\n",
       "flag              object\n",
       "land              object\n",
       "logged_in         object\n",
       "is_host_login     object\n",
       "is_guest_login    object\n",
       "dtype: object"
      ]
     },
     "execution_count": 13,
     "metadata": {},
     "output_type": "execute_result"
    }
   ],
   "source": [
    "df['protocol_type'] = df['protocol_type'].astype(str)\n",
    "df['service'] = df['service'].astype(str)\n",
    "df['flag'] = df['flag'].astype(str)\n",
    "df['land'] = df['land'].astype(str)\n",
    "df['logged_in'] = df['logged_in'].astype(str)\n",
    "df['is_host_login'] = df['is_host_login'].astype(str)\n",
    "df['is_guest_login'] = df['is_guest_login'].astype(str)\n",
    "df[catg_cols].dtypes"
   ]
  },
  {
   "cell_type": "code",
   "execution_count": 14,
   "id": "6fdfb144",
   "metadata": {},
   "outputs": [],
   "source": [
    "df.drop(columns=['is_host_login'], inplace=True)\n",
    "df.drop(columns=['num_outbound_cmds'], inplace=True)"
   ]
  },
  {
   "cell_type": "markdown",
   "id": "8bc893c2",
   "metadata": {},
   "source": [
    "### Transform Target Binary label to 0 and 1"
   ]
  },
  {
   "cell_type": "code",
   "execution_count": 15,
   "id": "395e1caf",
   "metadata": {},
   "outputs": [
    {
     "data": {
      "text/plain": [
       "0    396743\n",
       "1     97277\n",
       "Name: label, dtype: int64"
      ]
     },
     "execution_count": 15,
     "metadata": {},
     "output_type": "execute_result"
    }
   ],
   "source": [
    "df['label'] = df['label'].map({'normal': 1, 'abnormal': 0})\n",
    "df['label'].value_counts()"
   ]
  },
  {
   "cell_type": "markdown",
   "id": "6e246b98",
   "metadata": {},
   "source": [
    "### One hot encode categorical columns"
   ]
  },
  {
   "cell_type": "code",
   "execution_count": 16,
   "id": "be8e7360",
   "metadata": {},
   "outputs": [],
   "source": [
    "def convert_categorical_to_one_hot_encoding(dataset, column_name):\n",
    "    dummy_values = pd.get_dummies(dataset[column_name])\n",
    "    \n",
    "    for category in dummy_values.columns:\n",
    "        dummy_value_name = f\"{column_name}-{category}\"\n",
    "        dataset[dummy_value_name] = dummy_values[category]\n",
    "    dataset.drop(column_name, axis=1, inplace=True)\n",
    "\n"
   ]
  },
  {
   "cell_type": "code",
   "execution_count": 17,
   "id": "1854b7d1",
   "metadata": {},
   "outputs": [
    {
     "data": {
      "text/plain": [
       "(494020, 120)"
      ]
     },
     "execution_count": 17,
     "metadata": {},
     "output_type": "execute_result"
    }
   ],
   "source": [
    "for cat_col in catg_cols:\n",
    "    if cat_col != \"is_host_login\":\n",
    "        convert_categorical_to_one_hot_encoding(df, cat_col)\n",
    "df.shape"
   ]
  },
  {
   "cell_type": "code",
   "execution_count": 18,
   "id": "d0ebdcdb",
   "metadata": {},
   "outputs": [
    {
     "data": {
      "text/html": [
       "<div>\n",
       "<style scoped>\n",
       "    .dataframe tbody tr th:only-of-type {\n",
       "        vertical-align: middle;\n",
       "    }\n",
       "\n",
       "    .dataframe tbody tr th {\n",
       "        vertical-align: top;\n",
       "    }\n",
       "\n",
       "    .dataframe thead th {\n",
       "        text-align: right;\n",
       "    }\n",
       "</style>\n",
       "<table border=\"1\" class=\"dataframe\">\n",
       "  <thead>\n",
       "    <tr style=\"text-align: right;\">\n",
       "      <th></th>\n",
       "      <th>duration</th>\n",
       "      <th>src_bytes</th>\n",
       "      <th>dst_bytes</th>\n",
       "      <th>wrong_fragment</th>\n",
       "      <th>urgent</th>\n",
       "      <th>hot</th>\n",
       "      <th>num_failed_logins</th>\n",
       "      <th>num_compromised</th>\n",
       "      <th>root_shell</th>\n",
       "      <th>su_attempted</th>\n",
       "      <th>...</th>\n",
       "      <th>flag-S2</th>\n",
       "      <th>flag-S3</th>\n",
       "      <th>flag-SF</th>\n",
       "      <th>flag-SH</th>\n",
       "      <th>land-0</th>\n",
       "      <th>land-1</th>\n",
       "      <th>logged_in-0</th>\n",
       "      <th>logged_in-1</th>\n",
       "      <th>is_guest_login-0</th>\n",
       "      <th>is_guest_login-1</th>\n",
       "    </tr>\n",
       "  </thead>\n",
       "  <tbody>\n",
       "    <tr>\n",
       "      <th>0</th>\n",
       "      <td>0</td>\n",
       "      <td>181</td>\n",
       "      <td>5450</td>\n",
       "      <td>0</td>\n",
       "      <td>0</td>\n",
       "      <td>0</td>\n",
       "      <td>0</td>\n",
       "      <td>0</td>\n",
       "      <td>0</td>\n",
       "      <td>0</td>\n",
       "      <td>...</td>\n",
       "      <td>0</td>\n",
       "      <td>0</td>\n",
       "      <td>1</td>\n",
       "      <td>0</td>\n",
       "      <td>1</td>\n",
       "      <td>0</td>\n",
       "      <td>0</td>\n",
       "      <td>1</td>\n",
       "      <td>1</td>\n",
       "      <td>0</td>\n",
       "    </tr>\n",
       "    <tr>\n",
       "      <th>1</th>\n",
       "      <td>0</td>\n",
       "      <td>239</td>\n",
       "      <td>486</td>\n",
       "      <td>0</td>\n",
       "      <td>0</td>\n",
       "      <td>0</td>\n",
       "      <td>0</td>\n",
       "      <td>0</td>\n",
       "      <td>0</td>\n",
       "      <td>0</td>\n",
       "      <td>...</td>\n",
       "      <td>0</td>\n",
       "      <td>0</td>\n",
       "      <td>1</td>\n",
       "      <td>0</td>\n",
       "      <td>1</td>\n",
       "      <td>0</td>\n",
       "      <td>0</td>\n",
       "      <td>1</td>\n",
       "      <td>1</td>\n",
       "      <td>0</td>\n",
       "    </tr>\n",
       "    <tr>\n",
       "      <th>2</th>\n",
       "      <td>0</td>\n",
       "      <td>235</td>\n",
       "      <td>1337</td>\n",
       "      <td>0</td>\n",
       "      <td>0</td>\n",
       "      <td>0</td>\n",
       "      <td>0</td>\n",
       "      <td>0</td>\n",
       "      <td>0</td>\n",
       "      <td>0</td>\n",
       "      <td>...</td>\n",
       "      <td>0</td>\n",
       "      <td>0</td>\n",
       "      <td>1</td>\n",
       "      <td>0</td>\n",
       "      <td>1</td>\n",
       "      <td>0</td>\n",
       "      <td>0</td>\n",
       "      <td>1</td>\n",
       "      <td>1</td>\n",
       "      <td>0</td>\n",
       "    </tr>\n",
       "    <tr>\n",
       "      <th>3</th>\n",
       "      <td>0</td>\n",
       "      <td>219</td>\n",
       "      <td>1337</td>\n",
       "      <td>0</td>\n",
       "      <td>0</td>\n",
       "      <td>0</td>\n",
       "      <td>0</td>\n",
       "      <td>0</td>\n",
       "      <td>0</td>\n",
       "      <td>0</td>\n",
       "      <td>...</td>\n",
       "      <td>0</td>\n",
       "      <td>0</td>\n",
       "      <td>1</td>\n",
       "      <td>0</td>\n",
       "      <td>1</td>\n",
       "      <td>0</td>\n",
       "      <td>0</td>\n",
       "      <td>1</td>\n",
       "      <td>1</td>\n",
       "      <td>0</td>\n",
       "    </tr>\n",
       "    <tr>\n",
       "      <th>4</th>\n",
       "      <td>0</td>\n",
       "      <td>217</td>\n",
       "      <td>2032</td>\n",
       "      <td>0</td>\n",
       "      <td>0</td>\n",
       "      <td>0</td>\n",
       "      <td>0</td>\n",
       "      <td>0</td>\n",
       "      <td>0</td>\n",
       "      <td>0</td>\n",
       "      <td>...</td>\n",
       "      <td>0</td>\n",
       "      <td>0</td>\n",
       "      <td>1</td>\n",
       "      <td>0</td>\n",
       "      <td>1</td>\n",
       "      <td>0</td>\n",
       "      <td>0</td>\n",
       "      <td>1</td>\n",
       "      <td>1</td>\n",
       "      <td>0</td>\n",
       "    </tr>\n",
       "  </tbody>\n",
       "</table>\n",
       "<p>5 rows × 120 columns</p>\n",
       "</div>"
      ],
      "text/plain": [
       "   duration  src_bytes  dst_bytes  wrong_fragment  urgent  hot  \\\n",
       "0         0        181       5450               0       0    0   \n",
       "1         0        239        486               0       0    0   \n",
       "2         0        235       1337               0       0    0   \n",
       "3         0        219       1337               0       0    0   \n",
       "4         0        217       2032               0       0    0   \n",
       "\n",
       "   num_failed_logins  num_compromised  root_shell  su_attempted  ...  flag-S2  \\\n",
       "0                  0                0           0             0  ...        0   \n",
       "1                  0                0           0             0  ...        0   \n",
       "2                  0                0           0             0  ...        0   \n",
       "3                  0                0           0             0  ...        0   \n",
       "4                  0                0           0             0  ...        0   \n",
       "\n",
       "   flag-S3  flag-SF  flag-SH  land-0  land-1  logged_in-0  logged_in-1  \\\n",
       "0        0        1        0       1       0            0            1   \n",
       "1        0        1        0       1       0            0            1   \n",
       "2        0        1        0       1       0            0            1   \n",
       "3        0        1        0       1       0            0            1   \n",
       "4        0        1        0       1       0            0            1   \n",
       "\n",
       "   is_guest_login-0  is_guest_login-1  \n",
       "0                 1                 0  \n",
       "1                 1                 0  \n",
       "2                 1                 0  \n",
       "3                 1                 0  \n",
       "4                 1                 0  \n",
       "\n",
       "[5 rows x 120 columns]"
      ]
     },
     "execution_count": 18,
     "metadata": {},
     "output_type": "execute_result"
    }
   ],
   "source": [
    "df.head()"
   ]
  },
  {
   "cell_type": "markdown",
   "id": "1f2ded3a",
   "metadata": {},
   "source": [
    "###### Shuffle DataFrame"
   ]
  },
  {
   "cell_type": "code",
   "execution_count": 19,
   "id": "a7b2faf8",
   "metadata": {},
   "outputs": [],
   "source": [
    "df = df.sample(frac=1).reset_index(drop=True)"
   ]
  },
  {
   "cell_type": "markdown",
   "id": "6e6d59f3",
   "metadata": {},
   "source": [
    "### Data Normalization (scaling numerical features to unit norm)"
   ]
  },
  {
   "cell_type": "markdown",
   "id": "67c05167",
   "metadata": {},
   "source": [
    "As seen from the above continous variables distribution in the section 2.6 the scale of some of the features (columns) values are not in same range as others.\n",
    "Hence the features need to be normalized so that the optimization during model training will happen in a better way and the model will not be sensitive to the features."
   ]
  },
  {
   "cell_type": "raw",
   "id": "4f502ede",
   "metadata": {},
   "source": [
    "# Using Min-max normalization\n",
    "min = X.min(axis = 0) \n",
    "max = X.max(axis = 0) \n",
    "X = (X - min) / (max - min)"
   ]
  },
  {
   "cell_type": "code",
   "execution_count": 20,
   "id": "eb943aff",
   "metadata": {},
   "outputs": [],
   "source": [
    "cont_cols_new = [each for each in cont_cols if each!='num_outbound_cmds']"
   ]
  },
  {
   "cell_type": "code",
   "execution_count": 21,
   "id": "42e2b291",
   "metadata": {},
   "outputs": [],
   "source": [
    "df_CONTCOLS_MIN = df[cont_cols_new].min(axis=0)\n",
    "df_CONTCOLS_MAX = df[cont_cols_new].max(axis=0)"
   ]
  },
  {
   "cell_type": "code",
   "execution_count": 22,
   "id": "5317830d",
   "metadata": {},
   "outputs": [],
   "source": [
    "df[cont_cols_new] = (df[cont_cols_new] - df_CONTCOLS_MIN) / (df_CONTCOLS_MAX - df_CONTCOLS_MIN)"
   ]
  },
  {
   "cell_type": "code",
   "execution_count": 23,
   "id": "0c369d77",
   "metadata": {},
   "outputs": [
    {
     "data": {
      "text/html": [
       "<div>\n",
       "<style scoped>\n",
       "    .dataframe tbody tr th:only-of-type {\n",
       "        vertical-align: middle;\n",
       "    }\n",
       "\n",
       "    .dataframe tbody tr th {\n",
       "        vertical-align: top;\n",
       "    }\n",
       "\n",
       "    .dataframe thead th {\n",
       "        text-align: right;\n",
       "    }\n",
       "</style>\n",
       "<table border=\"1\" class=\"dataframe\">\n",
       "  <thead>\n",
       "    <tr style=\"text-align: right;\">\n",
       "      <th></th>\n",
       "      <th>duration</th>\n",
       "      <th>src_bytes</th>\n",
       "      <th>dst_bytes</th>\n",
       "      <th>wrong_fragment</th>\n",
       "      <th>urgent</th>\n",
       "      <th>hot</th>\n",
       "      <th>num_failed_logins</th>\n",
       "      <th>num_compromised</th>\n",
       "      <th>root_shell</th>\n",
       "      <th>su_attempted</th>\n",
       "      <th>...</th>\n",
       "      <th>dst_host_count</th>\n",
       "      <th>dst_host_srv_count</th>\n",
       "      <th>dst_host_same_srv_rate</th>\n",
       "      <th>dst_host_diff_srv_rate</th>\n",
       "      <th>dst_host_same_src_port_rate</th>\n",
       "      <th>dst_host_srv_diff_host_rate</th>\n",
       "      <th>dst_host_serror_rate</th>\n",
       "      <th>dst_host_srv_serror_rate</th>\n",
       "      <th>dst_host_rerror_rate</th>\n",
       "      <th>dst_host_srv_rerror_rate</th>\n",
       "    </tr>\n",
       "  </thead>\n",
       "  <tbody>\n",
       "    <tr>\n",
       "      <th>0</th>\n",
       "      <td>0.0</td>\n",
       "      <td>5.047769e-08</td>\n",
       "      <td>0.000018</td>\n",
       "      <td>0.0</td>\n",
       "      <td>0.0</td>\n",
       "      <td>0.0</td>\n",
       "      <td>0.0</td>\n",
       "      <td>0.0</td>\n",
       "      <td>0.0</td>\n",
       "      <td>0.0</td>\n",
       "      <td>...</td>\n",
       "      <td>0.584314</td>\n",
       "      <td>0.447059</td>\n",
       "      <td>0.77</td>\n",
       "      <td>0.03</td>\n",
       "      <td>0.01</td>\n",
       "      <td>0.00</td>\n",
       "      <td>0.0</td>\n",
       "      <td>0.0</td>\n",
       "      <td>0.0</td>\n",
       "      <td>0.0</td>\n",
       "    </tr>\n",
       "    <tr>\n",
       "      <th>1</th>\n",
       "      <td>0.0</td>\n",
       "      <td>0.000000e+00</td>\n",
       "      <td>0.000000</td>\n",
       "      <td>0.0</td>\n",
       "      <td>0.0</td>\n",
       "      <td>0.0</td>\n",
       "      <td>0.0</td>\n",
       "      <td>0.0</td>\n",
       "      <td>0.0</td>\n",
       "      <td>0.0</td>\n",
       "      <td>...</td>\n",
       "      <td>1.000000</td>\n",
       "      <td>0.003922</td>\n",
       "      <td>0.00</td>\n",
       "      <td>1.00</td>\n",
       "      <td>1.00</td>\n",
       "      <td>0.00</td>\n",
       "      <td>0.0</td>\n",
       "      <td>0.0</td>\n",
       "      <td>1.0</td>\n",
       "      <td>1.0</td>\n",
       "    </tr>\n",
       "    <tr>\n",
       "      <th>2</th>\n",
       "      <td>0.0</td>\n",
       "      <td>1.488371e-06</td>\n",
       "      <td>0.000000</td>\n",
       "      <td>0.0</td>\n",
       "      <td>0.0</td>\n",
       "      <td>0.0</td>\n",
       "      <td>0.0</td>\n",
       "      <td>0.0</td>\n",
       "      <td>0.0</td>\n",
       "      <td>0.0</td>\n",
       "      <td>...</td>\n",
       "      <td>1.000000</td>\n",
       "      <td>1.000000</td>\n",
       "      <td>1.00</td>\n",
       "      <td>0.00</td>\n",
       "      <td>1.00</td>\n",
       "      <td>0.00</td>\n",
       "      <td>0.0</td>\n",
       "      <td>0.0</td>\n",
       "      <td>0.0</td>\n",
       "      <td>0.0</td>\n",
       "    </tr>\n",
       "    <tr>\n",
       "      <th>3</th>\n",
       "      <td>0.0</td>\n",
       "      <td>1.488371e-06</td>\n",
       "      <td>0.000000</td>\n",
       "      <td>0.0</td>\n",
       "      <td>0.0</td>\n",
       "      <td>0.0</td>\n",
       "      <td>0.0</td>\n",
       "      <td>0.0</td>\n",
       "      <td>0.0</td>\n",
       "      <td>0.0</td>\n",
       "      <td>...</td>\n",
       "      <td>1.000000</td>\n",
       "      <td>1.000000</td>\n",
       "      <td>1.00</td>\n",
       "      <td>0.00</td>\n",
       "      <td>1.00</td>\n",
       "      <td>0.00</td>\n",
       "      <td>0.0</td>\n",
       "      <td>0.0</td>\n",
       "      <td>0.0</td>\n",
       "      <td>0.0</td>\n",
       "    </tr>\n",
       "    <tr>\n",
       "      <th>4</th>\n",
       "      <td>0.0</td>\n",
       "      <td>4.369926e-07</td>\n",
       "      <td>0.000389</td>\n",
       "      <td>0.0</td>\n",
       "      <td>0.0</td>\n",
       "      <td>0.0</td>\n",
       "      <td>0.0</td>\n",
       "      <td>0.0</td>\n",
       "      <td>0.0</td>\n",
       "      <td>0.0</td>\n",
       "      <td>...</td>\n",
       "      <td>0.619608</td>\n",
       "      <td>1.000000</td>\n",
       "      <td>1.00</td>\n",
       "      <td>0.00</td>\n",
       "      <td>0.01</td>\n",
       "      <td>0.05</td>\n",
       "      <td>0.0</td>\n",
       "      <td>0.0</td>\n",
       "      <td>0.0</td>\n",
       "      <td>0.0</td>\n",
       "    </tr>\n",
       "  </tbody>\n",
       "</table>\n",
       "<p>5 rows × 33 columns</p>\n",
       "</div>"
      ],
      "text/plain": [
       "   duration     src_bytes  dst_bytes  wrong_fragment  urgent  hot  \\\n",
       "0       0.0  5.047769e-08   0.000018             0.0     0.0  0.0   \n",
       "1       0.0  0.000000e+00   0.000000             0.0     0.0  0.0   \n",
       "2       0.0  1.488371e-06   0.000000             0.0     0.0  0.0   \n",
       "3       0.0  1.488371e-06   0.000000             0.0     0.0  0.0   \n",
       "4       0.0  4.369926e-07   0.000389             0.0     0.0  0.0   \n",
       "\n",
       "   num_failed_logins  num_compromised  root_shell  su_attempted  ...  \\\n",
       "0                0.0              0.0         0.0           0.0  ...   \n",
       "1                0.0              0.0         0.0           0.0  ...   \n",
       "2                0.0              0.0         0.0           0.0  ...   \n",
       "3                0.0              0.0         0.0           0.0  ...   \n",
       "4                0.0              0.0         0.0           0.0  ...   \n",
       "\n",
       "   dst_host_count  dst_host_srv_count  dst_host_same_srv_rate  \\\n",
       "0        0.584314            0.447059                    0.77   \n",
       "1        1.000000            0.003922                    0.00   \n",
       "2        1.000000            1.000000                    1.00   \n",
       "3        1.000000            1.000000                    1.00   \n",
       "4        0.619608            1.000000                    1.00   \n",
       "\n",
       "   dst_host_diff_srv_rate  dst_host_same_src_port_rate  \\\n",
       "0                    0.03                         0.01   \n",
       "1                    1.00                         1.00   \n",
       "2                    0.00                         1.00   \n",
       "3                    0.00                         1.00   \n",
       "4                    0.00                         0.01   \n",
       "\n",
       "   dst_host_srv_diff_host_rate  dst_host_serror_rate  \\\n",
       "0                         0.00                   0.0   \n",
       "1                         0.00                   0.0   \n",
       "2                         0.00                   0.0   \n",
       "3                         0.00                   0.0   \n",
       "4                         0.05                   0.0   \n",
       "\n",
       "   dst_host_srv_serror_rate  dst_host_rerror_rate  dst_host_srv_rerror_rate  \n",
       "0                       0.0                   0.0                       0.0  \n",
       "1                       0.0                   1.0                       1.0  \n",
       "2                       0.0                   0.0                       0.0  \n",
       "3                       0.0                   0.0                       0.0  \n",
       "4                       0.0                   0.0                       0.0  \n",
       "\n",
       "[5 rows x 33 columns]"
      ]
     },
     "execution_count": 23,
     "metadata": {},
     "output_type": "execute_result"
    }
   ],
   "source": [
    "df[cont_cols_new].head()"
   ]
  },
  {
   "cell_type": "code",
   "execution_count": 24,
   "id": "bf675cc2",
   "metadata": {},
   "outputs": [
    {
     "data": {
      "text/plain": [
       "False"
      ]
     },
     "execution_count": 24,
     "metadata": {},
     "output_type": "execute_result"
    }
   ],
   "source": [
    "df.isna().values.any() # making sure there are no NaN values in the dataset"
   ]
  },
  {
   "cell_type": "code",
   "execution_count": 25,
   "id": "7d11017e",
   "metadata": {},
   "outputs": [],
   "source": [
    "X_numpy = df.drop(columns=['label']).to_numpy()\n",
    "Y_numpy = df['label'].to_numpy()"
   ]
  },
  {
   "cell_type": "code",
   "execution_count": 26,
   "id": "e41145e8",
   "metadata": {},
   "outputs": [
    {
     "data": {
      "text/plain": [
       "(494020, 119)"
      ]
     },
     "execution_count": 26,
     "metadata": {},
     "output_type": "execute_result"
    }
   ],
   "source": [
    "X_numpy.shape"
   ]
  },
  {
   "cell_type": "code",
   "execution_count": 27,
   "id": "a3e9e7fe",
   "metadata": {},
   "outputs": [
    {
     "data": {
      "text/plain": [
       "(494020,)"
      ]
     },
     "execution_count": 27,
     "metadata": {},
     "output_type": "execute_result"
    }
   ],
   "source": [
    "Y_numpy.shape"
   ]
  },
  {
   "cell_type": "markdown",
   "id": "030e5720",
   "metadata": {},
   "source": [
    "### 2. Model Building (Phase-2: Model that overfits entire dataset)"
   ]
  },
  {
   "cell_type": "markdown",
   "id": "a6ee3a5e",
   "metadata": {},
   "source": [
    "#### Step-1: With single neuron logistic regression model"
   ]
  },
  {
   "cell_type": "code",
   "execution_count": 28,
   "id": "e731349b",
   "metadata": {},
   "outputs": [],
   "source": [
    "from keras.utils.vis_utils import plot_model"
   ]
  },
  {
   "cell_type": "code",
   "execution_count": 29,
   "id": "6428c06e",
   "metadata": {},
   "outputs": [],
   "source": [
    "from tensorflow.keras.models import Sequential\n",
    "from tensorflow.keras.layers import Dense\n",
    "\n",
    "model_1 = Sequential()\n",
    "model_1.add(Dense(1, input_dim = len(X_numpy[0, :]), activation='sigmoid'))"
   ]
  },
  {
   "cell_type": "code",
   "execution_count": 145,
   "id": "e967cb75",
   "metadata": {},
   "outputs": [
    {
     "name": "stdout",
     "output_type": "stream",
     "text": [
      "Epoch 1/256\n",
      "15439/15439 [==============================] - 7s 439us/step - loss: 0.0440 - accuracy: 0.9857\n",
      "Epoch 2/256\n",
      "15439/15439 [==============================] - 7s 452us/step - loss: 0.0265 - accuracy: 0.9915\n",
      "Epoch 3/256\n",
      "15439/15439 [==============================] - 7s 456us/step - loss: 0.0242 - accuracy: 0.9915\n",
      "Epoch 4/256\n",
      "15439/15439 [==============================] - 7s 445us/step - loss: 0.0231 - accuracy: 0.9915\n",
      "Epoch 5/256\n",
      "15439/15439 [==============================] - 7s 455us/step - loss: 0.0223 - accuracy: 0.9916\n",
      "Epoch 6/256\n",
      "15439/15439 [==============================] - 7s 449us/step - loss: 0.0218 - accuracy: 0.9916\n",
      "Epoch 7/256\n",
      "15439/15439 [==============================] - 7s 446us/step - loss: 0.0215 - accuracy: 0.9918\n",
      "Epoch 8/256\n",
      "15439/15439 [==============================] - 7s 445us/step - loss: 0.0211 - accuracy: 0.9920\n",
      "Epoch 9/256\n",
      "15439/15439 [==============================] - 7s 454us/step - loss: 0.0208 - accuracy: 0.9923\n",
      "Epoch 10/256\n",
      "15439/15439 [==============================] - 7s 443us/step - loss: 0.0207 - accuracy: 0.9925\n",
      "Epoch 11/256\n",
      "15439/15439 [==============================] - 7s 455us/step - loss: 0.0203 - accuracy: 0.9928\n",
      "Epoch 12/256\n",
      "15439/15439 [==============================] - 7s 473us/step - loss: 0.0202 - accuracy: 0.9929\n",
      "Epoch 13/256\n",
      "15439/15439 [==============================] - 8s 489us/step - loss: 0.0201 - accuracy: 0.9931\n",
      "Epoch 14/256\n",
      "15439/15439 [==============================] - 7s 464us/step - loss: 0.0198 - accuracy: 0.9932\n",
      "Epoch 15/256\n",
      "15439/15439 [==============================] - 7s 442us/step - loss: 0.0197 - accuracy: 0.9932\n",
      "Epoch 16/256\n",
      "15439/15439 [==============================] - 7s 452us/step - loss: 0.0198 - accuracy: 0.9933\n",
      "Epoch 17/256\n",
      "15439/15439 [==============================] - 7s 479us/step - loss: 0.0195 - accuracy: 0.9933\n",
      "Epoch 18/256\n",
      "15439/15439 [==============================] - 7s 470us/step - loss: 0.0195 - accuracy: 0.9934\n",
      "Epoch 19/256\n",
      "15439/15439 [==============================] - 7s 444us/step - loss: 0.0196 - accuracy: 0.9934\n",
      "Epoch 20/256\n",
      "15439/15439 [==============================] - 7s 445us/step - loss: 0.0195 - accuracy: 0.9940\n",
      "Epoch 21/256\n",
      "15439/15439 [==============================] - 7s 455us/step - loss: 0.0193 - accuracy: 0.9944\n",
      "Epoch 22/256\n",
      "15439/15439 [==============================] - 7s 456us/step - loss: 0.0194 - accuracy: 0.9949\n",
      "Epoch 23/256\n",
      "15439/15439 [==============================] - 7s 463us/step - loss: 0.0194 - accuracy: 0.9956\n",
      "Epoch 24/256\n",
      "15439/15439 [==============================] - 7s 474us/step - loss: 0.0194 - accuracy: 0.9959\n",
      "Epoch 25/256\n",
      "15439/15439 [==============================] - 7s 453us/step - loss: 0.0195 - accuracy: 0.9963\n",
      "Epoch 26/256\n",
      "15439/15439 [==============================] - 7s 452us/step - loss: 0.0194 - accuracy: 0.9966\n",
      "Epoch 27/256\n",
      "15439/15439 [==============================] - 7s 445us/step - loss: 0.0194 - accuracy: 0.9967\n",
      "Epoch 28/256\n",
      "15439/15439 [==============================] - 7s 442us/step - loss: 0.0195 - accuracy: 0.9968\n",
      "Epoch 29/256\n",
      "15439/15439 [==============================] - 7s 463us/step - loss: 0.0195 - accuracy: 0.9969\n",
      "Epoch 30/256\n",
      "15439/15439 [==============================] - 7s 470us/step - loss: 0.0196 - accuracy: 0.9969\n",
      "Epoch 31/256\n",
      "15439/15439 [==============================] - 8s 488us/step - loss: 0.0197 - accuracy: 0.9971\n",
      "Epoch 32/256\n",
      "15439/15439 [==============================] - 7s 478us/step - loss: 0.0197 - accuracy: 0.9972\n",
      "Epoch 33/256\n",
      "15439/15439 [==============================] - 8s 500us/step - loss: 0.0197 - accuracy: 0.9973\n",
      "Epoch 34/256\n",
      "15439/15439 [==============================] - 8s 529us/step - loss: 0.0197 - accuracy: 0.9973\n",
      "Epoch 35/256\n",
      "15439/15439 [==============================] - 7s 458us/step - loss: 0.0198 - accuracy: 0.9973\n",
      "Epoch 36/256\n",
      "15439/15439 [==============================] - 7s 484us/step - loss: 0.0197 - accuracy: 0.9974\n",
      "Epoch 37/256\n",
      "15439/15439 [==============================] - 8s 511us/step - loss: 0.0198 - accuracy: 0.9974\n",
      "Epoch 38/256\n",
      "15439/15439 [==============================] - 7s 473us/step - loss: 0.0199 - accuracy: 0.9975\n",
      "Epoch 39/256\n",
      "15439/15439 [==============================] - 7s 465us/step - loss: 0.0199 - accuracy: 0.9975\n",
      "Epoch 40/256\n",
      "15439/15439 [==============================] - 7s 470us/step - loss: 0.0200 - accuracy: 0.9975\n",
      "Epoch 41/256\n",
      "15439/15439 [==============================] - 7s 469us/step - loss: 0.0200 - accuracy: 0.9975\n",
      "Epoch 42/256\n",
      "15439/15439 [==============================] - 7s 475us/step - loss: 0.0200 - accuracy: 0.9975\n",
      "Epoch 43/256\n",
      "15439/15439 [==============================] - 8s 486us/step - loss: 0.0200 - accuracy: 0.9976\n",
      "Epoch 44/256\n",
      "15439/15439 [==============================] - 8s 516us/step - loss: 0.0201 - accuracy: 0.9976\n",
      "Epoch 45/256\n",
      "15439/15439 [==============================] - 7s 474us/step - loss: 0.0202 - accuracy: 0.9976\n",
      "Epoch 46/256\n",
      "15439/15439 [==============================] - 7s 476us/step - loss: 0.0202 - accuracy: 0.9976\n",
      "Epoch 47/256\n",
      "15439/15439 [==============================] - 7s 459us/step - loss: 0.0203 - accuracy: 0.9976\n",
      "Epoch 48/256\n",
      "15439/15439 [==============================] - 7s 445us/step - loss: 0.0203 - accuracy: 0.9976\n",
      "Epoch 49/256\n",
      "15439/15439 [==============================] - 7s 446us/step - loss: 0.0204 - accuracy: 0.9976\n",
      "Epoch 50/256\n",
      "15439/15439 [==============================] - 7s 451us/step - loss: 0.0205 - accuracy: 0.9976\n",
      "Epoch 51/256\n",
      "15439/15439 [==============================] - 8s 490us/step - loss: 0.0206 - accuracy: 0.9976\n",
      "Epoch 52/256\n",
      "15439/15439 [==============================] - 7s 477us/step - loss: 0.0206 - accuracy: 0.9977\n",
      "Epoch 53/256\n",
      "15439/15439 [==============================] - 7s 450us/step - loss: 0.0206 - accuracy: 0.9977\n",
      "Epoch 54/256\n",
      "15439/15439 [==============================] - 7s 450us/step - loss: 0.0206 - accuracy: 0.9977\n",
      "Epoch 55/256\n",
      "15439/15439 [==============================] - 7s 470us/step - loss: 0.0207 - accuracy: 0.9977\n",
      "Epoch 56/256\n",
      "15439/15439 [==============================] - 7s 459us/step - loss: 0.0208 - accuracy: 0.9977\n",
      "Epoch 57/256\n",
      "15439/15439 [==============================] - 7s 457us/step - loss: 0.0208 - accuracy: 0.9978\n",
      "Epoch 58/256\n",
      "15439/15439 [==============================] - 7s 458us/step - loss: 0.0209 - accuracy: 0.9977\n",
      "Epoch 59/256\n",
      "15439/15439 [==============================] - 7s 457us/step - loss: 0.0210 - accuracy: 0.9977\n",
      "Epoch 60/256\n",
      "15439/15439 [==============================] - 7s 454us/step - loss: 0.0210 - accuracy: 0.9978\n",
      "Epoch 61/256\n",
      "15439/15439 [==============================] - 7s 454us/step - loss: 0.0212 - accuracy: 0.9978\n",
      "Epoch 62/256\n",
      "15439/15439 [==============================] - 7s 463us/step - loss: 0.0212 - accuracy: 0.9978\n",
      "Epoch 63/256\n",
      "15439/15439 [==============================] - 7s 466us/step - loss: 0.0213 - accuracy: 0.9978\n",
      "Epoch 64/256\n",
      "15439/15439 [==============================] - 7s 457us/step - loss: 0.0213 - accuracy: 0.9978\n",
      "Epoch 65/256\n",
      "15439/15439 [==============================] - 7s 456us/step - loss: 0.0215 - accuracy: 0.9978\n",
      "Epoch 66/256\n",
      "15439/15439 [==============================] - 7s 443us/step - loss: 0.0215 - accuracy: 0.9978\n",
      "Epoch 67/256\n",
      "15439/15439 [==============================] - 7s 446us/step - loss: 0.0217 - accuracy: 0.9978\n",
      "Epoch 68/256\n",
      "15439/15439 [==============================] - 7s 465us/step - loss: 0.0217 - accuracy: 0.9978\n",
      "Epoch 69/256\n",
      "15439/15439 [==============================] - 7s 435us/step - loss: 0.0218 - accuracy: 0.9978\n",
      "Epoch 70/256\n",
      "15439/15439 [==============================] - 7s 466us/step - loss: 0.0219 - accuracy: 0.9978\n",
      "Epoch 71/256\n",
      "15439/15439 [==============================] - 7s 471us/step - loss: 0.0220 - accuracy: 0.9978\n",
      "Epoch 72/256\n",
      "15439/15439 [==============================] - 7s 459us/step - loss: 0.0221 - accuracy: 0.9978\n",
      "Epoch 73/256\n",
      "15439/15439 [==============================] - 7s 466us/step - loss: 0.0221 - accuracy: 0.9978\n",
      "Epoch 74/256\n",
      "15439/15439 [==============================] - 7s 457us/step - loss: 0.0222 - accuracy: 0.9978\n",
      "Epoch 75/256\n",
      "15439/15439 [==============================] - 7s 445us/step - loss: 0.0223 - accuracy: 0.9978\n",
      "Epoch 76/256\n",
      "15439/15439 [==============================] - 7s 448us/step - loss: 0.0224 - accuracy: 0.9978\n",
      "Epoch 77/256\n",
      "15439/15439 [==============================] - 7s 443us/step - loss: 0.0225 - accuracy: 0.9978\n",
      "Epoch 78/256\n",
      "15439/15439 [==============================] - 7s 468us/step - loss: 0.0226 - accuracy: 0.9978\n",
      "Epoch 79/256\n",
      "15439/15439 [==============================] - 7s 460us/step - loss: 0.0227 - accuracy: 0.9978\n",
      "Epoch 80/256\n",
      "15439/15439 [==============================] - 7s 450us/step - loss: 0.0227 - accuracy: 0.9978\n",
      "Epoch 81/256\n",
      "15439/15439 [==============================] - 7s 456us/step - loss: 0.0228 - accuracy: 0.9978\n",
      "Epoch 82/256\n",
      "15439/15439 [==============================] - 7s 481us/step - loss: 0.0229 - accuracy: 0.9978\n",
      "Epoch 83/256\n",
      "15439/15439 [==============================] - 7s 483us/step - loss: 0.0229 - accuracy: 0.9978\n",
      "Epoch 84/256\n",
      "15439/15439 [==============================] - 8s 490us/step - loss: 0.0230 - accuracy: 0.9978\n",
      "Epoch 85/256\n",
      "15439/15439 [==============================] - 7s 482us/step - loss: 0.0231 - accuracy: 0.9978\n",
      "Epoch 86/256\n",
      "15439/15439 [==============================] - 7s 464us/step - loss: 0.0231 - accuracy: 0.9978\n",
      "Epoch 87/256\n",
      "15439/15439 [==============================] - 7s 464us/step - loss: 0.0232 - accuracy: 0.9979\n",
      "Epoch 88/256\n",
      "15439/15439 [==============================] - 7s 454us/step - loss: 0.0233 - accuracy: 0.9979\n",
      "Epoch 89/256\n",
      "15439/15439 [==============================] - 7s 448us/step - loss: 0.0234 - accuracy: 0.9979\n",
      "Epoch 90/256\n",
      "15439/15439 [==============================] - 7s 458us/step - loss: 0.0234 - accuracy: 0.9979\n",
      "Epoch 91/256\n",
      "15439/15439 [==============================] - 7s 459us/step - loss: 0.0234 - accuracy: 0.9979\n",
      "Epoch 92/256\n",
      "15439/15439 [==============================] - 7s 450us/step - loss: 0.0235 - accuracy: 0.9979\n",
      "Epoch 93/256\n",
      "15439/15439 [==============================] - 7s 469us/step - loss: 0.0236 - accuracy: 0.9979\n",
      "Epoch 94/256\n",
      "15439/15439 [==============================] - 8s 488us/step - loss: 0.0237 - accuracy: 0.9979\n",
      "Epoch 95/256\n",
      "15439/15439 [==============================] - 8s 488us/step - loss: 0.0237 - accuracy: 0.9979\n",
      "Epoch 96/256\n",
      "15439/15439 [==============================] - 8s 487us/step - loss: 0.0238 - accuracy: 0.9979\n",
      "Epoch 97/256\n",
      "15439/15439 [==============================] - 7s 478us/step - loss: 0.0239 - accuracy: 0.9979\n",
      "Epoch 98/256\n",
      "15439/15439 [==============================] - 7s 464us/step - loss: 0.0239 - accuracy: 0.9979\n",
      "Epoch 99/256\n",
      "15439/15439 [==============================] - 7s 472us/step - loss: 0.0240 - accuracy: 0.9979\n",
      "Epoch 100/256\n",
      "15439/15439 [==============================] - 7s 481us/step - loss: 0.0241 - accuracy: 0.9979\n",
      "Epoch 101/256\n",
      "15439/15439 [==============================] - 7s 471us/step - loss: 0.0241 - accuracy: 0.9979\n",
      "Epoch 102/256\n",
      "15439/15439 [==============================] - 7s 472us/step - loss: 0.0242 - accuracy: 0.9979\n",
      "Epoch 103/256\n",
      "15439/15439 [==============================] - 7s 452us/step - loss: 0.0243 - accuracy: 0.9979\n",
      "Epoch 104/256\n",
      "15439/15439 [==============================] - 7s 448us/step - loss: 0.0243 - accuracy: 0.9979\n",
      "Epoch 105/256\n",
      "15439/15439 [==============================] - 7s 464us/step - loss: 0.0244 - accuracy: 0.9979\n",
      "Epoch 106/256\n",
      "15439/15439 [==============================] - 7s 478us/step - loss: 0.0244 - accuracy: 0.9979\n",
      "Epoch 107/256\n",
      "15439/15439 [==============================] - 7s 461us/step - loss: 0.0245 - accuracy: 0.9979\n",
      "Epoch 108/256\n",
      "15439/15439 [==============================] - 7s 447us/step - loss: 0.0245 - accuracy: 0.9979\n",
      "Epoch 109/256\n",
      "15439/15439 [==============================] - 7s 455us/step - loss: 0.0246 - accuracy: 0.9980\n",
      "Epoch 110/256\n",
      "15439/15439 [==============================] - 8s 486us/step - loss: 0.0247 - accuracy: 0.99800s - loss: 0.0248 - accura\n",
      "Epoch 111/256\n",
      "15439/15439 [==============================] - 8s 495us/step - loss: 0.0248 - accuracy: 0.9979\n",
      "Epoch 112/256\n",
      "15439/15439 [==============================] - 7s 474us/step - loss: 0.0248 - accuracy: 0.9980\n",
      "Epoch 113/256\n",
      "15439/15439 [==============================] - 7s 440us/step - loss: 0.0249 - accuracy: 0.9979\n",
      "Epoch 114/256\n",
      "15439/15439 [==============================] - 7s 448us/step - loss: 0.0249 - accuracy: 0.9979\n",
      "Epoch 115/256\n",
      "15439/15439 [==============================] - 7s 483us/step - loss: 0.0250 - accuracy: 0.9980\n",
      "Epoch 116/256\n",
      "15439/15439 [==============================] - 7s 435us/step - loss: 0.0250 - accuracy: 0.9980\n",
      "Epoch 117/256\n",
      "15439/15439 [==============================] - 7s 473us/step - loss: 0.0251 - accuracy: 0.9980\n",
      "Epoch 118/256\n",
      "15439/15439 [==============================] - 9s 559us/step - loss: 0.0251 - accuracy: 0.9980\n",
      "Epoch 119/256\n",
      "15439/15439 [==============================] - 8s 498us/step - loss: 0.0251 - accuracy: 0.9980\n",
      "Epoch 120/256\n",
      "15439/15439 [==============================] - 8s 522us/step - loss: 0.0252 - accuracy: 0.9980\n",
      "Epoch 121/256\n",
      "15439/15439 [==============================] - 8s 525us/step - loss: 0.0252 - accuracy: 0.9980\n",
      "Epoch 122/256\n",
      "15439/15439 [==============================] - 8s 512us/step - loss: 0.0253 - accuracy: 0.9980\n",
      "Epoch 123/256\n",
      "15439/15439 [==============================] - 7s 472us/step - loss: 0.0254 - accuracy: 0.9980\n",
      "Epoch 124/256\n",
      "15439/15439 [==============================] - 8s 498us/step - loss: 0.0254 - accuracy: 0.9980\n",
      "Epoch 125/256\n",
      "15439/15439 [==============================] - 8s 487us/step - loss: 0.0255 - accuracy: 0.9980\n",
      "Epoch 126/256\n",
      "15439/15439 [==============================] - 8s 495us/step - loss: 0.0256 - accuracy: 0.9980\n",
      "Epoch 127/256\n",
      "15439/15439 [==============================] - 7s 478us/step - loss: 0.0256 - accuracy: 0.9980\n",
      "Epoch 128/256\n",
      "15439/15439 [==============================] - 7s 479us/step - loss: 0.0257 - accuracy: 0.9980\n",
      "Epoch 129/256\n",
      "15439/15439 [==============================] - 7s 468us/step - loss: 0.0257 - accuracy: 0.9980\n",
      "Epoch 130/256\n",
      "15439/15439 [==============================] - 7s 474us/step - loss: 0.0257 - accuracy: 0.9980\n",
      "Epoch 131/256\n",
      "15439/15439 [==============================] - 7s 453us/step - loss: 0.0258 - accuracy: 0.9980\n",
      "Epoch 132/256\n",
      "15439/15439 [==============================] - 7s 465us/step - loss: 0.0258 - accuracy: 0.9980\n",
      "Epoch 133/256\n",
      "15439/15439 [==============================] - 7s 439us/step - loss: 0.0259 - accuracy: 0.9980\n",
      "Epoch 134/256\n",
      "15439/15439 [==============================] - 7s 453us/step - loss: 0.0259 - accuracy: 0.9980\n",
      "Epoch 135/256\n",
      "15439/15439 [==============================] - 7s 484us/step - loss: 0.0260 - accuracy: 0.9980\n",
      "Epoch 136/256\n",
      "15439/15439 [==============================] - 7s 470us/step - loss: 0.0260 - accuracy: 0.9980\n",
      "Epoch 137/256\n",
      "15439/15439 [==============================] - 7s 472us/step - loss: 0.0261 - accuracy: 0.9980\n",
      "Epoch 138/256\n",
      "15439/15439 [==============================] - 8s 493us/step - loss: 0.0262 - accuracy: 0.9980\n",
      "Epoch 139/256\n",
      "15439/15439 [==============================] - 7s 480us/step - loss: 0.0262 - accuracy: 0.9980\n",
      "Epoch 140/256\n",
      "15439/15439 [==============================] - 8s 487us/step - loss: 0.0262 - accuracy: 0.9980\n",
      "Epoch 141/256\n",
      "15439/15439 [==============================] - 7s 470us/step - loss: 0.0262 - accuracy: 0.9980\n",
      "Epoch 142/256\n",
      "15439/15439 [==============================] - 7s 462us/step - loss: 0.0263 - accuracy: 0.9980\n",
      "Epoch 143/256\n",
      "15439/15439 [==============================] - 7s 463us/step - loss: 0.0263 - accuracy: 0.9980\n",
      "Epoch 144/256\n",
      "15439/15439 [==============================] - 7s 463us/step - loss: 0.0264 - accuracy: 0.9980\n",
      "Epoch 145/256\n",
      "15439/15439 [==============================] - 7s 472us/step - loss: 0.0264 - accuracy: 0.9980\n",
      "Epoch 146/256\n",
      "15439/15439 [==============================] - 8s 492us/step - loss: 0.0265 - accuracy: 0.9980\n",
      "Epoch 147/256\n",
      "15439/15439 [==============================] - 7s 483us/step - loss: 0.0265 - accuracy: 0.9980\n",
      "Epoch 148/256\n",
      "15439/15439 [==============================] - 7s 483us/step - loss: 0.0266 - accuracy: 0.9980\n",
      "Epoch 149/256\n",
      "15439/15439 [==============================] - 7s 483us/step - loss: 0.0266 - accuracy: 0.9980\n",
      "Epoch 150/256\n",
      "15439/15439 [==============================] - 7s 475us/step - loss: 0.0267 - accuracy: 0.9980\n",
      "Epoch 151/256\n"
     ]
    },
    {
     "name": "stdout",
     "output_type": "stream",
     "text": [
      "15439/15439 [==============================] - 7s 479us/step - loss: 0.0267 - accuracy: 0.9980\n",
      "Epoch 152/256\n",
      "15439/15439 [==============================] - 7s 465us/step - loss: 0.0268 - accuracy: 0.9980\n",
      "Epoch 153/256\n",
      "15439/15439 [==============================] - 7s 455us/step - loss: 0.0268 - accuracy: 0.9980\n",
      "Epoch 154/256\n",
      "15439/15439 [==============================] - 7s 450us/step - loss: 0.0269 - accuracy: 0.9980\n",
      "Epoch 155/256\n",
      "15439/15439 [==============================] - 7s 454us/step - loss: 0.0269 - accuracy: 0.9980\n",
      "Epoch 156/256\n",
      "15439/15439 [==============================] - 7s 485us/step - loss: 0.0269 - accuracy: 0.9980\n",
      "Epoch 157/256\n",
      "15439/15439 [==============================] - 7s 476us/step - loss: 0.0270 - accuracy: 0.9980\n",
      "Epoch 158/256\n",
      "15439/15439 [==============================] - 8s 534us/step - loss: 0.0270 - accuracy: 0.9980\n",
      "Epoch 159/256\n",
      "15439/15439 [==============================] - 8s 504us/step - loss: 0.0271 - accuracy: 0.9980\n",
      "Epoch 160/256\n",
      "15439/15439 [==============================] - 7s 483us/step - loss: 0.0271 - accuracy: 0.9980\n",
      "Epoch 161/256\n",
      "15439/15439 [==============================] - 7s 468us/step - loss: 0.0272 - accuracy: 0.9980\n",
      "Epoch 162/256\n",
      "15439/15439 [==============================] - 7s 433us/step - loss: 0.0272 - accuracy: 0.9980\n",
      "Epoch 163/256\n",
      "15439/15439 [==============================] - 7s 442us/step - loss: 0.0272 - accuracy: 0.9980\n",
      "Epoch 164/256\n",
      "15439/15439 [==============================] - 7s 433us/step - loss: 0.0272 - accuracy: 0.9980\n",
      "Epoch 165/256\n",
      "15439/15439 [==============================] - 7s 437us/step - loss: 0.0273 - accuracy: 0.9980\n",
      "Epoch 166/256\n",
      "15439/15439 [==============================] - 7s 438us/step - loss: 0.0273 - accuracy: 0.9980\n",
      "Epoch 167/256\n",
      "15439/15439 [==============================] - 7s 439us/step - loss: 0.0273 - accuracy: 0.9980\n",
      "Epoch 168/256\n",
      "15439/15439 [==============================] - 7s 446us/step - loss: 0.0274 - accuracy: 0.9980\n",
      "Epoch 169/256\n",
      "15439/15439 [==============================] - 7s 437us/step - loss: 0.0274 - accuracy: 0.9980\n",
      "Epoch 170/256\n",
      "15439/15439 [==============================] - 7s 429us/step - loss: 0.0275 - accuracy: 0.9980\n",
      "Epoch 171/256\n",
      "15439/15439 [==============================] - 7s 438us/step - loss: 0.0275 - accuracy: 0.9980\n",
      "Epoch 172/256\n",
      "15439/15439 [==============================] - 7s 434us/step - loss: 0.0275 - accuracy: 0.9980\n",
      "Epoch 173/256\n",
      "15439/15439 [==============================] - 7s 439us/step - loss: 0.0276 - accuracy: 0.9980\n",
      "Epoch 174/256\n",
      "15439/15439 [==============================] - 7s 439us/step - loss: 0.0276 - accuracy: 0.9980\n",
      "Epoch 175/256\n",
      "15439/15439 [==============================] - 7s 438us/step - loss: 0.0276 - accuracy: 0.9980\n",
      "Epoch 176/256\n",
      "15439/15439 [==============================] - 7s 432us/step - loss: 0.0277 - accuracy: 0.9980\n",
      "Epoch 177/256\n",
      "15439/15439 [==============================] - 7s 445us/step - loss: 0.0277 - accuracy: 0.9980\n",
      "Epoch 178/256\n",
      "15439/15439 [==============================] - 7s 442us/step - loss: 0.0277 - accuracy: 0.9980\n",
      "Epoch 179/256\n",
      "15439/15439 [==============================] - 7s 437us/step - loss: 0.0277 - accuracy: 0.9980\n",
      "Epoch 180/256\n",
      "15439/15439 [==============================] - 7s 430us/step - loss: 0.0278 - accuracy: 0.9980\n",
      "Epoch 181/256\n",
      "15439/15439 [==============================] - 7s 440us/step - loss: 0.0279 - accuracy: 0.9980\n",
      "Epoch 182/256\n",
      "15439/15439 [==============================] - 7s 442us/step - loss: 0.0279 - accuracy: 0.9980\n",
      "Epoch 183/256\n",
      "15439/15439 [==============================] - 7s 443us/step - loss: 0.0279 - accuracy: 0.9980\n",
      "Epoch 184/256\n",
      "15439/15439 [==============================] - 7s 443us/step - loss: 0.0279 - accuracy: 0.9980\n",
      "Epoch 185/256\n",
      "15439/15439 [==============================] - 7s 445us/step - loss: 0.0280 - accuracy: 0.9980\n",
      "Epoch 186/256\n",
      "15439/15439 [==============================] - 7s 454us/step - loss: 0.0281 - accuracy: 0.9980\n",
      "Epoch 187/256\n",
      "15439/15439 [==============================] - 7s 444us/step - loss: 0.0281 - accuracy: 0.9980\n",
      "Epoch 188/256\n",
      "15439/15439 [==============================] - 7s 444us/step - loss: 0.0282 - accuracy: 0.9980\n",
      "Epoch 189/256\n",
      "15439/15439 [==============================] - 7s 443us/step - loss: 0.0282 - accuracy: 0.9980\n",
      "Epoch 190/256\n",
      "15439/15439 [==============================] - 7s 447us/step - loss: 0.0283 - accuracy: 0.9980\n",
      "Epoch 191/256\n",
      "15439/15439 [==============================] - 7s 443us/step - loss: 0.0283 - accuracy: 0.9980\n",
      "Epoch 192/256\n",
      "15439/15439 [==============================] - 8s 510us/step - loss: 0.0283 - accuracy: 0.9980\n",
      "Epoch 193/256\n",
      "15439/15439 [==============================] - 7s 469us/step - loss: 0.0284 - accuracy: 0.9980\n",
      "Epoch 194/256\n",
      "15439/15439 [==============================] - 7s 444us/step - loss: 0.0284 - accuracy: 0.9980\n",
      "Epoch 195/256\n",
      "15439/15439 [==============================] - 7s 457us/step - loss: 0.0285 - accuracy: 0.9980\n",
      "Epoch 196/256\n",
      "15439/15439 [==============================] - 7s 450us/step - loss: 0.0285 - accuracy: 0.9980\n",
      "Epoch 197/256\n",
      "15439/15439 [==============================] - 7s 455us/step - loss: 0.0286 - accuracy: 0.9980\n",
      "Epoch 198/256\n",
      "15439/15439 [==============================] - 7s 443us/step - loss: 0.0286 - accuracy: 0.9980\n",
      "Epoch 199/256\n",
      "15439/15439 [==============================] - 7s 439us/step - loss: 0.0287 - accuracy: 0.9980\n",
      "Epoch 200/256\n",
      "15439/15439 [==============================] - 7s 451us/step - loss: 0.0287 - accuracy: 0.9980\n",
      "Epoch 201/256\n",
      "15439/15439 [==============================] - 7s 444us/step - loss: 0.0288 - accuracy: 0.9981\n",
      "Epoch 202/256\n",
      "15439/15439 [==============================] - 7s 433us/step - loss: 0.0288 - accuracy: 0.9980\n",
      "Epoch 203/256\n",
      "15439/15439 [==============================] - 7s 457us/step - loss: 0.0289 - accuracy: 0.9981\n",
      "Epoch 204/256\n",
      "15439/15439 [==============================] - 7s 462us/step - loss: 0.0289 - accuracy: 0.9981\n",
      "Epoch 205/256\n",
      "15439/15439 [==============================] - 7s 442us/step - loss: 0.0290 - accuracy: 0.9980\n",
      "Epoch 206/256\n",
      "15439/15439 [==============================] - 7s 451us/step - loss: 0.0290 - accuracy: 0.9981\n",
      "Epoch 207/256\n",
      "15439/15439 [==============================] - 7s 439us/step - loss: 0.0291 - accuracy: 0.9981\n",
      "Epoch 208/256\n",
      "15439/15439 [==============================] - 7s 446us/step - loss: 0.0292 - accuracy: 0.9980\n",
      "Epoch 209/256\n",
      "15439/15439 [==============================] - 7s 456us/step - loss: 0.0292 - accuracy: 0.9980\n",
      "Epoch 210/256\n",
      "15439/15439 [==============================] - 7s 446us/step - loss: 0.0293 - accuracy: 0.9981\n",
      "Epoch 211/256\n",
      "15439/15439 [==============================] - 7s 480us/step - loss: 0.0293 - accuracy: 0.9981\n",
      "Epoch 212/256\n",
      "15439/15439 [==============================] - 8s 489us/step - loss: 0.0294 - accuracy: 0.9980\n",
      "Epoch 213/256\n",
      "15439/15439 [==============================] - 7s 469us/step - loss: 0.0294 - accuracy: 0.9980\n",
      "Epoch 214/256\n",
      "15439/15439 [==============================] - 7s 463us/step - loss: 0.0295 - accuracy: 0.9981\n",
      "Epoch 215/256\n",
      "15439/15439 [==============================] - 7s 447us/step - loss: 0.0295 - accuracy: 0.9981\n",
      "Epoch 216/256\n",
      "15439/15439 [==============================] - 7s 455us/step - loss: 0.0296 - accuracy: 0.9981\n",
      "Epoch 217/256\n",
      "15439/15439 [==============================] - 7s 451us/step - loss: 0.0296 - accuracy: 0.9981\n",
      "Epoch 218/256\n",
      "15439/15439 [==============================] - 7s 449us/step - loss: 0.0297 - accuracy: 0.9981\n",
      "Epoch 219/256\n",
      "15439/15439 [==============================] - 7s 457us/step - loss: 0.0298 - accuracy: 0.9981\n",
      "Epoch 220/256\n",
      "15439/15439 [==============================] - 7s 443us/step - loss: 0.0298 - accuracy: 0.9981\n",
      "Epoch 221/256\n",
      "15439/15439 [==============================] - 7s 449us/step - loss: 0.0299 - accuracy: 0.9981\n",
      "Epoch 222/256\n",
      "15439/15439 [==============================] - 7s 444us/step - loss: 0.0299 - accuracy: 0.9981\n",
      "Epoch 223/256\n",
      "15439/15439 [==============================] - 7s 448us/step - loss: 0.0300 - accuracy: 0.9981\n",
      "Epoch 224/256\n",
      "15439/15439 [==============================] - 7s 449us/step - loss: 0.0300 - accuracy: 0.9981\n",
      "Epoch 225/256\n",
      "15439/15439 [==============================] - 7s 444us/step - loss: 0.0301 - accuracy: 0.9981\n",
      "Epoch 226/256\n",
      "15439/15439 [==============================] - 7s 443us/step - loss: 0.0301 - accuracy: 0.9981\n",
      "Epoch 227/256\n",
      "15439/15439 [==============================] - 7s 444us/step - loss: 0.0302 - accuracy: 0.9981\n",
      "Epoch 228/256\n",
      "15439/15439 [==============================] - 7s 444us/step - loss: 0.0303 - accuracy: 0.9981\n",
      "Epoch 229/256\n",
      "15439/15439 [==============================] - 7s 439us/step - loss: 0.0303 - accuracy: 0.9981\n",
      "Epoch 230/256\n",
      "15439/15439 [==============================] - 7s 444us/step - loss: 0.0304 - accuracy: 0.9981\n",
      "Epoch 231/256\n",
      "15439/15439 [==============================] - 7s 441us/step - loss: 0.0304 - accuracy: 0.9981\n",
      "Epoch 232/256\n",
      "15439/15439 [==============================] - 7s 441us/step - loss: 0.0305 - accuracy: 0.9981\n",
      "Epoch 233/256\n",
      "15439/15439 [==============================] - 7s 440us/step - loss: 0.0305 - accuracy: 0.9981\n",
      "Epoch 234/256\n",
      "15439/15439 [==============================] - 7s 436us/step - loss: 0.0305 - accuracy: 0.9981\n",
      "Epoch 235/256\n",
      "15439/15439 [==============================] - 7s 444us/step - loss: 0.0307 - accuracy: 0.9981\n",
      "Epoch 236/256\n",
      "15439/15439 [==============================] - 7s 450us/step - loss: 0.0307 - accuracy: 0.9981\n",
      "Epoch 237/256\n",
      "15439/15439 [==============================] - 7s 449us/step - loss: 0.0308 - accuracy: 0.9981\n",
      "Epoch 238/256\n",
      "15439/15439 [==============================] - 7s 452us/step - loss: 0.0308 - accuracy: 0.9981\n",
      "Epoch 239/256\n",
      "15439/15439 [==============================] - 7s 448us/step - loss: 0.0309 - accuracy: 0.9981\n",
      "Epoch 240/256\n",
      "15439/15439 [==============================] - 7s 439us/step - loss: 0.0309 - accuracy: 0.9981\n",
      "Epoch 241/256\n",
      "15439/15439 [==============================] - 7s 446us/step - loss: 0.0310 - accuracy: 0.9981\n",
      "Epoch 242/256\n",
      "15439/15439 [==============================] - 7s 445us/step - loss: 0.0310 - accuracy: 0.9981\n",
      "Epoch 243/256\n",
      "15439/15439 [==============================] - 7s 454us/step - loss: 0.0311 - accuracy: 0.9981\n",
      "Epoch 244/256\n",
      "15439/15439 [==============================] - 7s 432us/step - loss: 0.0311 - accuracy: 0.9981\n",
      "Epoch 245/256\n",
      "15439/15439 [==============================] - 7s 430us/step - loss: 0.0312 - accuracy: 0.9981\n",
      "Epoch 246/256\n",
      "15439/15439 [==============================] - 7s 446us/step - loss: 0.0312 - accuracy: 0.9981\n",
      "Epoch 247/256\n",
      "15439/15439 [==============================] - 7s 443us/step - loss: 0.0313 - accuracy: 0.9981\n",
      "Epoch 248/256\n",
      "15439/15439 [==============================] - 7s 434us/step - loss: 0.0314 - accuracy: 0.9981\n",
      "Epoch 249/256\n",
      "15439/15439 [==============================] - 7s 435us/step - loss: 0.0314 - accuracy: 0.9981\n",
      "Epoch 250/256\n",
      "15439/15439 [==============================] - 7s 436us/step - loss: 0.0315 - accuracy: 0.9981\n",
      "Epoch 251/256\n",
      "15439/15439 [==============================] - 7s 431us/step - loss: 0.0315 - accuracy: 0.9981\n",
      "Epoch 252/256\n",
      "15439/15439 [==============================] - 7s 429us/step - loss: 0.0316 - accuracy: 0.9981\n",
      "Epoch 253/256\n",
      "15439/15439 [==============================] - 7s 454us/step - loss: 0.0316 - accuracy: 0.9981\n",
      "Epoch 254/256\n",
      "15439/15439 [==============================] - 7s 439us/step - loss: 0.0317 - accuracy: 0.9981\n",
      "Epoch 255/256\n",
      "15439/15439 [==============================] - 7s 443us/step - loss: 0.0318 - accuracy: 0.9981\n",
      "Epoch 256/256\n",
      "15439/15439 [==============================] - 7s 444us/step - loss: 0.0318 - accuracy: 0.9981\n"
     ]
    },
    {
     "data": {
      "text/plain": [
       "<keras.callbacks.History at 0x24db22f7f70>"
      ]
     },
     "execution_count": 145,
     "metadata": {},
     "output_type": "execute_result"
    }
   ],
   "source": [
    "model_1.compile(loss='binary_crossentropy', optimizer = 'rmsprop', metrics=['accuracy'])\n",
    "model_1.fit(X_numpy, Y_numpy, epochs = 256, verbose = 1)"
   ]
  },
  {
   "cell_type": "code",
   "execution_count": 146,
   "id": "d449a2b3",
   "metadata": {},
   "outputs": [
    {
     "name": "stdout",
     "output_type": "stream",
     "text": [
      "Model: \"sequential_10\"\n",
      "_________________________________________________________________\n",
      "Layer (type)                 Output Shape              Param #   \n",
      "=================================================================\n",
      "dense_25 (Dense)             (None, 1)                 120       \n",
      "=================================================================\n",
      "Total params: 120\n",
      "Trainable params: 120\n",
      "Non-trainable params: 0\n",
      "_________________________________________________________________\n"
     ]
    }
   ],
   "source": [
    "model_1.summary()"
   ]
  },
  {
   "cell_type": "markdown",
   "id": "b5440ba5",
   "metadata": {},
   "source": [
    "Conlusion-1:\n",
    "\n",
    "As seen from the above model, the basic logistic regression model has achieved an accuracy of 99.81 with 256 epochs."
   ]
  },
  {
   "cell_type": "markdown",
   "id": "c26cb6e5",
   "metadata": {},
   "source": [
    "#### Step-2 : Model with more layers and neurons so that dataset can overfit to 100%"
   ]
  },
  {
   "cell_type": "code",
   "execution_count": 48,
   "id": "5ffcb949",
   "metadata": {},
   "outputs": [],
   "source": [
    "model_2 = Sequential()\n",
    "model_2.add(Dense(8, input_dim = len(X_numpy[0, :]), activation='relu'))\n",
    "model_2.add(Dense(4, activation='relu'))\n",
    "model_2.add(Dense(2, activation='relu'))\n",
    "model_2.add(Dense(1, activation='sigmoid'))"
   ]
  },
  {
   "cell_type": "code",
   "execution_count": 50,
   "id": "75792d41",
   "metadata": {},
   "outputs": [
    {
     "name": "stdout",
     "output_type": "stream",
     "text": [
      "Epoch 1/32\n",
      "15439/15439 [==============================] - 9s 542us/step - loss: 0.0032 - accuracy: 0.9993\n",
      "Epoch 2/32\n",
      "15439/15439 [==============================] - 8s 540us/step - loss: 0.0027 - accuracy: 0.9994\n",
      "Epoch 3/32\n",
      "15439/15439 [==============================] - 8s 540us/step - loss: 0.0025 - accuracy: 0.9994\n",
      "Epoch 4/32\n",
      "15439/15439 [==============================] - 8s 537us/step - loss: 0.0022 - accuracy: 0.9995\n",
      "Epoch 5/32\n",
      "15439/15439 [==============================] - 8s 544us/step - loss: 0.0022 - accuracy: 0.9995\n",
      "Epoch 6/32\n",
      "15439/15439 [==============================] - 8s 537us/step - loss: 0.0021 - accuracy: 0.9995\n",
      "Epoch 7/32\n",
      "15439/15439 [==============================] - 8s 537us/step - loss: 0.0020 - accuracy: 0.9995\n",
      "Epoch 8/32\n",
      "15439/15439 [==============================] - 9s 551us/step - loss: 0.0019 - accuracy: 0.9995\n",
      "Epoch 9/32\n",
      "15439/15439 [==============================] - 8s 546us/step - loss: 0.0019 - accuracy: 0.9995\n",
      "Epoch 10/32\n",
      "15439/15439 [==============================] - 9s 573us/step - loss: 0.0018 - accuracy: 0.9995\n",
      "Epoch 11/32\n",
      "15439/15439 [==============================] - 9s 554us/step - loss: 0.0018 - accuracy: 0.9996\n",
      "Epoch 12/32\n",
      "15439/15439 [==============================] - 9s 564us/step - loss: 0.0018 - accuracy: 0.9995\n",
      "Epoch 13/32\n",
      "15439/15439 [==============================] - 9s 576us/step - loss: 0.0017 - accuracy: 0.9996\n",
      "Epoch 14/32\n",
      "15439/15439 [==============================] - 9s 571us/step - loss: 0.0017 - accuracy: 0.9996\n",
      "Epoch 15/32\n",
      "15439/15439 [==============================] - 9s 574us/step - loss: 0.0017 - accuracy: 0.9996\n",
      "Epoch 16/32\n",
      "15439/15439 [==============================] - 9s 563us/step - loss: 0.0016 - accuracy: 0.9996\n",
      "Epoch 17/32\n",
      "15439/15439 [==============================] - 9s 557us/step - loss: 0.0016 - accuracy: 0.9996\n",
      "Epoch 18/32\n",
      "15439/15439 [==============================] - 9s 555us/step - loss: 0.0017 - accuracy: 0.9996\n",
      "Epoch 19/32\n",
      "15439/15439 [==============================] - 9s 567us/step - loss: 0.0016 - accuracy: 0.9996\n",
      "Epoch 20/32\n",
      "15439/15439 [==============================] - 9s 557us/step - loss: 0.0016 - accuracy: 0.9996\n",
      "Epoch 21/32\n",
      "15439/15439 [==============================] - 9s 564us/step - loss: 0.0016 - accuracy: 0.9996\n",
      "Epoch 22/32\n",
      "15439/15439 [==============================] - 9s 564us/step - loss: 0.0016 - accuracy: 0.9996\n",
      "Epoch 23/32\n",
      "15439/15439 [==============================] - 9s 552us/step - loss: 0.0015 - accuracy: 0.9996\n",
      "Epoch 24/32\n",
      "15439/15439 [==============================] - 9s 555us/step - loss: 0.0015 - accuracy: 0.9996\n",
      "Epoch 25/32\n",
      "15439/15439 [==============================] - 9s 567us/step - loss: 0.0015 - accuracy: 0.9996\n",
      "Epoch 26/32\n",
      "15439/15439 [==============================] - 9s 610us/step - loss: 0.0015 - accuracy: 0.9996\n",
      "Epoch 27/32\n",
      "15439/15439 [==============================] - 9s 555us/step - loss: 0.0015 - accuracy: 0.9996\n",
      "Epoch 28/32\n",
      "15439/15439 [==============================] - 9s 556us/step - loss: 0.0015 - accuracy: 0.9996\n",
      "Epoch 29/32\n",
      "15439/15439 [==============================] - 8s 550us/step - loss: 0.0015 - accuracy: 0.9996\n",
      "Epoch 30/32\n",
      "15439/15439 [==============================] - 8s 548us/step - loss: 0.0015 - accuracy: 0.9996\n",
      "Epoch 31/32\n",
      "15439/15439 [==============================] - 9s 554us/step - loss: 0.0015 - accuracy: 0.9996\n",
      "Epoch 32/32\n",
      "15439/15439 [==============================] - 9s 552us/step - loss: 0.0015 - accuracy: 0.9996\n"
     ]
    }
   ],
   "source": [
    "model_2.compile(loss='binary_crossentropy', optimizer = 'adam', metrics=['accuracy'])\n",
    "model_2_history = model_2.fit(X_numpy, Y_numpy, epochs = 32, verbose = 1)"
   ]
  },
  {
   "cell_type": "markdown",
   "id": "4eb3872b",
   "metadata": {},
   "source": [
    "##### Model - 2: Epochs vs Loss & Epochs vs Accuracy"
   ]
  },
  {
   "cell_type": "code",
   "execution_count": 51,
   "id": "e09a704e",
   "metadata": {},
   "outputs": [
    {
     "data": {
      "image/png": "[encoded data removed]",
      "text/plain": [
       "<Figure size 432x288 with 1 Axes>"
      ]
     },
     "metadata": {
      "needs_background": "light"
     },
     "output_type": "display_data"
    },
    {
     "data": {
      "image/png": "[encoded data removed]",
      "text/plain": [
       "<Figure size 432x288 with 1 Axes>"
      ]
     },
     "metadata": {
      "needs_background": "light"
     },
     "output_type": "display_data"
    }
   ],
   "source": [
    "import matplotlib.pyplot as plt\n",
    "\n",
    "plt.plot(model_2_history.history['accuracy'])\n",
    "plt.title('model 2: accuracy vs epochs')\n",
    "plt.ylabel('accuracy')\n",
    "plt.xlabel('epoch')\n",
    "plt.legend(['train', 'test'], loc='upper left')\n",
    "plt.show()\n",
    "# summarize history for loss\n",
    "plt.plot(model_2_history.history['loss'])\n",
    "plt.title('model 2: loss vs epochs')\n",
    "plt.ylabel('loss')\n",
    "plt.xlabel('epoch')\n",
    "plt.legend(['train', 'test'], loc='upper left')\n",
    "plt.show()"
   ]
  },
  {
   "cell_type": "code",
   "execution_count": 53,
   "id": "db025b16",
   "metadata": {},
   "outputs": [
    {
     "name": "stdout",
     "output_type": "stream",
     "text": [
      "Model: \"sequential_3\"\n",
      "_________________________________________________________________\n",
      "Layer (type)                 Output Shape              Param #   \n",
      "=================================================================\n",
      "dense_11 (Dense)             (None, 8)                 960       \n",
      "_________________________________________________________________\n",
      "dense_12 (Dense)             (None, 4)                 36        \n",
      "_________________________________________________________________\n",
      "dense_13 (Dense)             (None, 2)                 10        \n",
      "_________________________________________________________________\n",
      "dense_14 (Dense)             (None, 1)                 3         \n",
      "=================================================================\n",
      "Total params: 1,009\n",
      "Trainable params: 1,009\n",
      "Non-trainable params: 0\n",
      "_________________________________________________________________\n"
     ]
    }
   ],
   "source": [
    "model_2.summary()"
   ]
  },
  {
   "cell_type": "markdown",
   "id": "25332521",
   "metadata": {},
   "source": [
    "Conclusion-2: A seen from the model-2 performance we have achieved 99.96% accuracy (close to 100%) which means this model did overfit the dataset."
   ]
  }
 ],
 "metadata": {
  "kernelspec": {
   "display_name": "Python 3",
   "language": "python",
   "name": "python3"
  },
  "language_info": {
   "codemirror_mode": {
    "name": "ipython",
    "version": 3
   },
   "file_extension": ".py",
   "mimetype": "text/x-python",
   "name": "python",
   "nbconvert_exporter": "python",
   "pygments_lexer": "ipython3",
   "version": "3.8.8"
  }
 },
 "nbformat": 4,
 "nbformat_minor": 5
}
