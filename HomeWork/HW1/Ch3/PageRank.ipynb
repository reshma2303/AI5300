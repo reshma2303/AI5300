{
 "cells": [
  {
   "cell_type": "markdown",
   "id": "21fe15be",
   "metadata": {},
   "source": [
    "This notebook contains the implementations for function PageRank"
   ]
  },
  {
   "cell_type": "markdown",
   "id": "b7359fc5",
   "metadata": {},
   "source": [
    "Ref: https://github.com/badriadhikari/AI/blob/main/Chapter-homeworks.md"
   ]
  },
  {
   "cell_type": "markdown",
   "id": "ecf0dbed",
   "metadata": {},
   "source": [
    "The objective in this activity is to implement a basic version of the PageRank algorithm - a core algorithm originally developed by Google for ranking pages. Here is the expression for the original version of the PageRank algorithm. Task: For the network shown below, calculate the PageRank of the pages A, B, and C, and D by writing a Python program to iteratively obtain the final page ranks. Assume that the damping parameter d is 0.7. Please follow the solution structure provided in the code block below. Hint: The trick is to count inlinks not outlinks."
   ]
  },
  {
   "cell_type": "markdown",
   "id": "a9c2bf1f",
   "metadata": {},
   "source": [
    "Coding Approach:\n",
    "- Object oriented\n",
    "- Readable\n",
    "- Optimized\n",
    "- Break down functions\n",
    "- Application: Search Engine Optimization (SEO) like Google\n",
    "- Code commented\n"
   ]
  },
  {
   "cell_type": "code",
   "execution_count": 39,
   "id": "7a7478bf",
   "metadata": {},
   "outputs": [],
   "source": [
    "class PageRank:\n",
    "    def __init__(self, N=4, d=0.7):\n",
    "        self.N = N\n",
    "        self.d = d\n",
    "        self.network = self.build_network()\n",
    "        self.first_exp_val = self._compute_first_exp()\n",
    "        self.page_ranks_map = self._initialize_page_ranks()\n",
    "    \n",
    "    def build_network(self):\n",
    "        \"\"\"\n",
    "            Nodes, Inlinks and Outlinks\n",
    "            \n",
    "            Data Structure used: Dict of dicts\n",
    "        \"\"\"\n",
    "        network = {'A': {'inlinks': ['C'], 'outlinks': ['B', 'C']},\n",
    "                  'B': {'inlinks': ['A', 'C'], 'outlinks': ['D']},\n",
    "                  'C': {'inlinks': ['A', 'D'], 'outlinks': ['A', 'B', 'D']},\n",
    "                  'D': {'inlinks': ['B', 'C'], 'outlinks': ['C']}}\n",
    "        return network\n",
    "    \n",
    "    def _initialize_page_ranks(self):\n",
    "        \"\"\"\n",
    "            Set initial page rank to 1.0 for all pages\n",
    "        \"\"\"\n",
    "        page_ranks_map = {}\n",
    "        for each_node in self.network.keys():\n",
    "            page_ranks_map[each_node] = 1\n",
    "        return page_ranks_map\n",
    "        \n",
    "    \n",
    "    def _compute_first_exp(self):\n",
    "        \"\"\"\n",
    "            First expression in the page rank formula\n",
    "        \"\"\"\n",
    "        return (1 - self.d)/self.N\n",
    "    \n",
    "    def _compute_pagerank_for_this_page(self, page_node):\n",
    "        \"\"\"\n",
    "            Page rank computation for a single page\n",
    "        \"\"\"\n",
    "        inlinks = self.network[page_node]['inlinks']\n",
    "        inlink_summation = 0\n",
    "        \n",
    "        for inlink_node in inlinks:\n",
    "            c_in = len(self.network[inlink_node]['outlinks'])\n",
    "            inlink_summation += (self.page_ranks_map[inlink_node]/float(c_in))\n",
    "            \n",
    "        return self.first_exp_val + self.d * inlink_summation\n",
    "\n",
    "    \n",
    "    def update_page_ranks(self):\n",
    "        \"\"\"\n",
    "            One single iteration for updating page ranks\n",
    "        \"\"\"\n",
    "        \n",
    "        for each_node in self.network.keys():\n",
    "            \n",
    "            pr_this_node = self._compute_pagerank_for_this_page(each_node)\n",
    "            self.page_ranks_map[each_node] = pr_this_node\n",
    "        \n",
    "    def converge_page_ranks(self):\n",
    "        \"\"\"\n",
    "            Function to converge until the page ranks do not change\n",
    "        \"\"\"\n",
    "        \n",
    "        for i in range(50):\n",
    "            self.update_page_ranks()\n",
    "        return self.page_ranks_map\n",
    "    "
   ]
  },
  {
   "cell_type": "markdown",
   "id": "9e2624ae",
   "metadata": {},
   "source": [
    "## Results"
   ]
  },
  {
   "cell_type": "code",
   "execution_count": 41,
   "id": "1437d9a0",
   "metadata": {},
   "outputs": [
    {
     "data": {
      "text/plain": [
       "{'A': 0.15399983351370283,\n",
       " 'B': 0.2078997752434988,\n",
       " 'C': 0.3385707150587077,\n",
       " 'D': 0.2995296761841476}"
      ]
     },
     "execution_count": 41,
     "metadata": {},
     "output_type": "execute_result"
    }
   ],
   "source": [
    "page_rank_obj = PageRank()\n",
    "\n",
    "page_ranks = page_rank_obj.converge_page_ranks()        \n",
    "page_ranks"
   ]
  }
 ],
 "metadata": {
  "kernelspec": {
   "display_name": "Python 3",
   "language": "python",
   "name": "python3"
  },
  "language_info": {
   "codemirror_mode": {
    "name": "ipython",
    "version": 3
   },
   "file_extension": ".py",
   "mimetype": "text/x-python",
   "name": "python",
   "nbconvert_exporter": "python",
   "pygments_lexer": "ipython3",
   "version": "3.8.8"
  }
 },
 "nbformat": 4,
 "nbformat_minor": 5
}
