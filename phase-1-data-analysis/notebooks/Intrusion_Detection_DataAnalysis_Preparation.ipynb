{
 "cells": [
  {
   "cell_type": "markdown",
   "id": "cb7fb570",
   "metadata": {},
   "source": [
    "## Predicting Anomalies in Network Traffic (A Binary Classification problem)"
   ]
  },
  {
   "cell_type": "markdown",
   "id": "854cab28",
   "metadata": {},
   "source": [
    "### 1. Introduction"
   ]
  },
  {
   "cell_type": "markdown",
   "id": "70693633",
   "metadata": {},
   "source": [
    "#### 1.1 IntrusionsDetection Systems"
   ]
  },
  {
   "cell_type": "markdown",
   "id": "9daa0fdb",
   "metadata": {},
   "source": [
    "Intrusion Detection Systems (IDS) provide network security software applications by continuously monitoring network traffic and classifying the connections as normal or malicious. IDS are categorized into two types based on the responsive nature - Passive IDS and Active IDS. A passive IDS is designed to identify and block the malicious and malware attacks manually by human experts whereas active IDS is designed to identify and block the malware attacks using a software automatically. \n",
    "\n",
    "IDS are also categorized into Signature based IDS and Anomaly Based IDS. In the Signature based IDS, there exists a database which contains details about all known malware attacks against which each network traffic connection is validated to identify the malicious nature if it exists. This type of IDS is costly and has to keep updating new types of attacks frequently. Anomaly based IDS is a behavior-based system where any deviation from the normal network traffic patterns will be reported using pattern-recognition techniques. In this research paper, a proof-of-concept for a machine learning based Anomaly based intrusion detection will be evaluated on a benchmark intrusion detection dataset. \n"
   ]
  },
  {
   "cell_type": "markdown",
   "id": "81d0a326",
   "metadata": {},
   "source": [
    "#### 1.2 Motivation"
   ]
  },
  {
   "cell_type": "markdown",
   "id": "f67c68df",
   "metadata": {},
   "source": [
    "The Internet of Things (IoT) has changed the way devices communicate across a network. There are over 30 billion devices connected to each other in today's world where their communication happens over the network. Due to the variety, velocity and vast nature of this traffic, the traditional intrusion detection systems are not sufficient to identify the malware patterns. With the help of data science, machine learning and neural network techniques, one can leverage the historic network traffic patterns and can build an intelligent artificial intelligence model to solve this intrusion detection problem. This project exactly tries to provide a proof-of-concept for this problem by applying machine learning and neural network techniques on a benchmark network intrusion detection dataset."
   ]
  },
  {
   "cell_type": "markdown",
   "id": "c44d88b6",
   "metadata": {},
   "source": [
    "#### 1.3 Problem Statement"
   ]
  },
  {
   "cell_type": "markdown",
   "id": "a897d7d2",
   "metadata": {},
   "source": [
    "In this research, KDD Cup 1999 dataset will be used to build a machine learning based intrusion detection problem to predict (classify) whether a network connection is \"normal\" or \"abnormal\". As this is a categorical prediction, this is a binary classification problem"
   ]
  },
  {
   "cell_type": "markdown",
   "id": "0d753aee",
   "metadata": {},
   "source": [
    "### 2. DataSet Description and Exploration"
   ]
  },
  {
   "cell_type": "markdown",
   "id": "9a89a11b",
   "metadata": {},
   "source": [
    "In this research, the KDD Cup 1999 dataset has been chosen for the data analysis and model building. This dataset was used in the fifth international conference for the data mining and knowledge discovery competition and contains a huge variety of network intrusion data that is simulated in an environment equipped with a military network setting.\n",
    "\n",
    "The original source of the dataset is from the official KDD website [1] and can also be found in the kaggle website [2]. The dataset contains about 494,000 records of network readings with details like source bytes, destination connection information, type of attacks and so on. Below are the list of features (columns) and their data types in the dataset.\n"
   ]
  },
  {
   "cell_type": "markdown",
   "id": "513cbbec",
   "metadata": {},
   "source": [
    "#### 2.1 Categorical Columns"
   ]
  },
  {
   "cell_type": "markdown",
   "id": "763c1b6a",
   "metadata": {},
   "source": [
    "'protocol_type', 'service', 'flag', 'land', 'logged_in', 'is_host_login', 'is_guest_login'"
   ]
  },
  {
   "cell_type": "code",
   "execution_count": 107,
   "id": "566eb216",
   "metadata": {},
   "outputs": [],
   "source": [
    "catg_cols = ['protocol_type', 'service', 'flag', 'land', 'logged_in', 'is_host_login', 'is_guest_login']"
   ]
  },
  {
   "cell_type": "markdown",
   "id": "4b192e7a",
   "metadata": {},
   "source": [
    "#### 2.2 Continuous Columns"
   ]
  },
  {
   "cell_type": "code",
   "execution_count": 108,
   "id": "447967d2",
   "metadata": {},
   "outputs": [],
   "source": [
    "cont_cols = [ 'duration', 'src_bytes', 'dst_bytes', 'wrong_fragment', 'urgent', 'hot', 'num_failed_logins', 'num_compromised', 'root_shell', 'su_attempted', 'num_root', 'num_file_creations', 'num_shells', 'num_access_files', 'num_outbound_cmds', 'count', 'srv_count', 'serror_rate', 'srv_serror_rate', 'rerror_rate', 'srv_rerror_rate', 'same_srv_rate', 'diff_srv_rate', 'srv_diff_host_rate', 'dst_host_count', 'dst_host_srv_count', 'dst_host_same_srv_rate', 'dst_host_diff_srv_rate', 'dst_host_same_src_port_rate', 'dst_host_srv_diff_host_rate', 'dst_host_serror_rate', 'dst_host_srv_serror_rate', 'dst_host_rerror_rate', 'dst_host_srv_rerror_rate']"
   ]
  },
  {
   "cell_type": "markdown",
   "id": "c4b05f42",
   "metadata": {},
   "source": [
    "#### 2.3 Target Variable"
   ]
  },
  {
   "cell_type": "markdown",
   "id": "7fd44276",
   "metadata": {},
   "source": [
    "The target variable \"label\" contains all different types of malware attacks and also the value \"normal\" (i.e., not an attack) as shown below.\n",
    "\n",
    "'normal', 'buffer_overflow', 'loadmodule', 'perl', 'neptune', 'smurf', 'guess_passwd', 'pod', 'teardrop', 'portsweep', 'ipsweep', 'land', 'ftp_write', 'back', 'imap', 'satan', 'phf', 'nmap', 'multihop', 'warezmaster', 'warezclient', 'spy', 'rootkit'\n",
    "\n",
    "All malware attacks are grouped (transformed) to the value \"abnormal\" to make this problem a binary classification problem instead of a multi-class classification.\n"
   ]
  },
  {
   "cell_type": "code",
   "execution_count": 109,
   "id": "1bb3f396",
   "metadata": {},
   "outputs": [],
   "source": [
    "target_variable = 'label'"
   ]
  },
  {
   "cell_type": "markdown",
   "id": "c77fe60e",
   "metadata": {},
   "source": [
    "#### 2.4 Data Load"
   ]
  },
  {
   "cell_type": "code",
   "execution_count": 110,
   "id": "10a3bdc5",
   "metadata": {},
   "outputs": [],
   "source": [
    "import pandas as pd\n",
    "df = pd.read_csv(\"../datasets/kddcup99_csv.csv\")"
   ]
  },
  {
   "cell_type": "markdown",
   "id": "2ac199c3",
   "metadata": {},
   "source": [
    "#### 2.5 Dataset size"
   ]
  },
  {
   "cell_type": "code",
   "execution_count": 111,
   "id": "c4c104fe",
   "metadata": {},
   "outputs": [
    {
     "data": {
      "text/plain": [
       "(494020, 42)"
      ]
     },
     "execution_count": 111,
     "metadata": {},
     "output_type": "execute_result"
    }
   ],
   "source": [
    "df.shape"
   ]
  },
  {
   "cell_type": "markdown",
   "id": "3c9b1943",
   "metadata": {},
   "source": [
    "494020 records with 41 features and 1 target variable (\"label\") for prediction"
   ]
  },
  {
   "cell_type": "code",
   "execution_count": 112,
   "id": "9d26a757",
   "metadata": {},
   "outputs": [
    {
     "data": {
      "text/html": [
       "<div>\n",
       "<style scoped>\n",
       "    .dataframe tbody tr th:only-of-type {\n",
       "        vertical-align: middle;\n",
       "    }\n",
       "\n",
       "    .dataframe tbody tr th {\n",
       "        vertical-align: top;\n",
       "    }\n",
       "\n",
       "    .dataframe thead th {\n",
       "        text-align: right;\n",
       "    }\n",
       "</style>\n",
       "<table border=\"1\" class=\"dataframe\">\n",
       "  <thead>\n",
       "    <tr style=\"text-align: right;\">\n",
       "      <th></th>\n",
       "      <th>duration</th>\n",
       "      <th>protocol_type</th>\n",
       "      <th>service</th>\n",
       "      <th>flag</th>\n",
       "      <th>src_bytes</th>\n",
       "      <th>dst_bytes</th>\n",
       "      <th>land</th>\n",
       "      <th>wrong_fragment</th>\n",
       "      <th>urgent</th>\n",
       "      <th>hot</th>\n",
       "      <th>...</th>\n",
       "      <th>dst_host_srv_count</th>\n",
       "      <th>dst_host_same_srv_rate</th>\n",
       "      <th>dst_host_diff_srv_rate</th>\n",
       "      <th>dst_host_same_src_port_rate</th>\n",
       "      <th>dst_host_srv_diff_host_rate</th>\n",
       "      <th>dst_host_serror_rate</th>\n",
       "      <th>dst_host_srv_serror_rate</th>\n",
       "      <th>dst_host_rerror_rate</th>\n",
       "      <th>dst_host_srv_rerror_rate</th>\n",
       "      <th>label</th>\n",
       "    </tr>\n",
       "  </thead>\n",
       "  <tbody>\n",
       "    <tr>\n",
       "      <th>0</th>\n",
       "      <td>0</td>\n",
       "      <td>tcp</td>\n",
       "      <td>http</td>\n",
       "      <td>SF</td>\n",
       "      <td>181</td>\n",
       "      <td>5450</td>\n",
       "      <td>0</td>\n",
       "      <td>0</td>\n",
       "      <td>0</td>\n",
       "      <td>0</td>\n",
       "      <td>...</td>\n",
       "      <td>9</td>\n",
       "      <td>1.0</td>\n",
       "      <td>0.0</td>\n",
       "      <td>0.11</td>\n",
       "      <td>0.0</td>\n",
       "      <td>0.0</td>\n",
       "      <td>0.0</td>\n",
       "      <td>0.0</td>\n",
       "      <td>0.0</td>\n",
       "      <td>normal</td>\n",
       "    </tr>\n",
       "    <tr>\n",
       "      <th>1</th>\n",
       "      <td>0</td>\n",
       "      <td>tcp</td>\n",
       "      <td>http</td>\n",
       "      <td>SF</td>\n",
       "      <td>239</td>\n",
       "      <td>486</td>\n",
       "      <td>0</td>\n",
       "      <td>0</td>\n",
       "      <td>0</td>\n",
       "      <td>0</td>\n",
       "      <td>...</td>\n",
       "      <td>19</td>\n",
       "      <td>1.0</td>\n",
       "      <td>0.0</td>\n",
       "      <td>0.05</td>\n",
       "      <td>0.0</td>\n",
       "      <td>0.0</td>\n",
       "      <td>0.0</td>\n",
       "      <td>0.0</td>\n",
       "      <td>0.0</td>\n",
       "      <td>normal</td>\n",
       "    </tr>\n",
       "    <tr>\n",
       "      <th>2</th>\n",
       "      <td>0</td>\n",
       "      <td>tcp</td>\n",
       "      <td>http</td>\n",
       "      <td>SF</td>\n",
       "      <td>235</td>\n",
       "      <td>1337</td>\n",
       "      <td>0</td>\n",
       "      <td>0</td>\n",
       "      <td>0</td>\n",
       "      <td>0</td>\n",
       "      <td>...</td>\n",
       "      <td>29</td>\n",
       "      <td>1.0</td>\n",
       "      <td>0.0</td>\n",
       "      <td>0.03</td>\n",
       "      <td>0.0</td>\n",
       "      <td>0.0</td>\n",
       "      <td>0.0</td>\n",
       "      <td>0.0</td>\n",
       "      <td>0.0</td>\n",
       "      <td>normal</td>\n",
       "    </tr>\n",
       "    <tr>\n",
       "      <th>3</th>\n",
       "      <td>0</td>\n",
       "      <td>tcp</td>\n",
       "      <td>http</td>\n",
       "      <td>SF</td>\n",
       "      <td>219</td>\n",
       "      <td>1337</td>\n",
       "      <td>0</td>\n",
       "      <td>0</td>\n",
       "      <td>0</td>\n",
       "      <td>0</td>\n",
       "      <td>...</td>\n",
       "      <td>39</td>\n",
       "      <td>1.0</td>\n",
       "      <td>0.0</td>\n",
       "      <td>0.03</td>\n",
       "      <td>0.0</td>\n",
       "      <td>0.0</td>\n",
       "      <td>0.0</td>\n",
       "      <td>0.0</td>\n",
       "      <td>0.0</td>\n",
       "      <td>normal</td>\n",
       "    </tr>\n",
       "    <tr>\n",
       "      <th>4</th>\n",
       "      <td>0</td>\n",
       "      <td>tcp</td>\n",
       "      <td>http</td>\n",
       "      <td>SF</td>\n",
       "      <td>217</td>\n",
       "      <td>2032</td>\n",
       "      <td>0</td>\n",
       "      <td>0</td>\n",
       "      <td>0</td>\n",
       "      <td>0</td>\n",
       "      <td>...</td>\n",
       "      <td>49</td>\n",
       "      <td>1.0</td>\n",
       "      <td>0.0</td>\n",
       "      <td>0.02</td>\n",
       "      <td>0.0</td>\n",
       "      <td>0.0</td>\n",
       "      <td>0.0</td>\n",
       "      <td>0.0</td>\n",
       "      <td>0.0</td>\n",
       "      <td>normal</td>\n",
       "    </tr>\n",
       "  </tbody>\n",
       "</table>\n",
       "<p>5 rows × 42 columns</p>\n",
       "</div>"
      ],
      "text/plain": [
       "   duration protocol_type service flag  src_bytes  dst_bytes  land  \\\n",
       "0         0           tcp    http   SF        181       5450     0   \n",
       "1         0           tcp    http   SF        239        486     0   \n",
       "2         0           tcp    http   SF        235       1337     0   \n",
       "3         0           tcp    http   SF        219       1337     0   \n",
       "4         0           tcp    http   SF        217       2032     0   \n",
       "\n",
       "   wrong_fragment  urgent  hot  ...  dst_host_srv_count  \\\n",
       "0               0       0    0  ...                   9   \n",
       "1               0       0    0  ...                  19   \n",
       "2               0       0    0  ...                  29   \n",
       "3               0       0    0  ...                  39   \n",
       "4               0       0    0  ...                  49   \n",
       "\n",
       "   dst_host_same_srv_rate  dst_host_diff_srv_rate  \\\n",
       "0                     1.0                     0.0   \n",
       "1                     1.0                     0.0   \n",
       "2                     1.0                     0.0   \n",
       "3                     1.0                     0.0   \n",
       "4                     1.0                     0.0   \n",
       "\n",
       "   dst_host_same_src_port_rate  dst_host_srv_diff_host_rate  \\\n",
       "0                         0.11                          0.0   \n",
       "1                         0.05                          0.0   \n",
       "2                         0.03                          0.0   \n",
       "3                         0.03                          0.0   \n",
       "4                         0.02                          0.0   \n",
       "\n",
       "   dst_host_serror_rate  dst_host_srv_serror_rate  dst_host_rerror_rate  \\\n",
       "0                   0.0                       0.0                   0.0   \n",
       "1                   0.0                       0.0                   0.0   \n",
       "2                   0.0                       0.0                   0.0   \n",
       "3                   0.0                       0.0                   0.0   \n",
       "4                   0.0                       0.0                   0.0   \n",
       "\n",
       "   dst_host_srv_rerror_rate   label  \n",
       "0                       0.0  normal  \n",
       "1                       0.0  normal  \n",
       "2                       0.0  normal  \n",
       "3                       0.0  normal  \n",
       "4                       0.0  normal  \n",
       "\n",
       "[5 rows x 42 columns]"
      ]
     },
     "execution_count": 112,
     "metadata": {},
     "output_type": "execute_result"
    }
   ],
   "source": [
    "df.head()"
   ]
  },
  {
   "cell_type": "markdown",
   "id": "87cec218",
   "metadata": {},
   "source": [
    "#### 2.6 Target Variable distribution"
   ]
  },
  {
   "cell_type": "code",
   "execution_count": 113,
   "id": "d67445c0",
   "metadata": {},
   "outputs": [
    {
     "data": {
      "text/plain": [
       "smurf              280790\n",
       "neptune            107201\n",
       "normal              97277\n",
       "back                 2203\n",
       "satan                1589\n",
       "ipsweep              1247\n",
       "portsweep            1040\n",
       "warezclient          1020\n",
       "teardrop              979\n",
       "pod                   264\n",
       "nmap                  231\n",
       "guess_passwd           53\n",
       "buffer_overflow        30\n",
       "land                   21\n",
       "warezmaster            20\n",
       "imap                   12\n",
       "rootkit                10\n",
       "loadmodule              9\n",
       "ftp_write               8\n",
       "multihop                7\n",
       "phf                     4\n",
       "perl                    3\n",
       "spy                     2\n",
       "Name: label, dtype: int64"
      ]
     },
     "execution_count": 113,
     "metadata": {},
     "output_type": "execute_result"
    }
   ],
   "source": [
    "df['label'].value_counts()"
   ]
  },
  {
   "cell_type": "markdown",
   "id": "fa3bcd3a",
   "metadata": {},
   "source": [
    "As seen above, there are various type of malware attacks which can be grouped as \"abnormal\" to make this problem as binary classification problem"
   ]
  },
  {
   "cell_type": "markdown",
   "id": "87ead393",
   "metadata": {},
   "source": [
    "##### 2.6.1 Group all malware attacks as \"abnormal\""
   ]
  },
  {
   "cell_type": "code",
   "execution_count": 114,
   "id": "3a5c47be",
   "metadata": {},
   "outputs": [],
   "source": [
    "attack_types = list(df['label'].unique())\n",
    "attack_types.remove('normal') # remove normal from attack types as we only want malware attacks to convert as abnormal"
   ]
  },
  {
   "cell_type": "code",
   "execution_count": 115,
   "id": "c7191be5",
   "metadata": {},
   "outputs": [
    {
     "data": {
      "text/plain": [
       "(494020, 42)"
      ]
     },
     "execution_count": 115,
     "metadata": {},
     "output_type": "execute_result"
    }
   ],
   "source": [
    "df['label'] = df['label'].replace(attack_types, 'abnormal')\n",
    "df.shape"
   ]
  },
  {
   "cell_type": "code",
   "execution_count": 116,
   "id": "ea8e6a3b",
   "metadata": {},
   "outputs": [
    {
     "data": {
      "text/plain": [
       "abnormal    396743\n",
       "normal       97277\n",
       "Name: label, dtype: int64"
      ]
     },
     "execution_count": 116,
     "metadata": {},
     "output_type": "execute_result"
    }
   ],
   "source": [
    "df['label'].value_counts()"
   ]
  },
  {
   "cell_type": "markdown",
   "id": "1d683f19",
   "metadata": {},
   "source": [
    "##### 2.6.2 Target Variable histogram distribution"
   ]
  },
  {
   "cell_type": "code",
   "execution_count": 127,
   "id": "6a49cd9b",
   "metadata": {},
   "outputs": [
    {
     "data": {
      "text/plain": [
       "Text(0.5, 1.0, 'Target Classes Distribution')"
      ]
     },
     "execution_count": 127,
     "metadata": {},
     "output_type": "execute_result"
    },
    {
     "data": {
      "image/png": "[encoded data removed]",
      "text/plain": [
       "<Figure size 432x288 with 1 Axes>"
      ]
     },
     "metadata": {
      "needs_background": "light"
     },
     "output_type": "display_data"
    }
   ],
   "source": [
    "label_hist_plot = df['label'].hist()\n",
    "label_hist_plot.set_xlabel('target_classes')\n",
    "label_hist_plot.set_ylabel('counts')\n",
    "label_hist_plot.set_title('Target Classes Distribution')"
   ]
  },
  {
   "cell_type": "markdown",
   "id": "cdab5f84",
   "metadata": {},
   "source": [
    "#### 2.7 Categorical Variables Distribution"
   ]
  },
  {
   "cell_type": "code",
   "execution_count": 130,
   "id": "d73fbde0",
   "metadata": {},
   "outputs": [
    {
     "data": {
      "text/plain": [
       "['protocol_type',\n",
       " 'service',\n",
       " 'flag',\n",
       " 'land',\n",
       " 'logged_in',\n",
       " 'is_host_login',\n",
       " 'is_guest_login']"
      ]
     },
     "execution_count": 130,
     "metadata": {},
     "output_type": "execute_result"
    }
   ],
   "source": [
    "catg_cols"
   ]
  },
  {
   "cell_type": "code",
   "execution_count": 133,
   "id": "fa042f9e",
   "metadata": {},
   "outputs": [
    {
     "data": {
      "text/plain": [
       "protocol_type     object\n",
       "service           object\n",
       "flag              object\n",
       "land               int64\n",
       "logged_in          int64\n",
       "is_host_login      int64\n",
       "is_guest_login     int64\n",
       "dtype: object"
      ]
     },
     "execution_count": 133,
     "metadata": {},
     "output_type": "execute_result"
    }
   ],
   "source": [
    "df[catg_cols].dtypes"
   ]
  },
  {
   "cell_type": "markdown",
   "id": "c5d0bf2a",
   "metadata": {},
   "source": [
    "As seen from the above datatypes of the categorical columns,the column values are not strings. We need to convert them to string before performing any analysis"
   ]
  },
  {
   "cell_type": "markdown",
   "id": "fded1b0e",
   "metadata": {},
   "source": [
    "##### 2.7.1 Fixing the data types of categorical columns"
   ]
  },
  {
   "cell_type": "code",
   "execution_count": 137,
   "id": "9a892f21",
   "metadata": {},
   "outputs": [
    {
     "data": {
      "text/plain": [
       "protocol_type     object\n",
       "service           object\n",
       "flag              object\n",
       "land              object\n",
       "logged_in         object\n",
       "is_host_login     object\n",
       "is_guest_login    object\n",
       "dtype: object"
      ]
     },
     "execution_count": 137,
     "metadata": {},
     "output_type": "execute_result"
    }
   ],
   "source": [
    "df['protocol_type'] = df['protocol_type'].astype(str)\n",
    "df['service'] = df['service'].astype(str)\n",
    "df['flag'] = df['flag'].astype(str)\n",
    "df['land'] = df['land'].astype(str)\n",
    "df['logged_in'] = df['logged_in'].astype(str)\n",
    "df['is_host_login'] = df['is_host_login'].astype(str)\n",
    "df['is_guest_login'] = df['is_guest_login'].astype(str)\n",
    "df[catg_cols].dtypes"
   ]
  },
  {
   "cell_type": "markdown",
   "id": "2d6b3da4",
   "metadata": {},
   "source": [
    "##### 2.7.2 Distribution Plots for categorical variables"
   ]
  },
  {
   "cell_type": "code",
   "execution_count": 138,
   "id": "cafd71f1",
   "metadata": {},
   "outputs": [
    {
     "data": {
      "text/html": [
       "<div>\n",
       "<style scoped>\n",
       "    .dataframe tbody tr th:only-of-type {\n",
       "        vertical-align: middle;\n",
       "    }\n",
       "\n",
       "    .dataframe tbody tr th {\n",
       "        vertical-align: top;\n",
       "    }\n",
       "\n",
       "    .dataframe thead th {\n",
       "        text-align: right;\n",
       "    }\n",
       "</style>\n",
       "<table border=\"1\" class=\"dataframe\">\n",
       "  <thead>\n",
       "    <tr style=\"text-align: right;\">\n",
       "      <th></th>\n",
       "      <th>protocol_type</th>\n",
       "      <th>service</th>\n",
       "      <th>flag</th>\n",
       "      <th>land</th>\n",
       "      <th>logged_in</th>\n",
       "      <th>is_host_login</th>\n",
       "      <th>is_guest_login</th>\n",
       "    </tr>\n",
       "  </thead>\n",
       "  <tbody>\n",
       "    <tr>\n",
       "      <th>count</th>\n",
       "      <td>494020</td>\n",
       "      <td>494020</td>\n",
       "      <td>494020</td>\n",
       "      <td>494020</td>\n",
       "      <td>494020</td>\n",
       "      <td>494020</td>\n",
       "      <td>494020</td>\n",
       "    </tr>\n",
       "    <tr>\n",
       "      <th>unique</th>\n",
       "      <td>3</td>\n",
       "      <td>66</td>\n",
       "      <td>11</td>\n",
       "      <td>2</td>\n",
       "      <td>2</td>\n",
       "      <td>1</td>\n",
       "      <td>2</td>\n",
       "    </tr>\n",
       "    <tr>\n",
       "      <th>top</th>\n",
       "      <td>icmp</td>\n",
       "      <td>ecr_i</td>\n",
       "      <td>SF</td>\n",
       "      <td>0</td>\n",
       "      <td>0</td>\n",
       "      <td>0</td>\n",
       "      <td>0</td>\n",
       "    </tr>\n",
       "    <tr>\n",
       "      <th>freq</th>\n",
       "      <td>283602</td>\n",
       "      <td>281400</td>\n",
       "      <td>378439</td>\n",
       "      <td>493998</td>\n",
       "      <td>420784</td>\n",
       "      <td>494020</td>\n",
       "      <td>493335</td>\n",
       "    </tr>\n",
       "  </tbody>\n",
       "</table>\n",
       "</div>"
      ],
      "text/plain": [
       "       protocol_type service    flag    land logged_in is_host_login  \\\n",
       "count         494020  494020  494020  494020    494020        494020   \n",
       "unique             3      66      11       2         2             1   \n",
       "top             icmp   ecr_i      SF       0         0             0   \n",
       "freq          283602  281400  378439  493998    420784        494020   \n",
       "\n",
       "       is_guest_login  \n",
       "count          494020  \n",
       "unique              2  \n",
       "top                 0  \n",
       "freq           493335  "
      ]
     },
     "execution_count": 138,
     "metadata": {},
     "output_type": "execute_result"
    }
   ],
   "source": [
    "df[catg_cols].describe()"
   ]
  },
  {
   "cell_type": "markdown",
   "id": "4546ab2d",
   "metadata": {},
   "source": [
    "###### 2.7.2.1 protocol_type distribution"
   ]
  },
  {
   "cell_type": "code",
   "execution_count": 139,
   "id": "1ede8ea6",
   "metadata": {},
   "outputs": [
    {
     "data": {
      "text/plain": [
       "Text(0.5, 1.0, 'protocol_type distribution')"
      ]
     },
     "execution_count": 139,
     "metadata": {},
     "output_type": "execute_result"
    },
    {
     "data": {
      "image/png": "[encoded data removed]",
      "text/plain": [
       "<Figure size 432x288 with 1 Axes>"
      ]
     },
     "metadata": {
      "needs_background": "light"
     },
     "output_type": "display_data"
    }
   ],
   "source": [
    "protocol_type_hist_plot = df['protocol_type'].hist()\n",
    "protocol_type_hist_plot.set_xlabel('protocol_type')\n",
    "protocol_type_hist_plot.set_ylabel('counts')\n",
    "protocol_type_hist_plot.set_title('protocol_type distribution')"
   ]
  },
  {
   "cell_type": "markdown",
   "id": "e0c062d7",
   "metadata": {},
   "source": [
    "###### 2.7.2.2 service distribution"
   ]
  },
  {
   "cell_type": "code",
   "execution_count": 151,
   "id": "40342abd",
   "metadata": {},
   "outputs": [
    {
     "data": {
      "text/plain": [
       "ecr_i      281400\n",
       "private    110893\n",
       "http        64292\n",
       "smtp         9723\n",
       "other        7237\n",
       "            ...  \n",
       "X11            11\n",
       "tim_i           7\n",
       "tftp_u          1\n",
       "red_i           1\n",
       "pm_dump         1\n",
       "Name: service, Length: 66, dtype: int64"
      ]
     },
     "execution_count": 151,
     "metadata": {},
     "output_type": "execute_result"
    }
   ],
   "source": [
    "df['service'].value_counts()"
   ]
  },
  {
   "cell_type": "code",
   "execution_count": 153,
   "id": "4f3a5452",
   "metadata": {},
   "outputs": [
    {
     "name": "stdout",
     "output_type": "stream",
     "text": [
      "['http', 'smtp', 'finger', 'domain_u', 'auth', 'telnet', 'ftp', 'eco_i', 'ntp_u', 'ecr_i', 'other', 'private', 'pop_3', 'ftp_data', 'rje', 'time', 'mtp', 'link', 'remote_job', 'gopher', 'ssh', 'name', 'whois', 'domain', 'login', 'imap4', 'daytime', 'ctf', 'nntp', 'shell', 'IRC', 'nnsp', 'http_443', 'exec', 'printer', 'efs', 'courier', 'uucp', 'klogin', 'kshell', 'echo', 'discard', 'systat', 'supdup', 'iso_tsap', 'hostnames', 'csnet_ns', 'pop_2', 'sunrpc', 'uucp_path', 'netbios_ns', 'netbios_ssn', 'netbios_dgm', 'sql_net', 'vmnet', 'bgp', 'Z39_50', 'ldap', 'netstat', 'urh_i', 'X11', 'urp_i', 'pm_dump', 'tftp_u', 'tim_i', 'red_i']\n"
     ]
    }
   ],
   "source": [
    "print(list(df['service'].unique())) # possible values for the column service"
   ]
  },
  {
   "cell_type": "markdown",
   "id": "0e5b0d0a",
   "metadata": {},
   "source": [
    "##### 2.7.2.3 flag distribution"
   ]
  },
  {
   "cell_type": "code",
   "execution_count": 157,
   "id": "828b04ec",
   "metadata": {},
   "outputs": [
    {
     "data": {
      "text/plain": [
       "Text(0.5, 1.0, 'flag distribution')"
      ]
     },
     "execution_count": 157,
     "metadata": {},
     "output_type": "execute_result"
    },
    {
     "data": {
      "image/png": "[encoded data removed]",
      "text/plain": [
       "<Figure size 576x360 with 1 Axes>"
      ]
     },
     "metadata": {
      "needs_background": "light"
     },
     "output_type": "display_data"
    }
   ],
   "source": [
    "flag_hist_plot = df['flag'].hist(figsize=(8,5))\n",
    "flag_hist_plot.set_xlabel('flag')\n",
    "flag_hist_plot.set_ylabel('counts')\n",
    "flag_hist_plot.set_title('flag distribution')"
   ]
  },
  {
   "cell_type": "markdown",
   "id": "ba0f9a54",
   "metadata": {},
   "source": [
    "##### 2.7.2.4 land distribution"
   ]
  },
  {
   "cell_type": "code",
   "execution_count": 159,
   "id": "cfcf64b0",
   "metadata": {},
   "outputs": [
    {
     "data": {
      "text/plain": [
       "Text(0.5, 1.0, 'flag distribution')"
      ]
     },
     "execution_count": 159,
     "metadata": {},
     "output_type": "execute_result"
    },
    {
     "data": {
      "image/png": "[encoded data removed]",
      "text/plain": [
       "<Figure size 432x288 with 1 Axes>"
      ]
     },
     "metadata": {
      "needs_background": "light"
     },
     "output_type": "display_data"
    }
   ],
   "source": [
    "land_hist_plot = df['land'].hist()\n",
    "land_hist_plot.set_xlabel('land')\n",
    "land_hist_plot.set_ylabel('counts')\n",
    "land_hist_plot.set_title('flag distribution')"
   ]
  },
  {
   "cell_type": "markdown",
   "id": "2e1bd1a3",
   "metadata": {},
   "source": [
    "###### 2.7.2.5 logged_in"
   ]
  },
  {
   "cell_type": "code",
   "execution_count": 160,
   "id": "a9754bc1",
   "metadata": {},
   "outputs": [
    {
     "data": {
      "text/plain": [
       "Text(0.5, 1.0, 'logged_in distribution')"
      ]
     },
     "execution_count": 160,
     "metadata": {},
     "output_type": "execute_result"
    },
    {
     "data": {
      "image/png": "[encoded data removed]",
      "text/plain": [
       "<Figure size 432x288 with 1 Axes>"
      ]
     },
     "metadata": {
      "needs_background": "light"
     },
     "output_type": "display_data"
    }
   ],
   "source": [
    "logged_in_hist_plot = df['logged_in'].hist()\n",
    "logged_in_hist_plot.set_xlabel('logged_in')\n",
    "logged_in_hist_plot.set_ylabel('counts')\n",
    "logged_in_hist_plot.set_title('logged_in distribution')"
   ]
  },
  {
   "cell_type": "markdown",
   "id": "3f97f3be",
   "metadata": {},
   "source": [
    "##### 2.7.2.6 is_guest_login"
   ]
  },
  {
   "cell_type": "code",
   "execution_count": 161,
   "id": "dbc2a536",
   "metadata": {},
   "outputs": [
    {
     "data": {
      "text/plain": [
       "Text(0.5, 1.0, 'is_guest_login distribution')"
      ]
     },
     "execution_count": 161,
     "metadata": {},
     "output_type": "execute_result"
    },
    {
     "data": {
      "image/png": "[encoded data removed]",
      "text/plain": [
       "<Figure size 432x288 with 1 Axes>"
      ]
     },
     "metadata": {
      "needs_background": "light"
     },
     "output_type": "display_data"
    }
   ],
   "source": [
    "is_guest_login_hist_plot = df['is_guest_login'].hist()\n",
    "is_guest_login_hist_plot.set_xlabel('is_guest_login')\n",
    "is_guest_login_hist_plot.set_ylabel('counts')\n",
    "is_guest_login_hist_plot.set_title('is_guest_login distribution')"
   ]
  },
  {
   "cell_type": "markdown",
   "id": "8634eba1",
   "metadata": {},
   "source": [
    "###### 2.7.2.7 is_host_login"
   ]
  },
  {
   "cell_type": "code",
   "execution_count": 162,
   "id": "e4c8ee2c",
   "metadata": {},
   "outputs": [
    {
     "data": {
      "text/plain": [
       "Text(0.5, 1.0, 'is_host_login distribution')"
      ]
     },
     "execution_count": 162,
     "metadata": {},
     "output_type": "execute_result"
    },
    {
     "data": {
      "image/png": "[encoded data removed]",
      "text/plain": [
       "<Figure size 432x288 with 1 Axes>"
      ]
     },
     "metadata": {
      "needs_background": "light"
     },
     "output_type": "display_data"
    }
   ],
   "source": [
    "is_host_login_hist_plot = df['is_host_login'].hist()\n",
    "is_host_login_hist_plot.set_xlabel('is_host_login')\n",
    "is_host_login_hist_plot.set_ylabel('counts')\n",
    "is_host_login_hist_plot.set_title('is_host_login distribution')"
   ]
  },
  {
   "cell_type": "code",
   "execution_count": 164,
   "id": "42f1248e",
   "metadata": {},
   "outputs": [
    {
     "data": {
      "text/plain": [
       "0    494020\n",
       "Name: is_host_login, dtype: int64"
      ]
     },
     "execution_count": 164,
     "metadata": {},
     "output_type": "execute_result"
    }
   ],
   "source": [
    "df['is_host_login'].value_counts() # this value can be dropped as all values are same and may not affect the model"
   ]
  },
  {
   "cell_type": "markdown",
   "id": "6f605fd7",
   "metadata": {},
   "source": [
    "##### 2.6 Continous Variables Distribution"
   ]
  },
  {
   "cell_type": "code",
   "execution_count": 171,
   "id": "e156353f",
   "metadata": {},
   "outputs": [
    {
     "data": {
      "text/plain": [
       "duration                         int64\n",
       "src_bytes                        int64\n",
       "dst_bytes                        int64\n",
       "wrong_fragment                   int64\n",
       "urgent                           int64\n",
       "hot                              int64\n",
       "num_failed_logins                int64\n",
       "num_compromised                  int64\n",
       "root_shell                       int64\n",
       "su_attempted                     int64\n",
       "num_root                         int64\n",
       "num_file_creations               int64\n",
       "num_shells                       int64\n",
       "num_access_files                 int64\n",
       "num_outbound_cmds                int64\n",
       "count                            int64\n",
       "srv_count                        int64\n",
       "serror_rate                    float64\n",
       "srv_serror_rate                float64\n",
       "rerror_rate                    float64\n",
       "srv_rerror_rate                float64\n",
       "same_srv_rate                  float64\n",
       "diff_srv_rate                  float64\n",
       "srv_diff_host_rate             float64\n",
       "dst_host_count                   int64\n",
       "dst_host_srv_count               int64\n",
       "dst_host_same_srv_rate         float64\n",
       "dst_host_diff_srv_rate         float64\n",
       "dst_host_same_src_port_rate    float64\n",
       "dst_host_srv_diff_host_rate    float64\n",
       "dst_host_serror_rate           float64\n",
       "dst_host_srv_serror_rate       float64\n",
       "dst_host_rerror_rate           float64\n",
       "dst_host_srv_rerror_rate       float64\n",
       "dtype: object"
      ]
     },
     "execution_count": 171,
     "metadata": {},
     "output_type": "execute_result"
    }
   ],
   "source": [
    "df[cont_cols].dtypes # verify if all dtypes are either float or int, otherwise fix them"
   ]
  },
  {
   "cell_type": "code",
   "execution_count": 172,
   "id": "b63824c5",
   "metadata": {
    "scrolled": true
   },
   "outputs": [
    {
     "data": {
      "text/html": [
       "<div>\n",
       "<style scoped>\n",
       "    .dataframe tbody tr th:only-of-type {\n",
       "        vertical-align: middle;\n",
       "    }\n",
       "\n",
       "    .dataframe tbody tr th {\n",
       "        vertical-align: top;\n",
       "    }\n",
       "\n",
       "    .dataframe thead th {\n",
       "        text-align: right;\n",
       "    }\n",
       "</style>\n",
       "<table border=\"1\" class=\"dataframe\">\n",
       "  <thead>\n",
       "    <tr style=\"text-align: right;\">\n",
       "      <th></th>\n",
       "      <th>count</th>\n",
       "      <th>mean</th>\n",
       "      <th>std</th>\n",
       "      <th>min</th>\n",
       "      <th>25%</th>\n",
       "      <th>50%</th>\n",
       "      <th>75%</th>\n",
       "      <th>max</th>\n",
       "    </tr>\n",
       "  </thead>\n",
       "  <tbody>\n",
       "    <tr>\n",
       "      <th>duration</th>\n",
       "      <td>494020.0</td>\n",
       "      <td>47.979400</td>\n",
       "      <td>707.747185</td>\n",
       "      <td>0.0</td>\n",
       "      <td>0.00</td>\n",
       "      <td>0.0</td>\n",
       "      <td>0.00</td>\n",
       "      <td>58329.0</td>\n",
       "    </tr>\n",
       "    <tr>\n",
       "      <th>src_bytes</th>\n",
       "      <td>494020.0</td>\n",
       "      <td>3025.615744</td>\n",
       "      <td>988219.101230</td>\n",
       "      <td>0.0</td>\n",
       "      <td>45.00</td>\n",
       "      <td>520.0</td>\n",
       "      <td>1032.00</td>\n",
       "      <td>693375640.0</td>\n",
       "    </tr>\n",
       "    <tr>\n",
       "      <th>dst_bytes</th>\n",
       "      <td>494020.0</td>\n",
       "      <td>868.530774</td>\n",
       "      <td>33040.034672</td>\n",
       "      <td>0.0</td>\n",
       "      <td>0.00</td>\n",
       "      <td>0.0</td>\n",
       "      <td>0.00</td>\n",
       "      <td>5155468.0</td>\n",
       "    </tr>\n",
       "    <tr>\n",
       "      <th>wrong_fragment</th>\n",
       "      <td>494020.0</td>\n",
       "      <td>0.006433</td>\n",
       "      <td>0.134805</td>\n",
       "      <td>0.0</td>\n",
       "      <td>0.00</td>\n",
       "      <td>0.0</td>\n",
       "      <td>0.00</td>\n",
       "      <td>3.0</td>\n",
       "    </tr>\n",
       "    <tr>\n",
       "      <th>urgent</th>\n",
       "      <td>494020.0</td>\n",
       "      <td>0.000014</td>\n",
       "      <td>0.005510</td>\n",
       "      <td>0.0</td>\n",
       "      <td>0.00</td>\n",
       "      <td>0.0</td>\n",
       "      <td>0.00</td>\n",
       "      <td>3.0</td>\n",
       "    </tr>\n",
       "    <tr>\n",
       "      <th>hot</th>\n",
       "      <td>494020.0</td>\n",
       "      <td>0.034519</td>\n",
       "      <td>0.782103</td>\n",
       "      <td>0.0</td>\n",
       "      <td>0.00</td>\n",
       "      <td>0.0</td>\n",
       "      <td>0.00</td>\n",
       "      <td>30.0</td>\n",
       "    </tr>\n",
       "    <tr>\n",
       "      <th>num_failed_logins</th>\n",
       "      <td>494020.0</td>\n",
       "      <td>0.000152</td>\n",
       "      <td>0.015520</td>\n",
       "      <td>0.0</td>\n",
       "      <td>0.00</td>\n",
       "      <td>0.0</td>\n",
       "      <td>0.00</td>\n",
       "      <td>5.0</td>\n",
       "    </tr>\n",
       "    <tr>\n",
       "      <th>num_compromised</th>\n",
       "      <td>494020.0</td>\n",
       "      <td>0.010212</td>\n",
       "      <td>1.798328</td>\n",
       "      <td>0.0</td>\n",
       "      <td>0.00</td>\n",
       "      <td>0.0</td>\n",
       "      <td>0.00</td>\n",
       "      <td>884.0</td>\n",
       "    </tr>\n",
       "    <tr>\n",
       "      <th>root_shell</th>\n",
       "      <td>494020.0</td>\n",
       "      <td>0.000111</td>\n",
       "      <td>0.010551</td>\n",
       "      <td>0.0</td>\n",
       "      <td>0.00</td>\n",
       "      <td>0.0</td>\n",
       "      <td>0.00</td>\n",
       "      <td>1.0</td>\n",
       "    </tr>\n",
       "    <tr>\n",
       "      <th>su_attempted</th>\n",
       "      <td>494020.0</td>\n",
       "      <td>0.000036</td>\n",
       "      <td>0.007793</td>\n",
       "      <td>0.0</td>\n",
       "      <td>0.00</td>\n",
       "      <td>0.0</td>\n",
       "      <td>0.00</td>\n",
       "      <td>2.0</td>\n",
       "    </tr>\n",
       "    <tr>\n",
       "      <th>num_root</th>\n",
       "      <td>494020.0</td>\n",
       "      <td>0.011352</td>\n",
       "      <td>2.012720</td>\n",
       "      <td>0.0</td>\n",
       "      <td>0.00</td>\n",
       "      <td>0.0</td>\n",
       "      <td>0.00</td>\n",
       "      <td>993.0</td>\n",
       "    </tr>\n",
       "    <tr>\n",
       "      <th>num_file_creations</th>\n",
       "      <td>494020.0</td>\n",
       "      <td>0.001083</td>\n",
       "      <td>0.096416</td>\n",
       "      <td>0.0</td>\n",
       "      <td>0.00</td>\n",
       "      <td>0.0</td>\n",
       "      <td>0.00</td>\n",
       "      <td>28.0</td>\n",
       "    </tr>\n",
       "    <tr>\n",
       "      <th>num_shells</th>\n",
       "      <td>494020.0</td>\n",
       "      <td>0.000109</td>\n",
       "      <td>0.011020</td>\n",
       "      <td>0.0</td>\n",
       "      <td>0.00</td>\n",
       "      <td>0.0</td>\n",
       "      <td>0.00</td>\n",
       "      <td>2.0</td>\n",
       "    </tr>\n",
       "    <tr>\n",
       "      <th>num_access_files</th>\n",
       "      <td>494020.0</td>\n",
       "      <td>0.001008</td>\n",
       "      <td>0.036482</td>\n",
       "      <td>0.0</td>\n",
       "      <td>0.00</td>\n",
       "      <td>0.0</td>\n",
       "      <td>0.00</td>\n",
       "      <td>8.0</td>\n",
       "    </tr>\n",
       "    <tr>\n",
       "      <th>num_outbound_cmds</th>\n",
       "      <td>494020.0</td>\n",
       "      <td>0.000000</td>\n",
       "      <td>0.000000</td>\n",
       "      <td>0.0</td>\n",
       "      <td>0.00</td>\n",
       "      <td>0.0</td>\n",
       "      <td>0.00</td>\n",
       "      <td>0.0</td>\n",
       "    </tr>\n",
       "    <tr>\n",
       "      <th>count</th>\n",
       "      <td>494020.0</td>\n",
       "      <td>332.286361</td>\n",
       "      <td>213.147107</td>\n",
       "      <td>0.0</td>\n",
       "      <td>117.00</td>\n",
       "      <td>510.0</td>\n",
       "      <td>511.00</td>\n",
       "      <td>511.0</td>\n",
       "    </tr>\n",
       "    <tr>\n",
       "      <th>srv_count</th>\n",
       "      <td>494020.0</td>\n",
       "      <td>292.907131</td>\n",
       "      <td>246.322736</td>\n",
       "      <td>0.0</td>\n",
       "      <td>10.00</td>\n",
       "      <td>510.0</td>\n",
       "      <td>511.00</td>\n",
       "      <td>511.0</td>\n",
       "    </tr>\n",
       "    <tr>\n",
       "      <th>serror_rate</th>\n",
       "      <td>494020.0</td>\n",
       "      <td>0.176687</td>\n",
       "      <td>0.380717</td>\n",
       "      <td>0.0</td>\n",
       "      <td>0.00</td>\n",
       "      <td>0.0</td>\n",
       "      <td>0.00</td>\n",
       "      <td>1.0</td>\n",
       "    </tr>\n",
       "    <tr>\n",
       "      <th>srv_serror_rate</th>\n",
       "      <td>494020.0</td>\n",
       "      <td>0.176609</td>\n",
       "      <td>0.381017</td>\n",
       "      <td>0.0</td>\n",
       "      <td>0.00</td>\n",
       "      <td>0.0</td>\n",
       "      <td>0.00</td>\n",
       "      <td>1.0</td>\n",
       "    </tr>\n",
       "    <tr>\n",
       "      <th>rerror_rate</th>\n",
       "      <td>494020.0</td>\n",
       "      <td>0.057434</td>\n",
       "      <td>0.231624</td>\n",
       "      <td>0.0</td>\n",
       "      <td>0.00</td>\n",
       "      <td>0.0</td>\n",
       "      <td>0.00</td>\n",
       "      <td>1.0</td>\n",
       "    </tr>\n",
       "    <tr>\n",
       "      <th>srv_rerror_rate</th>\n",
       "      <td>494020.0</td>\n",
       "      <td>0.057719</td>\n",
       "      <td>0.232147</td>\n",
       "      <td>0.0</td>\n",
       "      <td>0.00</td>\n",
       "      <td>0.0</td>\n",
       "      <td>0.00</td>\n",
       "      <td>1.0</td>\n",
       "    </tr>\n",
       "    <tr>\n",
       "      <th>same_srv_rate</th>\n",
       "      <td>494020.0</td>\n",
       "      <td>0.791547</td>\n",
       "      <td>0.388190</td>\n",
       "      <td>0.0</td>\n",
       "      <td>1.00</td>\n",
       "      <td>1.0</td>\n",
       "      <td>1.00</td>\n",
       "      <td>1.0</td>\n",
       "    </tr>\n",
       "    <tr>\n",
       "      <th>diff_srv_rate</th>\n",
       "      <td>494020.0</td>\n",
       "      <td>0.020982</td>\n",
       "      <td>0.082206</td>\n",
       "      <td>0.0</td>\n",
       "      <td>0.00</td>\n",
       "      <td>0.0</td>\n",
       "      <td>0.00</td>\n",
       "      <td>1.0</td>\n",
       "    </tr>\n",
       "    <tr>\n",
       "      <th>srv_diff_host_rate</th>\n",
       "      <td>494020.0</td>\n",
       "      <td>0.028996</td>\n",
       "      <td>0.142397</td>\n",
       "      <td>0.0</td>\n",
       "      <td>0.00</td>\n",
       "      <td>0.0</td>\n",
       "      <td>0.00</td>\n",
       "      <td>1.0</td>\n",
       "    </tr>\n",
       "    <tr>\n",
       "      <th>dst_host_count</th>\n",
       "      <td>494020.0</td>\n",
       "      <td>232.471248</td>\n",
       "      <td>64.744601</td>\n",
       "      <td>0.0</td>\n",
       "      <td>255.00</td>\n",
       "      <td>255.0</td>\n",
       "      <td>255.00</td>\n",
       "      <td>255.0</td>\n",
       "    </tr>\n",
       "    <tr>\n",
       "      <th>dst_host_srv_count</th>\n",
       "      <td>494020.0</td>\n",
       "      <td>188.666052</td>\n",
       "      <td>106.040205</td>\n",
       "      <td>0.0</td>\n",
       "      <td>46.00</td>\n",
       "      <td>255.0</td>\n",
       "      <td>255.00</td>\n",
       "      <td>255.0</td>\n",
       "    </tr>\n",
       "    <tr>\n",
       "      <th>dst_host_same_srv_rate</th>\n",
       "      <td>494020.0</td>\n",
       "      <td>0.753781</td>\n",
       "      <td>0.410780</td>\n",
       "      <td>0.0</td>\n",
       "      <td>0.41</td>\n",
       "      <td>1.0</td>\n",
       "      <td>1.00</td>\n",
       "      <td>1.0</td>\n",
       "    </tr>\n",
       "    <tr>\n",
       "      <th>dst_host_diff_srv_rate</th>\n",
       "      <td>494020.0</td>\n",
       "      <td>0.030906</td>\n",
       "      <td>0.109259</td>\n",
       "      <td>0.0</td>\n",
       "      <td>0.00</td>\n",
       "      <td>0.0</td>\n",
       "      <td>0.04</td>\n",
       "      <td>1.0</td>\n",
       "    </tr>\n",
       "    <tr>\n",
       "      <th>dst_host_same_src_port_rate</th>\n",
       "      <td>494020.0</td>\n",
       "      <td>0.601936</td>\n",
       "      <td>0.481309</td>\n",
       "      <td>0.0</td>\n",
       "      <td>0.00</td>\n",
       "      <td>1.0</td>\n",
       "      <td>1.00</td>\n",
       "      <td>1.0</td>\n",
       "    </tr>\n",
       "    <tr>\n",
       "      <th>dst_host_srv_diff_host_rate</th>\n",
       "      <td>494020.0</td>\n",
       "      <td>0.006684</td>\n",
       "      <td>0.042133</td>\n",
       "      <td>0.0</td>\n",
       "      <td>0.00</td>\n",
       "      <td>0.0</td>\n",
       "      <td>0.00</td>\n",
       "      <td>1.0</td>\n",
       "    </tr>\n",
       "    <tr>\n",
       "      <th>dst_host_serror_rate</th>\n",
       "      <td>494020.0</td>\n",
       "      <td>0.176754</td>\n",
       "      <td>0.380593</td>\n",
       "      <td>0.0</td>\n",
       "      <td>0.00</td>\n",
       "      <td>0.0</td>\n",
       "      <td>0.00</td>\n",
       "      <td>1.0</td>\n",
       "    </tr>\n",
       "    <tr>\n",
       "      <th>dst_host_srv_serror_rate</th>\n",
       "      <td>494020.0</td>\n",
       "      <td>0.176443</td>\n",
       "      <td>0.380920</td>\n",
       "      <td>0.0</td>\n",
       "      <td>0.00</td>\n",
       "      <td>0.0</td>\n",
       "      <td>0.00</td>\n",
       "      <td>1.0</td>\n",
       "    </tr>\n",
       "    <tr>\n",
       "      <th>dst_host_rerror_rate</th>\n",
       "      <td>494020.0</td>\n",
       "      <td>0.058118</td>\n",
       "      <td>0.230590</td>\n",
       "      <td>0.0</td>\n",
       "      <td>0.00</td>\n",
       "      <td>0.0</td>\n",
       "      <td>0.00</td>\n",
       "      <td>1.0</td>\n",
       "    </tr>\n",
       "    <tr>\n",
       "      <th>dst_host_srv_rerror_rate</th>\n",
       "      <td>494020.0</td>\n",
       "      <td>0.057412</td>\n",
       "      <td>0.230141</td>\n",
       "      <td>0.0</td>\n",
       "      <td>0.00</td>\n",
       "      <td>0.0</td>\n",
       "      <td>0.00</td>\n",
       "      <td>1.0</td>\n",
       "    </tr>\n",
       "  </tbody>\n",
       "</table>\n",
       "</div>"
      ],
      "text/plain": [
       "                                count         mean            std  min  \\\n",
       "duration                     494020.0    47.979400     707.747185  0.0   \n",
       "src_bytes                    494020.0  3025.615744  988219.101230  0.0   \n",
       "dst_bytes                    494020.0   868.530774   33040.034672  0.0   \n",
       "wrong_fragment               494020.0     0.006433       0.134805  0.0   \n",
       "urgent                       494020.0     0.000014       0.005510  0.0   \n",
       "hot                          494020.0     0.034519       0.782103  0.0   \n",
       "num_failed_logins            494020.0     0.000152       0.015520  0.0   \n",
       "num_compromised              494020.0     0.010212       1.798328  0.0   \n",
       "root_shell                   494020.0     0.000111       0.010551  0.0   \n",
       "su_attempted                 494020.0     0.000036       0.007793  0.0   \n",
       "num_root                     494020.0     0.011352       2.012720  0.0   \n",
       "num_file_creations           494020.0     0.001083       0.096416  0.0   \n",
       "num_shells                   494020.0     0.000109       0.011020  0.0   \n",
       "num_access_files             494020.0     0.001008       0.036482  0.0   \n",
       "num_outbound_cmds            494020.0     0.000000       0.000000  0.0   \n",
       "count                        494020.0   332.286361     213.147107  0.0   \n",
       "srv_count                    494020.0   292.907131     246.322736  0.0   \n",
       "serror_rate                  494020.0     0.176687       0.380717  0.0   \n",
       "srv_serror_rate              494020.0     0.176609       0.381017  0.0   \n",
       "rerror_rate                  494020.0     0.057434       0.231624  0.0   \n",
       "srv_rerror_rate              494020.0     0.057719       0.232147  0.0   \n",
       "same_srv_rate                494020.0     0.791547       0.388190  0.0   \n",
       "diff_srv_rate                494020.0     0.020982       0.082206  0.0   \n",
       "srv_diff_host_rate           494020.0     0.028996       0.142397  0.0   \n",
       "dst_host_count               494020.0   232.471248      64.744601  0.0   \n",
       "dst_host_srv_count           494020.0   188.666052     106.040205  0.0   \n",
       "dst_host_same_srv_rate       494020.0     0.753781       0.410780  0.0   \n",
       "dst_host_diff_srv_rate       494020.0     0.030906       0.109259  0.0   \n",
       "dst_host_same_src_port_rate  494020.0     0.601936       0.481309  0.0   \n",
       "dst_host_srv_diff_host_rate  494020.0     0.006684       0.042133  0.0   \n",
       "dst_host_serror_rate         494020.0     0.176754       0.380593  0.0   \n",
       "dst_host_srv_serror_rate     494020.0     0.176443       0.380920  0.0   \n",
       "dst_host_rerror_rate         494020.0     0.058118       0.230590  0.0   \n",
       "dst_host_srv_rerror_rate     494020.0     0.057412       0.230141  0.0   \n",
       "\n",
       "                                25%    50%      75%          max  \n",
       "duration                       0.00    0.0     0.00      58329.0  \n",
       "src_bytes                     45.00  520.0  1032.00  693375640.0  \n",
       "dst_bytes                      0.00    0.0     0.00    5155468.0  \n",
       "wrong_fragment                 0.00    0.0     0.00          3.0  \n",
       "urgent                         0.00    0.0     0.00          3.0  \n",
       "hot                            0.00    0.0     0.00         30.0  \n",
       "num_failed_logins              0.00    0.0     0.00          5.0  \n",
       "num_compromised                0.00    0.0     0.00        884.0  \n",
       "root_shell                     0.00    0.0     0.00          1.0  \n",
       "su_attempted                   0.00    0.0     0.00          2.0  \n",
       "num_root                       0.00    0.0     0.00        993.0  \n",
       "num_file_creations             0.00    0.0     0.00         28.0  \n",
       "num_shells                     0.00    0.0     0.00          2.0  \n",
       "num_access_files               0.00    0.0     0.00          8.0  \n",
       "num_outbound_cmds              0.00    0.0     0.00          0.0  \n",
       "count                        117.00  510.0   511.00        511.0  \n",
       "srv_count                     10.00  510.0   511.00        511.0  \n",
       "serror_rate                    0.00    0.0     0.00          1.0  \n",
       "srv_serror_rate                0.00    0.0     0.00          1.0  \n",
       "rerror_rate                    0.00    0.0     0.00          1.0  \n",
       "srv_rerror_rate                0.00    0.0     0.00          1.0  \n",
       "same_srv_rate                  1.00    1.0     1.00          1.0  \n",
       "diff_srv_rate                  0.00    0.0     0.00          1.0  \n",
       "srv_diff_host_rate             0.00    0.0     0.00          1.0  \n",
       "dst_host_count               255.00  255.0   255.00        255.0  \n",
       "dst_host_srv_count            46.00  255.0   255.00        255.0  \n",
       "dst_host_same_srv_rate         0.41    1.0     1.00          1.0  \n",
       "dst_host_diff_srv_rate         0.00    0.0     0.04          1.0  \n",
       "dst_host_same_src_port_rate    0.00    1.0     1.00          1.0  \n",
       "dst_host_srv_diff_host_rate    0.00    0.0     0.00          1.0  \n",
       "dst_host_serror_rate           0.00    0.0     0.00          1.0  \n",
       "dst_host_srv_serror_rate       0.00    0.0     0.00          1.0  \n",
       "dst_host_rerror_rate           0.00    0.0     0.00          1.0  \n",
       "dst_host_srv_rerror_rate       0.00    0.0     0.00          1.0  "
      ]
     },
     "execution_count": 172,
     "metadata": {},
     "output_type": "execute_result"
    }
   ],
   "source": [
    "df[cont_cols].describe().T"
   ]
  },
  {
   "cell_type": "code",
   "execution_count": 197,
   "id": "136c4abd",
   "metadata": {},
   "outputs": [
    {
     "data": {
      "text/plain": [
       "array([[<AxesSubplot:title={'center':'duration'}>,\n",
       "        <AxesSubplot:title={'center':'src_bytes'}>,\n",
       "        <AxesSubplot:title={'center':'dst_bytes'}>,\n",
       "        <AxesSubplot:title={'center':'wrong_fragment'}>,\n",
       "        <AxesSubplot:title={'center':'urgent'}>,\n",
       "        <AxesSubplot:title={'center':'hot'}>],\n",
       "       [<AxesSubplot:title={'center':'num_failed_logins'}>,\n",
       "        <AxesSubplot:title={'center':'num_compromised'}>,\n",
       "        <AxesSubplot:title={'center':'root_shell'}>,\n",
       "        <AxesSubplot:title={'center':'su_attempted'}>,\n",
       "        <AxesSubplot:title={'center':'num_root'}>,\n",
       "        <AxesSubplot:title={'center':'num_file_creations'}>],\n",
       "       [<AxesSubplot:title={'center':'num_shells'}>,\n",
       "        <AxesSubplot:title={'center':'num_access_files'}>,\n",
       "        <AxesSubplot:title={'center':'num_outbound_cmds'}>,\n",
       "        <AxesSubplot:title={'center':'count'}>,\n",
       "        <AxesSubplot:title={'center':'srv_count'}>,\n",
       "        <AxesSubplot:title={'center':'serror_rate'}>],\n",
       "       [<AxesSubplot:title={'center':'srv_serror_rate'}>,\n",
       "        <AxesSubplot:title={'center':'rerror_rate'}>,\n",
       "        <AxesSubplot:title={'center':'srv_rerror_rate'}>,\n",
       "        <AxesSubplot:title={'center':'same_srv_rate'}>,\n",
       "        <AxesSubplot:title={'center':'diff_srv_rate'}>,\n",
       "        <AxesSubplot:title={'center':'srv_diff_host_rate'}>],\n",
       "       [<AxesSubplot:title={'center':'dst_host_count'}>,\n",
       "        <AxesSubplot:title={'center':'dst_host_srv_count'}>,\n",
       "        <AxesSubplot:title={'center':'dst_host_same_srv_rate'}>,\n",
       "        <AxesSubplot:title={'center':'dst_host_diff_srv_rate'}>,\n",
       "        <AxesSubplot:title={'center':'dst_host_same_src_port_rate'}>,\n",
       "        <AxesSubplot:title={'center':'dst_host_srv_diff_host_rate'}>],\n",
       "       [<AxesSubplot:title={'center':'dst_host_serror_rate'}>,\n",
       "        <AxesSubplot:title={'center':'dst_host_srv_serror_rate'}>,\n",
       "        <AxesSubplot:title={'center':'dst_host_rerror_rate'}>,\n",
       "        <AxesSubplot:title={'center':'dst_host_srv_rerror_rate'}>,\n",
       "        <AxesSubplot:>, <AxesSubplot:>]], dtype=object)"
      ]
     },
     "execution_count": 197,
     "metadata": {},
     "output_type": "execute_result"
    },
    {
     "data": {
      "image/png": "[encoded data removed]",
      "text/plain": [
       "<Figure size 2160x1584 with 36 Axes>"
      ]
     },
     "metadata": {
      "needs_background": "light"
     },
     "output_type": "display_data"
    }
   ],
   "source": [
    "df[cont_cols].hist(figsize=(30,22))"
   ]
  },
  {
   "cell_type": "markdown",
   "id": "de51909a",
   "metadata": {},
   "source": [
    "### 3. Data Normalization"
   ]
  },
  {
   "cell_type": "markdown",
   "id": "dc28066f",
   "metadata": {},
   "source": [
    "As seen from the above continous variables distribution in the section 2.6 the scale of some of the features (columns) values are not in same range as others.\n",
    "Hence the features need to be normalized so that the optimization during model training will happen in a better way and the model will not be sensitive to the features."
   ]
  },
  {
   "cell_type": "code",
   "execution_count": 198,
   "id": "08fa1b98",
   "metadata": {},
   "outputs": [],
   "source": [
    "from sklearn import preprocessing # using sklearn library preprocessing function"
   ]
  },
  {
   "cell_type": "code",
   "execution_count": 200,
   "id": "3dbb3a00",
   "metadata": {},
   "outputs": [],
   "source": [
    "df[cont_cols] = preprocessing.normalize(df[cont_cols],axis=0) # axis has to be set to 0 to perform column wise normalization"
   ]
  },
  {
   "cell_type": "code",
   "execution_count": 202,
   "id": "bfd1ee12",
   "metadata": {},
   "outputs": [
    {
     "data": {
      "text/html": [
       "<div>\n",
       "<style scoped>\n",
       "    .dataframe tbody tr th:only-of-type {\n",
       "        vertical-align: middle;\n",
       "    }\n",
       "\n",
       "    .dataframe tbody tr th {\n",
       "        vertical-align: top;\n",
       "    }\n",
       "\n",
       "    .dataframe thead th {\n",
       "        text-align: right;\n",
       "    }\n",
       "</style>\n",
       "<table border=\"1\" class=\"dataframe\">\n",
       "  <thead>\n",
       "    <tr style=\"text-align: right;\">\n",
       "      <th></th>\n",
       "      <th>count</th>\n",
       "      <th>mean</th>\n",
       "      <th>std</th>\n",
       "      <th>min</th>\n",
       "      <th>25%</th>\n",
       "      <th>50%</th>\n",
       "      <th>75%</th>\n",
       "      <th>max</th>\n",
       "    </tr>\n",
       "  </thead>\n",
       "  <tbody>\n",
       "    <tr>\n",
       "      <th>duration</th>\n",
       "      <td>494020.0</td>\n",
       "      <td>0.000096</td>\n",
       "      <td>0.001419</td>\n",
       "      <td>0.0</td>\n",
       "      <td>0.000000e+00</td>\n",
       "      <td>0.000000e+00</td>\n",
       "      <td>0.000000</td>\n",
       "      <td>0.116987</td>\n",
       "    </tr>\n",
       "    <tr>\n",
       "      <th>src_bytes</th>\n",
       "      <td>494020.0</td>\n",
       "      <td>0.000004</td>\n",
       "      <td>0.001423</td>\n",
       "      <td>0.0</td>\n",
       "      <td>6.478663e-08</td>\n",
       "      <td>7.486455e-07</td>\n",
       "      <td>0.000001</td>\n",
       "      <td>0.998255</td>\n",
       "    </tr>\n",
       "    <tr>\n",
       "      <th>dst_bytes</th>\n",
       "      <td>494020.0</td>\n",
       "      <td>0.000037</td>\n",
       "      <td>0.001422</td>\n",
       "      <td>0.0</td>\n",
       "      <td>0.000000e+00</td>\n",
       "      <td>0.000000e+00</td>\n",
       "      <td>0.000000</td>\n",
       "      <td>0.221925</td>\n",
       "    </tr>\n",
       "    <tr>\n",
       "      <th>wrong_fragment</th>\n",
       "      <td>494020.0</td>\n",
       "      <td>0.000068</td>\n",
       "      <td>0.001421</td>\n",
       "      <td>0.0</td>\n",
       "      <td>0.000000e+00</td>\n",
       "      <td>0.000000e+00</td>\n",
       "      <td>0.000000</td>\n",
       "      <td>0.031626</td>\n",
       "    </tr>\n",
       "    <tr>\n",
       "      <th>urgent</th>\n",
       "      <td>494020.0</td>\n",
       "      <td>0.000004</td>\n",
       "      <td>0.001423</td>\n",
       "      <td>0.0</td>\n",
       "      <td>0.000000e+00</td>\n",
       "      <td>0.000000e+00</td>\n",
       "      <td>0.000000</td>\n",
       "      <td>0.774597</td>\n",
       "    </tr>\n",
       "    <tr>\n",
       "      <th>hot</th>\n",
       "      <td>494020.0</td>\n",
       "      <td>0.000063</td>\n",
       "      <td>0.001421</td>\n",
       "      <td>0.0</td>\n",
       "      <td>0.000000e+00</td>\n",
       "      <td>0.000000e+00</td>\n",
       "      <td>0.000000</td>\n",
       "      <td>0.054521</td>\n",
       "    </tr>\n",
       "    <tr>\n",
       "      <th>num_failed_logins</th>\n",
       "      <td>494020.0</td>\n",
       "      <td>0.000014</td>\n",
       "      <td>0.001423</td>\n",
       "      <td>0.0</td>\n",
       "      <td>0.000000e+00</td>\n",
       "      <td>0.000000e+00</td>\n",
       "      <td>0.000000</td>\n",
       "      <td>0.458349</td>\n",
       "    </tr>\n",
       "    <tr>\n",
       "      <th>num_compromised</th>\n",
       "      <td>494020.0</td>\n",
       "      <td>0.000008</td>\n",
       "      <td>0.001423</td>\n",
       "      <td>0.0</td>\n",
       "      <td>0.000000e+00</td>\n",
       "      <td>0.000000e+00</td>\n",
       "      <td>0.000000</td>\n",
       "      <td>0.699366</td>\n",
       "    </tr>\n",
       "    <tr>\n",
       "      <th>root_shell</th>\n",
       "      <td>494020.0</td>\n",
       "      <td>0.000015</td>\n",
       "      <td>0.001423</td>\n",
       "      <td>0.0</td>\n",
       "      <td>0.000000e+00</td>\n",
       "      <td>0.000000e+00</td>\n",
       "      <td>0.000000</td>\n",
       "      <td>0.134840</td>\n",
       "    </tr>\n",
       "    <tr>\n",
       "      <th>su_attempted</th>\n",
       "      <td>494020.0</td>\n",
       "      <td>0.000007</td>\n",
       "      <td>0.001423</td>\n",
       "      <td>0.0</td>\n",
       "      <td>0.000000e+00</td>\n",
       "      <td>0.000000e+00</td>\n",
       "      <td>0.000000</td>\n",
       "      <td>0.365148</td>\n",
       "    </tr>\n",
       "    <tr>\n",
       "      <th>num_root</th>\n",
       "      <td>494020.0</td>\n",
       "      <td>0.000008</td>\n",
       "      <td>0.001423</td>\n",
       "      <td>0.0</td>\n",
       "      <td>0.000000e+00</td>\n",
       "      <td>0.000000e+00</td>\n",
       "      <td>0.000000</td>\n",
       "      <td>0.701919</td>\n",
       "    </tr>\n",
       "    <tr>\n",
       "      <th>num_file_creations</th>\n",
       "      <td>494020.0</td>\n",
       "      <td>0.000016</td>\n",
       "      <td>0.001423</td>\n",
       "      <td>0.0</td>\n",
       "      <td>0.000000e+00</td>\n",
       "      <td>0.000000e+00</td>\n",
       "      <td>0.000000</td>\n",
       "      <td>0.413152</td>\n",
       "    </tr>\n",
       "    <tr>\n",
       "      <th>num_shells</th>\n",
       "      <td>494020.0</td>\n",
       "      <td>0.000014</td>\n",
       "      <td>0.001423</td>\n",
       "      <td>0.0</td>\n",
       "      <td>0.000000e+00</td>\n",
       "      <td>0.000000e+00</td>\n",
       "      <td>0.000000</td>\n",
       "      <td>0.258199</td>\n",
       "    </tr>\n",
       "    <tr>\n",
       "      <th>num_access_files</th>\n",
       "      <td>494020.0</td>\n",
       "      <td>0.000039</td>\n",
       "      <td>0.001422</td>\n",
       "      <td>0.0</td>\n",
       "      <td>0.000000e+00</td>\n",
       "      <td>0.000000e+00</td>\n",
       "      <td>0.000000</td>\n",
       "      <td>0.311872</td>\n",
       "    </tr>\n",
       "    <tr>\n",
       "      <th>num_outbound_cmds</th>\n",
       "      <td>494020.0</td>\n",
       "      <td>0.000000</td>\n",
       "      <td>0.000000</td>\n",
       "      <td>0.0</td>\n",
       "      <td>0.000000e+00</td>\n",
       "      <td>0.000000e+00</td>\n",
       "      <td>0.000000</td>\n",
       "      <td>0.000000</td>\n",
       "    </tr>\n",
       "    <tr>\n",
       "      <th>count</th>\n",
       "      <td>494020.0</td>\n",
       "      <td>0.001198</td>\n",
       "      <td>0.000768</td>\n",
       "      <td>0.0</td>\n",
       "      <td>4.216635e-04</td>\n",
       "      <td>1.838020e-03</td>\n",
       "      <td>0.001842</td>\n",
       "      <td>0.001842</td>\n",
       "    </tr>\n",
       "    <tr>\n",
       "      <th>srv_count</th>\n",
       "      <td>494020.0</td>\n",
       "      <td>0.001089</td>\n",
       "      <td>0.000916</td>\n",
       "      <td>0.0</td>\n",
       "      <td>3.717529e-05</td>\n",
       "      <td>1.895940e-03</td>\n",
       "      <td>0.001900</td>\n",
       "      <td>0.001900</td>\n",
       "    </tr>\n",
       "    <tr>\n",
       "      <th>serror_rate</th>\n",
       "      <td>494020.0</td>\n",
       "      <td>0.000599</td>\n",
       "      <td>0.001291</td>\n",
       "      <td>0.0</td>\n",
       "      <td>0.000000e+00</td>\n",
       "      <td>0.000000e+00</td>\n",
       "      <td>0.000000</td>\n",
       "      <td>0.003390</td>\n",
       "    </tr>\n",
       "    <tr>\n",
       "      <th>srv_serror_rate</th>\n",
       "      <td>494020.0</td>\n",
       "      <td>0.000598</td>\n",
       "      <td>0.001291</td>\n",
       "      <td>0.0</td>\n",
       "      <td>0.000000e+00</td>\n",
       "      <td>0.000000e+00</td>\n",
       "      <td>0.000000</td>\n",
       "      <td>0.003388</td>\n",
       "    </tr>\n",
       "    <tr>\n",
       "      <th>rerror_rate</th>\n",
       "      <td>494020.0</td>\n",
       "      <td>0.000342</td>\n",
       "      <td>0.001381</td>\n",
       "      <td>0.0</td>\n",
       "      <td>0.000000e+00</td>\n",
       "      <td>0.000000e+00</td>\n",
       "      <td>0.000000</td>\n",
       "      <td>0.005962</td>\n",
       "    </tr>\n",
       "    <tr>\n",
       "      <th>srv_rerror_rate</th>\n",
       "      <td>494020.0</td>\n",
       "      <td>0.000343</td>\n",
       "      <td>0.001381</td>\n",
       "      <td>0.0</td>\n",
       "      <td>0.000000e+00</td>\n",
       "      <td>0.000000e+00</td>\n",
       "      <td>0.000000</td>\n",
       "      <td>0.005948</td>\n",
       "    </tr>\n",
       "    <tr>\n",
       "      <th>same_srv_rate</th>\n",
       "      <td>494020.0</td>\n",
       "      <td>0.001277</td>\n",
       "      <td>0.000626</td>\n",
       "      <td>0.0</td>\n",
       "      <td>1.613804e-03</td>\n",
       "      <td>1.613804e-03</td>\n",
       "      <td>0.001614</td>\n",
       "      <td>0.001614</td>\n",
       "    </tr>\n",
       "    <tr>\n",
       "      <th>diff_srv_rate</th>\n",
       "      <td>494020.0</td>\n",
       "      <td>0.000352</td>\n",
       "      <td>0.001379</td>\n",
       "      <td>0.0</td>\n",
       "      <td>0.000000e+00</td>\n",
       "      <td>0.000000e+00</td>\n",
       "      <td>0.000000</td>\n",
       "      <td>0.016770</td>\n",
       "    </tr>\n",
       "    <tr>\n",
       "      <th>srv_diff_host_rate</th>\n",
       "      <td>494020.0</td>\n",
       "      <td>0.000284</td>\n",
       "      <td>0.001394</td>\n",
       "      <td>0.0</td>\n",
       "      <td>0.000000e+00</td>\n",
       "      <td>0.000000e+00</td>\n",
       "      <td>0.000000</td>\n",
       "      <td>0.009791</td>\n",
       "    </tr>\n",
       "    <tr>\n",
       "      <th>dst_host_count</th>\n",
       "      <td>494020.0</td>\n",
       "      <td>0.001371</td>\n",
       "      <td>0.000382</td>\n",
       "      <td>0.0</td>\n",
       "      <td>1.503408e-03</td>\n",
       "      <td>1.503408e-03</td>\n",
       "      <td>0.001503</td>\n",
       "      <td>0.001503</td>\n",
       "    </tr>\n",
       "    <tr>\n",
       "      <th>dst_host_srv_count</th>\n",
       "      <td>494020.0</td>\n",
       "      <td>0.001240</td>\n",
       "      <td>0.000697</td>\n",
       "      <td>0.0</td>\n",
       "      <td>3.023987e-04</td>\n",
       "      <td>1.676341e-03</td>\n",
       "      <td>0.001676</td>\n",
       "      <td>0.001676</td>\n",
       "    </tr>\n",
       "    <tr>\n",
       "      <th>dst_host_same_srv_rate</th>\n",
       "      <td>494020.0</td>\n",
       "      <td>0.001249</td>\n",
       "      <td>0.000681</td>\n",
       "      <td>0.0</td>\n",
       "      <td>6.795159e-04</td>\n",
       "      <td>1.657356e-03</td>\n",
       "      <td>0.001657</td>\n",
       "      <td>0.001657</td>\n",
       "    </tr>\n",
       "    <tr>\n",
       "      <th>dst_host_diff_srv_rate</th>\n",
       "      <td>494020.0</td>\n",
       "      <td>0.000387</td>\n",
       "      <td>0.001369</td>\n",
       "      <td>0.0</td>\n",
       "      <td>0.000000e+00</td>\n",
       "      <td>0.000000e+00</td>\n",
       "      <td>0.000501</td>\n",
       "      <td>0.012530</td>\n",
       "    </tr>\n",
       "    <tr>\n",
       "      <th>dst_host_same_src_port_rate</th>\n",
       "      <td>494020.0</td>\n",
       "      <td>0.001111</td>\n",
       "      <td>0.000889</td>\n",
       "      <td>0.0</td>\n",
       "      <td>0.000000e+00</td>\n",
       "      <td>1.846036e-03</td>\n",
       "      <td>0.001846</td>\n",
       "      <td>0.001846</td>\n",
       "    </tr>\n",
       "    <tr>\n",
       "      <th>dst_host_srv_diff_host_rate</th>\n",
       "      <td>494020.0</td>\n",
       "      <td>0.000223</td>\n",
       "      <td>0.001405</td>\n",
       "      <td>0.0</td>\n",
       "      <td>0.000000e+00</td>\n",
       "      <td>0.000000e+00</td>\n",
       "      <td>0.000000</td>\n",
       "      <td>0.033351</td>\n",
       "    </tr>\n",
       "    <tr>\n",
       "      <th>dst_host_serror_rate</th>\n",
       "      <td>494020.0</td>\n",
       "      <td>0.000599</td>\n",
       "      <td>0.001290</td>\n",
       "      <td>0.0</td>\n",
       "      <td>0.000000e+00</td>\n",
       "      <td>0.000000e+00</td>\n",
       "      <td>0.000000</td>\n",
       "      <td>0.003390</td>\n",
       "    </tr>\n",
       "    <tr>\n",
       "      <th>dst_host_srv_serror_rate</th>\n",
       "      <td>494020.0</td>\n",
       "      <td>0.000598</td>\n",
       "      <td>0.001291</td>\n",
       "      <td>0.0</td>\n",
       "      <td>0.000000e+00</td>\n",
       "      <td>0.000000e+00</td>\n",
       "      <td>0.000000</td>\n",
       "      <td>0.003389</td>\n",
       "    </tr>\n",
       "    <tr>\n",
       "      <th>dst_host_rerror_rate</th>\n",
       "      <td>494020.0</td>\n",
       "      <td>0.000348</td>\n",
       "      <td>0.001380</td>\n",
       "      <td>0.0</td>\n",
       "      <td>0.000000e+00</td>\n",
       "      <td>0.000000e+00</td>\n",
       "      <td>0.000000</td>\n",
       "      <td>0.005983</td>\n",
       "    </tr>\n",
       "    <tr>\n",
       "      <th>dst_host_srv_rerror_rate</th>\n",
       "      <td>494020.0</td>\n",
       "      <td>0.000344</td>\n",
       "      <td>0.001380</td>\n",
       "      <td>0.0</td>\n",
       "      <td>0.000000e+00</td>\n",
       "      <td>0.000000e+00</td>\n",
       "      <td>0.000000</td>\n",
       "      <td>0.005998</td>\n",
       "    </tr>\n",
       "  </tbody>\n",
       "</table>\n",
       "</div>"
      ],
      "text/plain": [
       "                                count      mean       std  min           25%  \\\n",
       "duration                     494020.0  0.000096  0.001419  0.0  0.000000e+00   \n",
       "src_bytes                    494020.0  0.000004  0.001423  0.0  6.478663e-08   \n",
       "dst_bytes                    494020.0  0.000037  0.001422  0.0  0.000000e+00   \n",
       "wrong_fragment               494020.0  0.000068  0.001421  0.0  0.000000e+00   \n",
       "urgent                       494020.0  0.000004  0.001423  0.0  0.000000e+00   \n",
       "hot                          494020.0  0.000063  0.001421  0.0  0.000000e+00   \n",
       "num_failed_logins            494020.0  0.000014  0.001423  0.0  0.000000e+00   \n",
       "num_compromised              494020.0  0.000008  0.001423  0.0  0.000000e+00   \n",
       "root_shell                   494020.0  0.000015  0.001423  0.0  0.000000e+00   \n",
       "su_attempted                 494020.0  0.000007  0.001423  0.0  0.000000e+00   \n",
       "num_root                     494020.0  0.000008  0.001423  0.0  0.000000e+00   \n",
       "num_file_creations           494020.0  0.000016  0.001423  0.0  0.000000e+00   \n",
       "num_shells                   494020.0  0.000014  0.001423  0.0  0.000000e+00   \n",
       "num_access_files             494020.0  0.000039  0.001422  0.0  0.000000e+00   \n",
       "num_outbound_cmds            494020.0  0.000000  0.000000  0.0  0.000000e+00   \n",
       "count                        494020.0  0.001198  0.000768  0.0  4.216635e-04   \n",
       "srv_count                    494020.0  0.001089  0.000916  0.0  3.717529e-05   \n",
       "serror_rate                  494020.0  0.000599  0.001291  0.0  0.000000e+00   \n",
       "srv_serror_rate              494020.0  0.000598  0.001291  0.0  0.000000e+00   \n",
       "rerror_rate                  494020.0  0.000342  0.001381  0.0  0.000000e+00   \n",
       "srv_rerror_rate              494020.0  0.000343  0.001381  0.0  0.000000e+00   \n",
       "same_srv_rate                494020.0  0.001277  0.000626  0.0  1.613804e-03   \n",
       "diff_srv_rate                494020.0  0.000352  0.001379  0.0  0.000000e+00   \n",
       "srv_diff_host_rate           494020.0  0.000284  0.001394  0.0  0.000000e+00   \n",
       "dst_host_count               494020.0  0.001371  0.000382  0.0  1.503408e-03   \n",
       "dst_host_srv_count           494020.0  0.001240  0.000697  0.0  3.023987e-04   \n",
       "dst_host_same_srv_rate       494020.0  0.001249  0.000681  0.0  6.795159e-04   \n",
       "dst_host_diff_srv_rate       494020.0  0.000387  0.001369  0.0  0.000000e+00   \n",
       "dst_host_same_src_port_rate  494020.0  0.001111  0.000889  0.0  0.000000e+00   \n",
       "dst_host_srv_diff_host_rate  494020.0  0.000223  0.001405  0.0  0.000000e+00   \n",
       "dst_host_serror_rate         494020.0  0.000599  0.001290  0.0  0.000000e+00   \n",
       "dst_host_srv_serror_rate     494020.0  0.000598  0.001291  0.0  0.000000e+00   \n",
       "dst_host_rerror_rate         494020.0  0.000348  0.001380  0.0  0.000000e+00   \n",
       "dst_host_srv_rerror_rate     494020.0  0.000344  0.001380  0.0  0.000000e+00   \n",
       "\n",
       "                                      50%       75%       max  \n",
       "duration                     0.000000e+00  0.000000  0.116987  \n",
       "src_bytes                    7.486455e-07  0.000001  0.998255  \n",
       "dst_bytes                    0.000000e+00  0.000000  0.221925  \n",
       "wrong_fragment               0.000000e+00  0.000000  0.031626  \n",
       "urgent                       0.000000e+00  0.000000  0.774597  \n",
       "hot                          0.000000e+00  0.000000  0.054521  \n",
       "num_failed_logins            0.000000e+00  0.000000  0.458349  \n",
       "num_compromised              0.000000e+00  0.000000  0.699366  \n",
       "root_shell                   0.000000e+00  0.000000  0.134840  \n",
       "su_attempted                 0.000000e+00  0.000000  0.365148  \n",
       "num_root                     0.000000e+00  0.000000  0.701919  \n",
       "num_file_creations           0.000000e+00  0.000000  0.413152  \n",
       "num_shells                   0.000000e+00  0.000000  0.258199  \n",
       "num_access_files             0.000000e+00  0.000000  0.311872  \n",
       "num_outbound_cmds            0.000000e+00  0.000000  0.000000  \n",
       "count                        1.838020e-03  0.001842  0.001842  \n",
       "srv_count                    1.895940e-03  0.001900  0.001900  \n",
       "serror_rate                  0.000000e+00  0.000000  0.003390  \n",
       "srv_serror_rate              0.000000e+00  0.000000  0.003388  \n",
       "rerror_rate                  0.000000e+00  0.000000  0.005962  \n",
       "srv_rerror_rate              0.000000e+00  0.000000  0.005948  \n",
       "same_srv_rate                1.613804e-03  0.001614  0.001614  \n",
       "diff_srv_rate                0.000000e+00  0.000000  0.016770  \n",
       "srv_diff_host_rate           0.000000e+00  0.000000  0.009791  \n",
       "dst_host_count               1.503408e-03  0.001503  0.001503  \n",
       "dst_host_srv_count           1.676341e-03  0.001676  0.001676  \n",
       "dst_host_same_srv_rate       1.657356e-03  0.001657  0.001657  \n",
       "dst_host_diff_srv_rate       0.000000e+00  0.000501  0.012530  \n",
       "dst_host_same_src_port_rate  1.846036e-03  0.001846  0.001846  \n",
       "dst_host_srv_diff_host_rate  0.000000e+00  0.000000  0.033351  \n",
       "dst_host_serror_rate         0.000000e+00  0.000000  0.003390  \n",
       "dst_host_srv_serror_rate     0.000000e+00  0.000000  0.003389  \n",
       "dst_host_rerror_rate         0.000000e+00  0.000000  0.005983  \n",
       "dst_host_srv_rerror_rate     0.000000e+00  0.000000  0.005998  "
      ]
     },
     "execution_count": 202,
     "metadata": {},
     "output_type": "execute_result"
    }
   ],
   "source": [
    "df[cont_cols].describe().T"
   ]
  },
  {
   "cell_type": "code",
   "execution_count": 204,
   "id": "aa8913ff",
   "metadata": {},
   "outputs": [
    {
     "data": {
      "text/plain": [
       "array([[<AxesSubplot:title={'center':'duration'}>,\n",
       "        <AxesSubplot:title={'center':'src_bytes'}>,\n",
       "        <AxesSubplot:title={'center':'dst_bytes'}>,\n",
       "        <AxesSubplot:title={'center':'wrong_fragment'}>,\n",
       "        <AxesSubplot:title={'center':'urgent'}>,\n",
       "        <AxesSubplot:title={'center':'hot'}>],\n",
       "       [<AxesSubplot:title={'center':'num_failed_logins'}>,\n",
       "        <AxesSubplot:title={'center':'num_compromised'}>,\n",
       "        <AxesSubplot:title={'center':'root_shell'}>,\n",
       "        <AxesSubplot:title={'center':'su_attempted'}>,\n",
       "        <AxesSubplot:title={'center':'num_root'}>,\n",
       "        <AxesSubplot:title={'center':'num_file_creations'}>],\n",
       "       [<AxesSubplot:title={'center':'num_shells'}>,\n",
       "        <AxesSubplot:title={'center':'num_access_files'}>,\n",
       "        <AxesSubplot:title={'center':'num_outbound_cmds'}>,\n",
       "        <AxesSubplot:title={'center':'count'}>,\n",
       "        <AxesSubplot:title={'center':'srv_count'}>,\n",
       "        <AxesSubplot:title={'center':'serror_rate'}>],\n",
       "       [<AxesSubplot:title={'center':'srv_serror_rate'}>,\n",
       "        <AxesSubplot:title={'center':'rerror_rate'}>,\n",
       "        <AxesSubplot:title={'center':'srv_rerror_rate'}>,\n",
       "        <AxesSubplot:title={'center':'same_srv_rate'}>,\n",
       "        <AxesSubplot:title={'center':'diff_srv_rate'}>,\n",
       "        <AxesSubplot:title={'center':'srv_diff_host_rate'}>],\n",
       "       [<AxesSubplot:title={'center':'dst_host_count'}>,\n",
       "        <AxesSubplot:title={'center':'dst_host_srv_count'}>,\n",
       "        <AxesSubplot:title={'center':'dst_host_same_srv_rate'}>,\n",
       "        <AxesSubplot:title={'center':'dst_host_diff_srv_rate'}>,\n",
       "        <AxesSubplot:title={'center':'dst_host_same_src_port_rate'}>,\n",
       "        <AxesSubplot:title={'center':'dst_host_srv_diff_host_rate'}>],\n",
       "       [<AxesSubplot:title={'center':'dst_host_serror_rate'}>,\n",
       "        <AxesSubplot:title={'center':'dst_host_srv_serror_rate'}>,\n",
       "        <AxesSubplot:title={'center':'dst_host_rerror_rate'}>,\n",
       "        <AxesSubplot:title={'center':'dst_host_srv_rerror_rate'}>,\n",
       "        <AxesSubplot:>, <AxesSubplot:>]], dtype=object)"
      ]
     },
     "execution_count": 204,
     "metadata": {},
     "output_type": "execute_result"
    },
    {
     "data": {
      "image/png": "[encoded data removed]",
      "text/plain": [
       "<Figure size 2160x1584 with 36 Axes>"
      ]
     },
     "metadata": {
      "needs_background": "light"
     },
     "output_type": "display_data"
    }
   ],
   "source": [
    "df[cont_cols].hist(figsize=(30,22)) # all values are between 0 and 1 with unit norm"
   ]
  },
  {
   "cell_type": "code",
   "execution_count": 205,
   "id": "6793153b",
   "metadata": {},
   "outputs": [
    {
     "data": {
      "text/html": [
       "<div>\n",
       "<style scoped>\n",
       "    .dataframe tbody tr th:only-of-type {\n",
       "        vertical-align: middle;\n",
       "    }\n",
       "\n",
       "    .dataframe tbody tr th {\n",
       "        vertical-align: top;\n",
       "    }\n",
       "\n",
       "    .dataframe thead th {\n",
       "        text-align: right;\n",
       "    }\n",
       "</style>\n",
       "<table border=\"1\" class=\"dataframe\">\n",
       "  <thead>\n",
       "    <tr style=\"text-align: right;\">\n",
       "      <th></th>\n",
       "      <th>duration</th>\n",
       "      <th>protocol_type</th>\n",
       "      <th>service</th>\n",
       "      <th>flag</th>\n",
       "      <th>src_bytes</th>\n",
       "      <th>dst_bytes</th>\n",
       "      <th>land</th>\n",
       "      <th>wrong_fragment</th>\n",
       "      <th>urgent</th>\n",
       "      <th>hot</th>\n",
       "      <th>...</th>\n",
       "      <th>dst_host_srv_count</th>\n",
       "      <th>dst_host_same_srv_rate</th>\n",
       "      <th>dst_host_diff_srv_rate</th>\n",
       "      <th>dst_host_same_src_port_rate</th>\n",
       "      <th>dst_host_srv_diff_host_rate</th>\n",
       "      <th>dst_host_serror_rate</th>\n",
       "      <th>dst_host_srv_serror_rate</th>\n",
       "      <th>dst_host_rerror_rate</th>\n",
       "      <th>dst_host_srv_rerror_rate</th>\n",
       "      <th>label</th>\n",
       "    </tr>\n",
       "  </thead>\n",
       "  <tbody>\n",
       "    <tr>\n",
       "      <th>16089</th>\n",
       "      <td>0.0</td>\n",
       "      <td>tcp</td>\n",
       "      <td>http</td>\n",
       "      <td>SF</td>\n",
       "      <td>4.477476e-07</td>\n",
       "      <td>0.000029</td>\n",
       "      <td>0</td>\n",
       "      <td>0.0</td>\n",
       "      <td>0.0</td>\n",
       "      <td>0.0</td>\n",
       "      <td>...</td>\n",
       "      <td>0.001256</td>\n",
       "      <td>0.001657</td>\n",
       "      <td>0.000000</td>\n",
       "      <td>0.000037</td>\n",
       "      <td>0.002668</td>\n",
       "      <td>0.0</td>\n",
       "      <td>0.000034</td>\n",
       "      <td>0.000000</td>\n",
       "      <td>0.000000</td>\n",
       "      <td>normal</td>\n",
       "    </tr>\n",
       "    <tr>\n",
       "      <th>464869</th>\n",
       "      <td>0.0</td>\n",
       "      <td>tcp</td>\n",
       "      <td>private</td>\n",
       "      <td>REJ</td>\n",
       "      <td>0.000000e+00</td>\n",
       "      <td>0.000000</td>\n",
       "      <td>0</td>\n",
       "      <td>0.0</td>\n",
       "      <td>0.0</td>\n",
       "      <td>0.0</td>\n",
       "      <td>...</td>\n",
       "      <td>0.000026</td>\n",
       "      <td>0.000033</td>\n",
       "      <td>0.000877</td>\n",
       "      <td>0.000000</td>\n",
       "      <td>0.000000</td>\n",
       "      <td>0.0</td>\n",
       "      <td>0.000000</td>\n",
       "      <td>0.005983</td>\n",
       "      <td>0.005998</td>\n",
       "      <td>abnormal</td>\n",
       "    </tr>\n",
       "  </tbody>\n",
       "</table>\n",
       "<p>2 rows × 42 columns</p>\n",
       "</div>"
      ],
      "text/plain": [
       "        duration protocol_type  service flag     src_bytes  dst_bytes land  \\\n",
       "16089        0.0           tcp     http   SF  4.477476e-07   0.000029    0   \n",
       "464869       0.0           tcp  private  REJ  0.000000e+00   0.000000    0   \n",
       "\n",
       "        wrong_fragment  urgent  hot  ...  dst_host_srv_count  \\\n",
       "16089              0.0     0.0  0.0  ...            0.001256   \n",
       "464869             0.0     0.0  0.0  ...            0.000026   \n",
       "\n",
       "       dst_host_same_srv_rate  dst_host_diff_srv_rate  \\\n",
       "16089                0.001657                0.000000   \n",
       "464869               0.000033                0.000877   \n",
       "\n",
       "        dst_host_same_src_port_rate  dst_host_srv_diff_host_rate  \\\n",
       "16089                      0.000037                     0.002668   \n",
       "464869                     0.000000                     0.000000   \n",
       "\n",
       "        dst_host_serror_rate  dst_host_srv_serror_rate  dst_host_rerror_rate  \\\n",
       "16089                    0.0                  0.000034              0.000000   \n",
       "464869                   0.0                  0.000000              0.005983   \n",
       "\n",
       "        dst_host_srv_rerror_rate     label  \n",
       "16089                   0.000000    normal  \n",
       "464869                  0.005998  abnormal  \n",
       "\n",
       "[2 rows x 42 columns]"
      ]
     },
     "execution_count": 205,
     "metadata": {},
     "output_type": "execute_result"
    }
   ],
   "source": [
    "df.sample(2)"
   ]
  },
  {
   "cell_type": "code",
   "execution_count": null,
   "id": "532ef0cf",
   "metadata": {},
   "outputs": [],
   "source": []
  }
 ],
 "metadata": {
  "kernelspec": {
   "display_name": "Python 3",
   "language": "python",
   "name": "python3"
  },
  "language_info": {
   "codemirror_mode": {
    "name": "ipython",
    "version": 3
   },
   "file_extension": ".py",
   "mimetype": "text/x-python",
   "name": "python",
   "nbconvert_exporter": "python",
   "pygments_lexer": "ipython3",
   "version": "3.8.8"
  }
 },
 "nbformat": 4,
 "nbformat_minor": 5
}
